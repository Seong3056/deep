{
 "cells": [
  {
   "cell_type": "markdown",
   "id": "60a128c9",
   "metadata": {},
   "source": [
    "# 기본 자료형\n",
    "\n",
    "\n",
    "| 구분 | 자료형 | 변환 함수 | 의미 |\n",
    "| :-- | :-- | :-- | :-- |\n",
    "| int | 정수 | int(n) | n을 정수로 변환 |\n",
    "| float | 실수 | float(n) | n을 실수로 변환 |\n",
    "| bool | 논리 | bool(n) | n을 논리로 변환 |\n",
    "| str | 문자열 | str(n) | n을 문자열로 변환 |"
   ]
  },
  {
   "cell_type": "markdown",
   "id": "d62af285",
   "metadata": {},
   "source": [
    "## 정수(int)"
   ]
  },
  {
   "cell_type": "code",
   "execution_count": 1,
   "id": "6c8761a8",
   "metadata": {},
   "outputs": [
    {
     "name": "stdout",
     "output_type": "stream",
     "text": [
      "<class 'int'>\n"
     ]
    }
   ],
   "source": [
    "age = 25\n",
    "print(type(age))"
   ]
  },
  {
   "cell_type": "markdown",
   "id": "313a24bb",
   "metadata": {},
   "source": [
    "### 다른 자료형의 값을 정수형 데이터로 변환"
   ]
  },
  {
   "cell_type": "code",
   "execution_count": 2,
   "id": "d262aa28",
   "metadata": {},
   "outputs": [
    {
     "name": "stdout",
     "output_type": "stream",
     "text": [
      "1\n",
      "1\n",
      "0\n",
      "100\n"
     ]
    }
   ],
   "source": [
    "print(int(1.9))\n",
    "print(int(True))\n",
    "print(int(False))\n",
    "print(int(\"100\"))"
   ]
  },
  {
   "cell_type": "markdown",
   "id": "ee650308",
   "metadata": {},
   "source": [
    "## 실수(float)"
   ]
  },
  {
   "cell_type": "code",
   "execution_count": 3,
   "id": "872ebc19",
   "metadata": {},
   "outputs": [
    {
     "name": "stdout",
     "output_type": "stream",
     "text": [
      "<class 'float'>\n"
     ]
    }
   ],
   "source": [
    "height = 168.5\n",
    "print(type(height))"
   ]
  },
  {
   "cell_type": "markdown",
   "id": "3b5e2aa7",
   "metadata": {},
   "source": [
    "### 다른 자료형의 값을 실수형 데이터로 변환"
   ]
  },
  {
   "cell_type": "code",
   "execution_count": 4,
   "id": "89ba082c",
   "metadata": {},
   "outputs": [
    {
     "name": "stdout",
     "output_type": "stream",
     "text": [
      "1.0\n",
      "1.0\n",
      "0.0\n",
      "3.14\n",
      "100.0\n"
     ]
    }
   ],
   "source": [
    "print(float(1))\n",
    "print(float(True))\n",
    "print(float(False))\n",
    "print(float(\"3.14\"))\n",
    "print(float(\"100\"))"
   ]
  },
  {
   "cell_type": "markdown",
   "id": "2a548d84",
   "metadata": {},
   "source": [
    "## 논리(bool)\n",
    "\n",
    "- 참과 거짓을 표현하는 True, False 값을 가짐\n",
    "- 영국의 수학자 조지 불(George Boole)이 만듦"
   ]
  },
  {
   "cell_type": "code",
   "execution_count": 5,
   "id": "dcf3e2ae",
   "metadata": {},
   "outputs": [
    {
     "name": "stdout",
     "output_type": "stream",
     "text": [
      "False\n",
      "False\n"
     ]
    }
   ],
   "source": [
    "print(bool(0))\n",
    "print(bool(\"\"))"
   ]
  },
  {
   "cell_type": "code",
   "execution_count": 8,
   "id": "5bbb845c",
   "metadata": {},
   "outputs": [
    {
     "name": "stdout",
     "output_type": "stream",
     "text": [
      "True\n",
      "True\n"
     ]
    }
   ],
   "source": [
    "print(bool(1))\n",
    "print(bool(\"hello\"))"
   ]
  },
  {
   "cell_type": "markdown",
   "id": "149bb145",
   "metadata": {},
   "source": [
    "### 비교 연산자의 판단 결과"
   ]
  },
  {
   "cell_type": "code",
   "execution_count": 9,
   "id": "3d7bb5a8",
   "metadata": {},
   "outputs": [
    {
     "name": "stdout",
     "output_type": "stream",
     "text": [
      "True\n",
      "False\n"
     ]
    }
   ],
   "source": [
    "print(3 > 1)\n",
    "print(3 < 1)"
   ]
  },
  {
   "cell_type": "markdown",
   "id": "d7be1079",
   "metadata": {},
   "source": [
    "### 같은지 다른지 비교"
   ]
  },
  {
   "cell_type": "code",
   "execution_count": 16,
   "id": "3f185c25",
   "metadata": {},
   "outputs": [
    {
     "name": "stdout",
     "output_type": "stream",
     "text": [
      "True\n"
     ]
    }
   ],
   "source": [
    "# 같은지 비교\n",
    "print(10 == 10)"
   ]
  },
  {
   "cell_type": "code",
   "execution_count": 19,
   "id": "84d0ac74",
   "metadata": {},
   "outputs": [
    {
     "name": "stdout",
     "output_type": "stream",
     "text": [
      "False\n"
     ]
    }
   ],
   "source": [
    "# 다른지 비교\n",
    "print(10 != 10)"
   ]
  },
  {
   "cell_type": "code",
   "execution_count": 20,
   "id": "bed0c294",
   "metadata": {},
   "outputs": [
    {
     "name": "stdout",
     "output_type": "stream",
     "text": [
      "True\n",
      "False\n"
     ]
    }
   ],
   "source": [
    "print(\"Python\" == \"Python\")\n",
    "print(\"Python\" == \"python\")"
   ]
  },
  {
   "cell_type": "markdown",
   "id": "4434a913",
   "metadata": {},
   "source": [
    "## 문자열(str)\n",
    "\n",
    "- 기본적으로 따옴표로 묶어서 표현\n",
    "- 작은 따옴표('')와 큰 따옴표(\"\") 모두 사용 가능\n",
    "- 삼중 따옴표(''' ''', \"\"\" \"\"\")도 사용 가능"
   ]
  },
  {
   "cell_type": "code",
   "execution_count": 21,
   "id": "524da45c",
   "metadata": {},
   "outputs": [
    {
     "name": "stdout",
     "output_type": "stream",
     "text": [
      "<class 'str'>\n"
     ]
    }
   ],
   "source": [
    "name = \"Alice\"\n",
    "print(type(name))"
   ]
  },
  {
   "cell_type": "markdown",
   "id": "8646b478",
   "metadata": {},
   "source": [
    "### 문자열 변환"
   ]
  },
  {
   "cell_type": "code",
   "execution_count": 22,
   "id": "d5f72be8",
   "metadata": {},
   "outputs": [
    {
     "name": "stdout",
     "output_type": "stream",
     "text": [
      "100\n",
      "True\n",
      "False\n",
      "3.14\n"
     ]
    }
   ],
   "source": [
    "print(str(100))\n",
    "print(str(True))\n",
    "print(str(False))\n",
    "print(str(3.14))"
   ]
  },
  {
   "cell_type": "markdown",
   "id": "ec5a7eb8",
   "metadata": {},
   "source": [
    "### 문자열 인덱싱(indexing)\n",
    "\n",
    "- 문자열 인덱스 : 문자열을 구성하는 모든 문자에 부여한 고유 번호\n",
    "- 인덱스 시작번호는 0임"
   ]
  },
  {
   "cell_type": "code",
   "execution_count": 23,
   "id": "43bd2a05",
   "metadata": {},
   "outputs": [],
   "source": [
    "s = \"hello\""
   ]
  },
  {
   "cell_type": "code",
   "execution_count": 28,
   "id": "c06f2fd9",
   "metadata": {},
   "outputs": [
    {
     "name": "stdout",
     "output_type": "stream",
     "text": [
      "h\n"
     ]
    }
   ],
   "source": [
    "print(s[0])"
   ]
  },
  {
   "cell_type": "code",
   "execution_count": 30,
   "id": "b2fe780b",
   "metadata": {},
   "outputs": [
    {
     "name": "stdout",
     "output_type": "stream",
     "text": [
      "l\n"
     ]
    }
   ],
   "source": [
    "print(s[-2])"
   ]
  },
  {
   "cell_type": "code",
   "execution_count": 32,
   "id": "59e687dc",
   "metadata": {},
   "outputs": [
    {
     "data": {
      "text/plain": [
       "True"
      ]
     },
     "execution_count": 32,
     "metadata": {},
     "output_type": "execute_result"
    }
   ],
   "source": [
    "s[4] == s[-1]"
   ]
  },
  {
   "cell_type": "markdown",
   "id": "04dedafb",
   "metadata": {},
   "source": [
    "### 문자열 슬라이싱(slicing)\n",
    "\n",
    "- 표현법 : 데이터[시작인덱스 : 종료인덱스 : 증감값]\n",
    "    - 대부분 증감값은 생략하고 [시작 인덱스 : 종료 인덱스]의 형태로 사용"
   ]
  },
  {
   "cell_type": "code",
   "execution_count": 35,
   "id": "bb0fbcda",
   "metadata": {},
   "outputs": [
    {
     "data": {
      "text/plain": [
       "'bn'"
      ]
     },
     "execution_count": 35,
     "metadata": {},
     "output_type": "execute_result"
    }
   ],
   "source": [
    "s = \"banana\"\n",
    "s[0:3:2]"
   ]
  },
  {
   "cell_type": "markdown",
   "id": "07d06989",
   "metadata": {},
   "source": [
    "# 실습\n",
    "\n",
    "1. 휴대폰 번호 가운데 4자리를 추출\n",
    "2. 31025 를 학년, 반, 번호로 나누어 출력"
   ]
  },
  {
   "cell_type": "code",
   "execution_count": 36,
   "id": "b1f9c157",
   "metadata": {},
   "outputs": [],
   "source": [
    "# 1. 휴대폰 번호 가운데 4자리를 추출\n",
    "number = \"010-1234-5678\""
   ]
  },
  {
   "cell_type": "code",
   "execution_count": 37,
   "id": "862f4e76",
   "metadata": {},
   "outputs": [
    {
     "data": {
      "text/plain": [
       "'1234'"
      ]
     },
     "execution_count": 37,
     "metadata": {},
     "output_type": "execute_result"
    }
   ],
   "source": [
    "number[4:8]"
   ]
  },
  {
   "cell_type": "code",
   "execution_count": 43,
   "id": "dfd13421",
   "metadata": {},
   "outputs": [],
   "source": [
    "# 2. 31025를 학년, 반, 번호로 나누어 출력\n",
    "q2 = \"31025\""
   ]
  },
  {
   "cell_type": "code",
   "execution_count": 44,
   "id": "a336e421",
   "metadata": {},
   "outputs": [
    {
     "name": "stdout",
     "output_type": "stream",
     "text": [
      "3\n",
      "10\n",
      "25\n"
     ]
    }
   ],
   "source": [
    "print(q2[0:1])\n",
    "print(q2[1:3])\n",
    "print(q2[3:5])"
   ]
  },
  {
   "cell_type": "code",
   "execution_count": 46,
   "id": "f7119a05",
   "metadata": {},
   "outputs": [
    {
     "name": "stdout",
     "output_type": "stream",
     "text": [
      "3 학년 10 반 25 번\n"
     ]
    }
   ],
   "source": [
    "grade = q2[0]\n",
    "group = q2[1:3]\n",
    "no = q2[3:5]\n",
    "print(grade,\"학년\",group,\"반\",no,\"번\")"
   ]
  },
  {
   "cell_type": "code",
   "execution_count": null,
   "id": "fc897553",
   "metadata": {},
   "outputs": [],
   "source": []
  },
  {
   "cell_type": "code",
   "execution_count": null,
   "id": "6212a3b9",
   "metadata": {},
   "outputs": [],
   "source": []
  }
 ],
 "metadata": {
  "kernelspec": {
   "display_name": "Python 3 (ipykernel)",
   "language": "python",
   "name": "python3"
  },
  "language_info": {
   "codemirror_mode": {
    "name": "ipython",
    "version": 3
   },
   "file_extension": ".py",
   "mimetype": "text/x-python",
   "name": "python",
   "nbconvert_exporter": "python",
   "pygments_lexer": "ipython3",
   "version": "3.11.5"
  }
 },
 "nbformat": 4,
 "nbformat_minor": 5
}
