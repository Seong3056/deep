{
 "cells": [
  {
   "cell_type": "code",
   "execution_count": 94,
   "id": "1fa74829",
   "metadata": {},
   "outputs": [
    {
     "name": "stdout",
     "output_type": "stream",
     "text": [
      "3\n",
      "6\n",
      "9\n"
     ]
    }
   ],
   "source": [
    "a = [3, 6, 9]\n",
    "\n",
    "for i in a:\n",
    "    print(i)"
   ]
  },
  {
   "cell_type": "code",
   "execution_count": 98,
   "id": "808b8cc9",
   "metadata": {},
   "outputs": [
    {
     "name": "stdout",
     "output_type": "stream",
     "text": [
      "166833\n"
     ]
    }
   ],
   "source": [
    "# 1.  1부터 1000까지의 자연수 중 3의 배수의 합 구하기\n",
    "#166833\n",
    "n = []\n",
    "h = 0\n",
    "for i in range(1001):\n",
    "    if i % 3 == 0:\n",
    "        n.append(i)\n",
    "        \n",
    "for a in n:\n",
    "    h += a\n",
    "print(h)\n",
    "\n",
    "    "
   ]
  },
  {
   "cell_type": "code",
   "execution_count": 119,
   "id": "ad9898cf",
   "metadata": {},
   "outputs": [
    {
     "name": "stdout",
     "output_type": "stream",
     "text": [
      "166833\n"
     ]
    }
   ],
   "source": [
    "result = 0\n",
    "\n",
    "for i in range(1001):\n",
    "    if i % 3 == 0:\n",
    "        result += i\n",
    "print(result)"
   ]
  },
  {
   "cell_type": "code",
   "execution_count": null,
   "id": "f5d3b282",
   "metadata": {},
   "outputs": [],
   "source": [
    "# 2. 계단식으로 별 출력하기( 첫 줄에는 * 1개, 두번째 줄에는 2개, ... 다섯번째 줄에는 * 5개)\n",
    "# *\n",
    "# **\n",
    "# ***"
   ]
  },
  {
   "cell_type": "code",
   "execution_count": 7,
   "id": "e205b9de",
   "metadata": {},
   "outputs": [
    {
     "name": "stdout",
     "output_type": "stream",
     "text": [
      "*\n",
      "**\n",
      "***\n",
      "****\n",
      "*****\n"
     ]
    }
   ],
   "source": [
    "for i in range(5):\n",
    "    for j in range(5):\n",
    "        if j <= i:\n",
    "            print(\"*\", end = \"\")\n",
    "    print()"
   ]
  },
  {
   "cell_type": "code",
   "execution_count": 61,
   "id": "f335d26a",
   "metadata": {},
   "outputs": [
    {
     "name": "stdout",
     "output_type": "stream",
     "text": [
      "*    \n",
      " *   \n",
      "  *  \n",
      "   * \n",
      "    *\n"
     ]
    }
   ],
   "source": [
    "# ver1\n",
    "for i in range(5):\n",
    "    for j in range(5):\n",
    "        if j == i:\n",
    "            print(\"*\", end = \"\")\n",
    "        else:\n",
    "            print(\" \", end = \"\")\n",
    "    print()  # 각 줄에 대한 연산이 끝난 후 줄 바꿈\n",
    "    \n",
    "            \n",
    "            "
   ]
  },
  {
   "cell_type": "code",
   "execution_count": 62,
   "id": "bf0d805a",
   "metadata": {},
   "outputs": [
    {
     "name": "stdout",
     "output_type": "stream",
     "text": [
      "*\n",
      " *\n",
      "  *\n",
      "   *\n",
      "    *\n"
     ]
    }
   ],
   "source": [
    "for i in range(5):\n",
    "    print(\" \" * i + \"*\")"
   ]
  },
  {
   "cell_type": "code",
   "execution_count": 56,
   "id": "d11174c2",
   "metadata": {},
   "outputs": [
    {
     "name": "stdout",
     "output_type": "stream",
     "text": [
      "*\n",
      "\n",
      "\n",
      "\n",
      "\n",
      "\n",
      "*\n",
      "\n",
      "\n",
      "\n",
      "\n",
      "\n",
      "*\n",
      "\n",
      "\n",
      "\n",
      "\n",
      "\n",
      "*\n",
      "\n",
      "\n",
      "\n",
      "\n",
      "\n",
      "*\n"
     ]
    }
   ],
   "source": [
    "for i in range(5):\n",
    "    for j in range(5):\n",
    "        if j == i:\n",
    "            print(\"*\",end = \"\")            \n",
    "        else :\n",
    "            print(\"\")\n",
    "    print()\n",
    "    "
   ]
  },
  {
   "cell_type": "code",
   "execution_count": 237,
   "id": "3b01280d",
   "metadata": {},
   "outputs": [
    {
     "name": "stdout",
     "output_type": "stream",
     "text": [
      "(0, 0)\n",
      "(0, 1)\n",
      "(0, 2)\n",
      "(0, 3)\n",
      "(0, 4)\n",
      "(1, 0)\n",
      "(1, 1)\n",
      "(1, 2)\n",
      "(1, 3)\n",
      "(1, 4)\n",
      "(2, 0)\n",
      "(2, 1)\n",
      "(2, 2)\n",
      "(2, 3)\n",
      "(2, 4)\n",
      "(3, 0)\n",
      "(3, 1)\n",
      "(3, 2)\n",
      "(3, 3)\n",
      "(3, 4)\n",
      "(4, 0)\n",
      "(4, 1)\n",
      "(4, 2)\n",
      "(4, 3)\n",
      "(4, 4)\n"
     ]
    }
   ],
   "source": [
    "for i in range(5):       # 행에 대한 연산\n",
    "    for j in range(5):   # 열에 대한 연산\n",
    "        # 별을 찍는다 or 찍지 않는다\n",
    "        print((i,j))"
   ]
  },
  {
   "cell_type": "code",
   "execution_count": 263,
   "id": "347977ee",
   "metadata": {},
   "outputs": [
    {
     "name": "stdout",
     "output_type": "stream",
     "text": [
      "*\n",
      "**\n",
      "***\n",
      "****\n",
      "*****\n"
     ]
    }
   ],
   "source": [
    "# ver2 \n",
    "for i in range(1,6):\n",
    "    print(\"*\" * i)"
   ]
  },
  {
   "cell_type": "code",
   "execution_count": 265,
   "id": "aaedc0d5",
   "metadata": {},
   "outputs": [
    {
     "name": "stdout",
     "output_type": "stream",
     "text": [
      "*\n",
      "**\n",
      "***\n",
      "****\n",
      "*****\n"
     ]
    }
   ],
   "source": [
    "# ver3\n",
    "star = \"\"\n",
    "for i in range(5):\n",
    "    star += \"*\"\n",
    "    print(star)"
   ]
  },
  {
   "cell_type": "code",
   "execution_count": 280,
   "id": "00fd1e01",
   "metadata": {},
   "outputs": [
    {
     "name": "stdout",
     "output_type": "stream",
     "text": [
      "[2, 6, 10, 14, 18]\n"
     ]
    }
   ],
   "source": [
    "# 3. 1부터 10까지의 자연수 중 홀수만 2를 곱해서 리스트로 저장하기\n",
    "#  ver1.\n",
    "result = []\n",
    "for i in range(11):\n",
    "    if i % 2 == 1:\n",
    "        result.append(i*2)\n",
    "\n",
    "print(result)"
   ]
  },
  {
   "cell_type": "code",
   "execution_count": 282,
   "id": "16ff9d87",
   "metadata": {},
   "outputs": [
    {
     "data": {
      "text/plain": [
       "[2, 6, 10, 14, 18]"
      ]
     },
     "execution_count": 282,
     "metadata": {},
     "output_type": "execute_result"
    }
   ],
   "source": [
    "# 위의 커드를 리스트 내포로 구현\n",
    "[i * 2 for i in range(1, 11) if i % 2 == 1]"
   ]
  },
  {
   "cell_type": "code",
   "execution_count": 281,
   "id": "0f3d5895",
   "metadata": {},
   "outputs": [
    {
     "name": "stdout",
     "output_type": "stream",
     "text": [
      "[2, 6, 10, 14, 18]\n"
     ]
    }
   ],
   "source": [
    "# ver.2\n",
    "result = []\n",
    "for i in range(1,11,2):\n",
    "    result.append(i * 2)\n",
    "    \n",
    "print(result)"
   ]
  },
  {
   "cell_type": "code",
   "execution_count": 19,
   "id": "fcbc6735",
   "metadata": {},
   "outputs": [
    {
     "name": "stdout",
     "output_type": "stream",
     "text": [
      "{'50000': 3, '10000': 0, '5000': 1, '1000': 1, '500': 1, '100': 2, '50': 1, '10': 3}\n"
     ]
    }
   ],
   "source": [
    "# 4. 화폐매수 구하기\n",
    "\n",
    "a = 156780 # 원  = > 50000 : 3, 10000 : 0 5000 : 1, ....\n",
    "b = {\"50000\" : 0, \"10000\" : 0, \"5000\" : 0, \"1000\" : 0, \"500\" : 0, \"100\" : 0, \"50\" : 0, \"10\" : 0}\n",
    "\n",
    "while a >= 50000:\n",
    "    a -= 50000\n",
    "    b[\"50000\"] += 1\n",
    "while a >= 10000:\n",
    "    a -= 10000\n",
    "    b[\"10000\"] += 1\n",
    "while a >= 5000:\n",
    "    a -= 5000\n",
    "    b[\"5000\"] += 1\n",
    "while a >= 1000:\n",
    "    a -= 1000\n",
    "    b[\"1000\"] += 1\n",
    "while a >= 500:\n",
    "    a -= 500\n",
    "    b[\"500\"] += 1\n",
    "while a >= 100:\n",
    "    a -= 100\n",
    "    b[\"100\"] += 1\n",
    "while a >= 50:\n",
    "    a -= 50\n",
    "    b[\"50\"] += 1\n",
    "while a >= 10:\n",
    "    a -= 10\n",
    "    b[\"10\"] += 1\n",
    "print(b)"
   ]
  },
  {
   "cell_type": "code",
   "execution_count": 57,
   "id": "c0e69e44",
   "metadata": {},
   "outputs": [
    {
     "name": "stdout",
     "output_type": "stream",
     "text": [
      "50000 원 - 3장\n",
      "10000 원 - 0장\n",
      "5000 원 - 1장\n",
      "1000 원 - 1장\n",
      "500 원 - 1장\n",
      "100 원 - 2장\n",
      "50 원 - 1장\n",
      "10 원 - 3장\n"
     ]
    }
   ],
   "source": [
    "a = 156780 # 원  = > 50000 : 3, 10000 : 0 5000 : 1, ....\n",
    "b = [50000,10000,5000,1000,500,100,50,10]\n",
    "\n",
    "for i in b:\n",
    "    h = a // i\n",
    "    a = a - i*h\n",
    "    print(f\"{i} 원 - {h}장\")\n",
    "    "
   ]
  },
  {
   "cell_type": "code",
   "execution_count": 145,
   "id": "b81df6b5",
   "metadata": {},
   "outputs": [],
   "source": [
    "# 5. name과 data를 각각 리스트에 담기  @1 / 각각의 요소들을 짝지어 출력하기 @2\n",
    "q5 = [{\"name\":\"y1\",\"data\":\"123\"},{\"name\":\"y2\",\"data\":\"234\"}]\n",
    "\n",
    "name = []\n",
    "data = []"
   ]
  },
  {
   "cell_type": "code",
   "execution_count": 194,
   "id": "d89e8564",
   "metadata": {},
   "outputs": [
    {
     "name": "stdout",
     "output_type": "stream",
     "text": [
      "['y1', 'y2']\n",
      "['123', '234']\n"
     ]
    }
   ],
   "source": [
    "# @1\n",
    "q5 = [{\"name\":\"y1\",\"data\":\"123\"},{\"name\":\"y2\",\"data\":\"234\"}]\n",
    "name = []\n",
    "data = []\n",
    "for i in q5:\n",
    "    name.append(i[\"name\"])\n",
    "    data.append(i[\"data\"])\n",
    "print(name)\n",
    "print(data)"
   ]
  },
  {
   "cell_type": "code",
   "execution_count": 195,
   "id": "799719ce",
   "metadata": {},
   "outputs": [
    {
     "name": "stdout",
     "output_type": "stream",
     "text": [
      "y1 123\n",
      "y2 234\n"
     ]
    }
   ],
   "source": [
    "# @2\n",
    "for h in range(len(name)):\n",
    "    print(name[h], data[h])"
   ]
  },
  {
   "cell_type": "code",
   "execution_count": 196,
   "id": "92c7813c",
   "metadata": {},
   "outputs": [
    {
     "name": "stdout",
     "output_type": "stream",
     "text": [
      "y1 123\n",
      "y2 234\n"
     ]
    }
   ],
   "source": [
    "# @2\n",
    "for h in zip(name, data):      ,         \n",
    "    print(h[0], h[1])"
   ]
  },
  {
   "cell_type": "code",
   "execution_count": 36,
   "id": "1fcd16e7",
   "metadata": {},
   "outputs": [
    {
     "name": "stdout",
     "output_type": "stream",
     "text": [
      "{'id': 'a386', 'name': '123', 'age': 34}\n",
      "{'id': 'a383', 'name': '123', 'age': 36}\n"
     ]
    }
   ],
   "source": [
    "# 6. id, name, age를 각각 리스트에 감고 각각의 요소틀을 짝지어 출력하기\n",
    "q6 = {\"ret\":{\"id\":\"a386\",\"name\":\"123\",\"age\":34},\"ret1\":{\"id\":\"a383\",\"name\":\"123\",\"age\":36}}\n",
    "\n",
    "id_list = []\n",
    "name = []\n",
    "age = []\n",
    "\n",
    "for i in q6: \n",
    "    print (q6[i])"
   ]
  },
  {
   "cell_type": "code",
   "execution_count": 319,
   "id": "d04124c9",
   "metadata": {},
   "outputs": [
    {
     "name": "stdout",
     "output_type": "stream",
     "text": [
      "a386\n",
      "123\n",
      "34\n",
      "a383\n",
      "123\n",
      "36\n"
     ]
    }
   ],
   "source": [
    "q6 = {\"ret\":{\"id\":\"a386\",\"name\":\"123\",\"age\":34},\"ret1\":{\"id\":\"a383\",\"name\":\"123\",\"age\":36}}\n",
    "\n",
    "id_list = []\n",
    "name = []\n",
    "age = []\n",
    "\n",
    "for i in q6:\n",
    "    print(q6[i][\"id\"])\n",
    "    print(q6[i][\"name\"])\n",
    "    print(q6[i][\"age\"])"
   ]
  },
  {
   "cell_type": "code",
   "execution_count": 320,
   "id": "cec3dd19",
   "metadata": {},
   "outputs": [
    {
     "name": "stdout",
     "output_type": "stream",
     "text": [
      "['a386', 'a383']\n",
      "['123', '123']\n",
      "[34, 36]\n"
     ]
    }
   ],
   "source": [
    "q6 = {\"ret\":{\"id\":\"a386\",\"name\":\"123\",\"age\":34},\"ret1\":{\"id\":\"a383\",\"name\":\"123\",\"age\":36}}\n",
    "\n",
    "id_list = []\n",
    "name = []\n",
    "age = []\n",
    "\n",
    "for i in q6:\n",
    "    id_list.append(q6[i][\"id\"])\n",
    "    name.append(q6[i][\"name\"])\n",
    "    age.append(q6[i][\"age\"])\n",
    "print(id_list)\n",
    "print(name)\n",
    "print(age)\n"
   ]
  },
  {
   "cell_type": "code",
   "execution_count": 323,
   "id": "60762303",
   "metadata": {},
   "outputs": [
    {
     "name": "stdout",
     "output_type": "stream",
     "text": [
      "a386 123 123\n",
      "a383 123 234\n"
     ]
    }
   ],
   "source": [
    "for h in range(len(id_list)):\n",
    "    print(id_list[h], name[h], data[h])"
   ]
  },
  {
   "cell_type": "code",
   "execution_count": 54,
   "id": "83b7e22c",
   "metadata": {},
   "outputs": [
    {
     "name": "stdout",
     "output_type": "stream",
     "text": [
      "ret\n",
      "ret1\n",
      "['a2001', 'a2002', 'a2003', 'a2004', 'a2005', 'a2006', 'a2007']\n",
      "['123', '123', '123', '123', '123', '123', '123']\n",
      "[34, 54, 36, 38, 17, 52, 33]\n"
     ]
    }
   ],
   "source": [
    "# 7. id, name, age를 각각 리스트에 감고 각각의 요소틀을 짝지어 출력하기\n",
    "\n",
    "q7 = {\"ret\":[{\"id\":\"a2001\",\"name\":\"123\",\"age\":34},{\"id\":\"a2002\",\"name\":\"123\",\"age\":54},{\"id\":\"a2003\",\"name\":\"123\",\"age\":36},{\"id\":\"a2004\",\"name\":\"123\",\"age\":38}],\"ret1\":[{\"id\":\"a2005\",\"name\":\"123\",\"age\":17},{\"id\":\"a2006\",\"name\":\"123\",\"age\":52},{\"id\":\"a2007\",\"name\":\"123\",\"age\":33}]}\n",
    "\n",
    "id_list = []\n",
    "name = []\n",
    "age = []\n",
    "\n",
    "for i in q7:\n",
    "    print(i)\n",
    "    for j in q7[i]:\n",
    "        id_list.append(j[\"id\"])\n",
    "        name.append(j[\"name\"])\n",
    "        age.append(j[\"age\"])\n",
    "        \n",
    "print(id_list)\n",
    "print(name)\n",
    "print(age)\n",
    "    \n",
    "\n",
    "        \n",
    "    "
   ]
  },
  {
   "cell_type": "code",
   "execution_count": 390,
   "id": "1031fdac",
   "metadata": {},
   "outputs": [
    {
     "name": "stdout",
     "output_type": "stream",
     "text": [
      "a2001 123 34\n",
      "a2002 123 54\n",
      "a2003 123 36\n",
      "a2004 123 38\n",
      "a2005 123 17\n",
      "a2006 123 52\n",
      "a2007 123 33\n"
     ]
    }
   ],
   "source": [
    "for i in range(len(id_list)):\n",
    "    print(id_list[i], name[i], age[i])"
   ]
  },
  {
   "cell_type": "code",
   "execution_count": 33,
   "id": "b9ddefd2",
   "metadata": {},
   "outputs": [
    {
     "name": "stdout",
     "output_type": "stream",
     "text": [
      "name     ['AAA', 'BBB', 'CCC']\n",
      "species  ['cat', 'dog', 'cat']\n",
      "likes    [['tuna', 'catnip'], ['bones', 'carrots'], ['mice']]\n",
      "dislikes [['ham', 'zucchini'], ['tuna'], ['cookies']]\n"
     ]
    }
   ],
   "source": [
    "# 8. name, species, likes, dislikes 를 가각 리스트에 담고 각각의 요소들을 짝지어 출력하기\n",
    "q8 = [{\"name\":\"AAA\",\"species\":\"cat\",\"foods\":{\"likes\":[\"tuna\",\"catnip\"],\"dislikes\":[\"ham\",\"zucchini\"]}},{\"name\":\"BBB\",\"species\":\"dog\",\"foods\":{\"likes\":[\"bones\",\"carrots\"],\"dislikes\":[\"tuna\"]}},{\"name\":\"CCC\",\"species\":\"cat\",\"foods\":{\"likes\":[\"mice\"],\"dislikes\":[\"cookies\"]}}]\n",
    "\n",
    "name = []\n",
    "species = []\n",
    "likes = []\n",
    "dislikes = []\n",
    "\n",
    "for i in q8:\n",
    "    name.append(i[\"name\"])\n",
    "    species.append(i[\"species\"])\n",
    "    likes.append(i[\"foods\"][\"likes\"])\n",
    "    dislikes.append(i[\"foods\"][\"dislikes\"])\n",
    "print(f\"name     {name}\")\n",
    "print(f\"species  {species}\")\n",
    "print(f\"likes    {likes}\")\n",
    "print(f\"dislikes {dislikes}\")"
   ]
  },
  {
   "cell_type": "code",
   "execution_count": 110,
   "id": "4784da25",
   "metadata": {},
   "outputs": [
    {
     "name": "stdout",
     "output_type": "stream",
     "text": [
      "id1 가나다1 31\n",
      "id2 가나다2 32\n",
      "id3 가나다3 33\n",
      "id4 가나다4 34\n",
      "id5 가나다5 35\n"
     ]
    }
   ],
   "source": [
    "# 9. id, name, age 를 각각 리스트에 담고 각각의 요소들을 짝지어 출력하기\n",
    "q9 = {\"ret\":\"y\",\"data\":[{\"id\":\"id1\",\"name\":\"가나다1\",\"age\":31},{\"id\":\"id2\",\"name\":\"가나다2\",\"age\":32},{\"id\":\"id3\",\"name\":\"가나다3\",\"age\":33},{\"id\":\"id4\",\"name\":\"가나다4\",\"age\":34},{\"id\":\"id5\",\"name\":\"가나다5\",\"age\":35}]}\n",
    "\n",
    "id_list = []\n",
    "name = []\n",
    "age = []\n",
    "\n",
    "\n",
    "for j in q9[\"data\"]:\n",
    "    id_list.append(j[\"id\"])\n",
    "    name.append(j[\"name\"])\n",
    "    age.append(j[\"age\"])\n",
    "        \n",
    "for i in range(len(name)):\n",
    "    print(id_list[i], name[i], age[i])\n",
    "        \n",
    "    \n",
    "    \n",
    "        "
   ]
  },
  {
   "cell_type": "code",
   "execution_count": 126,
   "id": "21a31f15",
   "metadata": {},
   "outputs": [],
   "source": [
    "# 9. id, name, age 를 각각 리스트에 담고 각각의 요소들을 짝지어 출력하기\n",
    "q9 = {\"ret\":\"y\",\"data\":[{\"id\":\"id1\",\"name\":\"가나다1\",\"age\":31},{\"id\":\"id2\",\"name\":\"가나다2\",\"age\":32},{\"id\":\"id3\",\"name\":\"가나다3\",\"age\":33},{\"id\":\"id4\",\"name\":\"가나다4\",\"age\":34},{\"id\":\"id5\",\"name\":\"가나다5\",\"age\":35}]}\n",
    "\n",
    "id_list = []\n",
    "name = []\n",
    "age = []\n",
    "# 풀이 순서\n",
    "# print(q9)\n",
    "# print(q9[\"data\"][0])\n",
    "\n",
    "\n",
    "# print(q9[\"data\"][0][\"id\"])\n",
    "# print(q9[\"data\"][1][\"id\"])\n",
    "# print(q9[\"data\"][2][\"id\"])\n",
    "# print(q9[\"data\"][3][\"id\"])\n",
    "# print(q9[\"data\"][4][\"id\"])\n",
    "\n",
    "# for i in q9[\"data\"]:\n",
    "#    print(i[\"id\"])\n",
    "\n",
    "#    id_list.append(i[\"id\"])\n",
    "#    name.append(j[\"name\"])\n",
    "#    age.append(j[\"age\"])"
   ]
  },
  {
   "cell_type": "code",
   "execution_count": 221,
   "id": "b2c7aef9",
   "metadata": {},
   "outputs": [
    {
     "name": "stdout",
     "output_type": "stream",
     "text": [
      "id1 가나다1 31 50 90 69 209\n",
      "id2 가나다2 32 90 68 80 238\n",
      "id3 가나다3 33 70 76 60 206\n",
      "id4 가나다4 34 80 79 50 209\n",
      "id5 가나다5 35 80 78 90 248\n"
     ]
    }
   ],
   "source": [
    "# 10. id, name, age, math, eng, kor, (math, eng, kor)합계를 각각 리스트에 담고\n",
    "# 각각의 요소를 짝지어 출력\n",
    "q10 = {\"ret\":\"y\",\"data\":[{\"id\":\"id1\",\"name\":\"가나다1\",\"age\":31,\"score\":{\"math\":50,\"eng\":90,\"kor\":69}},{\"id\":\"id2\",\"name\":\"가나다2\",\"age\":32,\"score\":{\"math\":90,\"eng\":68,\"kor\":80}},{\"id\":\"id3\",\"name\":\"가나다3\",\"age\":33,\"score\":{\"math\":70,\"eng\":76,\"kor\":60}},{\"id\":\"id4\",\"name\":\"가나다4\",\"age\":34,\"score\":{\"math\":80,\"eng\":79,\"kor\":50}},{\"id\":\"id5\",\"name\":\"가나다5\",\"age\":35,\"score\":{\"math\":80,\"eng\":78,\"kor\":90}}]}\n",
    "\n",
    "id_list = []\n",
    "name = []\n",
    "age = []\n",
    "math = []\n",
    "eng = []\n",
    "kor = []\n",
    "total =[]\n",
    "for i in q10[\"data\"]:\n",
    "    id_list.append(i[\"id\"])\n",
    "    name.append(i[\"name\"])\n",
    "    age.append(i[\"age\"])\n",
    "    math.append(i[\"score\"][\"math\"])\n",
    "    eng.append(i['score'][\"eng\"])\n",
    "    kor.append(i['score'][\"kor\"])\n",
    "    total.append(i['score'][\"math\"] + i['score'][\"eng\"]+ i['score'][\"kor\"])\n",
    "    # (total 구하는 다른방법) total.append(math[-1] + eng[-1]+ kor[-1])\n",
    "    \n",
    "for i in range(len(id_list)):\n",
    "    print(id_list[i], name[i], age[i], math[i], eng[i], kor[i], total[i])\n",
    "        "
   ]
  },
  {
   "cell_type": "code",
   "execution_count": 250,
   "id": "bee698e2",
   "metadata": {},
   "outputs": [
    {
     "name": "stdout",
     "output_type": "stream",
     "text": [
      "['미션임파서블:고스트프로토콜', '마이 웨이', '셜록홈즈 : 그림자 게임', '퍼펙트 게임', '프렌즈: 몬스터섬의비밀 ', '라이온 킹', '오싹한 연애', '극장판 포켓몬스터 베스트 위시「비크티니와 백의 영웅 레시라무」', '앨빈과 슈퍼밴드3', '극장판 포켓몬스터 베스트 위시 「비크티니와 흑의 영웅 제크로무」']\n"
     ]
    }
   ],
   "source": [
    "# 11. 영화 제목만 추출 된 리스트 생성하기\n",
    "q11 = {\"boxOfficeResult\":{\"boxofficeType\":\"일별 박스오피스\",\"showRange\":\"20120101~20120101\",\"dailyBoxOfficeList\":[{\"rnum\":\"1\",\"rank\":\"1\",\"rankInten\":\"0\",\"rankOldAndNew\":\"OLD\",\"movieCd\":\"20112207\",\"movieNm\":\"미션임파서블:고스트프로토콜\",\"openDt\":\"2011-12-15\",\"salesAmt\":\"2776060500\",\"salesShare\":\"36.3\",\"salesInten\":\"-415699000\",\"salesChange\":\"-13\",\"salesAcc\":\"40541108500\",\"audiCnt\":\"353274\",\"audiInten\":\"-60106\",\"audiChange\":\"-14.5\",\"audiAcc\":\"5328435\",\"scrnCnt\":\"697\",\"showCnt\":\"3223\"},{\"rnum\":\"2\",\"rank\":\"2\",\"rankInten\":\"1\",\"rankOldAndNew\":\"OLD\",\"movieCd\":\"20110295\",\"movieNm\":\"마이 웨이\",\"openDt\":\"2011-12-21\",\"salesAmt\":\"1189058500\",\"salesShare\":\"15.6\",\"salesInten\":\"-105894500\",\"salesChange\":\"-8.2\",\"salesAcc\":\"13002897500\",\"audiCnt\":\"153501\",\"audiInten\":\"-16465\",\"audiChange\":\"-9.7\",\"audiAcc\":\"1739543\",\"scrnCnt\":\"588\",\"showCnt\":\"2321\"},{\"rnum\":\"3\",\"rank\":\"3\",\"rankInten\":\"-1\",\"rankOldAndNew\":\"OLD\",\"movieCd\":\"20112621\",\"movieNm\":\"셜록홈즈 : 그림자 게임\",\"openDt\":\"2011-12-21\",\"salesAmt\":\"1176022500\",\"salesShare\":\"15.4\",\"salesInten\":\"-210328500\",\"salesChange\":\"-15.2\",\"salesAcc\":\"10678327500\",\"audiCnt\":\"153004\",\"audiInten\":\"-31283\",\"audiChange\":\"-17\",\"audiAcc\":\"1442861\",\"scrnCnt\":\"360\",\"showCnt\":\"1832\"},{\"rnum\":\"4\",\"rank\":\"4\",\"rankInten\":\"0\",\"rankOldAndNew\":\"OLD\",\"movieCd\":\"20113260\",\"movieNm\":\"퍼펙트 게임\",\"openDt\":\"2011-12-21\",\"salesAmt\":\"644532000\",\"salesShare\":\"8.4\",\"salesInten\":\"-75116500\",\"salesChange\":\"-10.4\",\"salesAcc\":\"6640940000\",\"audiCnt\":\"83644\",\"audiInten\":\"-12225\",\"audiChange\":\"-12.8\",\"audiAcc\":\"895416\",\"scrnCnt\":\"396\",\"showCnt\":\"1364\"},{\"rnum\":\"5\",\"rank\":\"5\",\"rankInten\":\"0\",\"rankOldAndNew\":\"OLD\",\"movieCd\":\"20113271\",\"movieNm\":\"프렌즈: 몬스터섬의비밀 \",\"openDt\":\"2011-12-29\",\"salesAmt\":\"436753500\",\"salesShare\":\"5.7\",\"salesInten\":\"-89051000\",\"salesChange\":\"-16.9\",\"salesAcc\":\"1523037000\",\"audiCnt\":\"55092\",\"audiInten\":\"-15568\",\"audiChange\":\"-22\",\"audiAcc\":\"202909\",\"scrnCnt\":\"290\",\"showCnt\":\"838\"},{\"rnum\":\"6\",\"rank\":\"6\",\"rankInten\":\"1\",\"rankOldAndNew\":\"OLD\",\"movieCd\":\"19940256\",\"movieNm\":\"라이온 킹\",\"openDt\":\"1994-07-02\",\"salesAmt\":\"507115500\",\"salesShare\":\"6.6\",\"salesInten\":\"-114593500\",\"salesChange\":\"-18.4\",\"salesAcc\":\"1841625000\",\"audiCnt\":\"45750\",\"audiInten\":\"-11699\",\"audiChange\":\"-20.4\",\"audiAcc\":\"171285\",\"scrnCnt\":\"244\",\"showCnt\":\"895\"},{\"rnum\":\"7\",\"rank\":\"7\",\"rankInten\":\"-1\",\"rankOldAndNew\":\"OLD\",\"movieCd\":\"20113381\",\"movieNm\":\"오싹한 연애\",\"openDt\":\"2011-12-01\",\"salesAmt\":\"344871000\",\"salesShare\":\"4.5\",\"salesInten\":\"-107005500\",\"salesChange\":\"-23.7\",\"salesAcc\":\"20634684500\",\"audiCnt\":\"45062\",\"audiInten\":\"-15926\",\"audiChange\":\"-26.1\",\"audiAcc\":\"2823060\",\"scrnCnt\":\"243\",\"showCnt\":\"839\"},{\"rnum\":\"8\",\"rank\":\"8\",\"rankInten\":\"0\",\"rankOldAndNew\":\"OLD\",\"movieCd\":\"20112709\",\"movieNm\":\"극장판 포켓몬스터 베스트 위시「비크티니와 백의 영웅 레시라무」\",\"openDt\":\"2011-12-22\",\"salesAmt\":\"167809500\",\"salesShare\":\"2.2\",\"salesInten\":\"-45900500\",\"salesChange\":\"-21.5\",\"salesAcc\":\"1897120000\",\"audiCnt\":\"24202\",\"audiInten\":\"-7756\",\"audiChange\":\"-24.3\",\"audiAcc\":\"285959\",\"scrnCnt\":\"186\",\"showCnt\":\"348\"},{\"rnum\":\"9\",\"rank\":\"9\",\"rankInten\":\"0\",\"rankOldAndNew\":\"OLD\",\"movieCd\":\"20113311\",\"movieNm\":\"앨빈과 슈퍼밴드3\",\"openDt\":\"2011-12-15\",\"salesAmt\":\"137030000\",\"salesShare\":\"1.8\",\"salesInten\":\"-35408000\",\"salesChange\":\"-20.5\",\"salesAcc\":\"3416675000\",\"audiCnt\":\"19729\",\"audiInten\":\"-6461\",\"audiChange\":\"-24.7\",\"audiAcc\":\"516289\",\"scrnCnt\":\"169\",\"showCnt\":\"359\"},{\"rnum\":\"10\",\"rank\":\"10\",\"rankInten\":\"0\",\"rankOldAndNew\":\"OLD\",\"movieCd\":\"20112708\",\"movieNm\":\"극장판 포켓몬스터 베스트 위시 「비크티니와 흑의 영웅 제크로무」\",\"openDt\":\"2011-12-22\",\"salesAmt\":\"125535500\",\"salesShare\":\"1.6\",\"salesInten\":\"-40756000\",\"salesChange\":\"-24.5\",\"salesAcc\":\"1595695000\",\"audiCnt\":\"17817\",\"audiInten\":\"-6554\",\"audiChange\":\"-26.9\",\"audiAcc\":\"235070\",\"scrnCnt\":\"175\",\"showCnt\":\"291\"}]}}\n",
    "\n",
    "movieNm = []\n",
    "\n",
    "for i in q11[\"boxOfficeResult\"][\"dailyBoxOfficeList\"]:\n",
    "    movieNm.append(i[\"movieNm\"])\n",
    "    \n",
    "print(movieNm)"
   ]
  },
  {
   "cell_type": "code",
   "execution_count": 465,
   "id": "35675911",
   "metadata": {},
   "outputs": [
    {
     "data": {
      "text/plain": [
       "{'name': '기사', 'hp': 200, 'mp': 30, 'level': 5}"
      ]
     },
     "execution_count": 465,
     "metadata": {},
     "output_type": "execute_result"
    }
   ],
   "source": [
    "# 12. 두 리스트를 조합해 하나의 딕셔너리를 만들기\n",
    "key_list = [\"name\", \"hp\", \"mp\", \"level\"]\n",
    "value_list = [\"기사\", 200, 30, 5]\n",
    "character= dict()\n",
    "\n",
    "\n",
    "\n",
    "\n",
    "character[key_list[0]] = value_list[0]\n",
    "character[key_list[1]] = value_list[1]\n",
    "character[key_list[2]] = value_list[2]\n",
    "character[key_list[3]] = value_list[3]\n",
    "character\n",
    "    \n",
    "    "
   ]
  },
  {
   "cell_type": "code",
   "execution_count": 460,
   "id": "502a650d",
   "metadata": {},
   "outputs": [
    {
     "data": {
      "text/plain": [
       "{'name': '기사', 'hp': 200, 'mp': 30, 'level': 5}"
      ]
     },
     "execution_count": 460,
     "metadata": {},
     "output_type": "execute_result"
    }
   ],
   "source": [
    "key_list = [\"name\", \"hp\", \"mp\", \"level\"]\n",
    "value_list = [\"기사\", 200, 30, 5]\n",
    "character= dict()\n",
    "\n",
    "for i in range(len(key_list)):    \n",
    "    character[key_list[i]] = value_list[i]\n",
    "character"
   ]
  },
  {
   "cell_type": "code",
   "execution_count": 538,
   "id": "3793ef0b",
   "metadata": {},
   "outputs": [
    {
     "data": {
      "text/plain": [
       "{1: 3, 2: 4, 3: 3, 4: 3, 5: 2, 6: 1, 7: 2, 8: 2, 9: 3}"
      ]
     },
     "execution_count": 538,
     "metadata": {},
     "output_type": "execute_result"
    }
   ],
   "source": [
    "# 13. 리스트의 각 숫자가 몇 번 등장 하는지 출력하는 코드 작성하기\n",
    "numbers = [1, 2, 6, 8, 4, 3, 2, 1, 9, 5, 4, 9, 7, 2, 1, 3, 5, 4, 8, 9, 7, 2, 3]\n",
    "counter = dict()\n",
    "# 1)\n",
    "numbers.sort()\n",
    "for i in range(numbers[0],numbers[-1] + 1):\n",
    "    counter[i] = numbers.count(i)\n",
    "counter    "
   ]
  },
  {
   "cell_type": "code",
   "execution_count": 542,
   "id": "63831cda",
   "metadata": {},
   "outputs": [
    {
     "name": "stdout",
     "output_type": "stream",
     "text": [
      "{1: 3, 2: 4, 3: 3, 4: 3, 5: 2, 6: 1, 7: 2, 8: 2, 9: 3}\n"
     ]
    }
   ],
   "source": [
    "# 2)\n",
    "numbers = [1, 2, 6, 8, 4, 3, 2, 1, 9, 5, 4, 9, 7, 2, 1, 3, 5, 4, 8, 9, 7, 2, 3]\n",
    "counter = dict()\n",
    "\n",
    "for i in set(numbers):\n",
    "    counter[i] = numbers.count(i)\n",
    "print(counter)"
   ]
  },
  {
   "cell_type": "code",
   "execution_count": 546,
   "id": "a67caff5",
   "metadata": {},
   "outputs": [
    {
     "name": "stdout",
     "output_type": "stream",
     "text": [
      "{1: 3, 2: 4, 3: 3, 4: 3, 5: 2, 6: 1, 7: 2, 8: 2, 9: 3}\n"
     ]
    }
   ],
   "source": [
    "# 3) 딕셔너리 내포\n",
    "numbers = [1, 2, 6, 8, 4, 3, 2, 1, 9, 5, 4, 9, 7, 2, 1, 3, 5, 4, 8, 9, 7, 2, 3]\n",
    "counter = dict()\n",
    "\n",
    "counter = {i : numbers.count(i) for i in set(numbers)}\n",
    "print(counter)"
   ]
  },
  {
   "cell_type": "code",
   "execution_count": 551,
   "id": "2cd33ac5",
   "metadata": {},
   "outputs": [
    {
     "name": "stdout",
     "output_type": "stream",
     "text": [
      "{1: 3, 2: 4, 6: 1, 8: 2, 4: 3, 3: 3, 9: 3, 5: 2, 7: 2}\n"
     ]
    }
   ],
   "source": [
    "# 하나하나 세는 방식\n",
    "numbers = [1, 2, 6, 8, 4, 3, 2, 1, 9, 5, 4, 9, 7, 2, 1, 3, 5, 4, 8, 9, 7, 2, 3]\n",
    "counter = dict()\n",
    "\n",
    "for num in numbers:\n",
    "    if num in counter: # 해당 key가 딕셔너리 안에 있다면\n",
    "        counter[num] = counter[num] + 1 #  값 수정\n",
    "        \n",
    "    else: # 해당 key가 딕셔너리 안에 없다면\n",
    "        counter[num] = 1 # 요소 추가\n",
    "        \n",
    "print(counter)"
   ]
  },
  {
   "cell_type": "code",
   "execution_count": 554,
   "id": "fedb4e56",
   "metadata": {},
   "outputs": [
    {
     "name": "stdout",
     "output_type": "stream",
     "text": [
      "{1: 3, 2: 4, 6: 1, 8: 2, 4: 3, 3: 3, 9: 3, 5: 2, 7: 2}\n"
     ]
    }
   ],
   "source": [
    "# 위 코드를 get() 매소드로 개선\n",
    "numbers = [1, 2, 6, 8, 4, 3, 2, 1, 9, 5, 4, 9, 7, 2, 1, 3, 5, 4, 8, 9, 7, 2, 3]\n",
    "counter = dict()\n",
    "\n",
    "for num in numbers:\n",
    "    counter[num] = counter.get(num, 0)+ 1\n",
    "print(counter)"
   ]
  },
  {
   "cell_type": "code",
   "execution_count": null,
   "id": "545b57c4",
   "metadata": {},
   "outputs": [],
   "source": []
  },
  {
   "cell_type": "code",
   "execution_count": null,
   "id": "5686e50f",
   "metadata": {},
   "outputs": [],
   "source": []
  },
  {
   "cell_type": "code",
   "execution_count": null,
   "id": "96a26315",
   "metadata": {},
   "outputs": [],
   "source": []
  },
  {
   "cell_type": "code",
   "execution_count": null,
   "id": "02e8719a",
   "metadata": {},
   "outputs": [],
   "source": []
  },
  {
   "cell_type": "code",
   "execution_count": null,
   "id": "4bf65720",
   "metadata": {},
   "outputs": [],
   "source": []
  },
  {
   "cell_type": "code",
   "execution_count": null,
   "id": "e2bc170d",
   "metadata": {},
   "outputs": [],
   "source": []
  },
  {
   "cell_type": "code",
   "execution_count": null,
   "id": "4b2941dc",
   "metadata": {},
   "outputs": [],
   "source": []
  },
  {
   "cell_type": "code",
   "execution_count": null,
   "id": "3c34774e",
   "metadata": {},
   "outputs": [],
   "source": []
  }
 ],
 "metadata": {
  "kernelspec": {
   "display_name": "Python 3 (ipykernel)",
   "language": "python",
   "name": "python3"
  },
  "language_info": {
   "codemirror_mode": {
    "name": "ipython",
    "version": 3
   },
   "file_extension": ".py",
   "mimetype": "text/x-python",
   "name": "python",
   "nbconvert_exporter": "python",
   "pygments_lexer": "ipython3",
   "version": "3.11.5"
  }
 },
 "nbformat": 4,
 "nbformat_minor": 5
}
