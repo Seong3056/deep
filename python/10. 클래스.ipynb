{
 "cells": [
  {
   "cell_type": "markdown",
   "id": "c37f1237",
   "metadata": {},
   "source": [
    "# 객체 \n",
    "\n",
    "- 프로그램을 만들 때는 우선 \"어떤 데이터를 활용하는가?\"를 생각해야함\n",
    "    - 예) 병원 업무 프로그램을 만든다면 의사, 환자, 예약기록,진료기록 같은 데이터를 고려해야 함\n",
    "    \n",
    "- 여러가지 속성을 가질 수 있는 대상을 객체(object)라고 함"
   ]
  },
  {
   "cell_type": "markdown",
   "id": "5ed43af2",
   "metadata": {},
   "source": [
    "# 클래스의 개념\n",
    "\n",
    "- 객체를 만드는 도구\n",
    "- 클래스를 통해 여러개의 객체를 만들 수 있음\n",
    "- 동일한 클래스에서도 다른 값을 가진 객체가 만들어질 수 있음"
   ]
  },
  {
   "cell_type": "code",
   "execution_count": 4,
   "id": "1eaaa3ae",
   "metadata": {},
   "outputs": [
    {
     "name": "stdout",
     "output_type": "stream",
     "text": [
      "3\n",
      "7\n"
     ]
    }
   ],
   "source": [
    "# 계산기 예시 코드\n",
    "result = 0\n",
    "\n",
    "def cal_add(num):\n",
    "    global result\n",
    "    result += num\n",
    "    return result\n",
    "\n",
    "print(cal_add(3))\n",
    "print(cal_add(4))"
   ]
  },
  {
   "cell_type": "code",
   "execution_count": 5,
   "id": "9e29de6b",
   "metadata": {},
   "outputs": [
    {
     "name": "stdout",
     "output_type": "stream",
     "text": [
      "3\n",
      "7\n"
     ]
    }
   ],
   "source": [
    "# 만약에 2대의 계산기가 필요한 상황이라면\n",
    "# 별도의 변수, 별도의 함수를 만들어야 하는 상황\n",
    "result1 = 0\n",
    "\n",
    "def cal_add1(num):\n",
    "    global result1\n",
    "    result1 += num\n",
    "    return result1\n",
    "\n",
    "print(cal_add1(3))\n",
    "print(cal_add1(4))"
   ]
  },
  {
   "cell_type": "code",
   "execution_count": 14,
   "id": "3cab5d74",
   "metadata": {},
   "outputs": [],
   "source": [
    "class Calculator:\n",
    "    def __init__(self):  # __함수명__() : 특정시점에 자동 호출\n",
    "        self.result = 0\n",
    "        \n",
    "    def add(self, num):\n",
    "        self.result += num\n",
    "        return self.result"
   ]
  },
  {
   "cell_type": "code",
   "execution_count": 17,
   "id": "d6d20067",
   "metadata": {},
   "outputs": [
    {
     "name": "stdout",
     "output_type": "stream",
     "text": [
      "3\n",
      "7\n",
      "3\n",
      "10\n"
     ]
    }
   ],
   "source": [
    "cal1 = Calculator()\n",
    "cal2 = Calculator()\n",
    "\n",
    "print(cal1.add(3))\n",
    "print(cal1.add(4))\n",
    "print(cal2.add(3))\n",
    "print(cal2.add(7))"
   ]
  },
  {
   "cell_type": "markdown",
   "id": "a6a40272",
   "metadata": {},
   "source": [
    "#### 클래스 생성"
   ]
  },
  {
   "cell_type": "code",
   "execution_count": 24,
   "id": "3a891e49",
   "metadata": {},
   "outputs": [],
   "source": [
    "class WaffleMachine:\n",
    "    pass"
   ]
  },
  {
   "cell_type": "code",
   "execution_count": 25,
   "id": "923f51a3",
   "metadata": {},
   "outputs": [],
   "source": [
    "# 객체    클래스() - > 클래스에 () 붙으면 함수 호출 아님\n",
    "waffle = WaffleMachine()   "
   ]
  },
  {
   "cell_type": "code",
   "execution_count": 27,
   "id": "663933e6",
   "metadata": {},
   "outputs": [
    {
     "data": {
      "text/plain": [
       "<__main__.WaffleMachine at 0x176185bb990>"
      ]
     },
     "execution_count": 27,
     "metadata": {},
     "output_type": "execute_result"
    }
   ],
   "source": [
    "# 메모리의 0x176185bb990에 저장된 WaffleMachine 객체\n",
    "waffle"
   ]
  },
  {
   "cell_type": "markdown",
   "id": "96298bf1",
   "metadata": {},
   "source": [
    "## 클래스의 구성\n",
    "\n",
    "- 클래스는 객체가 가져야 할 구성요소를 모두 가지고 있어야 함\n",
    "    - 객체가 가져야할 값, 기능\n",
    "        - 값 : 이름, 나이, 연락처, 주소 등(변수)\n",
    "        - 기능 : 잔다, 먹는다, 공부한다, 달리다 등(함수)"
   ]
  },
  {
   "cell_type": "code",
   "execution_count": 28,
   "id": "a6629e02",
   "metadata": {},
   "outputs": [],
   "source": [
    "# 사칙연산 클래스\n",
    "class FourCal:\n",
    "    pass"
   ]
  },
  {
   "cell_type": "code",
   "execution_count": 30,
   "id": "b2f19caa",
   "metadata": {},
   "outputs": [
    {
     "data": {
      "text/plain": [
       "__main__.FourCal"
      ]
     },
     "execution_count": 30,
     "metadata": {},
     "output_type": "execute_result"
    }
   ],
   "source": [
    "cal = FourCal()\n",
    "type(cal)  # 클래스 명"
   ]
  },
  {
   "cell_type": "markdown",
   "id": "3d25c5e4",
   "metadata": {},
   "source": [
    "### 인스턴스 변수와 인스턴스 메소드\n",
    "\n",
    "- 인스턴스 변수 : 클래스를 기반으로 만들어지는 모든 객체들이 각각따로 저장하는 변수\n",
    "    - 모든 인스턴스 변수는 self라는 키워드를 붙임\n",
    "    - self는 자기자신을 나타내는 의미\n",
    "        - 자신이 가지고 있는 속성과 기능에 접근할 때는 self.식별자 형태로 접근\n",
    "        \n",
    "- 인스턴스 메소드 : 클래스 내부에서 정의되는 함수\n",
    "    - 인스턴스 변수 값에 따라서 각 객체마다 다르게 동작\n",
    "        - 첫 번째 매개변수로 self를 추가"
   ]
  },
  {
   "cell_type": "code",
   "execution_count": 31,
   "id": "a5bfd589",
   "metadata": {},
   "outputs": [],
   "source": [
    "# 예시1. Person 클래스를 정의\n",
    "class Person:\n",
    "    def who_am_i(self,name, age, tel, address):    \n",
    "        # 인스턴스 메소드 who_am_i\n",
    "        # 모든 Person클래스의 객체는 who_am_i()를 호출 가능\n",
    "        # self는 값이 들어갈 필요 없음 (나자신이라는 뜻 이기때문에)\n",
    "        # self를 제외한 나머지 매개변수에 실제로 사용될 데이터가 전달되어야 함\n",
    "        \n",
    "        self.name = name\n",
    "        # self.name의 name은 인스턴스 변수의 name\n",
    "        # = 우측에 있는 name은 매개변수의 name\n",
    "        # who_am_i() 메소드를 호출 할 때 전달 된 name이 객체의 name이 됨\n",
    "        \n",
    "        self.age = age\n",
    "        self.tel = tel\n",
    "        self.address = address"
   ]
  },
  {
   "cell_type": "code",
   "execution_count": 33,
   "id": "6d1c6b41",
   "metadata": {},
   "outputs": [],
   "source": [
    "# 객체 boy 생성\n",
    "boy = Person()"
   ]
  },
  {
   "cell_type": "code",
   "execution_count": 34,
   "id": "f3298434",
   "metadata": {},
   "outputs": [],
   "source": [
    "boy.who_am_i(\"john\", 15, \"123-1234\", \"seoul\") "
   ]
  },
  {
   "cell_type": "code",
   "execution_count": 35,
   "id": "18ac03cb",
   "metadata": {},
   "outputs": [
    {
     "data": {
      "text/plain": [
       "'john'"
      ]
     },
     "execution_count": 35,
     "metadata": {},
     "output_type": "execute_result"
    }
   ],
   "source": [
    "boy.name"
   ]
  },
  {
   "cell_type": "code",
   "execution_count": 36,
   "id": "7019e6c1",
   "metadata": {},
   "outputs": [
    {
     "data": {
      "text/plain": [
       "15"
      ]
     },
     "execution_count": 36,
     "metadata": {},
     "output_type": "execute_result"
    }
   ],
   "source": [
    "boy.age"
   ]
  },
  {
   "cell_type": "code",
   "execution_count": 37,
   "id": "41677084",
   "metadata": {},
   "outputs": [],
   "source": [
    "girl = Person()"
   ]
  },
  {
   "cell_type": "code",
   "execution_count": 38,
   "id": "1b4ac604",
   "metadata": {},
   "outputs": [],
   "source": [
    "girl.who_am_i(\"jupyter\", 29, \"234-5678\", \"busan\")"
   ]
  },
  {
   "cell_type": "code",
   "execution_count": 41,
   "id": "64ffa94a",
   "metadata": {},
   "outputs": [
    {
     "name": "stdout",
     "output_type": "stream",
     "text": [
      "john\n",
      "jupyter\n"
     ]
    }
   ],
   "source": [
    "print(boy.name)\n",
    "print(girl.name)"
   ]
  },
  {
   "cell_type": "code",
   "execution_count": 3,
   "id": "0bec2d90",
   "metadata": {},
   "outputs": [],
   "source": [
    "# 예시2\n",
    "\n",
    "class Computer:\n",
    "    def set_spec(self, cpu, ram, vga, ssd):\n",
    "        self.cpu = cpu\n",
    "        self.ram = ram\n",
    "        self.vga = vga\n",
    "        self.ssd =  ssd\n",
    "        \n",
    "    def hardware_info(self):\n",
    "        print(f\"CPU = {self.cpu}\")\n",
    "        print(f\"RAM = {self.ram}\")\n",
    "        print(f\"VGA = {self.vga}\")\n",
    "        print(f\"SSD = {self.ssd}\")\n",
    "        \n",
    "        "
   ]
  },
  {
   "cell_type": "code",
   "execution_count": 4,
   "id": "fe978c6b",
   "metadata": {},
   "outputs": [],
   "source": [
    "desktop = Computer()"
   ]
  },
  {
   "cell_type": "code",
   "execution_count": 8,
   "id": "95e4985b",
   "metadata": {},
   "outputs": [],
   "source": [
    "desktop.set_spec(\"i9\", \"16GB\", \"GTX4060\", \"512GB\")"
   ]
  },
  {
   "cell_type": "code",
   "execution_count": 10,
   "id": "0ecd5a19",
   "metadata": {},
   "outputs": [
    {
     "name": "stdout",
     "output_type": "stream",
     "text": [
      "CPU = i9\n",
      "RAM = 16GB\n",
      "VGA = GTX4060\n",
      "SSD = 512GB\n"
     ]
    }
   ],
   "source": [
    "desktop.hardware_info()"
   ]
  },
  {
   "cell_type": "code",
   "execution_count": 11,
   "id": "acb1235e",
   "metadata": {},
   "outputs": [],
   "source": [
    "notebook = Computer()"
   ]
  },
  {
   "cell_type": "code",
   "execution_count": 12,
   "id": "d760dca6",
   "metadata": {},
   "outputs": [],
   "source": [
    "notebook.set_spec(\"i3\", \"4GB\", \"MX300\", \"256GB\")"
   ]
  },
  {
   "cell_type": "code",
   "execution_count": 13,
   "id": "ec14939f",
   "metadata": {},
   "outputs": [
    {
     "name": "stdout",
     "output_type": "stream",
     "text": [
      "CPU = i3\n",
      "RAM = 4GB\n",
      "VGA = MX300\n",
      "SSD = 256GB\n"
     ]
    }
   ],
   "source": [
    "notebook.hardware_info()"
   ]
  },
  {
   "cell_type": "code",
   "execution_count": 34,
   "id": "395673d6",
   "metadata": {},
   "outputs": [],
   "source": [
    "# 객체에서 사용할 인스턴스 변수 생성\n",
    "class FourCal:\n",
    "    def set_data(self, first, second): # 메소드의 매개변수\n",
    "        self.first = first # 메소드의 수행문\n",
    "        self.second = second"
   ]
  },
  {
   "cell_type": "code",
   "execution_count": 35,
   "id": "0f5bb612",
   "metadata": {},
   "outputs": [],
   "source": [
    "cal = FourCal()\n",
    "cal.set_data(4,2)"
   ]
  },
  {
   "cell_type": "code",
   "execution_count": 36,
   "id": "04e2b1b6",
   "metadata": {},
   "outputs": [
    {
     "name": "stdout",
     "output_type": "stream",
     "text": [
      "4\n",
      "2\n"
     ]
    }
   ],
   "source": [
    "print(cal.first)\n",
    "print(cal.second)"
   ]
  },
  {
   "cell_type": "code",
   "execution_count": 37,
   "id": "8b5739a4",
   "metadata": {},
   "outputs": [
    {
     "name": "stdout",
     "output_type": "stream",
     "text": [
      "3\n",
      "7\n"
     ]
    }
   ],
   "source": [
    "test_cal = FourCal()\n",
    "test_cal.set_data(3,7)\n",
    "print(test_cal.first)\n",
    "print(test_cal.second)"
   ]
  },
  {
   "cell_type": "code",
   "execution_count": 45,
   "id": "9883851e",
   "metadata": {},
   "outputs": [
    {
     "name": "stdout",
     "output_type": "stream",
     "text": [
      "3\n"
     ]
    }
   ],
   "source": [
    "# 다른 객체의 영향을 받지 않고 원래의 값을 유지함\n",
    "print(test_cal.first)"
   ]
  },
  {
   "cell_type": "code",
   "execution_count": 58,
   "id": "83d7ee45",
   "metadata": {},
   "outputs": [],
   "source": [
    "# 더하기 기능 추가하기\n",
    "class FourCal:\n",
    "    def set_data(self, first, second):   # 메소드의 매개변수\n",
    "        self.first = first         # 메소드의 수행문\n",
    "        self.second = second\n",
    "        \n",
    "             \n",
    "        \n",
    "        \n",
    "    # add 메소드 추가\n",
    "    # 각 객체의 first와 second 합을 return\n",
    "    def add(self):\n",
    "        result = self.first + self.second\n",
    "        return  result"
   ]
  },
  {
   "cell_type": "code",
   "execution_count": 60,
   "id": "af96c051",
   "metadata": {},
   "outputs": [],
   "source": [
    "cal = FourCal()\n",
    "cal.set_data(4,2)"
   ]
  },
  {
   "cell_type": "code",
   "execution_count": 61,
   "id": "3aadefd2",
   "metadata": {},
   "outputs": [
    {
     "name": "stdout",
     "output_type": "stream",
     "text": [
      "6\n"
     ]
    }
   ],
   "source": [
    "print(cal.add())"
   ]
  },
  {
   "cell_type": "code",
   "execution_count": 62,
   "id": "39e8c84b",
   "metadata": {},
   "outputs": [
    {
     "ename": "AttributeError",
     "evalue": "'FourCal' object has no attribute 'result'",
     "output_type": "error",
     "traceback": [
      "\u001b[1;31m---------------------------------------------------------------------------\u001b[0m",
      "\u001b[1;31mAttributeError\u001b[0m                            Traceback (most recent call last)",
      "Cell \u001b[1;32mIn[62], line 1\u001b[0m\n\u001b[1;32m----> 1\u001b[0m cal\u001b[38;5;241m.\u001b[39mresult\n",
      "\u001b[1;31mAttributeError\u001b[0m: 'FourCal' object has no attribute 'result'"
     ]
    }
   ],
   "source": [
    "cal.result"
   ]
  },
  {
   "cell_type": "code",
   "execution_count": 64,
   "id": "fc4e5237",
   "metadata": {},
   "outputs": [],
   "source": [
    "# 사칙연산 기능 추가하기\n",
    "# 더하기 기능 추가하기\n",
    "class FourCal:\n",
    "    def set_data(self, first, second):   # 메소드의 매개변수\n",
    "        self.first = first         # 메소드의 수행문\n",
    "        self.second = second\n",
    "        \n",
    "             \n",
    "        \n",
    "        \n",
    "    # add 메소드 추가\n",
    "    # 각 객체의 first와 second 합을 return\n",
    "    def add(self):\n",
    "        result = self.first + self.second\n",
    "        return  result\n",
    "    \n",
    "    def mul(self):\n",
    "        result = self.first * self.second\n",
    "        return  result\n",
    "    \n",
    "    def sub(self):\n",
    "        result = self.first - self.second\n",
    "        return  result\n",
    "    \n",
    "    def div(self):\n",
    "        result = self.first / self.second\n",
    "        return  result"
   ]
  },
  {
   "cell_type": "code",
   "execution_count": 66,
   "id": "4b9804aa",
   "metadata": {},
   "outputs": [],
   "source": [
    "cal1 = FourCal()\n",
    "cal2 = FourCal()\n",
    "\n",
    "cal1.set_data(4,2)\n",
    "cal2.set_data(3,8)"
   ]
  },
  {
   "cell_type": "code",
   "execution_count": 68,
   "id": "e311d577",
   "metadata": {},
   "outputs": [
    {
     "name": "stdout",
     "output_type": "stream",
     "text": [
      "6\n",
      "8\n",
      "2\n",
      "2.0\n"
     ]
    }
   ],
   "source": [
    "print(cal1.add())\n",
    "print(cal1.mul())\n",
    "print(cal1.sub())\n",
    "print(cal1.div())"
   ]
  },
  {
   "cell_type": "markdown",
   "id": "e596217a",
   "metadata": {},
   "source": [
    "# 생성자\n",
    "\n",
    "- 객체가 생성될 때 자동으로 호출되는 메소드"
   ]
  },
  {
   "cell_type": "code",
   "execution_count": 69,
   "id": "a593fadc",
   "metadata": {},
   "outputs": [
    {
     "ename": "AttributeError",
     "evalue": "'FourCal' object has no attribute 'first'",
     "output_type": "error",
     "traceback": [
      "\u001b[1;31m---------------------------------------------------------------------------\u001b[0m",
      "\u001b[1;31mAttributeError\u001b[0m                            Traceback (most recent call last)",
      "Cell \u001b[1;32mIn[69], line 3\u001b[0m\n\u001b[0;32m      1\u001b[0m \u001b[38;5;66;03m# set_data 메소드를 실행해야만  first와 second가 생성됨\u001b[39;00m\n\u001b[0;32m      2\u001b[0m test_const \u001b[38;5;241m=\u001b[39m FourCal()\n\u001b[1;32m----> 3\u001b[0m test_const\u001b[38;5;241m.\u001b[39madd()\n",
      "Cell \u001b[1;32mIn[64], line 14\u001b[0m, in \u001b[0;36mFourCal.add\u001b[1;34m(self)\u001b[0m\n\u001b[0;32m     13\u001b[0m \u001b[38;5;28;01mdef\u001b[39;00m \u001b[38;5;21madd\u001b[39m(\u001b[38;5;28mself\u001b[39m):\n\u001b[1;32m---> 14\u001b[0m     result \u001b[38;5;241m=\u001b[39m \u001b[38;5;28mself\u001b[39m\u001b[38;5;241m.\u001b[39mfirst \u001b[38;5;241m+\u001b[39m \u001b[38;5;28mself\u001b[39m\u001b[38;5;241m.\u001b[39msecond\n\u001b[0;32m     15\u001b[0m     \u001b[38;5;28;01mreturn\u001b[39;00m  result\n",
      "\u001b[1;31mAttributeError\u001b[0m: 'FourCal' object has no attribute 'first'"
     ]
    }
   ],
   "source": [
    "# set_data 메소드를 실행해야만  first와 second가 생성됨\n",
    "test_const = FourCal()\n",
    "test_const.add()"
   ]
  },
  {
   "cell_type": "code",
   "execution_count": 97,
   "id": "dbc5a880",
   "metadata": {},
   "outputs": [],
   "source": [
    "# 생성자 추가하기\n",
    "class FourCal:\n",
    "    def __init__(self, first, second):   # 생성자  (__init__) 고정코드 \n",
    "        self.set_data(first, second)\n",
    "    \n",
    "    def set_data(self, first, second):   # 메소드의 매개변수\n",
    "        self.first = first               # 메소드의 수행문\n",
    "        self.second = second\n",
    "        \n",
    "               \n",
    "    # add 메소드 추가\n",
    "    # 각 객체의 first와 second 합을 return\n",
    "    def add(self):\n",
    "        result = self.first + self.second\n",
    "        return  result\n",
    "    \n",
    "    def mul(self):\n",
    "        result = self.first * self.second\n",
    "        return  result\n",
    "    \n",
    "    def sub(self):\n",
    "        result = self.first - self.second\n",
    "        return  result\n",
    "    \n",
    "    def div(self):\n",
    "        result = self.first / self.second\n",
    "        return  result"
   ]
  },
  {
   "cell_type": "code",
   "execution_count": 106,
   "id": "bc5e7ad9",
   "metadata": {},
   "outputs": [
    {
     "ename": "TypeError",
     "evalue": "FourCal.__init__() missing 2 required positional arguments: 'first' and 'second'",
     "output_type": "error",
     "traceback": [
      "\u001b[1;31m---------------------------------------------------------------------------\u001b[0m",
      "\u001b[1;31mTypeError\u001b[0m                                 Traceback (most recent call last)",
      "Cell \u001b[1;32mIn[106], line 2\u001b[0m\n\u001b[0;32m      1\u001b[0m \u001b[38;5;66;03m# 생성자의 매개변수를 전달해야 객체를 생성할 수 있음\u001b[39;00m\n\u001b[1;32m----> 2\u001b[0m test_const \u001b[38;5;241m=\u001b[39m FourCal()\n",
      "\u001b[1;31mTypeError\u001b[0m: FourCal.__init__() missing 2 required positional arguments: 'first' and 'second'"
     ]
    }
   ],
   "source": [
    "# 생성자의 매개변수를 전달해야 객체를 생성할 수 있음\n",
    "test_const = FourCal()\n"
   ]
  },
  {
   "cell_type": "code",
   "execution_count": 103,
   "id": "994eb773",
   "metadata": {},
   "outputs": [],
   "source": [
    "test_const = FourCal(4,2)"
   ]
  },
  {
   "cell_type": "code",
   "execution_count": 104,
   "id": "f3940bb3",
   "metadata": {},
   "outputs": [
    {
     "name": "stdout",
     "output_type": "stream",
     "text": [
      "4\n",
      "2\n"
     ]
    }
   ],
   "source": [
    "print(test_const.first)\n",
    "print(test_const.second)"
   ]
  },
  {
   "cell_type": "code",
   "execution_count": 105,
   "id": "bb6fe9f7",
   "metadata": {},
   "outputs": [
    {
     "name": "stdout",
     "output_type": "stream",
     "text": [
      "6\n",
      "2.0\n"
     ]
    }
   ],
   "source": [
    "print(test_const.add())\n",
    "print(test_const.div())"
   ]
  },
  {
   "cell_type": "code",
   "execution_count": 1,
   "id": "5ddce98e",
   "metadata": {},
   "outputs": [
    {
     "ename": "SyntaxError",
     "evalue": "invalid syntax (3217341217.py, line 1)",
     "output_type": "error",
     "traceback": [
      "\u001b[1;36m  Cell \u001b[1;32mIn[1], line 1\u001b[1;36m\u001b[0m\n\u001b[1;33m    딕셔너리 값\u001b[0m\n\u001b[1;37m         ^\u001b[0m\n\u001b[1;31mSyntaxError\u001b[0m\u001b[1;31m:\u001b[0m invalid syntax\n"
     ]
    }
   ],
   "source": [
    "딕셔너리 값"
   ]
  },
  {
   "cell_type": "code",
   "execution_count": null,
   "id": "cb4b52c1",
   "metadata": {},
   "outputs": [],
   "source": [
    "# input 함수 인슽턴스 메소드"
   ]
  },
  {
   "cell_type": "code",
   "execution_count": 5,
   "id": "4ba1258a",
   "metadata": {},
   "outputs": [],
   "source": [
    "a = dict()"
   ]
  },
  {
   "cell_type": "code",
   "execution_count": 6,
   "id": "63bda10a",
   "metadata": {},
   "outputs": [
    {
     "ename": "SyntaxError",
     "evalue": "invalid character '“' (U+201C) (1791836031.py, line 1)",
     "output_type": "error",
     "traceback": [
      "\u001b[1;36m  Cell \u001b[1;32mIn[6], line 1\u001b[1;36m\u001b[0m\n\u001b[1;33m    a[\"name\"] = “python”\u001b[0m\n\u001b[1;37m                ^\u001b[0m\n\u001b[1;31mSyntaxError\u001b[0m\u001b[1;31m:\u001b[0m invalid character '“' (U+201C)\n"
     ]
    }
   ],
   "source": [
    "a[\"name\"] = “python”"
   ]
  },
  {
   "cell_type": "code",
   "execution_count": 7,
   "id": "2d8d4d21",
   "metadata": {},
   "outputs": [
    {
     "ename": "SyntaxError",
     "evalue": "invalid character '“' (U+201C) (2499433364.py, line 1)",
     "output_type": "error",
     "traceback": [
      "\u001b[1;36m  Cell \u001b[1;32mIn[7], line 1\u001b[1;36m\u001b[0m\n\u001b[1;33m    a[(\"a\",)] = “python”\u001b[0m\n\u001b[1;37m                ^\u001b[0m\n\u001b[1;31mSyntaxError\u001b[0m\u001b[1;31m:\u001b[0m invalid character '“' (U+201C)\n"
     ]
    }
   ],
   "source": [
    "a[(\"a\",)] = “python”"
   ]
  },
  {
   "cell_type": "code",
   "execution_count": null,
   "id": "fe28336c",
   "metadata": {},
   "outputs": [],
   "source": []
  },
  {
   "cell_type": "code",
   "execution_count": null,
   "id": "7534853f",
   "metadata": {},
   "outputs": [],
   "source": []
  },
  {
   "cell_type": "code",
   "execution_count": null,
   "id": "a45e7167",
   "metadata": {},
   "outputs": [],
   "source": []
  },
  {
   "cell_type": "code",
   "execution_count": null,
   "id": "58dddd6c",
   "metadata": {},
   "outputs": [],
   "source": []
  },
  {
   "cell_type": "code",
   "execution_count": null,
   "id": "b451d277",
   "metadata": {},
   "outputs": [],
   "source": []
  },
  {
   "cell_type": "code",
   "execution_count": null,
   "id": "8f6c6de4",
   "metadata": {},
   "outputs": [],
   "source": []
  },
  {
   "cell_type": "code",
   "execution_count": null,
   "id": "75310783",
   "metadata": {},
   "outputs": [],
   "source": []
  },
  {
   "cell_type": "code",
   "execution_count": null,
   "id": "9ec33216",
   "metadata": {},
   "outputs": [],
   "source": []
  },
  {
   "cell_type": "code",
   "execution_count": null,
   "id": "b7e5256d",
   "metadata": {},
   "outputs": [],
   "source": []
  },
  {
   "cell_type": "code",
   "execution_count": null,
   "id": "5fb1ee41",
   "metadata": {},
   "outputs": [],
   "source": []
  },
  {
   "cell_type": "code",
   "execution_count": null,
   "id": "1fd91c9e",
   "metadata": {},
   "outputs": [],
   "source": []
  },
  {
   "cell_type": "code",
   "execution_count": null,
   "id": "3722a765",
   "metadata": {},
   "outputs": [],
   "source": []
  },
  {
   "cell_type": "code",
   "execution_count": null,
   "id": "2963b484",
   "metadata": {},
   "outputs": [],
   "source": []
  },
  {
   "cell_type": "code",
   "execution_count": null,
   "id": "851526bd",
   "metadata": {},
   "outputs": [],
   "source": []
  },
  {
   "cell_type": "code",
   "execution_count": null,
   "id": "19648596",
   "metadata": {},
   "outputs": [],
   "source": []
  },
  {
   "cell_type": "code",
   "execution_count": null,
   "id": "df53beae",
   "metadata": {},
   "outputs": [],
   "source": []
  },
  {
   "cell_type": "code",
   "execution_count": null,
   "id": "1c546297",
   "metadata": {},
   "outputs": [],
   "source": []
  }
 ],
 "metadata": {
  "kernelspec": {
   "display_name": "Python 3 (ipykernel)",
   "language": "python",
   "name": "python3"
  },
  "language_info": {
   "codemirror_mode": {
    "name": "ipython",
    "version": 3
   },
   "file_extension": ".py",
   "mimetype": "text/x-python",
   "name": "python",
   "nbconvert_exporter": "python",
   "pygments_lexer": "ipython3",
   "version": "3.11.5"
  }
 },
 "nbformat": 4,
 "nbformat_minor": 5
}
