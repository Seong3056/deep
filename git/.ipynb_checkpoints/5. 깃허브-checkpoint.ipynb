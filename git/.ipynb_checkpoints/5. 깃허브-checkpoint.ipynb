{
 "cells": [
  {
   "cell_type": "markdown",
   "id": "0ee8e234",
   "metadata": {},
   "source": [
    "# 원격 저장소 호스팅 서비스\n",
    "\n",
    "- 원격 저장소\n",
    "    - 컴퓨터 속에만 저장소가 아닌, 인터넷 세상 어딘가에 있는 다른 컴퓨터 속의 저장소\n",
    "    - 원격저장소를 이용하면 백업과 협업에서 이점이 있음\n",
    "    \n",
    "- 백업\n",
    "    - 프로젝트가 로컬 저장소에만 있다면 컴퓨터가 고장나거나 실수로 로컬저장소를 삭제할 경우 큰 문제가 발생\n",
    "    - 로컬 저장소의 프로젝트를 원격 저장소에 백업해뒀다면 이런 경우에도 전혀 문제가 되지 않음\n",
    "    \n",
    "- 협업\n",
    "    - 모든 개발자가 이해하는 공통 코드를 원격 저장소에 업로드하고, 이를 내려받아 새로운 커밋들을 추가한 뒤 다시 원격 저장소에 추가하는 방식으로 작업하면 더 효율적으로 협업할 수 있음\n",
    "    \n",
    "- 용어\n",
    "    - Owner : 원격 저장소의 소유자\n",
    "    - Repository name : 원격 저장소의 이름\n",
    "    - Description : 원격 저장소에 대한 설명(생략가능하나 추가하는것 권장)\n",
    "    - Add a README file : 자동으로 README 파일을 생성(선택하는 것을 권장)\n",
    "    - Add .gitignore : 자동으로 .gitignore 생성\n",
    "    - Choose alicense : 프로젝트의 라이선스 선택"
   ]
  },
  {
   "cell_type": "markdown",
   "id": "65c96ce9",
   "metadata": {},
   "source": [
    "# 원격 저장소와의 상호 작용\n",
    "\n",
    "- 클론(clone) : 원격 저장소 복제\n",
    "- 푸쉬(push) : 원격 저장소에 밀어넣기\n",
    "- 패치(fetch) : 원격 저장소를 일단 가져만 오기\n",
    "- 풀(pull) : 원격 저장소를 가져와서 합치기"
   ]
  },
  {
   "cell_type": "markdown",
   "id": "fe4350a3",
   "metadata": {},
   "source": [
    "## 클론\n",
    "\n",
    "- 원격 저장소를 복제\n",
    "- 깃허브 상에 존재하는 원격 저장소를 로컬로 복사하여 가져오는 방법\n",
    "- 직접 만든 원격 저장소 뿐 아니라 깃허브상에 공개된 모든 원격 저장소를 컴퓨터로 '클론하여 가져올 수 있음'\n",
    "\n",
    "- test-repo를 클론하면 소스트리 브랜치가 main, origin/main, origin/HEAD 3개가 보임\n",
    "- main 브랜치는 master 브랜치와 같음. 깃 허브에서는 기본 브랜치를 main 브랜치라고 부름\n",
    "- origin 은 원격 저장소에 붙은 별명\n",
    "    - 원격 저장소에 붙은 이름일 뿐이므로 언제든 수정할 수 있음"
   ]
  },
  {
   "cell_type": "markdown",
   "id": "dffa7fed",
   "metadata": {},
   "source": [
    "## 푸쉬\n",
    "\n",
    "- 원격 저장소에 로컬 저장소의 변경사항을 밀어넣기\n",
    "- 클로능ㄹ 한 직후에는 원격 저장소 test-repo와 로컬 저장소 test-repo의 상태는 동일\n",
    "- 로컬 저장소에서 개발을 진행하면 원격 저장소와 로컬 저장소의 상태가 달라짐\n",
    "    - 원격 저장소와 로컬 저장소를 같게 만드려면 로컬의 변경사항을 원격 저장소에 푸시해야함"
   ]
  },
  {
   "cell_type": "markdown",
   "id": "7f17b5c9",
   "metadata": {},
   "source": [
    "## 패치\n",
    "\n",
    "- 원격 저장소의 변경 사항들을 가져만 오는 방법\n",
    "- 현재 원격 저장소 test-repo는 나만 사용하고 있지만, 여러 개발자가 협업하고 있는 상황이라면 다른 개발자가 언제든 test-repo에 새로운 변경사항을 추가 할 수 있기 때문에 test-repo 는 언제든지 변할 수 있음\n",
    "- 이 때 다른 개발자가 푸시한 내용을 로컬로 가져오고 싶을 때 패치를 사용\n",
    "    - 원격 저장소의 변경 사항을 로컬로 가져올 때 패치를 사용"
   ]
  },
  {
   "cell_type": "markdown",
   "id": "a4967900",
   "metadata": {},
   "source": [
    "## 풀 \n",
    "\n",
    "- 원격 저장소를 가져와서 합치기\n",
    "    - 패치와 병합을 동시에 하는 방법"
   ]
  },
  {
   "cell_type": "markdown",
   "id": "463663d9",
   "metadata": {},
   "source": [
    "## 풀 리퀘스트 (pull request)\n",
    "\n",
    "- 한 원격 저장소에는 여러 개발자가 코드를 기여할 수 있음\n",
    "- 실무에서도 여러 개발자가 한 원격 저장소를 두고 개발하는 것이 일반적\n",
    "- 일반적으로 내가 소유하지 않은 원격 저장소에는 푸시할 수 없음\n",
    "    - 누구나 푸시할 수 있다면 여러문제 발생\n",
    "        - 원격 저장소 소유자가 원하지 않는 변경 사항들이 추가될 수 있음\n",
    "        \n",
    "- 풀 리퀘스트를 통하면 푸시 권한이 없는 원격 저장소에 코드를 밀어 넣을 수 있음\n",
    "- 풀 리퀘스트\n",
    "    - 원격 저장소가 내 변경사항을 풀(pull) 하도록 요청하는 방법\n",
    "        - 내가 당신의 원격 저장소를 이렇게 변경하고 싶은데 이 변경을 당신의 저장소로 풀 해주세요!\n",
    "        \n",
    "- 풀 리퀘스트의 단계\n",
    "    1. 기여하려는 저장소를 본인 계정으로 포크\n",
    "    2. 포크한 저장소를 클론\n",
    "    3. 브랜치를 생성 후 생성한 브랜치에서 작업\n",
    "    4. 작업한 브랜치 푸시\n",
    "    5. 풀 리퀘스트 보내기"
   ]
  },
  {
   "cell_type": "code",
   "execution_count": null,
   "id": "5d29608b",
   "metadata": {},
   "outputs": [],
   "source": []
  },
  {
   "cell_type": "code",
   "execution_count": null,
   "id": "58af5cdf",
   "metadata": {},
   "outputs": [],
   "source": []
  },
  {
   "cell_type": "code",
   "execution_count": null,
   "id": "0a1b3e4e",
   "metadata": {},
   "outputs": [],
   "source": []
  },
  {
   "cell_type": "code",
   "execution_count": null,
   "id": "6f7be407",
   "metadata": {},
   "outputs": [],
   "source": []
  },
  {
   "cell_type": "code",
   "execution_count": null,
   "id": "09a91d66",
   "metadata": {},
   "outputs": [],
   "source": []
  },
  {
   "cell_type": "code",
   "execution_count": null,
   "id": "8490b5c0",
   "metadata": {},
   "outputs": [],
   "source": []
  },
  {
   "cell_type": "code",
   "execution_count": null,
   "id": "34783cbb",
   "metadata": {},
   "outputs": [],
   "source": []
  },
  {
   "cell_type": "code",
   "execution_count": null,
   "id": "fdade8a7",
   "metadata": {},
   "outputs": [],
   "source": []
  },
  {
   "cell_type": "code",
   "execution_count": null,
   "id": "e67eea24",
   "metadata": {},
   "outputs": [],
   "source": []
  },
  {
   "cell_type": "code",
   "execution_count": null,
   "id": "c6f0618f",
   "metadata": {},
   "outputs": [],
   "source": []
  },
  {
   "cell_type": "code",
   "execution_count": null,
   "id": "6d64985d",
   "metadata": {},
   "outputs": [],
   "source": []
  },
  {
   "cell_type": "code",
   "execution_count": null,
   "id": "78b502a7",
   "metadata": {},
   "outputs": [],
   "source": []
  },
  {
   "cell_type": "code",
   "execution_count": null,
   "id": "b275a166",
   "metadata": {},
   "outputs": [],
   "source": []
  },
  {
   "cell_type": "code",
   "execution_count": null,
   "id": "6d3489ee",
   "metadata": {},
   "outputs": [],
   "source": []
  },
  {
   "cell_type": "code",
   "execution_count": null,
   "id": "ed2260a0",
   "metadata": {},
   "outputs": [],
   "source": []
  },
  {
   "cell_type": "code",
   "execution_count": null,
   "id": "ea618a87",
   "metadata": {},
   "outputs": [],
   "source": []
  },
  {
   "cell_type": "code",
   "execution_count": null,
   "id": "82c0a7ae",
   "metadata": {},
   "outputs": [],
   "source": []
  },
  {
   "cell_type": "code",
   "execution_count": null,
   "id": "3cab52df",
   "metadata": {},
   "outputs": [],
   "source": []
  },
  {
   "cell_type": "code",
   "execution_count": null,
   "id": "0009645b",
   "metadata": {},
   "outputs": [],
   "source": []
  }
 ],
 "metadata": {
  "kernelspec": {
   "display_name": "Python 3 (ipykernel)",
   "language": "python",
   "name": "python3"
  },
  "language_info": {
   "codemirror_mode": {
    "name": "ipython",
    "version": 3
   },
   "file_extension": ".py",
   "mimetype": "text/x-python",
   "name": "python",
   "nbconvert_exporter": "python",
   "pygments_lexer": "ipython3",
   "version": "3.11.5"
  }
 },
 "nbformat": 4,
 "nbformat_minor": 5
}
