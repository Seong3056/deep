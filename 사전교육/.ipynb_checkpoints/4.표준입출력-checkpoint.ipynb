{
 "cells": [
  {
   "cell_type": "markdown",
   "id": "da006897",
   "metadata": {},
   "source": [
    "# 표준 출력"
   ]
  },
  {
   "cell_type": "markdown",
   "id": "f8a59ffc",
   "metadata": {},
   "source": [
    "## 이스케이프 문자\n",
    "\n",
    "- \\n : 줄바꿈\n",
    "- \\t : 탭\n",
    "- \\\\' : 작은 따옴표\n",
    "- \\\\\" : 큰 따옴표"
   ]
  },
  {
   "cell_type": "code",
   "execution_count": 3,
   "id": "676dc7d6",
   "metadata": {},
   "outputs": [
    {
     "name": "stdout",
     "output_type": "stream",
     "text": [
      "Hello, \"World!\"\n"
     ]
    }
   ],
   "source": [
    "print(\"Hello, \\\"World!\\\"\")"
   ]
  },
  {
   "cell_type": "code",
   "execution_count": 6,
   "id": "9e63a7ea",
   "metadata": {},
   "outputs": [
    {
     "name": "stdout",
     "output_type": "stream",
     "text": [
      "*\n",
      "**\n",
      "***\n"
     ]
    }
   ],
   "source": [
    "print(\"*\\n**\\n***\")"
   ]
  },
  {
   "cell_type": "code",
   "execution_count": 7,
   "id": "2c7942e4",
   "metadata": {},
   "outputs": [
    {
     "name": "stdout",
     "output_type": "stream",
     "text": [
      "이름\t연락처\n"
     ]
    }
   ],
   "source": [
    "print(\"이름\\t연락처\")"
   ]
  },
  {
   "cell_type": "markdown",
   "id": "e5f51efe",
   "metadata": {},
   "source": [
    "## print() 함수\n",
    "\n",
    "- print(*args, sep=' ', end='\\n', file=None, flush=False)\n",
    "\n",
    "    - sep : 출력할 값의 구분자\n",
    "    - end : 값을 출력한 후 출력할 문자"
   ]
  },
  {
   "cell_type": "code",
   "execution_count": 11,
   "id": "bfd9b3d1",
   "metadata": {},
   "outputs": [
    {
     "name": "stdout",
     "output_type": "stream",
     "text": [
      "Python Java C\n",
      "Python|Java|C\n",
      "Python\tJava\tC\n"
     ]
    }
   ],
   "source": [
    "print(\"Python\", \"Java\", \"C\")\n",
    "print(\"Python\", \"Java\", \"C\", sep = \"|\")\n",
    "print(\"Python\", \"Java\", \"C\", sep = \"\\t\")"
   ]
  },
  {
   "cell_type": "code",
   "execution_count": 13,
   "id": "77db113f",
   "metadata": {},
   "outputs": [
    {
     "name": "stdout",
     "output_type": "stream",
     "text": [
      "영화 타이타닉\n",
      "평점:5점\n"
     ]
    }
   ],
   "source": [
    "print(\"영화 타이타닉\")\n",
    "print(\"평점\", end = \":\")\n",
    "print(\"5점\")"
   ]
  },
  {
   "cell_type": "markdown",
   "id": "91c3e29a",
   "metadata": {},
   "source": [
    "# 형식을 갖춘 문자열\n",
    "\n",
    "- 문자열 포매팅(string formatting)\n",
    "    - % 연산자, format() 메소드 등의 명령어들을 이용해 원하는 형식의 문자열을 만드는 것"
   ]
  },
  {
   "cell_type": "markdown",
   "id": "548bc6fe",
   "metadata": {},
   "source": [
    "## %연산자\n",
    "\n",
    "- %d : 정수(10진수)\n",
    "- %f : 실수\n",
    "- %s : 문자열"
   ]
  },
  {
   "cell_type": "code",
   "execution_count": 20,
   "id": "1cab7bac",
   "metadata": {},
   "outputs": [
    {
     "name": "stdout",
     "output_type": "stream",
     "text": [
      "10\n"
     ]
    }
   ],
   "source": [
    "print(\"%d\" %10)"
   ]
  },
  {
   "cell_type": "code",
   "execution_count": 21,
   "id": "e0c098a0",
   "metadata": {},
   "outputs": [
    {
     "name": "stdout",
     "output_type": "stream",
     "text": [
      "3.140000\n"
     ]
    }
   ],
   "source": [
    "print(\"%f\"%3.14)"
   ]
  },
  {
   "cell_type": "code",
   "execution_count": 22,
   "id": "1f31058c",
   "metadata": {},
   "outputs": [
    {
     "name": "stdout",
     "output_type": "stream",
     "text": [
      "3.14\n"
     ]
    }
   ],
   "source": [
    "print(\"%.2f\"%3.14)"
   ]
  },
  {
   "cell_type": "code",
   "execution_count": 23,
   "id": "1a0071ff",
   "metadata": {},
   "outputs": [
    {
     "name": "stdout",
     "output_type": "stream",
     "text": [
      "python\n"
     ]
    }
   ],
   "source": [
    "print(\"%s\"%\"python\")"
   ]
  },
  {
   "cell_type": "code",
   "execution_count": 27,
   "id": "dbf00baf",
   "metadata": {},
   "outputs": [
    {
     "name": "stdout",
     "output_type": "stream",
     "text": [
      "10 20\n"
     ]
    }
   ],
   "source": [
    "print(\"%d %d\"%(10, 20))"
   ]
  },
  {
   "cell_type": "code",
   "execution_count": 28,
   "id": "5515d84e",
   "metadata": {},
   "outputs": [
    {
     "name": "stdout",
     "output_type": "stream",
     "text": [
      "10 3.14\n"
     ]
    }
   ],
   "source": [
    "print(\"%s %s\"%(10, 3.14))"
   ]
  },
  {
   "cell_type": "markdown",
   "id": "422d6391",
   "metadata": {},
   "source": [
    "### 활용법"
   ]
  },
  {
   "cell_type": "code",
   "execution_count": 29,
   "id": "be584499",
   "metadata": {},
   "outputs": [
    {
     "name": "stdout",
     "output_type": "stream",
     "text": [
      "내 이름은 Jun입니다\n"
     ]
    }
   ],
   "source": [
    "name = \"Jun\"\n",
    "print(\"내 이름은 %s입니다\"%name)"
   ]
  },
  {
   "cell_type": "code",
   "execution_count": 30,
   "id": "67b74907",
   "metadata": {},
   "outputs": [
    {
     "name": "stdout",
     "output_type": "stream",
     "text": [
      "내 키는 120.50cm입니다.\n",
      "내 몸무게는 23.6kg입니다.\n"
     ]
    }
   ],
   "source": [
    "height = 120.5\n",
    "weight = 23.55\n",
    "print(\"내 키는 %.2fcm입니다.\"%height)\n",
    "print(\"내 몸무게는 %.1fkg입니다.\"%weight)"
   ]
  },
  {
   "cell_type": "markdown",
   "id": "a8d87465",
   "metadata": {},
   "source": [
    "## format() 메소드\n",
    "\n",
    "- 함수의 인수로 변수나 값을 표시하고, 해당 값이 표시될 위치를 중괄호({}) 로 표시"
   ]
  },
  {
   "cell_type": "code",
   "execution_count": 36,
   "id": "8212a6be",
   "metadata": {},
   "outputs": [
    {
     "name": "stdout",
     "output_type": "stream",
     "text": [
      "Breakfast is banana and protein\n"
     ]
    }
   ],
   "source": [
    "print(\"Breakfast is {0} and {1}\".format(\"banana\", \"protein\"))"
   ]
  },
  {
   "cell_type": "code",
   "execution_count": 32,
   "id": "56a09ee6",
   "metadata": {},
   "outputs": [
    {
     "name": "stdout",
     "output_type": "stream",
     "text": [
      "My name is Jun\n",
      "My name is Jun\n",
      "My name is James\n"
     ]
    }
   ],
   "source": [
    "print(\"My name is {}\".format(name))\n",
    "print(\"My name is {0}\".format(name))\n",
    "print(\"My name is {name}\".format(name = \"James\"))"
   ]
  },
  {
   "cell_type": "code",
   "execution_count": 40,
   "id": "de03108a",
   "metadata": {},
   "outputs": [
    {
     "name": "stdout",
     "output_type": "stream",
     "text": [
      "My name is James. I'm 25 years old\n"
     ]
    }
   ],
   "source": [
    "print(\"My name is {name}. I'm {age} years old\".format(name = \"James\", age = 25))"
   ]
  },
  {
   "cell_type": "markdown",
   "id": "5dc7c0b4",
   "metadata": {},
   "source": [
    "## f-strings\n",
    "\n",
    "- format()과 유사하지만 가독성이 뛰어나고 속도가 가장 빠르다\n",
    "- 파이썬 3.6버전 이후로 지원하는 기능\n",
    "- 중괄호 내부에서 연산자의 사용이나 함수의 호출도 가능"
   ]
  },
  {
   "cell_type": "code",
   "execution_count": 1,
   "id": "4035c049",
   "metadata": {},
   "outputs": [],
   "source": [
    "who = \"you\"\n",
    "how = \"happy\""
   ]
  },
  {
   "cell_type": "code",
   "execution_count": 2,
   "id": "3e2a7855",
   "metadata": {},
   "outputs": [
    {
     "name": "stdout",
     "output_type": "stream",
     "text": [
      "you make me happy\n"
     ]
    }
   ],
   "source": [
    "print(f\"{who} make me {how}\")"
   ]
  },
  {
   "cell_type": "code",
   "execution_count": 3,
   "id": "c9c9c414",
   "metadata": {},
   "outputs": [
    {
     "name": "stdout",
     "output_type": "stream",
     "text": [
      "올해는 25살입니다. 내년엔 26살이 됩니다.\n"
     ]
    }
   ],
   "source": [
    "age = 25\n",
    "print(f\"올해는 {age}살입니다. 내년엔 {age + 1}살이 됩니다.\")"
   ]
  },
  {
   "cell_type": "markdown",
   "id": "6dc50a32",
   "metadata": {},
   "source": [
    "# 표준입력"
   ]
  },
  {
   "cell_type": "markdown",
   "id": "f2c8c994",
   "metadata": {},
   "source": [
    "## input() 함수\n",
    "\n",
    "- 키보드로부터 값을 입력받을 때 사용\n",
    "- 모든 입력을 문자열로 저장함"
   ]
  },
  {
   "cell_type": "code",
   "execution_count": 11,
   "id": "80f75ad7",
   "metadata": {},
   "outputs": [
    {
     "name": "stdout",
     "output_type": "stream",
     "text": [
      "20\n"
     ]
    }
   ],
   "source": [
    "n = input(\"\")"
   ]
  },
  {
   "cell_type": "code",
   "execution_count": 12,
   "id": "12e3ad44",
   "metadata": {},
   "outputs": [
    {
     "name": "stdout",
     "output_type": "stream",
     "text": [
      "20\n"
     ]
    }
   ],
   "source": [
    "print(n)"
   ]
  },
  {
   "cell_type": "code",
   "execution_count": 13,
   "id": "0d1284e2",
   "metadata": {},
   "outputs": [
    {
     "name": "stdout",
     "output_type": "stream",
     "text": [
      "정수를 입력하세요 : 20\n"
     ]
    }
   ],
   "source": [
    "# 안내 메시지 입력\n",
    "n = input(\"정수를 입력하세요 : \")"
   ]
  },
  {
   "cell_type": "code",
   "execution_count": 14,
   "id": "8a1bccc1",
   "metadata": {},
   "outputs": [
    {
     "name": "stdout",
     "output_type": "stream",
     "text": [
      "20\n"
     ]
    }
   ],
   "source": [
    "print(n)"
   ]
  },
  {
   "cell_type": "code",
   "execution_count": 15,
   "id": "d7eacdae",
   "metadata": {},
   "outputs": [
    {
     "name": "stdout",
     "output_type": "stream",
     "text": [
      "이름을 입력하세요 : 홍길동\n",
      "나이를 입력하세요 : 30\n"
     ]
    }
   ],
   "source": [
    "name = input(\"이름을 입력하세요 : \")\n",
    "age = input(\"나이를 입력하세요 : \")"
   ]
  },
  {
   "cell_type": "code",
   "execution_count": 16,
   "id": "442ecbe1",
   "metadata": {},
   "outputs": [
    {
     "name": "stdout",
     "output_type": "stream",
     "text": [
      "입력된 이름은 홍길동 입니다. \n",
      "입력된 나이는 30살 입니다.\n"
     ]
    }
   ],
   "source": [
    "print(f\"입력된 이름은 {name} 입니다. \\n입력된 나이는 {age}살 입니다.\")"
   ]
  },
  {
   "cell_type": "markdown",
   "id": "e5336aa9",
   "metadata": {},
   "source": [
    "## 형 변환"
   ]
  },
  {
   "cell_type": "code",
   "execution_count": 17,
   "id": "1ddfe32f",
   "metadata": {},
   "outputs": [
    {
     "data": {
      "text/plain": [
       "'20'"
      ]
     },
     "execution_count": 17,
     "metadata": {},
     "output_type": "execute_result"
    }
   ],
   "source": [
    "n"
   ]
  },
  {
   "cell_type": "code",
   "execution_count": 18,
   "id": "0595a73a",
   "metadata": {},
   "outputs": [
    {
     "name": "stdout",
     "output_type": "stream",
     "text": [
      "<class 'str'>\n"
     ]
    }
   ],
   "source": [
    "print(type(n))"
   ]
  },
  {
   "cell_type": "code",
   "execution_count": 20,
   "id": "02302e11",
   "metadata": {},
   "outputs": [
    {
     "name": "stdout",
     "output_type": "stream",
     "text": [
      "정수 입력 : 5\n"
     ]
    }
   ],
   "source": [
    "n = int(input(\"정수 입력 : \"))"
   ]
  },
  {
   "cell_type": "code",
   "execution_count": 21,
   "id": "4d3830f7",
   "metadata": {},
   "outputs": [
    {
     "name": "stdout",
     "output_type": "stream",
     "text": [
      "<class 'int'>\n"
     ]
    }
   ],
   "source": [
    "print(type(n))"
   ]
  },
  {
   "cell_type": "code",
   "execution_count": 22,
   "id": "e0de79c4",
   "metadata": {},
   "outputs": [
    {
     "name": "stdout",
     "output_type": "stream",
     "text": [
      "할부 개월 입력 : 10\n",
      "매달 내는 돈은 5000.0원 입니다.\n"
     ]
    }
   ],
   "source": [
    "# 예제\n",
    "price = 50000\n",
    "n = int(input(\"할부 개월 입력 : \"))\n",
    "print(f\"매달 내는 돈은 {price / n}원 입니다.\")"
   ]
  },
  {
   "cell_type": "code",
   "execution_count": null,
   "id": "87db0fb3",
   "metadata": {},
   "outputs": [],
   "source": []
  }
 ],
 "metadata": {
  "kernelspec": {
   "display_name": "Python 3 (ipykernel)",
   "language": "python",
   "name": "python3"
  },
  "language_info": {
   "codemirror_mode": {
    "name": "ipython",
    "version": 3
   },
   "file_extension": ".py",
   "mimetype": "text/x-python",
   "name": "python",
   "nbconvert_exporter": "python",
   "pygments_lexer": "ipython3",
   "version": "3.11.5"
  }
 },
 "nbformat": 4,
 "nbformat_minor": 5
}
