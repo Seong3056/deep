{
 "cells": [
  {
   "cell_type": "code",
   "execution_count": 1,
   "id": "8e6370d8",
   "metadata": {},
   "outputs": [],
   "source": [
    "import pandas as pd"
   ]
  },
  {
   "cell_type": "markdown",
   "id": "2b220d32",
   "metadata": {},
   "source": [
    "# 문제1. user_id를 인덱스로 사용한 데이터프레임 읽기"
   ]
  },
  {
   "cell_type": "code",
   "execution_count": null,
   "id": "58505bcc",
   "metadata": {},
   "outputs": [],
   "source": [
    "df = pd.read_csv(\"./data/occupation.tsv\", sep = \"|\", index = \"user_id\")\n",
    "df.head()"
   ]
  },
  {
   "cell_type": "markdown",
   "id": "70e4e434",
   "metadata": {},
   "source": [
    "# 문제2. 각 occupation별 age의 평균 구하기"
   ]
  },
  {
   "cell_type": "code",
   "execution_count": null,
   "id": "2a98297c",
   "metadata": {},
   "outputs": [],
   "source": []
  },
  {
   "cell_type": "markdown",
   "id": "d3c33cef",
   "metadata": {},
   "source": [
    "# 문제3. 각 occupation 별 남자의 비율 구하기\n",
    "- 단, 남자 비율의 내림차순으로 정렬하여 출력하기"
   ]
  },
  {
   "cell_type": "code",
   "execution_count": null,
   "id": "623e24cf",
   "metadata": {},
   "outputs": [],
   "source": []
  },
  {
   "cell_type": "markdown",
   "id": "12341f88",
   "metadata": {},
   "source": [
    "# 문제4. occupation별 age의 최솟값, 최댓값 구하기"
   ]
  },
  {
   "cell_type": "code",
   "execution_count": null,
   "id": "18ff6424",
   "metadata": {},
   "outputs": [],
   "source": []
  },
  {
   "cell_type": "markdown",
   "id": "38bab427",
   "metadata": {},
   "source": [
    "# 문제5. 각 occupation의 gender별 평균 age를 구하기"
   ]
  },
  {
   "cell_type": "code",
   "execution_count": null,
   "id": "c7b507dc",
   "metadata": {},
   "outputs": [],
   "source": []
  }
 ],
 "metadata": {
  "kernelspec": {
   "display_name": "Python 3 (ipykernel)",
   "language": "python",
   "name": "python3"
  },
  "language_info": {
   "codemirror_mode": {
    "name": "ipython",
    "version": 3
   },
   "file_extension": ".py",
   "mimetype": "text/x-python",
   "name": "python",
   "nbconvert_exporter": "python",
   "pygments_lexer": "ipython3",
   "version": "3.11.5"
  }
 },
 "nbformat": 4,
 "nbformat_minor": 5
}
