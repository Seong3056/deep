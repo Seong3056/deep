{
 "cells": [
  {
   "cell_type": "markdown",
   "id": "0cdcfd16",
   "metadata": {},
   "source": [
    "# 내장함수\n",
    "\n",
    "- 외부모듈이 아닌 파이썬에 내장된 함수\n",
    "- print(), input(), len(), map(), ....."
   ]
  },
  {
   "cell_type": "markdown",
   "id": "fe113511",
   "metadata": {},
   "source": [
    "## 문자열 내장 함수"
   ]
  },
  {
   "cell_type": "markdown",
   "id": "865d1bab",
   "metadata": {},
   "source": [
    "### 1.chr() / ord()\n",
    "\n",
    "- 모든 문자는 각각 문자 코드라고 하는 자신만의 코드 값이 있음\n",
    "- chr() : 특정 문자의 유니 코드 값을 전달하면 해당 문자를 반환\n",
    "- ord() :문자를 전달하면 해당 문자의 유니 코드 값을 반환"
   ]
  },
  {
   "cell_type": "code",
   "execution_count": 1,
   "id": "a1bb9e35",
   "metadata": {},
   "outputs": [
    {
     "data": {
      "text/plain": [
       "48"
      ]
     },
     "execution_count": 1,
     "metadata": {},
     "output_type": "execute_result"
    }
   ],
   "source": [
    "ord(\"0\")"
   ]
  },
  {
   "cell_type": "code",
   "execution_count": 4,
   "id": "d5b2edb5",
   "metadata": {},
   "outputs": [
    {
     "data": {
      "text/plain": [
       "49"
      ]
     },
     "execution_count": 4,
     "metadata": {},
     "output_type": "execute_result"
    }
   ],
   "source": [
    "ord(\"1\")"
   ]
  },
  {
   "cell_type": "code",
   "execution_count": 6,
   "id": "a4888ca9",
   "metadata": {},
   "outputs": [
    {
     "data": {
      "text/plain": [
       "'0'"
      ]
     },
     "execution_count": 6,
     "metadata": {},
     "output_type": "execute_result"
    }
   ],
   "source": [
    "chr(48)"
   ]
  },
  {
   "cell_type": "code",
   "execution_count": 9,
   "id": "93a4693a",
   "metadata": {},
   "outputs": [
    {
     "data": {
      "text/plain": [
       "'1'"
      ]
     },
     "execution_count": 9,
     "metadata": {},
     "output_type": "execute_result"
    }
   ],
   "source": [
    "chr(49)"
   ]
  },
  {
   "cell_type": "code",
   "execution_count": 11,
   "id": "000c6815",
   "metadata": {},
   "outputs": [
    {
     "data": {
      "text/plain": [
       "(97, 122)"
      ]
     },
     "execution_count": 11,
     "metadata": {},
     "output_type": "execute_result"
    }
   ],
   "source": [
    "ord(\"a\"),ord(\"z\")"
   ]
  },
  {
   "cell_type": "code",
   "execution_count": 13,
   "id": "8f0674d5",
   "metadata": {},
   "outputs": [
    {
     "data": {
      "text/plain": [
       "'b'"
      ]
     },
     "execution_count": 13,
     "metadata": {},
     "output_type": "execute_result"
    }
   ],
   "source": [
    "chr(98)"
   ]
  },
  {
   "cell_type": "code",
   "execution_count": 15,
   "id": "dbd398da",
   "metadata": {},
   "outputs": [
    {
     "name": "stdout",
     "output_type": "stream",
     "text": [
      "a\n",
      "b\n",
      "c\n",
      "d\n",
      "e\n",
      "f\n",
      "g\n",
      "h\n",
      "i\n",
      "j\n",
      "k\n",
      "l\n",
      "m\n",
      "n\n",
      "o\n",
      "p\n",
      "q\n",
      "r\n",
      "s\n",
      "t\n",
      "u\n",
      "v\n",
      "w\n",
      "x\n",
      "y\n"
     ]
    }
   ],
   "source": [
    "for i in range(ord(\"a\"),(ord(\"z\"))):\n",
    "    i\n",
    "    print(chr(i))"
   ]
  },
  {
   "cell_type": "code",
   "execution_count": 14,
   "id": "97ca26f8",
   "metadata": {},
   "outputs": [
    {
     "data": {
      "text/plain": [
       "121"
      ]
     },
     "execution_count": 14,
     "metadata": {},
     "output_type": "execute_result"
    }
   ],
   "source": []
  },
  {
   "cell_type": "markdown",
   "id": "d349a712",
   "metadata": {},
   "source": [
    "### 2.eval()\n",
    "\n",
    "- 표현식을 문자열로 전달하면 결괏값을 반환\n"
   ]
  },
  {
   "cell_type": "code",
   "execution_count": 14,
   "id": "4832437c",
   "metadata": {},
   "outputs": [
    {
     "data": {
      "text/plain": [
       "300"
      ]
     },
     "execution_count": 14,
     "metadata": {},
     "output_type": "execute_result"
    }
   ],
   "source": [
    "eval(\"100 + 200\") # 문자열을 코드로 실행 시켰을때의 값을 반환"
   ]
  },
  {
   "cell_type": "code",
   "execution_count": 15,
   "id": "67952f61",
   "metadata": {},
   "outputs": [
    {
     "data": {
      "text/plain": [
       "'100 + 200'"
      ]
     },
     "execution_count": 15,
     "metadata": {},
     "output_type": "execute_result"
    }
   ],
   "source": [
    "\"100 + 200\""
   ]
  },
  {
   "cell_type": "code",
   "execution_count": 16,
   "id": "aa6dbe0a",
   "metadata": {},
   "outputs": [
    {
     "data": {
      "text/plain": [
       "50"
      ]
     },
     "execution_count": 16,
     "metadata": {},
     "output_type": "execute_result"
    }
   ],
   "source": [
    "a = 10 \n",
    "\n",
    "eval(\"a * 5\")"
   ]
  },
  {
   "cell_type": "code",
   "execution_count": 17,
   "id": "2fd9afa8",
   "metadata": {},
   "outputs": [
    {
     "data": {
      "text/plain": [
       "1"
      ]
     },
     "execution_count": 17,
     "metadata": {},
     "output_type": "execute_result"
    }
   ],
   "source": [
    "eval(\"min(1,2,3)\")"
   ]
  },
  {
   "cell_type": "code",
   "execution_count": 18,
   "id": "32ed6b7a",
   "metadata": {},
   "outputs": [
    {
     "data": {
      "text/plain": [
       "'[1,2,3]'"
      ]
     },
     "execution_count": 18,
     "metadata": {},
     "output_type": "execute_result"
    }
   ],
   "source": [
    "\"[1,2,3]\""
   ]
  },
  {
   "cell_type": "code",
   "execution_count": 19,
   "id": "d67aaa7c",
   "metadata": {},
   "outputs": [
    {
     "data": {
      "text/plain": [
       "'True'"
      ]
     },
     "execution_count": 19,
     "metadata": {},
     "output_type": "execute_result"
    }
   ],
   "source": [
    "str(True)"
   ]
  },
  {
   "cell_type": "markdown",
   "id": "9b057544",
   "metadata": {},
   "source": [
    "## 숫자 내장 함수"
   ]
  },
  {
   "cell_type": "markdown",
   "id": "28437f4f",
   "metadata": {},
   "source": [
    "## 1.abs()\n",
    "\n",
    "- 절댓값을 반환"
   ]
  },
  {
   "cell_type": "code",
   "execution_count": 20,
   "id": "2f119cca",
   "metadata": {},
   "outputs": [
    {
     "data": {
      "text/plain": [
       "20"
      ]
     },
     "execution_count": 20,
     "metadata": {},
     "output_type": "execute_result"
    }
   ],
   "source": [
    "abs(20)"
   ]
  },
  {
   "cell_type": "code",
   "execution_count": 21,
   "id": "34155317",
   "metadata": {},
   "outputs": [
    {
     "data": {
      "text/plain": [
       "10"
      ]
     },
     "execution_count": 21,
     "metadata": {},
     "output_type": "execute_result"
    }
   ],
   "source": [
    "abs(-10)"
   ]
  },
  {
   "cell_type": "markdown",
   "id": "023d2dad",
   "metadata": {},
   "source": [
    "### 2. divmod()\n",
    "\n",
    "- 전달된 두 인수를 나누어 몫과 나머지를 반환"
   ]
  },
  {
   "cell_type": "code",
   "execution_count": 23,
   "id": "b4e1be5d",
   "metadata": {},
   "outputs": [
    {
     "data": {
      "text/plain": [
       "(3, 1)"
      ]
     },
     "execution_count": 23,
     "metadata": {},
     "output_type": "execute_result"
    }
   ],
   "source": [
    "divmod(10, 3)"
   ]
  },
  {
   "cell_type": "code",
   "execution_count": 25,
   "id": "46969b81",
   "metadata": {},
   "outputs": [
    {
     "name": "stdout",
     "output_type": "stream",
     "text": [
      " 빵을 3개 사고 1000원이 남았습니다\n"
     ]
    }
   ],
   "source": [
    "money = 10000\n",
    "price = 3000\n",
    "\n",
    "n, remain = divmod(money, price)\n",
    "print(f\" 빵을 {n}개 사고 {remain}원이 남았습니다\")"
   ]
  },
  {
   "cell_type": "markdown",
   "id": "5e51d33a",
   "metadata": {},
   "source": [
    "### 3. max() / min()\n",
    "\n",
    "- 전달된 인수 중 최댓값을 반환 / 최솟값을 반환"
   ]
  },
  {
   "cell_type": "code",
   "execution_count": 26,
   "id": "58ac853d",
   "metadata": {},
   "outputs": [
    {
     "data": {
      "text/plain": [
       "10"
      ]
     },
     "execution_count": 26,
     "metadata": {},
     "output_type": "execute_result"
    }
   ],
   "source": [
    "max(1, 10)"
   ]
  },
  {
   "cell_type": "code",
   "execution_count": 27,
   "id": "95978a49",
   "metadata": {},
   "outputs": [
    {
     "data": {
      "text/plain": [
       "1"
      ]
     },
     "execution_count": 27,
     "metadata": {},
     "output_type": "execute_result"
    }
   ],
   "source": [
    "min(1, 10)"
   ]
  },
  {
   "cell_type": "code",
   "execution_count": 28,
   "id": "a6d4352d",
   "metadata": {},
   "outputs": [
    {
     "name": "stdout",
     "output_type": "stream",
     "text": [
      "5\n"
     ]
    }
   ],
   "source": [
    "li = [1, 2, 3, 4, 5]\n",
    "print(max(li))"
   ]
  },
  {
   "cell_type": "markdown",
   "id": "e981e0f3",
   "metadata": {},
   "source": [
    "### 4. pow()\n",
    "\n",
    "- 두 인수의 거듭제곱을 반환"
   ]
  },
  {
   "cell_type": "code",
   "execution_count": 29,
   "id": "7543b2c2",
   "metadata": {},
   "outputs": [
    {
     "data": {
      "text/plain": [
       "100"
      ]
     },
     "execution_count": 29,
     "metadata": {},
     "output_type": "execute_result"
    }
   ],
   "source": [
    "pow(10,2)"
   ]
  },
  {
   "cell_type": "code",
   "execution_count": 31,
   "id": "3a37e107",
   "metadata": {},
   "outputs": [
    {
     "data": {
      "text/plain": [
       "0.01"
      ]
     },
     "execution_count": 31,
     "metadata": {},
     "output_type": "execute_result"
    }
   ],
   "source": [
    "pow(10,-2)"
   ]
  },
  {
   "cell_type": "markdown",
   "id": "a7323d97",
   "metadata": {},
   "source": [
    "### 5. round()\n",
    "\n",
    "- 반올림한 값을 반환"
   ]
  },
  {
   "cell_type": "code",
   "execution_count": 32,
   "id": "abaf04e1",
   "metadata": {},
   "outputs": [
    {
     "data": {
      "text/plain": [
       "2"
      ]
     },
     "execution_count": 32,
     "metadata": {},
     "output_type": "execute_result"
    }
   ],
   "source": [
    "round(1.5)"
   ]
  },
  {
   "cell_type": "code",
   "execution_count": 33,
   "id": "b588f575",
   "metadata": {},
   "outputs": [
    {
     "data": {
      "text/plain": [
       "1"
      ]
     },
     "execution_count": 33,
     "metadata": {},
     "output_type": "execute_result"
    }
   ],
   "source": [
    "round(1.3)"
   ]
  },
  {
   "cell_type": "code",
   "execution_count": 40,
   "id": "ccd1e701",
   "metadata": {},
   "outputs": [
    {
     "data": {
      "text/plain": [
       "0"
      ]
     },
     "execution_count": 40,
     "metadata": {},
     "output_type": "execute_result"
    }
   ],
   "source": [
    "round(0.5) # 구조적인문제로 오작동"
   ]
  },
  {
   "cell_type": "markdown",
   "id": "03b9b7cc",
   "metadata": {},
   "source": [
    "### 6.sum()\n",
    "\n",
    "- 합계를 반환\n",
    "- 숫자가 아닌 값은 전달 불가능"
   ]
  },
  {
   "cell_type": "code",
   "execution_count": 42,
   "id": "a9edf177",
   "metadata": {},
   "outputs": [
    {
     "data": {
      "text/plain": [
       "15"
      ]
     },
     "execution_count": 42,
     "metadata": {},
     "output_type": "execute_result"
    }
   ],
   "source": [
    "li = [1, 2, 3, 4, 5]\n",
    "sum(li)"
   ]
  },
  {
   "cell_type": "code",
   "execution_count": 43,
   "id": "ca4e7e55",
   "metadata": {},
   "outputs": [
    {
     "data": {
      "text/plain": [
       "'he1'"
      ]
     },
     "execution_count": 43,
     "metadata": {},
     "output_type": "execute_result"
    }
   ],
   "source": [
    "\"h\" + \"e\" +\"1\""
   ]
  },
  {
   "cell_type": "code",
   "execution_count": 44,
   "id": "2927c877",
   "metadata": {},
   "outputs": [
    {
     "ename": "TypeError",
     "evalue": "sum() can't sum strings [use ''.join(seq) instead]",
     "output_type": "error",
     "traceback": [
      "\u001b[1;31m---------------------------------------------------------------------------\u001b[0m",
      "\u001b[1;31mTypeError\u001b[0m                                 Traceback (most recent call last)",
      "Cell \u001b[1;32mIn[44], line 1\u001b[0m\n\u001b[1;32m----> 1\u001b[0m \u001b[38;5;28msum\u001b[39m(\u001b[38;5;124m\"\u001b[39m\u001b[38;5;124mh\u001b[39m\u001b[38;5;124m\"\u001b[39m, \u001b[38;5;124m\"\u001b[39m\u001b[38;5;124me\u001b[39m\u001b[38;5;124m\"\u001b[39m)\n",
      "\u001b[1;31mTypeError\u001b[0m: sum() can't sum strings [use ''.join(seq) instead]"
     ]
    }
   ],
   "source": [
    "sum(\"h\", \"e\")"
   ]
  },
  {
   "cell_type": "code",
   "execution_count": 45,
   "id": "d111c897",
   "metadata": {},
   "outputs": [
    {
     "data": {
      "text/plain": [
       "0.0"
      ]
     },
     "execution_count": 45,
     "metadata": {},
     "output_type": "execute_result"
    }
   ],
   "source": [
    "float()"
   ]
  },
  {
   "cell_type": "code",
   "execution_count": 46,
   "id": "1ebe6312",
   "metadata": {},
   "outputs": [
    {
     "data": {
      "text/plain": [
       "0"
      ]
     },
     "execution_count": 46,
     "metadata": {},
     "output_type": "execute_result"
    }
   ],
   "source": [
    "int()"
   ]
  },
  {
   "cell_type": "markdown",
   "id": "988706e1",
   "metadata": {},
   "source": [
    "## 시퀀스 내장 함수"
   ]
  },
  {
   "cell_type": "markdown",
   "id": "5e08b807",
   "metadata": {},
   "source": [
    "### 1.enumerate()\n",
    "\n",
    "- 리스트에 저장된 요소와 인덱스가 함께 추출"
   ]
  },
  {
   "cell_type": "code",
   "execution_count": 47,
   "id": "1f01bb84",
   "metadata": {},
   "outputs": [
    {
     "name": "stdout",
     "output_type": "stream",
     "text": [
      "0 가위\n",
      "1 바위\n",
      "2 보\n"
     ]
    }
   ],
   "source": [
    "for idx, element in enumerate([\"가위\", \"바위\", \"보\"]):\n",
    "    print(idx,element)"
   ]
  },
  {
   "cell_type": "markdown",
   "id": "8a348fff",
   "metadata": {},
   "source": [
    "### 2. range()\n",
    "\n",
    "- 특정범위의 값을 생성\n",
    "- 주로 for문과 함께 사용\n",
    "- list() 함수로 리스트로 변환해서 사용하기도 함\n",
    "\n",
    "```\n",
    "range(stop)\n",
    "range(start, stop)\n",
    "range(start,stop,step)\n",
    "start <= n < stop\n",
    "```\n"
   ]
  },
  {
   "cell_type": "code",
   "execution_count": 49,
   "id": "03c3c946",
   "metadata": {},
   "outputs": [
    {
     "data": {
      "text/plain": [
       "[0, 1, 2, 3, 4, 5, 6, 7, 8, 9]"
      ]
     },
     "execution_count": 49,
     "metadata": {},
     "output_type": "execute_result"
    }
   ],
   "source": [
    "list(range(10))"
   ]
  },
  {
   "cell_type": "code",
   "execution_count": 50,
   "id": "a07bd4ba",
   "metadata": {},
   "outputs": [
    {
     "data": {
      "text/plain": [
       "[1, 2, 3, 4, 5, 6, 7, 8, 9, 10]"
      ]
     },
     "execution_count": 50,
     "metadata": {},
     "output_type": "execute_result"
    }
   ],
   "source": [
    "list(range(1,11))"
   ]
  },
  {
   "cell_type": "code",
   "execution_count": 51,
   "id": "1019b408",
   "metadata": {},
   "outputs": [
    {
     "data": {
      "text/plain": [
       "[0, 5, 10, 15, 20, 25]"
      ]
     },
     "execution_count": 51,
     "metadata": {},
     "output_type": "execute_result"
    }
   ],
   "source": [
    "list(range(0,30,5))"
   ]
  },
  {
   "cell_type": "code",
   "execution_count": 52,
   "id": "4e06b359",
   "metadata": {},
   "outputs": [
    {
     "data": {
      "text/plain": [
       "[0, 3, 6, 9]"
      ]
     },
     "execution_count": 52,
     "metadata": {},
     "output_type": "execute_result"
    }
   ],
   "source": [
    "list(range(0, 10, 3))"
   ]
  },
  {
   "cell_type": "code",
   "execution_count": 56,
   "id": "6e258e76",
   "metadata": {},
   "outputs": [
    {
     "data": {
      "text/plain": [
       "[0, -1, -2, -3, -4, -5, -6, -7, -8, -9]"
      ]
     },
     "execution_count": 56,
     "metadata": {},
     "output_type": "execute_result"
    }
   ],
   "source": [
    "list(range(0, -10, -1))"
   ]
  },
  {
   "cell_type": "code",
   "execution_count": 58,
   "id": "64d98ea0",
   "metadata": {},
   "outputs": [
    {
     "data": {
      "text/plain": [
       "[]"
      ]
     },
     "execution_count": 58,
     "metadata": {},
     "output_type": "execute_result"
    }
   ],
   "source": [
    "list(range(0))"
   ]
  },
  {
   "cell_type": "code",
   "execution_count": 59,
   "id": "d0c0cdcd",
   "metadata": {},
   "outputs": [
    {
     "data": {
      "text/plain": [
       "[]"
      ]
     },
     "execution_count": 59,
     "metadata": {},
     "output_type": "execute_result"
    }
   ],
   "source": [
    "list(range(1, 0))"
   ]
  },
  {
   "cell_type": "markdown",
   "id": "cf97cb9b",
   "metadata": {},
   "source": [
    "### 3. len()\n",
    "\n",
    "- 객체의 길이 (항목의 수)를 반환"
   ]
  },
  {
   "cell_type": "code",
   "execution_count": 60,
   "id": "c8ea4e10",
   "metadata": {},
   "outputs": [
    {
     "data": {
      "text/plain": [
       "4"
      ]
     },
     "execution_count": 60,
     "metadata": {},
     "output_type": "execute_result"
    }
   ],
   "source": [
    "li = [\"a\", \"b\", \"c\",\"d\"]\n",
    "len(li)"
   ]
  },
  {
   "cell_type": "code",
   "execution_count": 61,
   "id": "57f048d2",
   "metadata": {},
   "outputs": [
    {
     "data": {
      "text/plain": [
       "2"
      ]
     },
     "execution_count": 61,
     "metadata": {},
     "output_type": "execute_result"
    }
   ],
   "source": [
    "d= {\"a\": \"apple\", \"b\" : \"banna\"}\n",
    "len(d)"
   ]
  },
  {
   "cell_type": "code",
   "execution_count": 62,
   "id": "6bf9b324",
   "metadata": {},
   "outputs": [
    {
     "data": {
      "text/plain": [
       "10"
      ]
     },
     "execution_count": 62,
     "metadata": {},
     "output_type": "execute_result"
    }
   ],
   "source": [
    "len(range(10))"
   ]
  },
  {
   "cell_type": "code",
   "execution_count": 63,
   "id": "71141541",
   "metadata": {},
   "outputs": [
    {
     "data": {
      "text/plain": [
       "9"
      ]
     },
     "execution_count": 63,
     "metadata": {},
     "output_type": "execute_result"
    }
   ],
   "source": [
    "len(range(1, 10))"
   ]
  },
  {
   "cell_type": "markdown",
   "id": "dc5d4547",
   "metadata": {},
   "source": [
    "### 4. sorted()\n",
    "\n",
    "- 오름차순, 내림차순 정렬 결과를 반환\n"
   ]
  },
  {
   "cell_type": "code",
   "execution_count": 64,
   "id": "507b00bb",
   "metadata": {},
   "outputs": [
    {
     "data": {
      "text/plain": [
       "[1, 2, 3, 4, 5, 6]"
      ]
     },
     "execution_count": 64,
     "metadata": {},
     "output_type": "execute_result"
    }
   ],
   "source": [
    "my_list = [ 6,3,1,2,5,4]\n",
    "sorted(my_list)"
   ]
  },
  {
   "cell_type": "code",
   "execution_count": 65,
   "id": "19e859f5",
   "metadata": {},
   "outputs": [
    {
     "data": {
      "text/plain": [
       "[1, 2, 3, 4, 5, 6]"
      ]
     },
     "execution_count": 65,
     "metadata": {},
     "output_type": "execute_result"
    }
   ],
   "source": [
    "sorted(my_list, reverse = False) # 오름차순"
   ]
  },
  {
   "cell_type": "code",
   "execution_count": 67,
   "id": "1ff33629",
   "metadata": {},
   "outputs": [
    {
     "data": {
      "text/plain": [
       "[6, 5, 4, 3, 2, 1]"
      ]
     },
     "execution_count": 67,
     "metadata": {},
     "output_type": "execute_result"
    }
   ],
   "source": [
    "sorted(my_list, reverse = True) # 내림차순"
   ]
  },
  {
   "cell_type": "code",
   "execution_count": 68,
   "id": "2e687312",
   "metadata": {},
   "outputs": [
    {
     "data": {
      "text/plain": [
       "[6, 3, 1, 2, 5, 4]"
      ]
     },
     "execution_count": 68,
     "metadata": {},
     "output_type": "execute_result"
    }
   ],
   "source": [
    "my_list # my_list변수 자체가 정렬되는것이 아님"
   ]
  },
  {
   "cell_type": "code",
   "execution_count": 69,
   "id": "77be97d3",
   "metadata": {},
   "outputs": [],
   "source": [
    "my_list = sorted(my_list)"
   ]
  },
  {
   "cell_type": "markdown",
   "id": "96605754",
   "metadata": {},
   "source": [
    "### 5. zip()\n",
    "\n",
    "- 여러 개의 반복가능 객체의 각 요소를 묶어서 반환\n",
    "- 전달된 객체들의 길이가 다르면 짧은 객체를 기준으로 동작"
   ]
  },
  {
   "cell_type": "code",
   "execution_count": 72,
   "id": "dbf159bd",
   "metadata": {},
   "outputs": [
    {
     "name": "stdout",
     "output_type": "stream",
     "text": [
      "james의 점수는 60점입니다\n",
      "emily의 점수는 70점입니다\n",
      "amanda의 점수는 80점입니다\n"
     ]
    }
   ],
   "source": [
    "names = [\"james\", \"emily\", \"amanda\", \"jun\"]\n",
    "scores = [60, 70, 80]\n",
    "\n",
    "for name, score in zip(names, scores):\n",
    "    print(f\"{name}의 점수는 {score}점입니다\") # 짧은쪽을 기준으로 동작"
   ]
  },
  {
   "cell_type": "code",
   "execution_count": null,
   "id": "05b695e1",
   "metadata": {},
   "outputs": [],
   "source": []
  },
  {
   "cell_type": "code",
   "execution_count": null,
   "id": "066d8b7a",
   "metadata": {},
   "outputs": [],
   "source": []
  },
  {
   "cell_type": "code",
   "execution_count": null,
   "id": "97960a37",
   "metadata": {},
   "outputs": [],
   "source": []
  }
 ],
 "metadata": {
  "kernelspec": {
   "display_name": "Python 3 (ipykernel)",
   "language": "python",
   "name": "python3"
  },
  "language_info": {
   "codemirror_mode": {
    "name": "ipython",
    "version": 3
   },
   "file_extension": ".py",
   "mimetype": "text/x-python",
   "name": "python",
   "nbconvert_exporter": "python",
   "pygments_lexer": "ipython3",
   "version": "3.11.5"
  }
 },
 "nbformat": 4,
 "nbformat_minor": 5
}
