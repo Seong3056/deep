{
 "cells": [
  {
   "cell_type": "code",
   "execution_count": 75,
   "id": "f90777be",
   "metadata": {},
   "outputs": [],
   "source": [
    "# 3. 비밀번호 만들기\n",
    "#  사이트별로 아래 규칙에 따라 비밀번호를 생성하는 코드 작성하기\n",
    "# 사이드 주소 예시 : \"http://naver.com\", \"http://daum.net\", \"http://google.com\", \"http://youtube.com\"\n",
    "# 규칙1 : http:// 부분은 제외한다\n",
    "# 규칙2 : 처음 만나는 점(.) 이후 부분도 제외한다\n",
    "# 규칙3 : 남은 글자 중 처음 세 자리 + 글자 개수 + 글자 내 \"e\"의 개수 + \"!\"로 비밀번호를 구성한다\n",
    "\n",
    "# 규칙에 따라 \"http://naver.com\"의 비밀번호를 생성하면 nav51! 가 된다\n",
    "addr = \"http://naver.com\""
   ]
  },
  {
   "cell_type": "code",
   "execution_count": 76,
   "id": "84ef0b0d",
   "metadata": {},
   "outputs": [
    {
     "name": "stdout",
     "output_type": "stream",
     "text": [
      "nav51!\n"
     ]
    }
   ],
   "source": [
    "addr = addr[7:]\n",
    "addr = addr[:addr.index(\".\")]\n",
    "password = addr[:3] + str(len(addr)) + str(addr.count(\"e\")) + \"!\"\n",
    "\n",
    "print(password)"
   ]
  },
  {
   "cell_type": "code",
   "execution_count": 24,
   "id": "63e78f89",
   "metadata": {},
   "outputs": [
    {
     "name": "stdout",
     "output_type": "stream",
     "text": [
      "166833\n"
     ]
    }
   ],
   "source": [
    "# 1.  1부터 1000까지의 자연수 중 3의 배수의 합 구하기\n",
    "#166833\n",
    "n = []\n",
    "h = 0\n",
    "for i in range(1001):\n",
    "    if i % 3 == 0:\n",
    "        n.append(i)\n",
    "        \n",
    "for i in n:\n",
    "    h += i\n",
    "print(h)\n",
    "    "
   ]
  },
  {
   "cell_type": "code",
   "execution_count": 30,
   "id": "147d8a36",
   "metadata": {},
   "outputs": [
    {
     "name": "stdout",
     "output_type": "stream",
     "text": [
      "*\n",
      "**\n",
      "***\n",
      "****\n",
      "*****\n"
     ]
    }
   ],
   "source": [
    "# 2. 계단식으로 별 출력하기( 첫 줄에는 * 1개, 두번째 줄에는 2개, ... 다섯번째 줄에는 * 5개)\n",
    "# *\n",
    "# **\n",
    "# ***\n",
    "n = []\n",
    "for i in range(1,6):\n",
    "    i *= \"*\"\n",
    "    print(i)"
   ]
  },
  {
   "cell_type": "code",
   "execution_count": 38,
   "id": "f894cfa4",
   "metadata": {},
   "outputs": [],
   "source": [
    "# 3. 1부터 10까지의 자연수 중 홀수만 2를 곱해서 리스트로 저장하기\n",
    "n = []\n",
    "for i in range(1,11):\n",
    "    if i % 2 == 1:\n",
    "        n.append(i*2)"
   ]
  },
  {
   "cell_type": "code",
   "execution_count": 39,
   "id": "be2b5126",
   "metadata": {},
   "outputs": [
    {
     "data": {
      "text/plain": [
       "[2, 6, 10, 14, 18]"
      ]
     },
     "execution_count": 39,
     "metadata": {},
     "output_type": "execute_result"
    }
   ],
   "source": [
    "n"
   ]
  },
  {
   "cell_type": "code",
   "execution_count": 58,
   "id": "21cb00dd",
   "metadata": {},
   "outputs": [
    {
     "name": "stdout",
     "output_type": "stream",
     "text": [
      "50000 - 3\n",
      "10000 - 0\n",
      "5000 - 1\n",
      "1000 - 1\n",
      "500 - 1\n",
      "100 - 2\n",
      "50 - 1\n",
      "10 - 3\n"
     ]
    }
   ],
   "source": [
    "# 4. 화폐매수 구하기\n",
    "\n",
    "a = 156780 # 원  = > 50000 : 3, 10000 : 0 5000 : 1, ....\n",
    "b = [50000,10000,5000,1000,500,100,50,10]\n",
    "\n",
    "for i in b:\n",
    "    h = a // i\n",
    "    a -= h * i\n",
    "    \n",
    "    print(f\"{i} - {h}\")\n",
    "    "
   ]
  },
  {
   "cell_type": "code",
   "execution_count": 66,
   "id": "ac785750",
   "metadata": {},
   "outputs": [
    {
     "name": "stdout",
     "output_type": "stream",
     "text": [
      "y1 123\n",
      "y2 234\n"
     ]
    }
   ],
   "source": [
    "# 5. name과 data를 각각 리스트에 담기  @1 / 각각의 요소들을 짝지어 출력하기 @2\n",
    "q5 = [{\"name\":\"y1\",\"data\":\"123\"},{\"name\":\"y2\",\"data\":\"234\"}]\n",
    "\n",
    "name = []\n",
    "data = []\n",
    "\n",
    "for i in q5:\n",
    "    name.append(i[\"name\"])\n",
    "    data.append(i[\"data\"])\n",
    "    \n",
    "for i in range(len(name)):\n",
    "    print(name[i], data[i])"
   ]
  },
  {
   "cell_type": "code",
   "execution_count": 72,
   "id": "f4a83397",
   "metadata": {},
   "outputs": [
    {
     "name": "stdout",
     "output_type": "stream",
     "text": [
      "a386 123 34\n",
      "a383 123 36\n"
     ]
    }
   ],
   "source": [
    "# 6. id, name, age를 각각 리스트에 감고 각각의 요소틀을 짝지어 출력하기\n",
    "q6 = {\"ret\":{\"id\":\"a386\",\"name\":\"123\",\"age\":34},\"ret1\":{\"id\":\"a383\",\"name\":\"123\",\"age\":36}}\n",
    "\n",
    "id_list = []\n",
    "name = []\n",
    "age = []\n",
    "\n",
    "for i in q6:\n",
    "    id_list.append(q6[i][\"id\"])\n",
    "    name.append(q6[i][\"name\"])\n",
    "    age.append(q6[i][\"age\"])\n",
    "    \n",
    "for i in range(len(name)):\n",
    "    print(id_list[i], name[i], age[i])\n",
    "    "
   ]
  },
  {
   "cell_type": "code",
   "execution_count": 88,
   "id": "36ccd0ed",
   "metadata": {},
   "outputs": [
    {
     "name": "stdout",
     "output_type": "stream",
     "text": [
      "a2001 123 34\n",
      "a2002 123 54\n",
      "a2003 123 36\n",
      "a2004 123 38\n",
      "a2005 123 17\n",
      "a2006 123 52\n",
      "a2007 123 33\n"
     ]
    }
   ],
   "source": [
    "# 7. id, name, age를 각각 리스트에 감고 각각의 요소틀을 짝지어 출력하기\n",
    "\n",
    "q7 = {\"ret\":[{\"id\":\"a2001\",\"name\":\"123\",\"age\":34},{\"id\":\"a2002\",\"name\":\"123\",\"age\":54},{\"id\":\"a2003\",\"name\":\"123\",\"age\":36},{\"id\":\"a2004\",\"name\":\"123\",\"age\":38}],\"ret1\":[{\"id\":\"a2005\",\"name\":\"123\",\"age\":17},{\"id\":\"a2006\",\"name\":\"123\",\"age\":52},{\"id\":\"a2007\",\"name\":\"123\",\"age\":33}]}\n",
    "\n",
    "id_list = []\n",
    "name = []\n",
    "age = []\n",
    "\n",
    "for i in q7:\n",
    "    \n",
    "    for j in q7[i]:\n",
    "        id_list.append(j[\"id\"])\n",
    "        name.append(j[\"name\"])\n",
    "        age.append(j[\"age\"])\n",
    "        \n",
    "for i in range(len(name)):\n",
    "    print(id_list[i], name[i], age[i])\n",
    "        "
   ]
  },
  {
   "cell_type": "code",
   "execution_count": 101,
   "id": "bc10d919",
   "metadata": {},
   "outputs": [
    {
     "name": "stdout",
     "output_type": "stream",
     "text": [
      "AAA cat ['tuna', 'catnip'] ['ham', 'zucchini']\n",
      "BBB dog ['bones', 'carrots'] ['tuna']\n",
      "CCC cat ['mice'] ['cookies']\n"
     ]
    }
   ],
   "source": [
    "# 8. name, species, likes, dislikes 를 가각 리스트에 담고 각각의 요소들을 짝지어 출력하기\n",
    "q8 = [{\"name\":\"AAA\",\"species\":\"cat\",\"foods\":{\"likes\":[\"tuna\",\"catnip\"],\"dislikes\":[\"ham\",\"zucchini\"]}},{\"name\":\"BBB\",\"species\":\"dog\",\"foods\":{\"likes\":[\"bones\",\"carrots\"],\"dislikes\":[\"tuna\"]}},{\"name\":\"CCC\",\"species\":\"cat\",\"foods\":{\"likes\":[\"mice\"],\"dislikes\":[\"cookies\"]}}]\n",
    "\n",
    "name = []\n",
    "species = []\n",
    "likes = []\n",
    "dislikes = []\n",
    "\n",
    "# print(q8[0])\n",
    "# print(q8[1])\n",
    "# print(q8[2])\n",
    "\n",
    "for i in q8:\n",
    "    name.append(i[\"name\"])\n",
    "    species.append(i[\"species\"])\n",
    "    likes.append(i[\"foods\"][\"likes\"])\n",
    "    dislikes.append(i[\"foods\"][\"dislikes\"])\n",
    "    \n",
    "for i in range(len(name)):\n",
    "    print(name[i], species[i], likes[i], dislikes[i])"
   ]
  },
  {
   "cell_type": "code",
   "execution_count": 110,
   "id": "cfe7e4c6",
   "metadata": {},
   "outputs": [
    {
     "name": "stdout",
     "output_type": "stream",
     "text": [
      "name      ['AAA', 'BBB', 'CCC']\n",
      "species   ['cat', 'dog', 'cat']\n",
      "likes     [['tuna', 'catnip'], ['bones', 'carrots'], ['mice']]\n",
      "dislikes  [['ham', 'zucchini'], ['tuna'], ['cookies']]\n"
     ]
    }
   ],
   "source": [
    "# 8. name, species, likes, dislikes 를 가각 리스트에 담고 각각의 요소들을 짝지어 출력하기\n",
    "q8 = [{\"name\":\"AAA\",\"species\":\"cat\",\"foods\":{\"likes\":[\"tuna\",\"catnip\"],\"dislikes\":[\"ham\",\"zucchini\"]}},{\"name\":\"BBB\",\"species\":\"dog\",\"foods\":{\"likes\":[\"bones\",\"carrots\"],\"dislikes\":[\"tuna\"]}},{\"name\":\"CCC\",\"species\":\"cat\",\"foods\":{\"likes\":[\"mice\"],\"dislikes\":[\"cookies\"]}}]\n",
    "\n",
    "name = []\n",
    "species = []\n",
    "likes = []\n",
    "dislikes = []\n",
    "\n",
    "# print(q8[0])\n",
    "# print(q8[1])\n",
    "# print(q8[2])\n",
    "\n",
    "for i in q8:\n",
    "    name.append(i[\"name\"])\n",
    "    species.append(i[\"species\"])\n",
    "    likes.append(i[\"foods\"][\"likes\"])\n",
    "    dislikes.append(i[\"foods\"][\"dislikes\"])\n",
    "    \n",
    "\n",
    "print(f\"name      {name}\")\n",
    "print(f\"species   {species}\")\n",
    "print(f\"likes     {likes}\")\n",
    "print(f\"dislikes  {dislikes}\")"
   ]
  },
  {
   "cell_type": "code",
   "execution_count": 120,
   "id": "203812b2",
   "metadata": {},
   "outputs": [
    {
     "name": "stdout",
     "output_type": "stream",
     "text": [
      "id1 가나다1 31\n",
      "id2 가나다2 32\n",
      "id3 가나다3 33\n",
      "id4 가나다4 34\n",
      "id5 가나다5 35\n"
     ]
    }
   ],
   "source": [
    "# 9. id, name, age 를 각각 리스트에 담고 각각의 요소들을 짝지어 출력하기\n",
    "q9 = {\"ret\":\"y\",\"data\":[{\"id\":\"id1\",\"name\":\"가나다1\",\"age\":31},{\"id\":\"id2\",\"name\":\"가나다2\",\"age\":32},{\"id\":\"id3\",\"name\":\"가나다3\",\"age\":33},{\"id\":\"id4\",\"name\":\"가나다4\",\"age\":34},{\"id\":\"id5\",\"name\":\"가나다5\",\"age\":35}]}\n",
    "\n",
    "id_list = []\n",
    "name = []\n",
    "age = []\n",
    "\n",
    "q9.keys()\n",
    "len(q9[\"data\"])\n",
    "\n",
    "for i in q9[\"data\"]:\n",
    "    id_list.append(i[\"id\"])\n",
    "    name.append(i[\"name\"])\n",
    "    age.append(i[\"age\"])\n",
    "    \n",
    "for i in range(len(name)):\n",
    "    print(id_list[i], name[i], age[i])"
   ]
  },
  {
   "cell_type": "code",
   "execution_count": 35,
   "id": "9e092f64",
   "metadata": {},
   "outputs": [
    {
     "name": "stdout",
     "output_type": "stream",
     "text": [
      "id1 가나다1 31 50 90 69 209\n",
      "id2 가나다2 32 90 68 80 238\n",
      "id3 가나다3 33 70 76 60 206\n",
      "id4 가나다4 34 80 79 50 209\n",
      "id5 가나다5 35 80 78 90 248\n"
     ]
    }
   ],
   "source": [
    "# 10. id, name, age, math, eng, kor, (math, eng, kor)합계를 각각 리스트에 담고\n",
    "# 각각의 요소를 짝지어 출력\n",
    "q10 = {\"ret\":\"y\",\"data\":[{\"id\":\"id1\",\"name\":\"가나다1\",\"age\":31,\"score\":{\"math\":50,\"eng\":90,\"kor\":69}},{\"id\":\"id2\",\"name\":\"가나다2\",\"age\":32,\"score\":{\"math\":90,\"eng\":68,\"kor\":80}},{\"id\":\"id3\",\"name\":\"가나다3\",\"age\":33,\"score\":{\"math\":70,\"eng\":76,\"kor\":60}},{\"id\":\"id4\",\"name\":\"가나다4\",\"age\":34,\"score\":{\"math\":80,\"eng\":79,\"kor\":50}},{\"id\":\"id5\",\"name\":\"가나다5\",\"age\":35,\"score\":{\"math\":80,\"eng\":78,\"kor\":90}}]}\n",
    "\n",
    "id_list = []\n",
    "name = []\n",
    "age = []\n",
    "math = []\n",
    "eng = []\n",
    "kor = []\n",
    "total =[]\n",
    "\n",
    "for i in q10[\"data\"]:    \n",
    "    id_list.append(i[\"id\"])\n",
    "    name.append(i[\"name\"])\n",
    "    age.append(i[\"age\"])\n",
    "    math.append(i[\"score\"][\"math\"])\n",
    "    eng.append(i[\"score\"][\"eng\"])\n",
    "    kor.append(i[\"score\"][\"kor\"])\n",
    "    total.append(i[\"score\"][\"math\"]+i[\"score\"][\"eng\"]+i[\"score\"][\"kor\"])\n",
    "    \n",
    "for i in range(len(name)):\n",
    "    print(id_list[i], name[i], age[i], math[i], eng[i], kor[i], total[i])"
   ]
  },
  {
   "cell_type": "code",
   "execution_count": null,
   "id": "780568ce",
   "metadata": {},
   "outputs": [],
   "source": []
  },
  {
   "cell_type": "code",
   "execution_count": 43,
   "id": "40ff034d",
   "metadata": {},
   "outputs": [],
   "source": [
    "# 12. 두 리스트를 조합해 하나의 딕셔너리를 만들기\n",
    "key_list = [\"name\", \"hp\", \"mp\", \"level\"]\n",
    "value_list = [\"기사\", 200, 30, 5]\n",
    "character= dict()\n",
    "\n",
    "for i in range(len(value_list)):\n",
    "    \n",
    "    character[key_list[i]] = value_list[i]\n"
   ]
  },
  {
   "cell_type": "code",
   "execution_count": 44,
   "id": "accf4279",
   "metadata": {},
   "outputs": [
    {
     "data": {
      "text/plain": [
       "{'name': '기사', 'hp': 200, 'mp': 30, 'level': 5}"
      ]
     },
     "execution_count": 44,
     "metadata": {},
     "output_type": "execute_result"
    }
   ],
   "source": [
    "character"
   ]
  },
  {
   "cell_type": "code",
   "execution_count": 55,
   "id": "69fa45f9",
   "metadata": {},
   "outputs": [
    {
     "data": {
      "text/plain": [
       "9"
      ]
     },
     "execution_count": 55,
     "metadata": {},
     "output_type": "execute_result"
    }
   ],
   "source": [
    "# 13. 리스트의 각 숫자가 몇 번 등장 하는지 출력하는 코드 작성하기\n",
    "numbers = [1, 2, 6, 8, 4, 3, 2, 1, 9, 5, 4, 9, 7, 2, 1, 3, 5, 4, 8, 9, 7, 2, 3]\n",
    "counter = dict()\n",
    "\n",
    "max(numbers)"
   ]
  },
  {
   "cell_type": "code",
   "execution_count": null,
   "id": "ec754f0f",
   "metadata": {},
   "outputs": [],
   "source": [
    "# 파일 입출력 내장함수 컬렉션 제어문"
   ]
  },
  {
   "cell_type": "code",
   "execution_count": 4,
   "id": "b70c8d73",
   "metadata": {},
   "outputs": [],
   "source": [
    "h = []\n",
    "x = [49, -17, 25, 102, 8, 62, 21]\n",
    "for i in x:\n",
    "    i *= 10\n",
    "    h.append(i)"
   ]
  },
  {
   "cell_type": "code",
   "execution_count": 12,
   "id": "5418e494",
   "metadata": {},
   "outputs": [
    {
     "name": "stdout",
     "output_type": "stream",
     "text": [
      "[490, -170, 250, 1020, 80, 620, 210]\n"
     ]
    }
   ],
   "source": [
    "print(h[:])"
   ]
  },
  {
   "cell_type": "code",
   "execution_count": 197,
   "id": "b0a5963e",
   "metadata": {},
   "outputs": [
    {
     "ename": "TypeError",
     "evalue": "list indices must be integers or slices, not list",
     "output_type": "error",
     "traceback": [
      "\u001b[1;31m---------------------------------------------------------------------------\u001b[0m",
      "\u001b[1;31mTypeError\u001b[0m                                 Traceback (most recent call last)",
      "Cell \u001b[1;32mIn[197], line 8\u001b[0m\n\u001b[0;32m      3\u001b[0m output \u001b[38;5;241m=\u001b[39m [[], [], []]\n\u001b[0;32m      5\u001b[0m \u001b[38;5;28;01mfor\u001b[39;00m i \u001b[38;5;129;01min\u001b[39;00m output:\n\u001b[1;32m----> 8\u001b[0m     output[i]\u001b[38;5;241m.\u001b[39mappend(numbers(output\u001b[38;5;241m.\u001b[39mindex(i),\u001b[38;5;241m9\u001b[39m,\u001b[38;5;241m3\u001b[39m))\n",
      "\u001b[1;31mTypeError\u001b[0m: list indices must be integers or slices, not list"
     ]
    }
   ],
   "source": [
    "numbers = [1, 2, 3, 4, 5, 6, 7, 8, 9]\n",
    "\n",
    "output = [[], [], []]\n",
    "\n",
    "\n",
    "    \n",
    "    \n",
    "    \n",
    "    \n",
    "        \n",
    "\n",
    "    "
   ]
  },
  {
   "cell_type": "code",
   "execution_count": 111,
   "id": "ed7241b2",
   "metadata": {},
   "outputs": [],
   "source": [
    "\n",
    "output[0].append(numbers[0:3])\n",
    "output[1].append(numbers[3:6])\n",
    "output[2].append(numbers[6:9])"
   ]
  },
  {
   "cell_type": "code",
   "execution_count": 36,
   "id": "f5904ae7",
   "metadata": {},
   "outputs": [
    {
     "data": {
      "text/plain": [
       "[[[1, 2, 3]], [[4, 5, 6]], [[7, 8, 9]]]"
      ]
     },
     "execution_count": 36,
     "metadata": {},
     "output_type": "execute_result"
    }
   ],
   "source": [
    "output"
   ]
  },
  {
   "cell_type": "code",
   "execution_count": 67,
   "id": "b80d52c0",
   "metadata": {},
   "outputs": [
    {
     "name": "stdout",
     "output_type": "stream",
     "text": [
      "[[1, 2, 3, 4, 5, 6, 7, 8, 9]]\n",
      "[[1, 2, 3, 4, 5, 6, 7, 8, 9]]\n",
      "[[1, 2, 3, 4, 5, 6, 7, 8, 9]]\n"
     ]
    }
   ],
   "source": [
    "for i in output:\n",
    "    i.append(numbers)\n",
    "    print(i)\n",
    "    \n",
    "        "
   ]
  },
  {
   "cell_type": "code",
   "execution_count": 179,
   "id": "36af955b",
   "metadata": {
    "scrolled": true
   },
   "outputs": [
    {
     "ename": "TypeError",
     "evalue": "'list' object is not callable",
     "output_type": "error",
     "traceback": [
      "\u001b[1;31m---------------------------------------------------------------------------\u001b[0m",
      "\u001b[1;31mTypeError\u001b[0m                                 Traceback (most recent call last)",
      "Cell \u001b[1;32mIn[179], line 1\u001b[0m\n\u001b[1;32m----> 1\u001b[0m i\u001b[38;5;241m.\u001b[39mappend(numbers(\u001b[38;5;241m1\u001b[39m, \u001b[38;5;241m9\u001b[39m ,\u001b[38;5;241m3\u001b[39m))\n",
      "\u001b[1;31mTypeError\u001b[0m: 'list' object is not callable"
     ]
    }
   ],
   "source": [
    "    i.append(numbers(1, 9 ,3))"
   ]
  },
  {
   "cell_type": "code",
   "execution_count": 168,
   "id": "752685b9",
   "metadata": {},
   "outputs": [
    {
     "name": "stdout",
     "output_type": "stream",
     "text": [
      "0\n",
      "0\n",
      "0\n"
     ]
    }
   ],
   "source": [
    "numbers = [1, 2, 3, 4, 5, 6, 7, 8, 9]\n",
    "\n",
    "output = [[], [], []]\n",
    "\n",
    "for i in output:\n",
    "    i\n",
    "    print(output.index(i))"
   ]
  },
  {
   "cell_type": "code",
   "execution_count": 1,
   "id": "5a3e13db",
   "metadata": {},
   "outputs": [],
   "source": [
    "a = dict()"
   ]
  },
  {
   "cell_type": "code",
   "execution_count": 12,
   "id": "3c1f3748",
   "metadata": {},
   "outputs": [],
   "source": [
    "a[\"name\"] = \"python\""
   ]
  },
  {
   "cell_type": "code",
   "execution_count": 13,
   "id": "4f92fed8",
   "metadata": {},
   "outputs": [
    {
     "name": "stdout",
     "output_type": "stream",
     "text": [
      "{'name': 'python', ('a',): 'python', 250: 'python'}\n"
     ]
    }
   ],
   "source": [
    "a[(\"a\",)] = \"python\"\n",
    "print(a)"
   ]
  },
  {
   "cell_type": "code",
   "execution_count": 9,
   "id": "0de245b5",
   "metadata": {},
   "outputs": [
    {
     "ename": "TypeError",
     "evalue": "unhashable type: 'list'",
     "output_type": "error",
     "traceback": [
      "\u001b[1;31m---------------------------------------------------------------------------\u001b[0m",
      "\u001b[1;31mTypeError\u001b[0m                                 Traceback (most recent call last)",
      "Cell \u001b[1;32mIn[9], line 1\u001b[0m\n\u001b[1;32m----> 1\u001b[0m a[[\u001b[38;5;241m1\u001b[39m]] \u001b[38;5;241m=\u001b[39m \u001b[38;5;124m\"\u001b[39m\u001b[38;5;124mpython\u001b[39m\u001b[38;5;124m\"\u001b[39m\n",
      "\u001b[1;31mTypeError\u001b[0m: unhashable type: 'list'"
     ]
    }
   ],
   "source": [
    "a[[1]] = \"python\""
   ]
  },
  {
   "cell_type": "code",
   "execution_count": 10,
   "id": "6f10e0e9",
   "metadata": {},
   "outputs": [],
   "source": [
    "a[250] = \"python\""
   ]
  },
  {
   "cell_type": "markdown",
   "id": "96550564",
   "metadata": {},
   "source": [
    "# 1번째 시험"
   ]
  },
  {
   "cell_type": "code",
   "execution_count": 74,
   "id": "2d2aea65",
   "metadata": {},
   "outputs": [
    {
     "name": "stdout",
     "output_type": "stream",
     "text": [
      "a\n",
      "b\n",
      "c\n",
      "d\n",
      "e\n",
      "f\n",
      "g\n",
      "h\n",
      "i\n",
      "j\n",
      "k\n",
      "l\n",
      "m\n",
      "n\n",
      "o\n",
      "p\n",
      "q\n",
      "r\n",
      "s\n",
      "t\n",
      "u\n",
      "v\n",
      "w\n",
      "x\n",
      "y\n",
      "z\n"
     ]
    }
   ],
   "source": [
    "for i in range(ord(\"a\"), ord(\"z\")+1):\n",
    "        print(chr(i))"
   ]
  },
  {
   "cell_type": "code",
   "execution_count": 16,
   "id": "0435698a",
   "metadata": {},
   "outputs": [],
   "source": [
    "#  1. new_file.txt \n",
    "# 반복문을통해 작성\n",
    "\n",
    "with open(\"new_file.txt\", \"w\") as f:\n",
    "     for i in range(ord(\"a\"), ord(\"z\")+1):\n",
    "        f.write(chr(i) + \"\\n\")\n",
    "    # for i in range(97,123):\n",
    "    #    f.write(chr(i) + \"\")\n",
    "        \n",
    "    "
   ]
  },
  {
   "cell_type": "code",
   "execution_count": 6,
   "id": "3254f8da",
   "metadata": {},
   "outputs": [],
   "source": [
    "f= open(\"new_file.txt\", \"w\")\n",
    "f.close()"
   ]
  },
  {
   "cell_type": "code",
   "execution_count": 38,
   "id": "68a4c9a5",
   "metadata": {},
   "outputs": [
    {
     "name": "stdout",
     "output_type": "stream",
     "text": [
      "490 -170 250 1020 80 620 210 "
     ]
    }
   ],
   "source": [
    "# 2. 리스트 x에 들어있는 숫자에 10을 곱한값을 반복문을 사용하여 한줄로 출력\n",
    "\n",
    "x = [49, -17, 25, 102 , 8, 62, 21]\n",
    "h = []\n",
    "for i in x:\n",
    "    print(i * 10, end = \" \")\n"
   ]
  },
  {
   "cell_type": "code",
   "execution_count": 86,
   "id": "d25f8400",
   "metadata": {},
   "outputs": [
    {
     "name": "stdout",
     "output_type": "stream",
     "text": [
      "80\n",
      "75\n",
      "55\n"
     ]
    }
   ],
   "source": [
    "scores = [80, 75, 55]\n",
    "\n",
    "for i in scores:\n",
    "    print(i)\n"
   ]
  },
  {
   "cell_type": "code",
   "execution_count": 88,
   "id": "194e9efe",
   "metadata": {},
   "outputs": [
    {
     "name": "stdout",
     "output_type": "stream",
     "text": [
      "70.0\n"
     ]
    }
   ],
   "source": [
    "scores = [80, 75, 55]\n",
    "\n",
    "result = 0\n",
    "for i in scores:\n",
    "    result += i  \n",
    "\n",
    "print( result / len(scores))\n"
   ]
  },
  {
   "cell_type": "code",
   "execution_count": 11,
   "id": "c27be064",
   "metadata": {},
   "outputs": [
    {
     "name": "stdout",
     "output_type": "stream",
     "text": [
      "*\n",
      "***\n",
      "*****\n",
      "***\n",
      "*\n"
     ]
    }
   ],
   "source": [
    "# 3. * 산모양으로 출력하기 (제어문 사용)\n",
    "for i in range(1,6):\n",
    "    if i <= 3:\n",
    "        for j in range(1,2 * i):\n",
    "            print(\"*\", end = \"\")\n",
    "    else: \n",
    "        for j in range(1, 12-(i * 2)):\n",
    "            print(\"*\", end = \"\")\n",
    "    print()"
   ]
  },
  {
   "cell_type": "code",
   "execution_count": 105,
   "id": "88980aa1",
   "metadata": {
    "scrolled": true
   },
   "outputs": [],
   "source": [
    "def is_odd(num):\n",
    "    \n",
    "    if num % 2 != 0:\n",
    "        return(False)        \n",
    "    else:\n",
    "        return(True)\n",
    "    "
   ]
  },
  {
   "cell_type": "code",
   "execution_count": 107,
   "id": "f796018b",
   "metadata": {},
   "outputs": [
    {
     "data": {
      "text/plain": [
       "True"
      ]
     },
     "execution_count": 107,
     "metadata": {},
     "output_type": "execute_result"
    }
   ],
   "source": [
    "is_odd(0)"
   ]
  },
  {
   "cell_type": "code",
   "execution_count": 96,
   "id": "d8e84e18",
   "metadata": {},
   "outputs": [],
   "source": [
    "def is_odd():\n",
    "    if num%2 != 0:\n",
    "        print(False)\n",
    "    else:\n",
    "        print(True)\n",
    "    "
   ]
  },
  {
   "cell_type": "code",
   "execution_count": 42,
   "id": "4fbb37c2",
   "metadata": {},
   "outputs": [],
   "source": [
    "# 4.\n",
    "def create_pw(addr):\n",
    "    \n",
    "    addr = addr.replace(\"http://\", \"\") # 규칙 1번 적용\n",
    "    addr = addr[:addr.index(\".\")]      # 규칙 2번 적용\n",
    "    password = addr[:3] + str(len(addr)) + str(addr.count(\"e\")) + \"!\" \n",
    "    return password"
   ]
  },
  {
   "cell_type": "code",
   "execution_count": 43,
   "id": "9a5dbd38",
   "metadata": {},
   "outputs": [
    {
     "data": {
      "text/plain": [
       "'nav51!'"
      ]
     },
     "execution_count": 43,
     "metadata": {},
     "output_type": "execute_result"
    }
   ],
   "source": [
    "create_pw(\"http://naver.com\")"
   ]
  },
  {
   "cell_type": "code",
   "execution_count": 62,
   "id": "597a3d66",
   "metadata": {},
   "outputs": [
    {
     "name": "stdout",
     "output_type": "stream",
     "text": [
      "[[1, 4, 7], [2, 5, 8], [3, 6, 9]]\n"
     ]
    }
   ],
   "source": [
    "# 5.\n",
    "# [[1,4,7],[2,5,8],[3,6,9]]\n",
    "\n",
    "numbers = [1,2,3,4,5,6,7,8,9]\n",
    "output = [[],[],[]]\n",
    "\n",
    "for number in numbers:\n",
    "    output[(number - 1) % 3].append(number)\n",
    "print(output)"
   ]
  },
  {
   "cell_type": "code",
   "execution_count": null,
   "id": "1c3a4c50",
   "metadata": {},
   "outputs": [],
   "source": [
    "output[0].append(numbers[0])\n",
    "output[1].append(numbers[1])\n",
    "output[2].append(numbers[2])"
   ]
  },
  {
   "cell_type": "code",
   "execution_count": 64,
   "id": "f8f44450",
   "metadata": {},
   "outputs": [
    {
     "ename": "IndexError",
     "evalue": "list index out of range",
     "output_type": "error",
     "traceback": [
      "\u001b[1;31m---------------------------------------------------------------------------\u001b[0m",
      "\u001b[1;31mIndexError\u001b[0m                                Traceback (most recent call last)",
      "Cell \u001b[1;32mIn[64], line 4\u001b[0m\n\u001b[0;32m      2\u001b[0m output \u001b[38;5;241m=\u001b[39m [[],[],[]]\n\u001b[0;32m      3\u001b[0m \u001b[38;5;28;01mfor\u001b[39;00m i \u001b[38;5;129;01min\u001b[39;00m numbers:\n\u001b[1;32m----> 4\u001b[0m     output[i]\u001b[38;5;241m.\u001b[39mappend(i)\n",
      "\u001b[1;31mIndexError\u001b[0m: list index out of range"
     ]
    }
   ],
   "source": [
    "numbers = [1,2,3,4,5,6,7,8,9]\n",
    "output = [[],[],[]]\n",
    "for i in numbers:\n",
    "    output[i].append(i)"
   ]
  },
  {
   "cell_type": "code",
   "execution_count": null,
   "id": "d4a3e5bf",
   "metadata": {},
   "outputs": [],
   "source": [
    "데이터, [] 이면 리스트"
   ]
  },
  {
   "cell_type": "code",
   "execution_count": null,
   "id": "6fcd9031",
   "metadata": {},
   "outputs": [],
   "source": [
    "논리 연산자 말고 다른거"
   ]
  },
  {
   "cell_type": "code",
   "execution_count": null,
   "id": "ea5514e6",
   "metadata": {},
   "outputs": [],
   "source": [
    "# else"
   ]
  },
  {
   "cell_type": "code",
   "execution_count": null,
   "id": "a38b04d1",
   "metadata": {},
   "outputs": [],
   "source": [
    "# 1. 파일 입출력 기능 가로로 출력"
   ]
  },
  {
   "cell_type": "code",
   "execution_count": null,
   "id": "108b51f9",
   "metadata": {},
   "outputs": [],
   "source": [
    "# 2. 평균내기"
   ]
  },
  {
   "cell_type": "code",
   "execution_count": null,
   "id": "e56dcca0",
   "metadata": {},
   "outputs": [],
   "source": [
    "# 3. *\n",
    "#    0*\n",
    "#    00*\n",
    "#    000*\n",
    "#    0000*"
   ]
  },
  {
   "cell_type": "code",
   "execution_count": 65,
   "id": "ea2f0611",
   "metadata": {},
   "outputs": [
    {
     "name": "stdout",
     "output_type": "stream",
     "text": [
      "안하요\n"
     ]
    }
   ],
   "source": [
    "print(\"안녕하세요\"[0:5:2])"
   ]
  },
  {
   "cell_type": "code",
   "execution_count": 66,
   "id": "ac505945",
   "metadata": {},
   "outputs": [
    {
     "name": "stdout",
     "output_type": "stream",
     "text": [
      "녕하세요\n"
     ]
    }
   ],
   "source": [
    "print(\"안녕하세요\"[1:])"
   ]
  },
  {
   "cell_type": "code",
   "execution_count": 67,
   "id": "dcc79423",
   "metadata": {},
   "outputs": [
    {
     "data": {
      "text/plain": [
       "[9, 8, 7, 6, 5, 4, 3, 2, 1, 0]"
      ]
     },
     "execution_count": 67,
     "metadata": {},
     "output_type": "execute_result"
    }
   ],
   "source": [
    "list(range(10))[::-1]"
   ]
  },
  {
   "cell_type": "code",
   "execution_count": 68,
   "id": "1bd3936d",
   "metadata": {},
   "outputs": [
    {
     "data": {
      "text/plain": [
       "[0, 2, 8]"
      ]
     },
     "execution_count": 68,
     "metadata": {},
     "output_type": "execute_result"
    }
   ],
   "source": [
    "[0, 2, 8]"
   ]
  },
  {
   "cell_type": "code",
   "execution_count": 69,
   "id": "346e943d",
   "metadata": {},
   "outputs": [
    {
     "name": "stdout",
     "output_type": "stream",
     "text": [
      "하세\n"
     ]
    }
   ],
   "source": [
    "print(\"안녕하세요\"[2:4])"
   ]
  },
  {
   "cell_type": "code",
   "execution_count": 119,
   "id": "f27bd451",
   "metadata": {},
   "outputs": [],
   "source": [
    "zodiac = [\"쥐\", \"소\", \"호랑이\", \"토끼\", \"용\", \"뱀\", \"말\", \"양\", \"원숭이\", \"닭\", \"개\", \"돼지\"]\n",
    "\n",
    "\n",
    "\n",
    "def ddi_year(year):\n",
    "    return(zodiac[(year % 12)-4])\n",
    "    \n",
    "        \n",
    "    \n"
   ]
  },
  {
   "cell_type": "code",
   "execution_count": 123,
   "id": "b3aa5879",
   "metadata": {},
   "outputs": [
    {
     "data": {
      "text/plain": [
       "'호랑이'"
      ]
     },
     "execution_count": 123,
     "metadata": {},
     "output_type": "execute_result"
    }
   ],
   "source": [
    "ddi_year(2022)"
   ]
  },
  {
   "cell_type": "code",
   "execution_count": null,
   "id": "f81d9b8d",
   "metadata": {},
   "outputs": [],
   "source": [
    "# 1 = 양 zodiac[7] \n",
    "# 2 = 원숭이zodiac[8]\n",
    "# 3 닭 zodiac[9]\n",
    "# 4 개 zodiac[10]\n",
    "# 5 돼지 zodiac[11]\n",
    "# 6 쥐 zodiac[0]\n",
    "# 7 소 zodiac[1]\n",
    "# 8 호  2\n",
    "# 9 토   3\n",
    "# 10 용   4\n",
    "# 11 뱀   5\n",
    "# 12 말   6\n"
   ]
  },
  {
   "cell_type": "code",
   "execution_count": 114,
   "id": "9611ff85",
   "metadata": {},
   "outputs": [
    {
     "data": {
      "text/plain": [
       "'용'"
      ]
     },
     "execution_count": 114,
     "metadata": {},
     "output_type": "execute_result"
    }
   ],
   "source": [
    "zodiac[(2024 % 12)-4]\n"
   ]
  },
  {
   "cell_type": "code",
   "execution_count": 10,
   "id": "4b83630c",
   "metadata": {},
   "outputs": [
    {
     "name": "stdout",
     "output_type": "stream",
     "text": [
      "*    \n",
      "**   \n",
      "***  \n",
      "**** \n",
      "*****\n"
     ]
    }
   ],
   "source": [
    "for i in range(5):\n",
    "    for j in range(5):\n",
    "        if i >= j:\n",
    "            print(\"*\", end =\"\")\n",
    "        else:\n",
    "            print(\" \", end =\"\")\n",
    "    print()"
   ]
  },
  {
   "cell_type": "code",
   "execution_count": null,
   "id": "f165018b",
   "metadata": {},
   "outputs": [],
   "source": [
    "member = {\"ret\":\"y\",\"data\":[{\"id\":\"a\",\"name\":\"가나다1\",\"age\":61,\"height\":165.4,\"weight\":60.2},{\"id\":\"b\",\"name\":\"가나다2\",\"age\":32,\"height\":185.4,\"weight\":80.3},{\"id\":\"c\",\"name\":\"가나다3\",\"age\":13,\"height\":145.8,\"weight\":60.6},{\"id\":\"d\",\"name\":\"가나다4\",\"age\":44,\"height\":165.7,\"weight\":44.5},{\"id\":\"e\",\"name\":\"가나다5\",\"age\":85,\"height\":165.2,\"weight\":42.3}]}"
   ]
  },
  {
   "cell_type": "code",
   "execution_count": 1,
   "id": "c0ffad6e",
   "metadata": {},
   "outputs": [
    {
     "ename": "KeyboardInterrupt",
     "evalue": "Interrupted by user",
     "output_type": "error",
     "traceback": [
      "\u001b[1;31m---------------------------------------------------------------------------\u001b[0m",
      "\u001b[1;31mKeyboardInterrupt\u001b[0m                         Traceback (most recent call last)",
      "Cell \u001b[1;32mIn[1], line 2\u001b[0m\n\u001b[0;32m      1\u001b[0m \u001b[38;5;28;01mwhile\u001b[39;00m \u001b[38;5;28;01mTrue\u001b[39;00m :\n\u001b[1;32m----> 2\u001b[0m     menu \u001b[38;5;241m=\u001b[39m \u001b[38;5;28mint\u001b[39m(\u001b[38;5;28minput\u001b[39m(\u001b[38;5;124m\"\u001b[39m\u001b[38;5;124m1 : 추가, 2 : 수정, 3 : 삭제, 4 : 목록조회, 0 : 종료\u001b[39m\u001b[38;5;124m\"\u001b[39m))\n",
      "File \u001b[1;32mC:\\ProgramData\\anaconda3\\Lib\\site-packages\\ipykernel\\kernelbase.py:1202\u001b[0m, in \u001b[0;36mKernel.raw_input\u001b[1;34m(self, prompt)\u001b[0m\n\u001b[0;32m   1200\u001b[0m     msg \u001b[38;5;241m=\u001b[39m \u001b[38;5;124m\"\u001b[39m\u001b[38;5;124mraw_input was called, but this frontend does not support input requests.\u001b[39m\u001b[38;5;124m\"\u001b[39m\n\u001b[0;32m   1201\u001b[0m     \u001b[38;5;28;01mraise\u001b[39;00m StdinNotImplementedError(msg)\n\u001b[1;32m-> 1202\u001b[0m \u001b[38;5;28;01mreturn\u001b[39;00m \u001b[38;5;28mself\u001b[39m\u001b[38;5;241m.\u001b[39m_input_request(\n\u001b[0;32m   1203\u001b[0m     \u001b[38;5;28mstr\u001b[39m(prompt),\n\u001b[0;32m   1204\u001b[0m     \u001b[38;5;28mself\u001b[39m\u001b[38;5;241m.\u001b[39m_parent_ident[\u001b[38;5;124m\"\u001b[39m\u001b[38;5;124mshell\u001b[39m\u001b[38;5;124m\"\u001b[39m],\n\u001b[0;32m   1205\u001b[0m     \u001b[38;5;28mself\u001b[39m\u001b[38;5;241m.\u001b[39mget_parent(\u001b[38;5;124m\"\u001b[39m\u001b[38;5;124mshell\u001b[39m\u001b[38;5;124m\"\u001b[39m),\n\u001b[0;32m   1206\u001b[0m     password\u001b[38;5;241m=\u001b[39m\u001b[38;5;28;01mFalse\u001b[39;00m,\n\u001b[0;32m   1207\u001b[0m )\n",
      "File \u001b[1;32mC:\\ProgramData\\anaconda3\\Lib\\site-packages\\ipykernel\\kernelbase.py:1245\u001b[0m, in \u001b[0;36mKernel._input_request\u001b[1;34m(self, prompt, ident, parent, password)\u001b[0m\n\u001b[0;32m   1242\u001b[0m \u001b[38;5;28;01mexcept\u001b[39;00m \u001b[38;5;167;01mKeyboardInterrupt\u001b[39;00m:\n\u001b[0;32m   1243\u001b[0m     \u001b[38;5;66;03m# re-raise KeyboardInterrupt, to truncate traceback\u001b[39;00m\n\u001b[0;32m   1244\u001b[0m     msg \u001b[38;5;241m=\u001b[39m \u001b[38;5;124m\"\u001b[39m\u001b[38;5;124mInterrupted by user\u001b[39m\u001b[38;5;124m\"\u001b[39m\n\u001b[1;32m-> 1245\u001b[0m     \u001b[38;5;28;01mraise\u001b[39;00m \u001b[38;5;167;01mKeyboardInterrupt\u001b[39;00m(msg) \u001b[38;5;28;01mfrom\u001b[39;00m \u001b[38;5;28;01mNone\u001b[39;00m\n\u001b[0;32m   1246\u001b[0m \u001b[38;5;28;01mexcept\u001b[39;00m \u001b[38;5;167;01mException\u001b[39;00m:\n\u001b[0;32m   1247\u001b[0m     \u001b[38;5;28mself\u001b[39m\u001b[38;5;241m.\u001b[39mlog\u001b[38;5;241m.\u001b[39mwarning(\u001b[38;5;124m\"\u001b[39m\u001b[38;5;124mInvalid Message:\u001b[39m\u001b[38;5;124m\"\u001b[39m, exc_info\u001b[38;5;241m=\u001b[39m\u001b[38;5;28;01mTrue\u001b[39;00m)\n",
      "\u001b[1;31mKeyboardInterrupt\u001b[0m: Interrupted by user"
     ]
    }
   ],
   "source": [
    "    while True :\n",
    "        menu = int(input(\"1 : 추가, 2 : 수정, 3 : 삭제, 4 : 목록조회, 0 : 종료\"))"
   ]
  },
  {
   "cell_type": "code",
   "execution_count": 10,
   "id": "6c19c8c0",
   "metadata": {},
   "outputs": [
    {
     "name": "stdout",
     "output_type": "stream",
     "text": [
      "1 : 추가, 2 : 수정, 3 : 삭제, 4 : 목록조회, 0 : 종료1\n"
     ]
    },
    {
     "ename": "KeyboardInterrupt",
     "evalue": "Interrupted by user",
     "output_type": "error",
     "traceback": [
      "\u001b[1;31m---------------------------------------------------------------------------\u001b[0m",
      "\u001b[1;31mKeyboardInterrupt\u001b[0m                         Traceback (most recent call last)",
      "Cell \u001b[1;32mIn[10], line 20\u001b[0m\n\u001b[0;32m     17\u001b[0m \u001b[38;5;28;01mfor\u001b[39;00m i \u001b[38;5;129;01min\u001b[39;00m \u001b[38;5;28mrange\u001b[39m(\u001b[38;5;28mlen\u001b[39m(name)):\n\u001b[0;32m     18\u001b[0m     db\u001b[38;5;241m.\u001b[39mappend({\u001b[38;5;124m\"\u001b[39m\u001b[38;5;124mid\u001b[39m\u001b[38;5;124m\"\u001b[39m : id_list[i],\u001b[38;5;124m\"\u001b[39m\u001b[38;5;124m이름\u001b[39m\u001b[38;5;124m\"\u001b[39m : name[i],\u001b[38;5;124m\"\u001b[39m\u001b[38;5;124m나이\u001b[39m\u001b[38;5;124m\"\u001b[39m : age[i],\u001b[38;5;124m\"\u001b[39m\u001b[38;5;124m키\u001b[39m\u001b[38;5;124m\"\u001b[39m : height[i],\u001b[38;5;124m\"\u001b[39m\u001b[38;5;124m몸무게\u001b[39m\u001b[38;5;124m\"\u001b[39m : weight[i]})\n\u001b[1;32m---> 20\u001b[0m \u001b[38;5;28;01mclass\u001b[39;00m \u001b[38;5;21;01mCustomer\u001b[39;00m:\n\u001b[0;32m     22\u001b[0m     \u001b[38;5;28;01mdef\u001b[39;00m \u001b[38;5;21m__init__\u001b[39m(\u001b[38;5;28mself\u001b[39m, id_list, name, age, height, weight):\n\u001b[0;32m     23\u001b[0m         \u001b[38;5;28mself\u001b[39m\u001b[38;5;241m.\u001b[39mset_data( id_list, name, age, height, weight)\n",
      "Cell \u001b[1;32mIn[10], line 53\u001b[0m, in \u001b[0;36mCustomer\u001b[1;34m()\u001b[0m\n\u001b[0;32m     49\u001b[0m     \u001b[38;5;28;01mbreak\u001b[39;00m\n\u001b[0;32m     52\u001b[0m \u001b[38;5;28;01melif\u001b[39;00m menu \u001b[38;5;241m==\u001b[39m \u001b[38;5;241m1\u001b[39m:\n\u001b[1;32m---> 53\u001b[0m     add_member()\n\u001b[0;32m     56\u001b[0m \u001b[38;5;28;01melif\u001b[39;00m menu \u001b[38;5;241m==\u001b[39m \u001b[38;5;241m2\u001b[39m:\n\u001b[0;32m     57\u001b[0m     update_customer()\n",
      "Cell \u001b[1;32mIn[10], line 33\u001b[0m, in \u001b[0;36mCustomer.add_member\u001b[1;34m()\u001b[0m\n\u001b[0;32m     32\u001b[0m \u001b[38;5;28;01mdef\u001b[39;00m \u001b[38;5;21madd_member\u001b[39m():\n\u001b[1;32m---> 33\u001b[0m     id_list \u001b[38;5;241m=\u001b[39m \u001b[38;5;28minput\u001b[39m(\u001b[38;5;124m\"\u001b[39m\u001b[38;5;124mid : \u001b[39m\u001b[38;5;124m\"\u001b[39m)\n\u001b[0;32m     34\u001b[0m     name \u001b[38;5;241m=\u001b[39m \u001b[38;5;28minput\u001b[39m(\u001b[38;5;124m\"\u001b[39m\u001b[38;5;124m이름 : \u001b[39m\u001b[38;5;124m\"\u001b[39m)\n\u001b[0;32m     35\u001b[0m     age \u001b[38;5;241m=\u001b[39m \u001b[38;5;28minput\u001b[39m(\u001b[38;5;124m\"\u001b[39m\u001b[38;5;124m나이 : \u001b[39m\u001b[38;5;124m\"\u001b[39m)\n",
      "File \u001b[1;32mC:\\ProgramData\\anaconda3\\Lib\\site-packages\\ipykernel\\kernelbase.py:1202\u001b[0m, in \u001b[0;36mKernel.raw_input\u001b[1;34m(self, prompt)\u001b[0m\n\u001b[0;32m   1200\u001b[0m     msg \u001b[38;5;241m=\u001b[39m \u001b[38;5;124m\"\u001b[39m\u001b[38;5;124mraw_input was called, but this frontend does not support input requests.\u001b[39m\u001b[38;5;124m\"\u001b[39m\n\u001b[0;32m   1201\u001b[0m     \u001b[38;5;28;01mraise\u001b[39;00m StdinNotImplementedError(msg)\n\u001b[1;32m-> 1202\u001b[0m \u001b[38;5;28;01mreturn\u001b[39;00m \u001b[38;5;28mself\u001b[39m\u001b[38;5;241m.\u001b[39m_input_request(\n\u001b[0;32m   1203\u001b[0m     \u001b[38;5;28mstr\u001b[39m(prompt),\n\u001b[0;32m   1204\u001b[0m     \u001b[38;5;28mself\u001b[39m\u001b[38;5;241m.\u001b[39m_parent_ident[\u001b[38;5;124m\"\u001b[39m\u001b[38;5;124mshell\u001b[39m\u001b[38;5;124m\"\u001b[39m],\n\u001b[0;32m   1205\u001b[0m     \u001b[38;5;28mself\u001b[39m\u001b[38;5;241m.\u001b[39mget_parent(\u001b[38;5;124m\"\u001b[39m\u001b[38;5;124mshell\u001b[39m\u001b[38;5;124m\"\u001b[39m),\n\u001b[0;32m   1206\u001b[0m     password\u001b[38;5;241m=\u001b[39m\u001b[38;5;28;01mFalse\u001b[39;00m,\n\u001b[0;32m   1207\u001b[0m )\n",
      "File \u001b[1;32mC:\\ProgramData\\anaconda3\\Lib\\site-packages\\ipykernel\\kernelbase.py:1245\u001b[0m, in \u001b[0;36mKernel._input_request\u001b[1;34m(self, prompt, ident, parent, password)\u001b[0m\n\u001b[0;32m   1242\u001b[0m \u001b[38;5;28;01mexcept\u001b[39;00m \u001b[38;5;167;01mKeyboardInterrupt\u001b[39;00m:\n\u001b[0;32m   1243\u001b[0m     \u001b[38;5;66;03m# re-raise KeyboardInterrupt, to truncate traceback\u001b[39;00m\n\u001b[0;32m   1244\u001b[0m     msg \u001b[38;5;241m=\u001b[39m \u001b[38;5;124m\"\u001b[39m\u001b[38;5;124mInterrupted by user\u001b[39m\u001b[38;5;124m\"\u001b[39m\n\u001b[1;32m-> 1245\u001b[0m     \u001b[38;5;28;01mraise\u001b[39;00m \u001b[38;5;167;01mKeyboardInterrupt\u001b[39;00m(msg) \u001b[38;5;28;01mfrom\u001b[39;00m \u001b[38;5;28;01mNone\u001b[39;00m\n\u001b[0;32m   1246\u001b[0m \u001b[38;5;28;01mexcept\u001b[39;00m \u001b[38;5;167;01mException\u001b[39;00m:\n\u001b[0;32m   1247\u001b[0m     \u001b[38;5;28mself\u001b[39m\u001b[38;5;241m.\u001b[39mlog\u001b[38;5;241m.\u001b[39mwarning(\u001b[38;5;124m\"\u001b[39m\u001b[38;5;124mInvalid Message:\u001b[39m\u001b[38;5;124m\"\u001b[39m, exc_info\u001b[38;5;241m=\u001b[39m\u001b[38;5;28;01mTrue\u001b[39;00m)\n",
      "\u001b[1;31mKeyboardInterrupt\u001b[0m: Interrupted by user"
     ]
    }
   ],
   "source": [
    "member = {\"ret\":\"y\",\"data\":[{\"id\":\"a\",\"name\":\"가나다1\",\"age\":61,\"height\":165.4,\"weight\":60.2},{\"id\":\"b\",\"name\":\"가나다2\",\"age\":32,\"height\":185.4,\"weight\":80.3},{\"id\":\"c\",\"name\":\"가나다3\",\"age\":13,\"height\":145.8,\"weight\":60.6},{\"id\":\"d\",\"name\":\"가나다4\",\"age\":44,\"height\":165.7,\"weight\":44.5},{\"id\":\"e\",\"name\":\"가나다5\",\"age\":85,\"height\":165.2,\"weight\":42.3}]}\n",
    "\n",
    "db = []\n",
    "id_list = []\n",
    "name = []\n",
    "age = []\n",
    "height = []\n",
    "weight = []\n",
    "\n",
    "for i in member[\"data\"]:\n",
    "    id_list.append(i[\"id\"])\n",
    "    name.append(i[\"name\"])\n",
    "    age.append(i[\"age\"])\n",
    "    height.append(i[\"height\"])\n",
    "    weight.append(i[\"weight\"])\n",
    "\n",
    "for i in range(len(name)):\n",
    "    db.append({\"id\" : id_list[i],\"이름\" : name[i],\"나이\" : age[i],\"키\" : height[i],\"몸무게\" : weight[i]})\n",
    "\n",
    "class Customer:\n",
    "    \n",
    "    def __init__(self, id_list, name, age, height, weight):\n",
    "        self.set_data( id_list, name, age, height, weight)\n",
    "    \n",
    "    def set_data(self,id_list, name, age, height, weight):\n",
    "        self.id_list = id_list\n",
    "        self.name = name\n",
    "        self.age = age\n",
    "        self.height = height\n",
    "        self.weight = weight\n",
    "        \n",
    "    def add_member():\n",
    "        id_list = input(\"id : \")\n",
    "        name = input(\"이름 : \")\n",
    "        age = input(\"나이 : \")\n",
    "        height = input(\"키 : \")\n",
    "        weight = input(\"몸무게 : \")\n",
    "        new = [id_list,name,age,height,weight]\n",
    "        db.append(new)\n",
    "        return print(\"고객정보 추가\")\n",
    "    \n",
    "    def update_customer():\n",
    "        pass\n",
    "\n",
    "    def del_customer():\n",
    "        pass\n",
    "\n",
    "    def find_db():\n",
    "        \n",
    "        return print(db)\n",
    "    \n",
    "    \n",
    "        \n",
    "    while True :\n",
    "        menu = int(input(\"1 : 추가, 2 : 수정, 3 : 삭제, 4 : 목록조회, 0 : 종료\"))\n",
    "        \n",
    "        if menu == 0:\n",
    "            print(\"종료\")\n",
    "            break\n",
    "\n",
    "\n",
    "        elif menu == 1:\n",
    "            add_member()\n",
    "            \n",
    "\n",
    "        elif menu == 2:\n",
    "            update_customer()\n",
    "\n",
    "        elif menu == 3:\n",
    "            del_customer()\n",
    "\n",
    "        elif menu == 4:\n",
    "            find_db()\n"
   ]
  },
  {
   "cell_type": "code",
   "execution_count": null,
   "id": "1a81990c",
   "metadata": {},
   "outputs": [],
   "source": []
  },
  {
   "cell_type": "code",
   "execution_count": null,
   "id": "00bdfd85",
   "metadata": {},
   "outputs": [],
   "source": [
    "member = {\"ret\":\"y\",\"data\":[{\"id\":\"a\",\"name\":\"가나다1\",\"age\":61,\"height\":165.4,\"weight\":60.2},{\"id\":\"b\",\"name\":\"가나다2\",\"age\":32,\"height\":185.4,\"weight\":80.3},{\"id\":\"c\",\"name\":\"가나다3\",\"age\":13,\"height\":145.8,\"weight\":60.6},{\"id\":\"d\",\"name\":\"가나다4\",\"age\":44,\"height\":165.7,\"weight\":44.5},{\"id\":\"e\",\"name\":\"가나다5\",\"age\":85,\"height\":165.2,\"weight\":42.3}]}\n",
    "\n",
    "db = []\n",
    "id_list = []\n",
    "name = []\n",
    "age = []\n",
    "height = []\n",
    "weight = []\n",
    "\n",
    "for i in member[\"data\"]:\n",
    "    id_list.append(i[\"id\"])\n",
    "    name.append(i[\"name\"])\n",
    "    age.append(i[\"age\"])\n",
    "    height.append(i[\"height\"])\n",
    "    weight.append(i[\"weight\"])\n",
    "\n",
    "for i in range(len(name)):\n",
    "    db.append({\"id\" : id_list[i],\"이름\" : name[i],\"나이\" : age[i],\"키\" : height[i],\"몸무게\" : weight[i]})\n",
    "\n",
    "class Customer:\n",
    "    \n",
    "    def __init__(self, id_list, name, age, height, weight):\n",
    "        self.set_data( id_list, name, age, height, weight)\n",
    "    \n",
    "    def set_data(self,id_list, name, age, height, weight):\n",
    "        self.id_list = id_list\n",
    "        self.name = name\n",
    "        self.age = age\n",
    "        self.height = height\n",
    "        self.weight = weight\n",
    "        \n",
    "    def add_member():\n",
    "        id_list = input(\"id : \")\n",
    "        name = input(\"이름 : \")\n",
    "        age = input(\"나이 : \")\n",
    "        height = input(\"키 : \")\n",
    "        weight = input(\"몸무게 : \")\n",
    "        new = [id_list,name,age,height,weight]\n",
    "        db.append(new)\n",
    "        return print(\"고객정보 추가\")\n",
    "    \n",
    "    def update_customer():\n",
    "        pass\n",
    "\n",
    "    def del_customer():\n",
    "        pass\n",
    "\n",
    "    def find_db():\n",
    "        \n",
    "        return print(db)\n",
    "    \n",
    "    \n",
    "        \n",
    "    while True :\n",
    "        menu = int(input(\"1 : 추가, 2 : 수정, 3 : 삭제, 4 : 목록조회, 0 : 종료\"))\n",
    "        \n",
    "        if menu == 0:\n",
    "            print(\"종료\")\n",
    "            break\n",
    "\n",
    "\n",
    "        elif menu == 1:\n",
    "            add_member()\n",
    "            \n",
    "\n",
    "        elif menu == 2:\n",
    "            update_customer()\n",
    "\n",
    "        elif menu == 3:\n",
    "            del_customer()\n",
    "\n",
    "        elif menu == 4:\n",
    "            find_db()\n"
   ]
  },
  {
   "cell_type": "code",
   "execution_count": null,
   "id": "8c684174",
   "metadata": {},
   "outputs": [],
   "source": []
  }
 ],
 "metadata": {
  "kernelspec": {
   "display_name": "Python 3 (ipykernel)",
   "language": "python",
   "name": "python3"
  },
  "language_info": {
   "codemirror_mode": {
    "name": "ipython",
    "version": 3
   },
   "file_extension": ".py",
   "mimetype": "text/x-python",
   "name": "python",
   "nbconvert_exporter": "python",
   "pygments_lexer": "ipython3",
   "version": "3.11.5"
  }
 },
 "nbformat": 4,
 "nbformat_minor": 5
}
