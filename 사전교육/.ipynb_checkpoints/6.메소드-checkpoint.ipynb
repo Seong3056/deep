{
 "cells": [
  {
   "cell_type": "markdown",
   "id": "a9448d86",
   "metadata": {},
   "source": [
    "# 메소드\n",
    "\n",
    "- 특정 객체가 가지고 있는 함수\n",
    "    - 특정 자료형에 포함된 함수\n",
    "    \n",
    "- 일반 함수와의 차이점은 호출 방식\n",
    "    - 함수는 독립적, 메소드는 특정 객체를 통해서만 호출"
   ]
  },
  {
   "cell_type": "code",
   "execution_count": 1,
   "id": "e48bafd9",
   "metadata": {},
   "outputs": [
    {
     "name": "stdout",
     "output_type": "stream",
     "text": [
      "이름은 James 입니다.\n"
     ]
    }
   ],
   "source": [
    "# print()함수 \n",
    "name = \"James\"\n",
    "print(\"이름은\", name, \"입니다.\")"
   ]
  },
  {
   "cell_type": "code",
   "execution_count": 2,
   "id": "a5dda79d",
   "metadata": {},
   "outputs": [],
   "source": [
    "# append(), pop() 메소드\n",
    "my_list = []\n",
    "my_list.append(\"apple\")"
   ]
  },
  {
   "cell_type": "code",
   "execution_count": 3,
   "id": "246081d5",
   "metadata": {},
   "outputs": [
    {
     "data": {
      "text/plain": [
       "['apple']"
      ]
     },
     "execution_count": 3,
     "metadata": {},
     "output_type": "execute_result"
    }
   ],
   "source": [
    "my_list"
   ]
  },
  {
   "cell_type": "code",
   "execution_count": 4,
   "id": "6246d7da",
   "metadata": {},
   "outputs": [
    {
     "data": {
      "text/plain": [
       "'apple'"
      ]
     },
     "execution_count": 4,
     "metadata": {},
     "output_type": "execute_result"
    }
   ],
   "source": [
    "my_list.pop()"
   ]
  },
  {
   "cell_type": "code",
   "execution_count": 5,
   "id": "473de558",
   "metadata": {},
   "outputs": [
    {
     "data": {
      "text/plain": [
       "[]"
      ]
     },
     "execution_count": 5,
     "metadata": {},
     "output_type": "execute_result"
    }
   ],
   "source": [
    "my_list"
   ]
  },
  {
   "cell_type": "markdown",
   "id": "3b33a804",
   "metadata": {},
   "source": [
    "## 문자열 메소드"
   ]
  },
  {
   "cell_type": "markdown",
   "id": "d51f9b4e",
   "metadata": {},
   "source": [
    "## 1. count()\n",
    "\n",
    "- 문자열 내부에 포함된 특정 문자열의 개수를 반환"
   ]
  },
  {
   "cell_type": "code",
   "execution_count": 6,
   "id": "e300739c",
   "metadata": {},
   "outputs": [
    {
     "data": {
      "text/plain": [
       "4"
      ]
     },
     "execution_count": 6,
     "metadata": {},
     "output_type": "execute_result"
    }
   ],
   "source": [
    "s = \"내가 그린 기린 그림은 목 긴 기린 그림이고, 네가 그린 기린 그림은 목 짧은 기린 그림이다.\"\n",
    "s.count(\"기린\")"
   ]
  },
  {
   "cell_type": "code",
   "execution_count": 7,
   "id": "3e24f604",
   "metadata": {},
   "outputs": [
    {
     "data": {
      "text/plain": [
       "1"
      ]
     },
     "execution_count": 7,
     "metadata": {},
     "output_type": "execute_result"
    }
   ],
   "source": [
    "s = \" best of best\"\n",
    "s.count(\"best\", 5)  # 인덱스 5부터 검색"
   ]
  },
  {
   "cell_type": "code",
   "execution_count": 8,
   "id": "da2cfbaa",
   "metadata": {},
   "outputs": [
    {
     "data": {
      "text/plain": [
       "1"
      ]
     },
     "execution_count": 8,
     "metadata": {},
     "output_type": "execute_result"
    }
   ],
   "source": [
    "s.count(\"best\", -7)  # -인덱스도 사용 가능"
   ]
  },
  {
   "cell_type": "markdown",
   "id": "265edee1",
   "metadata": {},
   "source": [
    "### 2. find()\n",
    "\n",
    "- 문자열 내부에 포함된 특정 문자열을 찾을 때 사용\n",
    "- 찾는 문자열이 있으면 그 문자열이 처음으로 나온 위치를 반환\n",
    "- 찾는 문자열이 없을 경우에는 -1을 반환 "
   ]
  },
  {
   "cell_type": "code",
   "execution_count": 9,
   "id": "4d60bece",
   "metadata": {},
   "outputs": [
    {
     "data": {
      "text/plain": [
       "1"
      ]
     },
     "execution_count": 9,
     "metadata": {},
     "output_type": "execute_result"
    }
   ],
   "source": [
    "s = \"apple\"\n",
    "s.find(\"p\")"
   ]
  },
  {
   "cell_type": "code",
   "execution_count": 10,
   "id": "e1f28717",
   "metadata": {},
   "outputs": [
    {
     "data": {
      "text/plain": [
       "-1"
      ]
     },
     "execution_count": 10,
     "metadata": {},
     "output_type": "execute_result"
    }
   ],
   "source": [
    "s.find(\"z\")"
   ]
  },
  {
   "cell_type": "code",
   "execution_count": 11,
   "id": "1ed86980",
   "metadata": {},
   "outputs": [
    {
     "data": {
      "text/plain": [
       "0"
      ]
     },
     "execution_count": 11,
     "metadata": {},
     "output_type": "execute_result"
    }
   ],
   "source": [
    "s = \"best of best\"\n",
    "s.find(\"best\")"
   ]
  },
  {
   "cell_type": "code",
   "execution_count": 12,
   "id": "701bd51e",
   "metadata": {},
   "outputs": [
    {
     "data": {
      "text/plain": [
       "8"
      ]
     },
     "execution_count": 12,
     "metadata": {},
     "output_type": "execute_result"
    }
   ],
   "source": [
    "s.find(\"best\", 5)"
   ]
  },
  {
   "cell_type": "code",
   "execution_count": 14,
   "id": "08d539c7",
   "metadata": {},
   "outputs": [
    {
     "data": {
      "text/plain": [
       "8"
      ]
     },
     "execution_count": 14,
     "metadata": {},
     "output_type": "execute_result"
    }
   ],
   "source": [
    "s.rfind(\"best\")"
   ]
  },
  {
   "cell_type": "markdown",
   "id": "0698c3af",
   "metadata": {},
   "source": [
    "### 3. index()\n",
    "\n",
    "- find() 메소드와 같은 역할을 수행\n",
    "    - 차이점 : 찾는 문자열이 없는 경우 오류가 발생"
   ]
  },
  {
   "cell_type": "code",
   "execution_count": 15,
   "id": "584ef27a",
   "metadata": {},
   "outputs": [
    {
     "data": {
      "text/plain": [
       "1"
      ]
     },
     "execution_count": 15,
     "metadata": {},
     "output_type": "execute_result"
    }
   ],
   "source": [
    "s = \"apple\"\n",
    "s.index(\"p\")"
   ]
  },
  {
   "cell_type": "code",
   "execution_count": 16,
   "id": "a182e036",
   "metadata": {},
   "outputs": [
    {
     "ename": "ValueError",
     "evalue": "substring not found",
     "output_type": "error",
     "traceback": [
      "\u001b[1;31m---------------------------------------------------------------------------\u001b[0m",
      "\u001b[1;31mValueError\u001b[0m                                Traceback (most recent call last)",
      "Cell \u001b[1;32mIn[16], line 1\u001b[0m\n\u001b[1;32m----> 1\u001b[0m s\u001b[38;5;241m.\u001b[39mindex(\u001b[38;5;124m\"\u001b[39m\u001b[38;5;124mz\u001b[39m\u001b[38;5;124m\"\u001b[39m)\n",
      "\u001b[1;31mValueError\u001b[0m: substring not found"
     ]
    }
   ],
   "source": [
    "s.index(\"z\")"
   ]
  },
  {
   "cell_type": "markdown",
   "id": "95468b23",
   "metadata": {},
   "source": [
    "### 4. 대소문자 변환\n",
    "\n",
    "- upper() : 모두 대문자로 변환\n",
    "- lower() : 모두 소문자로 변환\n",
    "- capitalize() : 첫 글자는 대문자로 변환, 나머지는 소문자로 변환"
   ]
  },
  {
   "cell_type": "code",
   "execution_count": 17,
   "id": "076ea318",
   "metadata": {},
   "outputs": [
    {
     "data": {
      "text/plain": [
       "'BEST OF BEST'"
      ]
     },
     "execution_count": 17,
     "metadata": {},
     "output_type": "execute_result"
    }
   ],
   "source": [
    "s = \"BEST of best\"\n",
    "s.upper()"
   ]
  },
  {
   "cell_type": "code",
   "execution_count": 18,
   "id": "da94984a",
   "metadata": {},
   "outputs": [
    {
     "data": {
      "text/plain": [
       "'BEST of best'"
      ]
     },
     "execution_count": 18,
     "metadata": {},
     "output_type": "execute_result"
    }
   ],
   "source": [
    "s"
   ]
  },
  {
   "cell_type": "code",
   "execution_count": 19,
   "id": "fc83f7f3",
   "metadata": {},
   "outputs": [
    {
     "data": {
      "text/plain": [
       "'Best of best'"
      ]
     },
     "execution_count": 19,
     "metadata": {},
     "output_type": "execute_result"
    }
   ],
   "source": [
    "s.capitalize()"
   ]
  },
  {
   "cell_type": "markdown",
   "id": "5738dd6f",
   "metadata": {},
   "source": [
    "### 5. join()\n",
    "\n",
    "- 반복가능객체의 각 요소 사이에 특정 문자열을 포함시킴"
   ]
  },
  {
   "cell_type": "code",
   "execution_count": 20,
   "id": "161bd095",
   "metadata": {},
   "outputs": [
    {
     "data": {
      "text/plain": [
       "'p-y-t-h-o-n'"
      ]
     },
     "execution_count": 20,
     "metadata": {},
     "output_type": "execute_result"
    }
   ],
   "source": [
    "\"-\".join(\"python\")"
   ]
  },
  {
   "cell_type": "code",
   "execution_count": 21,
   "id": "192f93c1",
   "metadata": {},
   "outputs": [
    {
     "data": {
      "text/plain": [
       "'a+b+c+d+e'"
      ]
     },
     "execution_count": 21,
     "metadata": {},
     "output_type": "execute_result"
    }
   ],
   "source": [
    "\"+\".join([\"a\", \"b\", \"c\", \"d\", \"e\"])"
   ]
  },
  {
   "cell_type": "code",
   "execution_count": 24,
   "id": "5bb3f9cf",
   "metadata": {},
   "outputs": [
    {
     "data": {
      "text/plain": [
       "'xyz'"
      ]
     },
     "execution_count": 24,
     "metadata": {},
     "output_type": "execute_result"
    }
   ],
   "source": [
    "\"\".join([\"x\", \"y\", \"z\"])"
   ]
  },
  {
   "cell_type": "code",
   "execution_count": 25,
   "id": "9bf1d86c",
   "metadata": {},
   "outputs": [
    {
     "data": {
      "text/plain": [
       "'ab'"
      ]
     },
     "execution_count": 25,
     "metadata": {},
     "output_type": "execute_result"
    }
   ],
   "source": [
    "\"\".join({\"a\" : \"apple\", \"b\" : \"banana\"})"
   ]
  },
  {
   "cell_type": "markdown",
   "id": "1d3687bb",
   "metadata": {},
   "source": [
    "### 6. split()\n",
    "\n",
    "- 하나의 문자열을 여러 개의 문자열로 분리해서 리스트로 반환\n",
    "- 기본은 공백 문자를 기준으로 분리"
   ]
  },
  {
   "cell_type": "code",
   "execution_count": 26,
   "id": "131740c0",
   "metadata": {},
   "outputs": [
    {
     "data": {
      "text/plain": [
       "['Life', 'is', 'too', 'short']"
      ]
     },
     "execution_count": 26,
     "metadata": {},
     "output_type": "execute_result"
    }
   ],
   "source": [
    "s = \"Life is too short\"\n",
    "s.split()"
   ]
  },
  {
   "cell_type": "code",
   "execution_count": 28,
   "id": "dc7709a1",
   "metadata": {},
   "outputs": [
    {
     "data": {
      "text/plain": [
       "['010', '1234', '5678']"
      ]
     },
     "execution_count": 28,
     "metadata": {},
     "output_type": "execute_result"
    }
   ],
   "source": [
    "s = \"010-1234-5678\"\n",
    "s.split(\"-\")"
   ]
  },
  {
   "cell_type": "code",
   "execution_count": null,
   "id": "3cba7ed2",
   "metadata": {},
   "outputs": [],
   "source": []
  },
  {
   "cell_type": "code",
   "execution_count": null,
   "id": "7eb42382",
   "metadata": {},
   "outputs": [],
   "source": []
  },
  {
   "cell_type": "code",
   "execution_count": null,
   "id": "05bfa5aa",
   "metadata": {},
   "outputs": [],
   "source": []
  },
  {
   "cell_type": "code",
   "execution_count": null,
   "id": "978b763f",
   "metadata": {},
   "outputs": [],
   "source": []
  },
  {
   "cell_type": "code",
   "execution_count": null,
   "id": "fec75837",
   "metadata": {},
   "outputs": [],
   "source": []
  },
  {
   "cell_type": "code",
   "execution_count": null,
   "id": "8f3c2374",
   "metadata": {},
   "outputs": [],
   "source": []
  }
 ],
 "metadata": {
  "kernelspec": {
   "display_name": "Python 3 (ipykernel)",
   "language": "python",
   "name": "python3"
  },
  "language_info": {
   "codemirror_mode": {
    "name": "ipython",
    "version": 3
   },
   "file_extension": ".py",
   "mimetype": "text/x-python",
   "name": "python",
   "nbconvert_exporter": "python",
   "pygments_lexer": "ipython3",
   "version": "3.11.5"
  }
 },
 "nbformat": 4,
 "nbformat_minor": 5
}
