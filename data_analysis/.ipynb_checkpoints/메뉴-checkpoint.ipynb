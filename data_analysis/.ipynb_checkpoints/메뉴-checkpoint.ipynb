{
 "cells": [
  {
   "cell_type": "code",
   "execution_count": 123,
   "id": "9bcceddb",
   "metadata": {},
   "outputs": [
    {
     "data": {
      "text/plain": [
       "['어묵볶음', '두부조림', '계란말이', '오이무침', '멸치볶음', '콩나물무침', '무생채', '감자조림', '계란찜', '가지볶음']"
      ]
     },
     "execution_count": 123,
     "metadata": {},
     "output_type": "execute_result"
    }
   ],
   "source": [
    "# 밑반찬\n",
    "url = \"https://www.10000recipe.com/recipe/list.html?cat4=63&order=reco&page=2\"\n",
    "\n",
    "page = urlopen(url)\n",
    "\n",
    "soup = BeautifulSoup(page, \"lxml\")\n",
    "\n",
    "cate_list = ([i.next_element.strip() for i in soup.select(\"ul.tag_cont li a\")])\n",
    "\n",
    "result = [i for i in cate_list][:10]\n",
    "result"
   ]
  },
  {
   "cell_type": "code",
   "execution_count": 122,
   "id": "3944fefa",
   "metadata": {},
   "outputs": [
    {
     "data": {
      "text/plain": [
       "['잡채', '제육볶음', '오징어볶음', '수육', '소불고기', '치킨', '갈치조림', '닭갈비', '돼지갈비찜', '닭볶음탕']"
      ]
     },
     "execution_count": 122,
     "metadata": {},
     "output_type": "execute_result"
    }
   ],
   "source": [
    "# 메인반찬\n",
    "url = \"https://www.10000recipe.com/recipe/list.html?q=&query=&cat1=&cat2=&cat3=&cat4=56&fct=&order=reco&lastcate=cat4&dsearch=&copyshot=&scrap=&degree=&portion=&time=&niresource=\"\n",
    "\n",
    "page = urlopen(url)\n",
    "\n",
    "soup = BeautifulSoup(page, \"lxml\")\n",
    "\n",
    "cate_list = ([i.next_element.strip() for i in soup.select(\"ul.tag_cont li a\")])\n",
    "\n",
    "result = [i for i in cate_list][:10]\n",
    "result"
   ]
  },
  {
   "cell_type": "code",
   "execution_count": 121,
   "id": "f65d18e0",
   "metadata": {},
   "outputs": [
    {
     "data": {
      "text/plain": [
       "['미역국', '소고기무국', '닭볶음탕', '소고기미역국', '된장국', '콩나물국', '어묵탕', '떡국', '계란국', '삼계탕']"
      ]
     },
     "execution_count": 121,
     "metadata": {},
     "output_type": "execute_result"
    }
   ],
   "source": [
    "# 국/탕\n",
    "url = \"https://www.10000recipe.com/recipe/list.html?q=&query=&cat1=&cat2=&cat3=&cat4=54&fct=&order=reco&lastcate=cat4&dsearch=&copyshot=&scrap=&degree=&portion=&time=&niresource=\"\n",
    "page = urlopen(url)\n",
    "\n",
    "soup = BeautifulSoup(page, \"lxml\")\n",
    "\n",
    "cate_list = ([i.next_element.strip() for i in soup.select(\"ul.tag_cont li a\")])\n",
    "\n",
    "result = [i for i in cate_list][:10]\n",
    "result"
   ]
  },
  {
   "cell_type": "code",
   "execution_count": 120,
   "id": "4ed62b76",
   "metadata": {},
   "outputs": [
    {
     "data": {
      "text/plain": [
       "['된장찌개',\n",
       " '순두부찌개',\n",
       " '김치찌개',\n",
       " '고추장찌개',\n",
       " '부대찌개',\n",
       " '돼지고기김치찌개',\n",
       " '청국장찌개',\n",
       " '참치김치찌개',\n",
       " '찌개',\n",
       " '청국장']"
      ]
     },
     "execution_count": 120,
     "metadata": {},
     "output_type": "execute_result"
    }
   ],
   "source": [
    "# 찌개\n",
    "url = \"https://www.10000recipe.com/recipe/list.html?q=&query=&cat1=&cat2=&cat3=&cat4=55&fct=&order=reco&lastcate=cat4&dsearch=&copyshot=&scrap=&degree=&portion=&time=&niresource=\"\n",
    "page = urlopen(url)\n",
    "\n",
    "soup = BeautifulSoup(page, \"lxml\")\n",
    "\n",
    "cate_list = ([i.next_element.strip() for i in soup.select(\"ul.tag_cont li a\")])\n",
    "\n",
    "result = [i for i in cate_list][:10]\n",
    "result"
   ]
  },
  {
   "cell_type": "code",
   "execution_count": 119,
   "id": "7c54c498",
   "metadata": {},
   "outputs": [
    {
     "data": {
      "text/plain": [
       "['아이스크림', '고구마맛탕', '케이크', '카나페', '튀김', '치즈케이크', '푸딩', '웨지감자', '젤리', '콘치즈']"
      ]
     },
     "execution_count": 119,
     "metadata": {},
     "output_type": "execute_result"
    }
   ],
   "source": [
    "# 디저트\n",
    "url = \"https://www.10000recipe.com/recipe/list.html?q=&query=&cat1=&cat2=&cat3=&cat4=60&fct=&order=reco&lastcate=cat4&dsearch=&copyshot=&scrap=&degree=&portion=&time=&niresource=\"\n",
    "\n",
    "page = urlopen(url)\n",
    "\n",
    "soup = BeautifulSoup(page, \"lxml\")\n",
    "\n",
    "cate_list = ([i.next_element.strip() for i in soup.select(\"ul.tag_cont li a\")])\n",
    "\n",
    "result = [i for i in cate_list][:10]\n",
    "result"
   ]
  },
  {
   "cell_type": "code",
   "execution_count": 118,
   "id": "7744481e",
   "metadata": {},
   "outputs": [
    {
     "data": {
      "text/plain": [
       "['파스타', '라면', '비빔국수', '스파게티', '만두', '수제비', '칼국수', '잔치국수', '국수', '쫄면']"
      ]
     },
     "execution_count": 118,
     "metadata": {},
     "output_type": "execute_result"
    }
   ],
   "source": [
    "# 면/만두\n",
    "url = \"https://www.10000recipe.com/recipe/list.html?q=&query=&cat1=&cat2=&cat3=&cat4=53&fct=&order=reco&lastcate=cat4&dsearch=&copyshot=&scrap=&degree=&portion=&time=&niresource=\"\n",
    "\n",
    "page = urlopen(url)\n",
    "\n",
    "soup = BeautifulSoup(page, \"lxml\")\n",
    "\n",
    "cate_list = ([i.next_element.strip() for i in soup.select(\"ul.tag_cont li a\")])\n",
    "\n",
    "result = [i for i in cate_list][:10]\n",
    "result"
   ]
  },
  {
   "cell_type": "code",
   "execution_count": 124,
   "id": "469ed605",
   "metadata": {},
   "outputs": [
    {
     "data": {
      "text/plain": [
       "['볶음밥', '김밥', '떡볶이', '덮밥', '주먹밥', '비빔밥', '김치볶음밥', '밥', '유부초밥', '죽']"
      ]
     },
     "execution_count": 124,
     "metadata": {},
     "output_type": "execute_result"
    }
   ],
   "source": [
    "# 밥/죽/떡\n",
    "url = \"https://www.10000recipe.com/recipe/list.html?q=&query=&cat1=&cat2=&cat3=&cat4=52&fct=&order=reco&lastcate=cat4&dsearch=&copyshot=&scrap=&degree=&portion=&time=&niresource=\"\n",
    "page = urlopen(url)\n",
    "\n",
    "soup = BeautifulSoup(page, \"lxml\")\n",
    "\n",
    "cate_list = ([i.next_element.strip() for i in soup.select(\"ul.tag_cont li a\")])\n",
    "\n",
    "result = [i for i in cate_list][:10]\n",
    "result"
   ]
  },
  {
   "cell_type": "code",
   "execution_count": 125,
   "id": "1450631f",
   "metadata": {},
   "outputs": [
    {
     "data": {
      "text/plain": [
       "['피자', '파스타', '그라탕', '감자전', '떡볶이', '퀘사디아', '또띠아', '리조또', '감자피자', '김치전']"
      ]
     },
     "execution_count": 125,
     "metadata": {},
     "output_type": "execute_result"
    }
   ],
   "source": [
    "#퓨전\n",
    "url = \"https://www.10000recipe.com/recipe/list.html?q=&query=&cat1=&cat2=&cat3=&cat4=61&fct=&order=reco&lastcate=cat4&dsearch=&copyshot=&scrap=&degree=&portion=&time=&niresource=\"\n",
    "page = urlopen(url)\n",
    "\n",
    "soup = BeautifulSoup(page, \"lxml\")\n",
    "\n",
    "cate_list = ([i.next_element.strip() for i in soup.select(\"ul.tag_cont li a\")])\n",
    "\n",
    "result = [i for i in cate_list][:10]\n",
    "result"
   ]
  },
  {
   "cell_type": "code",
   "execution_count": 126,
   "id": "5c913281",
   "metadata": {},
   "outputs": [
    {
     "data": {
      "text/plain": [
       "['깍두기', '오이소박이', '배추겉절이', '김치', '파김치', '열무김치', '물김치', '쌈장', '강된장', '봄동겉절이']"
      ]
     },
     "execution_count": 126,
     "metadata": {},
     "output_type": "execute_result"
    }
   ],
   "source": [
    "#김치/젓갈/장류\n",
    "url = \"https://www.10000recipe.com/recipe/list.html?q=&query=&cat1=&cat2=&cat3=&cat4=57&fct=&order=reco&lastcate=cat4&dsearch=&copyshot=&scrap=&degree=&portion=&time=&niresource=\"\n",
    "page = urlopen(url)\n",
    "\n",
    "soup = BeautifulSoup(page, \"lxml\")\n",
    "\n",
    "cate_list = ([i.next_element.strip() for i in soup.select(\"ul.tag_cont li a\")])\n",
    "\n",
    "result = [i for i in cate_list][:10]\n",
    "result"
   ]
  },
  {
   "cell_type": "code",
   "execution_count": 127,
   "id": "ada83ef5",
   "metadata": {},
   "outputs": [
    {
     "data": {
      "text/plain": [
       "['소스', '잼', '카레', '양념장', '사과잼', '딸기잼', '드레싱', '리코타치즈', '육수', '양념']"
      ]
     },
     "execution_count": 127,
     "metadata": {},
     "output_type": "execute_result"
    }
   ],
   "source": [
    "#양념/소스/잼\n",
    "url = \"https://www.10000recipe.com/recipe/list.html?q=&query=&cat1=&cat2=&cat3=&cat4=58&fct=&order=reco&lastcate=cat4&dsearch=&copyshot=&scrap=&degree=&portion=&time=&niresource=\"\n",
    "\n",
    "page = urlopen(url)\n",
    "\n",
    "soup = BeautifulSoup(page, \"lxml\")\n",
    "\n",
    "cate_list = ([i.next_element.strip() for i in soup.select(\"ul.tag_cont li a\")])\n",
    "\n",
    "result = [i for i in cate_list][:10]\n",
    "result"
   ]
  },
  {
   "cell_type": "code",
   "execution_count": 130,
   "id": "c88b2835",
   "metadata": {},
   "outputs": [
    {
     "data": {
      "text/plain": [
       "['주스', '라떼', '차', '스무디', '에이드', '식혜', '레몬청', '커피', '청', '칵테일']"
      ]
     },
     "execution_count": 130,
     "metadata": {},
     "output_type": "execute_result"
    }
   ],
   "source": [
    "#차/음료/술\n",
    "url = \"https://www.10000recipe.com/recipe/list.html?q=&query=&cat1=&cat2=&cat3=&cat4=59&fct=&order=reco&lastcate=cat4&dsearch=&copyshot=&scrap=&degree=&portion=&time=&niresource=\"\n",
    "\n",
    "page = urlopen(url)\n",
    "\n",
    "soup = BeautifulSoup(page, \"lxml\")\n",
    "\n",
    "cate_list = ([i.next_element.strip() for i in soup.select(\"ul.tag_cont li a\")])\n",
    "\n",
    "result = [i for i in cate_list][:10]\n",
    "result"
   ]
  },
  {
   "cell_type": "code",
   "execution_count": 131,
   "id": "ae7ccdf3",
   "metadata": {},
   "outputs": [
    {
     "data": {
      "text/plain": [
       "['도시락', '감자전', '튀김', '새우튀김', '옥수수', '감자', '감자구이', '콘치즈', '전', '닭꼬치']"
      ]
     },
     "execution_count": 131,
     "metadata": {},
     "output_type": "execute_result"
    }
   ],
   "source": [
    "#기타\n",
    "url = \"https://www.10000recipe.com/recipe/list.html?q=&query=&cat1=&cat2=&cat3=&cat4=62&fct=&order=reco&lastcate=cat4&dsearch=&copyshot=&scrap=&degree=&portion=&time=&niresource=\"\n",
    "\n",
    "page = urlopen(url)\n",
    "\n",
    "soup = BeautifulSoup(page, \"lxml\")\n",
    "\n",
    "cate_list = ([i.next_element.strip() for i in soup.select(\"ul.tag_cont li a\")])\n",
    "\n",
    "result = [i for i in cate_list][:10]\n",
    "result"
   ]
  },
  {
   "cell_type": "code",
   "execution_count": 132,
   "id": "b1884ecd",
   "metadata": {},
   "outputs": [
    {
     "data": {
      "text/plain": [
       "['볶음밥', '두부조림', '된장찌개', '어묵볶음', '덮밥', '파스타', '샐러드', '순두부찌개', '계란말이', '김밥']"
      ]
     },
     "execution_count": 132,
     "metadata": {},
     "output_type": "execute_result"
    }
   ],
   "source": [
    "#일상\n",
    "url = \"https://www.10000recipe.com/recipe/list.html?q=&query=&cat1=&cat2=12&cat3=&cat4=&fct=&order=reco&lastcate=cat2&dsearch=&copyshot=&scrap=&degree=&portion=&time=&niresource=\"\n",
    "page = urlopen(url)\n",
    "\n",
    "soup = BeautifulSoup(page, \"lxml\")\n",
    "\n",
    "cate_list = ([i.next_element.strip() for i in soup.select(\"ul.tag_cont li a\")])\n",
    "\n",
    "result = [i for i in cate_list][:10]\n",
    "result"
   ]
  },
  {
   "cell_type": "code",
   "execution_count": 133,
   "id": "e0286165",
   "metadata": {},
   "outputs": [
    {
     "data": {
      "text/plain": [
       "['볶음밥', '덮밥', '라면', '오이무침', '김치볶음밥', '토스트', '샐러드', '어묵볶음', '샌드위치', '비빔밥']"
      ]
     },
     "execution_count": 133,
     "metadata": {},
     "output_type": "execute_result"
    }
   ],
   "source": [
    "#초스피드\n",
    "url = \"https://www.10000recipe.com/recipe/list.html?q=&query=&cat1=&cat2=18&cat3=&cat4=&fct=&order=reco&lastcate=cat2&dsearch=&copyshot=&scrap=&degree=&portion=&time=&niresource=\"\n",
    "\n",
    "page = urlopen(url)\n",
    "\n",
    "soup = BeautifulSoup(page, \"lxml\")\n",
    "\n",
    "cate_list = ([i.next_element.strip() for i in soup.select(\"ul.tag_cont li a\")])\n",
    "\n",
    "result = [i for i in cate_list][:10]\n",
    "result"
   ]
  },
  {
   "cell_type": "code",
   "execution_count": 134,
   "id": "75f11ddb",
   "metadata": {},
   "outputs": [
    {
     "data": {
      "text/plain": [
       "['잡채', '찹스테이크', '월남쌈', '파스타', '나베', '샐러드', '스테이크', '수육', '돼지갈비찜', '고추잡채']"
      ]
     },
     "execution_count": 134,
     "metadata": {},
     "output_type": "execute_result"
    }
   ],
   "source": [
    "#손님접대\n",
    "url =\"https://www.10000recipe.com/recipe/list.html?q=&query=&cat1=&cat2=13&cat3=&cat4=&fct=&order=reco&lastcate=cat2&dsearch=&copyshot=&scrap=&degree=&portion=&time=&niresource=\"\n",
    "\n",
    "page = urlopen(url)\n",
    "\n",
    "soup = BeautifulSoup(page, \"lxml\")\n",
    "\n",
    "cate_list = ([i.next_element.strip() for i in soup.select(\"ul.tag_cont li a\")])\n",
    "\n",
    "result = [i for i in cate_list][:10]\n",
    "result"
   ]
  },
  {
   "cell_type": "code",
   "execution_count": 99,
   "id": "6bc3954d",
   "metadata": {},
   "outputs": [
    {
     "data": {
      "text/plain": [
       "['잡채', '제육볶음', '오징어볶음', '수육', '소불고기']"
      ]
     },
     "execution_count": 99,
     "metadata": {},
     "output_type": "execute_result"
    }
   ],
   "source": [
    "#술안주\n",
    "url = \"https://www.10000recipe.com/recipe/list.html?q=&query=&cat1=&cat2=&cat3=&cat4=56&fct=&order=reco&lastcate=cat4&dsearch=&copyshot=&scrap=&degree=&portion=&time=&niresource=\"\n",
    "\n",
    "page = urlopen(url)\n",
    "\n",
    "soup = BeautifulSoup(page, \"lxml\")\n",
    "\n",
    "cate_list = ([i.next_element.strip() for i in soup.select(\"ul.tag_cont li a\")])\n",
    "\n",
    "result = [i for i in cate_list][:5]\n",
    "result"
   ]
  },
  {
   "cell_type": "code",
   "execution_count": 136,
   "id": "b882c24a",
   "metadata": {},
   "outputs": [
    {
     "data": {
      "text/plain": [
       "['샐러드', '닭가슴살샐러드', '김밥', '주스', '두부샐러드', '샌드위치', '볶음밥', '파스타', '두부스테이크', '비빔밥']"
      ]
     },
     "execution_count": 136,
     "metadata": {},
     "output_type": "execute_result"
    }
   ],
   "source": [
    "#다이어트\n",
    "url = \"https://www.10000recipe.com/recipe/list.html?q=&query=&cat1=&cat2=21&cat3=&cat4=&fct=&order=reco&lastcate=cat2&dsearch=&copyshot=&scrap=&degree=&portion=&time=&niresource=\"\n",
    "page = urlopen(url)\n",
    "\n",
    "soup = BeautifulSoup(page, \"lxml\")\n",
    "\n",
    "cate_list = ([i.next_element.strip() for i in soup.select(\"ul.tag_cont li a\")])\n",
    "\n",
    "result = [i for i in cate_list][:10]\n",
    "result"
   ]
  },
  {
   "cell_type": "code",
   "execution_count": 137,
   "id": "c8b670dd",
   "metadata": {},
   "outputs": [
    {
     "data": {
      "text/plain": [
       "['김밥', '주먹밥', '유부초밥', '샌드위치', '도시락', '꼬마김밥', '참치김밥', '쌈밥', '계란말이', '삼각김밥']"
      ]
     },
     "execution_count": 137,
     "metadata": {},
     "output_type": "execute_result"
    }
   ],
   "source": [
    "#도시락\n",
    "url = \"https://www.10000recipe.com/recipe/list.html?q=&query=&cat1=&cat2=15&cat3=&cat4=&fct=&order=reco&lastcate=cat2&dsearch=&copyshot=&scrap=&degree=&portion=&time=&niresource=\"\n",
    "page = urlopen(url)\n",
    "\n",
    "soup = BeautifulSoup(page, \"lxml\")\n",
    "\n",
    "cate_list = ([i.next_element.strip() for i in soup.select(\"ul.tag_cont li a\")])\n",
    "\n",
    "result = [i for i in cate_list][:10]\n",
    "result"
   ]
  },
  {
   "cell_type": "code",
   "execution_count": 138,
   "id": "164e9d95",
   "metadata": {},
   "outputs": [
    {
     "data": {
      "text/plain": [
       "['삼계탕', '전복죽', '닭곰탕', '닭백숙', '죽', '닭죽', '밥', '스프', '솥밥', '갈비탕']"
      ]
     },
     "execution_count": 138,
     "metadata": {},
     "output_type": "execute_result"
    }
   ],
   "source": [
    "#영양식\n",
    "url = \"https://www.10000recipe.com/recipe/list.html?q=&query=&cat1=&cat2=43&cat3=&cat4=&fct=&order=reco&lastcate=cat2&dsearch=&copyshot=&scrap=&degree=&portion=&time=&niresource=\"\n",
    "\n",
    "page = urlopen(url)\n",
    "\n",
    "soup = BeautifulSoup(page, \"lxml\")\n",
    "\n",
    "cate_list = ([i.next_element.strip() for i in soup.select(\"ul.tag_cont li a\")])\n",
    "\n",
    "result = [i for i in cate_list][:10]\n",
    "result"
   ]
  },
  {
   "cell_type": "code",
   "execution_count": 139,
   "id": "3379e054",
   "metadata": {},
   "outputs": [
    {
     "data": {
      "text/plain": [
       "['쿠키', '떡볶이', '샌드위치', '케이크', '토스트', '빵', '피자', '머핀', '핫도그', '프렌치토스트']"
      ]
     },
     "execution_count": 139,
     "metadata": {},
     "output_type": "execute_result"
    }
   ],
   "source": [
    "#간식\n",
    "url = \"https://www.10000recipe.com/recipe/list.html?q=&query=&cat1=&cat2=17&cat3=&cat4=&fct=&order=reco&lastcate=cat2&dsearch=&copyshot=&scrap=&degree=&portion=&time=&niresource=\"\n",
    "page = urlopen(url)\n",
    "\n",
    "soup = BeautifulSoup(page, \"lxml\")\n",
    "\n",
    "cate_list = ([i.next_element.strip() for i in soup.select(\"ul.tag_cont li a\")])\n",
    "\n",
    "result = [i for i in cate_list][:10]\n",
    "result"
   ]
  },
  {
   "cell_type": "code",
   "execution_count": 140,
   "id": "64ad5847",
   "metadata": {},
   "outputs": [
    {
     "data": {
      "text/plain": [
       "['라면', '떡볶이', '치킨', '비빔만두', '비빔국수', '만두', '볶음우동', '순대볶음', '볶음라면', '골뱅이무침']"
      ]
     },
     "execution_count": 140,
     "metadata": {},
     "output_type": "execute_result"
    }
   ],
   "source": [
    "#야식\n",
    "url = \"https://www.10000recipe.com/recipe/list.html?q=&query=&cat1=&cat2=45&cat3=&cat4=&fct=&order=reco&lastcate=cat2&dsearch=&copyshot=&scrap=&degree=&portion=&time=&niresource=\"\n",
    "page = urlopen(url)\n",
    "\n",
    "soup = BeautifulSoup(page, \"lxml\")\n",
    "\n",
    "cate_list = ([i.next_element.strip() for i in soup.select(\"ul.tag_cont li a\")])\n",
    "\n",
    "result = [i for i in cate_list][:10]\n",
    "result"
   ]
  },
  {
   "cell_type": "code",
   "execution_count": 141,
   "id": "e3e5024e",
   "metadata": {},
   "outputs": [
    {
     "data": {
      "text/plain": [
       "['샐러드', '파스타', '카나페', '케이크', '까르보나라', '볶음밥', '샌드위치', '에그', '오므라이스', '피자']"
      ]
     },
     "execution_count": 141,
     "metadata": {},
     "output_type": "execute_result"
    }
   ],
   "source": [
    "#푸드스타일링\n",
    "url = \"https://www.10000recipe.com/recipe/list.html?q=&query=&cat1=&cat2=20&cat3=&cat4=&fct=&order=reco&lastcate=cat2&dsearch=&copyshot=&scrap=&degree=&portion=&time=&niresource=\"\n",
    "\n",
    "page = urlopen(url)\n",
    "\n",
    "soup = BeautifulSoup(page, \"lxml\")\n",
    "\n",
    "cate_list = ([i.next_element.strip() for i in soup.select(\"ul.tag_cont li a\")])\n",
    "\n",
    "result = [i for i in cate_list][:10]\n",
    "result"
   ]
  },
  {
   "cell_type": "code",
   "execution_count": 142,
   "id": "9d847ba4",
   "metadata": {},
   "outputs": [
    {
     "data": {
      "text/plain": [
       "['황태해장국',\n",
       " '황태국',\n",
       " '황태콩나물국',\n",
       " '콩나물국',\n",
       " '북어국',\n",
       " '라면',\n",
       " '콩나물국밥',\n",
       " '해장국',\n",
       " '김치콩나물국',\n",
       " '해장라면']"
      ]
     },
     "execution_count": 142,
     "metadata": {},
     "output_type": "execute_result"
    }
   ],
   "source": [
    "#해장\n",
    "url =\"https://www.10000recipe.com/recipe/list.html?q=&query=&cat1=&cat2=46&cat3=&cat4=&fct=&order=reco&lastcate=cat2&dsearch=&copyshot=&scrap=&degree=&portion=&time=&niresource=\"\n",
    "\n",
    "page = urlopen(url)\n",
    "\n",
    "soup = BeautifulSoup(page, \"lxml\")\n",
    "\n",
    "cate_list = ([i.next_element.strip() for i in soup.select(\"ul.tag_cont li a\")])\n",
    "\n",
    "result = [i for i in cate_list][:10]\n",
    "result"
   ]
  },
  {
   "cell_type": "code",
   "execution_count": 143,
   "id": "7265b0cc",
   "metadata": {},
   "outputs": [
    {
     "data": {
      "text/plain": [
       "['잡채', '떡국', '동그랑땡', '동태전', '꼬치전', '떡만두국', 'LA갈비구이', '전', '식혜', '송편']"
      ]
     },
     "execution_count": 143,
     "metadata": {},
     "output_type": "execute_result"
    }
   ],
   "source": [
    "#명절\n",
    "url = \"https://www.10000recipe.com/recipe/list.html?q=&query=&cat1=&cat2=44&cat3=&cat4=&fct=&order=reco&lastcate=cat2&dsearch=&copyshot=&scrap=&degree=&portion=&time=&niresource=\"\n",
    "\n",
    "page = urlopen(url)\n",
    "\n",
    "soup = BeautifulSoup(page, \"lxml\")\n",
    "\n",
    "cate_list = ([i.next_element.strip() for i in soup.select(\"ul.tag_cont li a\")])\n",
    "\n",
    "result = [i for i in cate_list][:10]\n",
    "result"
   ]
  },
  {
   "cell_type": "code",
   "execution_count": 144,
   "id": "8ada8820",
   "metadata": {},
   "outputs": [
    {
     "data": {
      "text/plain": [
       "['이유식', '미음', '죽', '진밥', '쌀미음', '소고기미음', '무른밥', '브로콜리미음', '소고기죽', '리조또']"
      ]
     },
     "execution_count": 144,
     "metadata": {},
     "output_type": "execute_result"
    }
   ],
   "source": [
    "#이유식\n",
    "url = \"https://www.10000recipe.com/recipe/list.html?q=&query=&cat1=&cat2=14&cat3=&cat4=&fct=&order=reco&lastcate=cat2&dsearch=&copyshot=&scrap=&degree=&portion=&time=&niresource=\"\n",
    "\n",
    "page = urlopen(url)\n",
    "\n",
    "soup = BeautifulSoup(page, \"lxml\")\n",
    "\n",
    "cate_list = ([i.next_element.strip() for i in soup.select(\"ul.tag_cont li a\")])\n",
    "\n",
    "result = [i for i in cate_list][:10]\n",
    "result"
   ]
  },
  {
   "cell_type": "code",
   "execution_count": 147,
   "id": "80ce55e2",
   "metadata": {},
   "outputs": [
    {
     "data": {
      "text/plain": [
       "['소고기무국',\n",
       " '소고기미역국',\n",
       " '소불고기',\n",
       " '스테이크',\n",
       " '소고기장조림',\n",
       " '찹스테이크',\n",
       " '소갈비찜',\n",
       " '육개장',\n",
       " '소고기볶음',\n",
       " 'LA갈비구이']"
      ]
     },
     "execution_count": 147,
     "metadata": {},
     "output_type": "execute_result"
    }
   ],
   "source": [
    "# 소고기\n",
    "url = \"https://www.10000recipe.com/recipe/list.html?q=&query=&cat1=&cat2=&cat3=70&cat4=&fct=&order=reco&lastcate=cat3&dsearch=&copyshot=&scrap=&degree=&portion=&time=&niresource=\"\n",
    "\n",
    "page = urlopen(url)\n",
    "\n",
    "soup = BeautifulSoup(page, \"lxml\")\n",
    "\n",
    "cate_list = ([i.next_element.strip() for i in soup.select(\"ul.tag_cont li a\")])\n",
    "\n",
    "result = [i for i in cate_list][:10]\n",
    "result"
   ]
  },
  {
   "cell_type": "code",
   "execution_count": 148,
   "id": "446c9d06",
   "metadata": {},
   "outputs": [
    {
     "data": {
      "text/plain": [
       "['제육볶음',\n",
       " '수육',\n",
       " '돼지고기김치찌개',\n",
       " '돼지갈비찜',\n",
       " '돈까스',\n",
       " '덮밥',\n",
       " '삼겹살구이',\n",
       " '돼지불고기',\n",
       " '돼지고기볶음',\n",
       " '고추장찌개']"
      ]
     },
     "execution_count": 148,
     "metadata": {},
     "output_type": "execute_result"
    }
   ],
   "source": [
    "# 돼지고기\n",
    "url = \"https://www.10000recipe.com/recipe/list.html?q=&query=&cat1=&cat2=&cat3=71&cat4=&fct=&order=reco&lastcate=cat3&dsearch=&copyshot=&scrap=&degree=&portion=&time=&niresource=\"\n",
    "page = urlopen(url)\n",
    "\n",
    "soup = BeautifulSoup(page, \"lxml\")\n",
    "\n",
    "cate_list = ([i.next_element.strip() for i in soup.select(\"ul.tag_cont li a\")])\n",
    "\n",
    "result = [i for i in cate_list][:10]\n",
    "result"
   ]
  },
  {
   "cell_type": "code",
   "execution_count": 149,
   "id": "d4cad89c",
   "metadata": {},
   "outputs": [
    {
     "data": {
      "text/plain": [
       "['닭볶음탕', '치킨', '삼계탕', '닭갈비', '찜닭', '닭곰탕', '닭개장', '닭가슴살샐러드', '닭죽', '닭백숙']"
      ]
     },
     "execution_count": 149,
     "metadata": {},
     "output_type": "execute_result"
    }
   ],
   "source": [
    "# 닭고기\n",
    "url = \"https://www.10000recipe.com/recipe/list.html?q=&query=&cat1=&cat2=&cat3=72&cat4=&fct=&order=reco&lastcate=cat3&dsearch=&copyshot=&scrap=&degree=&portion=&time=&niresource=\"\n",
    "\n",
    "page = urlopen(url)\n",
    "\n",
    "soup = BeautifulSoup(page, \"lxml\")\n",
    "\n",
    "cate_list = ([i.next_element.strip() for i in soup.select(\"ul.tag_cont li a\")])\n",
    "\n",
    "result = [i for i in cate_list][:10]\n",
    "result"
   ]
  },
  {
   "cell_type": "code",
   "execution_count": 150,
   "id": "cdec5a37",
   "metadata": {},
   "outputs": [
    {
     "data": {
      "text/plain": [
       "['함박스테이크',\n",
       " '떡갈비',\n",
       " '훈제오리볶음',\n",
       " '오리주물럭',\n",
       " '갈비찜',\n",
       " '불고기',\n",
       " '오리불고기',\n",
       " '동그랑땡',\n",
       " '스테이크',\n",
       " '구이']"
      ]
     },
     "execution_count": 150,
     "metadata": {},
     "output_type": "execute_result"
    }
   ],
   "source": [
    "# 육류\n",
    "url = \"https://www.10000recipe.com/recipe/list.html?q=&query=&cat1=&cat2=&cat3=23&cat4=&fct=&order=reco&lastcate=cat3&dsearch=&copyshot=&scrap=&degree=&portion=&time=&niresource=\"\n",
    "\n",
    "page = urlopen(url)\n",
    "\n",
    "soup = BeautifulSoup(page, \"lxml\")\n",
    "\n",
    "cate_list = ([i.next_element.strip() for i in soup.select(\"ul.tag_cont li a\")])\n",
    "\n",
    "result = [i for i in cate_list][:10]\n",
    "result"
   ]
  },
  {
   "cell_type": "code",
   "execution_count": 151,
   "id": "27d04bd9",
   "metadata": {},
   "outputs": [
    {
     "data": {
      "text/plain": [
       "['감자전', '샐러드', '오이무침', '무생채', '콩나물무침', '감자조림', '된장찌개', '가지볶음', '김밥', '콩나물국']"
      ]
     },
     "execution_count": 151,
     "metadata": {},
     "output_type": "execute_result"
    }
   ],
   "source": [
    "# 채소류\n",
    "url = \"https://www.10000recipe.com/recipe/list.html?q=&query=&cat1=&cat2=&cat3=28&cat4=&fct=&order=reco&lastcate=cat3&dsearch=&copyshot=&scrap=&degree=&portion=&time=&niresource=\"\n",
    "\n",
    "page = urlopen(url)\n",
    "\n",
    "soup = BeautifulSoup(page, \"lxml\")\n",
    "\n",
    "cate_list = ([i.next_element.strip() for i in soup.select(\"ul.tag_cont li a\")])\n",
    "\n",
    "result = [i for i in cate_list][:10]\n",
    "result"
   ]
  },
  {
   "cell_type": "code",
   "execution_count": 152,
   "id": "1910bc66",
   "metadata": {},
   "outputs": [
    {
     "data": {
      "text/plain": [
       "['오징어볶음', '갈치조림', '미역국', '고등어조림', '미역줄기볶음', '굴전', '꼬막무침', '굴국', '주꾸미볶음', '꽃게탕']"
      ]
     },
     "execution_count": 152,
     "metadata": {},
     "output_type": "execute_result"
    }
   ],
   "source": [
    "# 해물류\n",
    "url = \"https://www.10000recipe.com/recipe/list.html?q=&query=&cat1=&cat2=&cat3=24&cat4=&fct=&order=reco&lastcate=cat3&dsearch=&copyshot=&scrap=&degree=&portion=&time=&niresource=\"\n",
    "\n",
    "page = urlopen(url)\n",
    "\n",
    "soup = BeautifulSoup(page, \"lxml\")\n",
    "\n",
    "cate_list = ([i.next_element.strip() for i in soup.select(\"ul.tag_cont li a\")])\n",
    "\n",
    "result = [i for i in cate_list][:10]\n",
    "result"
   ]
  },
  {
   "cell_type": "code",
   "execution_count": 153,
   "id": "f0a544c9",
   "metadata": {},
   "outputs": [
    {
     "data": {
      "text/plain": [
       "['계란말이', '계란찜', '메추리알장조림', '라떼', '샌드위치', '계란장조림', '계란국', '달걀말이', '달걀찜', '토스트']"
      ]
     },
     "execution_count": 153,
     "metadata": {},
     "output_type": "execute_result"
    }
   ],
   "source": [
    "# 달걀/유제품\n",
    "url = \"https://10000recipe.com/recipe/list.html?q=&query=&cat1=&cat2=&cat3=50&cat4=&fct=&order=reco&lastcate=cat3&dsearch=&copyshot=&scrap=&degree=&portion=&time=&niresource=\"\n",
    "\n",
    "page = urlopen(url)\n",
    "\n",
    "soup = BeautifulSoup(page, \"lxml\")\n",
    "\n",
    "cate_list = ([i.next_element.strip() for i in soup.select(\"ul.tag_cont li a\")])\n",
    "\n",
    "result = [i for i in cate_list][:10]\n",
    "result"
   ]
  },
  {
   "cell_type": "code",
   "execution_count": 154,
   "id": "f406a1ed",
   "metadata": {},
   "outputs": [
    {
     "data": {
      "text/plain": [
       "['어묵볶음', '라면', '떡볶이', '소세지야채볶음', '어묵탕', '부대찌개', '볶음밥', '샌드위치', '순대볶음', '핫도그']"
      ]
     },
     "execution_count": 154,
     "metadata": {},
     "output_type": "execute_result"
    }
   ],
   "source": [
    "# 가공식품류\n",
    "url = \"https://www.10000recipe.com/recipe/list.html?q=&query=&cat1=&cat2=&cat3=33&cat4=&fct=&order=reco&lastcate=cat3&dsearch=&copyshot=&scrap=&degree=&portion=&time=&niresource=\"\n",
    "\n",
    "page = urlopen(url)\n",
    "\n",
    "soup = BeautifulSoup(page, \"lxml\")\n",
    "\n",
    "cate_list = ([i.next_element.strip() for i in soup.select(\"ul.tag_cont li a\")])\n",
    "\n",
    "result = [i for i in cate_list][:10]\n",
    "result"
   ]
  },
  {
   "cell_type": "code",
   "execution_count": 155,
   "id": "cd4c1465",
   "metadata": {},
   "outputs": [
    {
     "data": {
      "text/plain": [
       "['김밥', '떡볶이', '볶음밥', '주먹밥', '김치볶음밥', '오므라이스', '떡국', '밥', '유부초밥', '떡꼬치']"
      ]
     },
     "execution_count": 155,
     "metadata": {},
     "output_type": "execute_result"
    }
   ],
   "source": [
    "# 쌀\n",
    "url = \"https://www.10000recipe.com/recipe/list.html?q=&query=&cat1=&cat2=&cat3=47&cat4=&fct=&order=reco&lastcate=cat3&dsearch=&copyshot=&scrap=&degree=&portion=&time=&niresource=\"\n",
    "\n",
    "page = urlopen(url)\n",
    "\n",
    "soup = BeautifulSoup(page, \"lxml\")\n",
    "\n",
    "cate_list = ([i.next_element.strip() for i in soup.select(\"ul.tag_cont li a\")])\n",
    "\n",
    "result = [i for i in cate_list][:10]\n",
    "result"
   ]
  },
  {
   "cell_type": "code",
   "execution_count": 156,
   "id": "274c07c1",
   "metadata": {},
   "outputs": [
    {
     "data": {
      "text/plain": [
       "['쿠키', '케이크', '샌드위치', '토스트', '빵', '비빔국수', '파운드케이크', '머핀', '스콘', '파스타']"
      ]
     },
     "execution_count": 156,
     "metadata": {},
     "output_type": "execute_result"
    }
   ],
   "source": [
    "# 밀가루\n",
    "url = \"https://www.10000recipe.com/recipe/list.html?q=&query=&cat1=&cat2=&cat3=32&cat4=&fct=&order=reco&lastcate=cat3&dsearch=&copyshot=&scrap=&degree=&portion=&time=&niresource=\"\n",
    "\n",
    "page = urlopen(url)\n",
    "\n",
    "soup = BeautifulSoup(page, \"lxml\")\n",
    "\n",
    "cate_list = ([i.next_element.strip() for i in soup.select(\"ul.tag_cont li a\")])\n",
    "\n",
    "result = [i for i in cate_list][:10]\n",
    "result"
   ]
  },
  {
   "cell_type": "code",
   "execution_count": 157,
   "id": "ae3a83d4",
   "metadata": {},
   "outputs": [
    {
     "data": {
      "text/plain": [
       "['멸치볶음',\n",
       " '진미채볶음',\n",
       " '미역국',\n",
       " '북어국',\n",
       " '잔멸치볶음',\n",
       " '코다리조림',\n",
       " '꽈리고추멸치볶음',\n",
       " '황태국',\n",
       " '고추장멸치볶음',\n",
       " '오징어채볶음']"
      ]
     },
     "execution_count": 157,
     "metadata": {},
     "output_type": "execute_result"
    }
   ],
   "source": [
    "# 건어물류\n",
    "url = \"https://www.10000recipe.com/recipe/list.html?q=&query=&cat1=&cat2=&cat3=25&cat4=&fct=&order=reco&lastcate=cat3&dsearch=&copyshot=&scrap=&degree=&portion=&time=&niresource=\"\n",
    "\n",
    "page = urlopen(url)\n",
    "\n",
    "soup = BeautifulSoup(page, \"lxml\")\n",
    "\n",
    "cate_list = ([i.next_element.strip() for i in soup.select(\"ul.tag_cont li a\")])\n",
    "\n",
    "result = [i for i in cate_list][:10]\n",
    "result"
   ]
  },
  {
   "cell_type": "code",
   "execution_count": 158,
   "id": "4b2b0c34",
   "metadata": {},
   "outputs": [
    {
     "data": {
      "text/plain": [
       "['느타리버섯볶음',\n",
       " '팽이버섯전',\n",
       " '표고버섯볶음',\n",
       " '버섯볶음',\n",
       " '새송이버섯볶음',\n",
       " '버섯덮밥',\n",
       " '새송이버섯구이',\n",
       " '버섯전골',\n",
       " '느타리버섯전',\n",
       " '표고버섯전']"
      ]
     },
     "execution_count": 158,
     "metadata": {},
     "output_type": "execute_result"
    }
   ],
   "source": [
    "# 버섯류\n",
    "url = \"https://www.10000recipe.com/recipe/list.html?q=&query=&cat1=&cat2=&cat3=31&cat4=&fct=&order=reco&lastcate=cat3&dsearch=&copyshot=&scrap=&degree=&portion=&time=&niresource=\"\n",
    "\n",
    "page = urlopen(url)\n",
    "\n",
    "soup = BeautifulSoup(page, \"lxml\")\n",
    "\n",
    "cate_list = ([i.next_element.strip() for i in soup.select(\"ul.tag_cont li a\")])\n",
    "\n",
    "result = [i for i in cate_list][:10]\n",
    "result"
   ]
  },
  {
   "cell_type": "code",
   "execution_count": 159,
   "id": "f1659350",
   "metadata": {},
   "outputs": [
    {
     "data": {
      "text/plain": [
       "['주스', '잼', '청', '스무디', '레몬청', '샐러드', '에이드', '과일샐러드', '사과잼', '딸기잼']"
      ]
     },
     "execution_count": 159,
     "metadata": {},
     "output_type": "execute_result"
    }
   ],
   "source": [
    "# 과일류\n",
    "url = \"https://www.10000recipe.com/recipe/list.html?q=&query=&cat1=&cat2=&cat3=48&cat4=&fct=&order=reco&lastcate=cat3&dsearch=&copyshot=&scrap=&degree=&portion=&time=&niresource=\"\n",
    "\n",
    "page = urlopen(url)\n",
    "\n",
    "soup = BeautifulSoup(page, \"lxml\")\n",
    "\n",
    "cate_list = ([i.next_element.strip() for i in soup.select(\"ul.tag_cont li a\")])\n",
    "\n",
    "result = [i for i in cate_list][:10]\n",
    "result"
   ]
  },
  {
   "cell_type": "code",
   "execution_count": 160,
   "id": "2b04bb85",
   "metadata": {},
   "outputs": [
    {
     "data": {
      "text/plain": [
       "['두부조림', '순두부찌개', '콩국수', '청국장찌개', '콩자반', '두부덮밥', '청국장', '마파두부', '두부부침', '두부강정']"
      ]
     },
     "execution_count": 160,
     "metadata": {},
     "output_type": "execute_result"
    }
   ],
   "source": [
    "# 콩/견과류\n",
    "url = \"https://www.10000recipe.com/recipe/list.html?q=&query=&cat1=&cat2=&cat3=27&cat4=&fct=&order=reco&lastcate=cat3&dsearch=&copyshot=&scrap=&degree=&portion=&time=&niresource=\"\n",
    "\n",
    "page = urlopen(url)\n",
    "\n",
    "soup = BeautifulSoup(page, \"lxml\")\n",
    "\n",
    "cate_list = ([i.next_element.strip() for i in soup.select(\"ul.tag_cont li a\")])\n",
    "\n",
    "result = [i for i in cate_list][:10]\n",
    "result"
   ]
  },
  {
   "cell_type": "code",
   "execution_count": 161,
   "id": "56403201",
   "metadata": {},
   "outputs": [
    {
     "data": {
      "text/plain": [
       "['약밥', '옥수수', '오곡밥', '죽', '동지팥죽', '상투과자', '팥죽', '마약옥수수', '녹두빈대떡', '옥수수전']"
      ]
     },
     "execution_count": 161,
     "metadata": {},
     "output_type": "execute_result"
    }
   ],
   "source": [
    "# 곡류\n",
    "url = \"https://www.10000recipe.com/recipe/list.html?q=&query=&cat1=&cat2=&cat3=26&cat4=&fct=&order=reco&lastcate=cat3&dsearch=&copyshot=&scrap=&degree=&portion=&time=&niresource=\"\n",
    "\n",
    "page = urlopen(url)\n",
    "\n",
    "soup = BeautifulSoup(page, \"lxml\")\n",
    "\n",
    "cate_list = ([i.next_element.strip() for i in soup.select(\"ul.tag_cont li a\")])\n",
    "\n",
    "result = [i for i in cate_list][:10]\n",
    "result"
   ]
  },
  {
   "cell_type": "code",
   "execution_count": 162,
   "id": "7724d4c1",
   "metadata": {},
   "outputs": [
    {
     "data": {
      "text/plain": [
       "['볶음밥', '어묵볶음', '파스타', '잡채', '제육볶음', '떡볶이', '김치볶음밥', '멸치볶음', '오징어볶음', '덮밥']"
      ]
     },
     "execution_count": 162,
     "metadata": {},
     "output_type": "execute_result"
    }
   ],
   "source": [
    "# 볶음\n",
    "url = \"https://www.10000recipe.com/recipe/list.html?q=&query=&cat1=6&cat2=&cat3=&cat4=&fct=&order=reco&lastcate=cat1&dsearch=&copyshot=&scrap=&degree=&portion=&time=&niresource=\"\n",
    "\n",
    "page = urlopen(url)\n",
    "\n",
    "soup = BeautifulSoup(page, \"lxml\")\n",
    "\n",
    "cate_list = ([i.next_element.strip() for i in soup.select(\"ul.tag_cont li a\")])\n",
    "\n",
    "result = [i for i in cate_list][:10]\n",
    "result"
   ]
  },
  {
   "cell_type": "code",
   "execution_count": 164,
   "id": "13e272f6",
   "metadata": {},
   "outputs": [
    {
     "data": {
      "text/plain": [
       "['된장찌개',\n",
       " '라면',\n",
       " '미역국',\n",
       " '순두부찌개',\n",
       " '닭볶음탕',\n",
       " '소고기무국',\n",
       " '김치찌개',\n",
       " '카레',\n",
       " '고추장찌개',\n",
       " '소고기미역국']"
      ]
     },
     "execution_count": 164,
     "metadata": {},
     "output_type": "execute_result"
    }
   ],
   "source": [
    "# 끓이기\n",
    "url = \"https://www.10000recipe.com/recipe/list.html?q=&query=&cat1=1&cat2=&cat3=&cat4=&fct=&order=reco&lastcate=cat1&dsearch=&copyshot=&scrap=&degree=&portion=&time=&niresource=\"\n",
    "\n",
    "page = urlopen(url)\n",
    "\n",
    "soup = BeautifulSoup(page, \"lxml\")\n",
    "\n",
    "cate_list = ([i.next_element.strip() for i in soup.select(\"ul.tag_cont li a\")])\n",
    "\n",
    "result = [i for i in cate_list][:10]\n",
    "result"
   ]
  },
  {
   "cell_type": "code",
   "execution_count": 165,
   "id": "d0638ed6",
   "metadata": {},
   "outputs": [
    {
     "data": {
      "text/plain": [
       "['계란말이', '감자전', '전', '부침개', '김치전', '부추전', '애호박전', '동그랑땡', '굴전', '팽이버섯전']"
      ]
     },
     "execution_count": 165,
     "metadata": {},
     "output_type": "execute_result"
    }
   ],
   "source": [
    "# 부침\n",
    "url = \"https://www.10000recipe.com/recipe/list.html?q=&query=&cat1=7&cat2=&cat3=&cat4=&fct=&order=reco&lastcate=cat1&dsearch=&copyshot=&scrap=&degree=&portion=&time=&niresource=\"\n",
    "\n",
    "page = urlopen(url)\n",
    "\n",
    "soup = BeautifulSoup(page, \"lxml\")\n",
    "\n",
    "cate_list = ([i.next_element.strip() for i in soup.select(\"ul.tag_cont li a\")])\n",
    "\n",
    "result = [i for i in cate_list][:10]\n",
    "result"
   ]
  },
  {
   "cell_type": "code",
   "execution_count": 166,
   "id": "49bed41f",
   "metadata": {},
   "outputs": [
    {
     "data": {
      "text/plain": [
       "['두부조림',\n",
       " '감자조림',\n",
       " '갈치조림',\n",
       " '메추리알장조림',\n",
       " '고등어조림',\n",
       " '연근조림',\n",
       " '우엉조림',\n",
       " '소고기장조림',\n",
       " '계란장조림',\n",
       " '장조림']"
      ]
     },
     "execution_count": 166,
     "metadata": {},
     "output_type": "execute_result"
    }
   ],
   "source": [
    "# 조림\n",
    "url = \"https://www.10000recipe.com/recipe/list.html?q=&query=&cat1=36&cat2=&cat3=&cat4=&fct=&order=reco&lastcate=cat1&dsearch=&copyshot=&scrap=&degree=&portion=&time=&niresource=\"\n",
    "\n",
    "page = urlopen(url)\n",
    "\n",
    "soup = BeautifulSoup(page, \"lxml\")\n",
    "\n",
    "cate_list = ([i.next_element.strip() for i in soup.select(\"ul.tag_cont li a\")])\n",
    "\n",
    "result = [i for i in cate_list][:10]\n",
    "result"
   ]
  },
  {
   "cell_type": "code",
   "execution_count": 167,
   "id": "54b73bda",
   "metadata": {},
   "outputs": [
    {
     "data": {
      "text/plain": [
       "['오이무침',\n",
       " '무생채',\n",
       " '콩나물무침',\n",
       " '샐러드',\n",
       " '시금치무침',\n",
       " '오이지무침',\n",
       " '골뱅이무침',\n",
       " '도토리묵무침',\n",
       " '깍두기',\n",
       " '가지무침']"
      ]
     },
     "execution_count": 167,
     "metadata": {},
     "output_type": "execute_result"
    }
   ],
   "source": [
    "# 무침\n",
    "url = \"https://www.10000recipe.com/recipe/list.html?q=&query=&cat1=41&cat2=&cat3=&cat4=&fct=&order=reco&lastcate=cat1&dsearch=&copyshot=&scrap=&degree=&portion=&time=&niresource=\"\n",
    "\n",
    "page = urlopen(url)\n",
    "\n",
    "soup = BeautifulSoup(page, \"lxml\")\n",
    "\n",
    "cate_list = ([i.next_element.strip() for i in soup.select(\"ul.tag_cont li a\")])\n",
    "\n",
    "result = [i for i in cate_list][:10]\n",
    "result"
   ]
  },
  {
   "cell_type": "code",
   "execution_count": 168,
   "id": "6869f944",
   "metadata": {},
   "outputs": [
    {
     "data": {
      "text/plain": [
       "['비빔밥',\n",
       " '비빔국수',\n",
       " '쫄면',\n",
       " '비빔면',\n",
       " '김치비빔국수',\n",
       " '주먹밥',\n",
       " '비빔만두',\n",
       " '열무비빔국수',\n",
       " '꼬막비빔밥',\n",
       " '간장비빔국수']"
      ]
     },
     "execution_count": 168,
     "metadata": {},
     "output_type": "execute_result"
    }
   ],
   "source": [
    "# 비빔\n",
    "url = \"https://www.10000recipe.com/recipe/list.html?q=&query=&cat1=42&cat2=&cat3=&cat4=&fct=&order=reco&lastcate=cat1&dsearch=&copyshot=&scrap=&degree=&portion=&time=&niresource=\"\n",
    "\n",
    "page = urlopen(url)\n",
    "\n",
    "soup = BeautifulSoup(page, \"lxml\")\n",
    "\n",
    "cate_list = ([i.next_element.strip() for i in soup.select(\"ul.tag_cont li a\")])\n",
    "\n",
    "result = [i for i in cate_list][:10]\n",
    "result"
   ]
  },
  {
   "cell_type": "code",
   "execution_count": 169,
   "id": "78dd94ea",
   "metadata": {},
   "outputs": [
    {
     "data": {
      "text/plain": [
       "['계란찜', '찜', '돼지갈비찜', '갈비찜', '달걀찜', '소갈비찜', '김치찜', '찜닭', '깻잎찜', '등갈비찜']"
      ]
     },
     "execution_count": 169,
     "metadata": {},
     "output_type": "execute_result"
    }
   ],
   "source": [
    "# 찜\n",
    "url = \"https://www.10000recipe.com/recipe/list.html?q=&query=&cat1=8&cat2=&cat3=&cat4=&fct=&order=reco&lastcate=cat1&dsearch=&copyshot=&scrap=&degree=&portion=&time=&niresource=\"\n",
    "\n",
    "page = urlopen(url)\n",
    "\n",
    "soup = BeautifulSoup(page, \"lxml\")\n",
    "\n",
    "cate_list = ([i.next_element.strip() for i in soup.select(\"ul.tag_cont li a\")])\n",
    "\n",
    "result = [i for i in cate_list][:10]\n",
    "result"
   ]
  },
  {
   "cell_type": "code",
   "execution_count": 170,
   "id": "02668534",
   "metadata": {},
   "outputs": [
    {
     "data": {
      "text/plain": [
       "['장아찌', '피클', '양파장아찌', '오이피클', '깍두기', '오이소박이', '청', '오이지', '열무김치', '물김치']"
      ]
     },
     "execution_count": 170,
     "metadata": {},
     "output_type": "execute_result"
    }
   ],
   "source": [
    "#절임\n",
    "url = \"https://www.10000recipe.com/recipe/list.html?q=&query=&cat1=10&cat2=&cat3=&cat4=&fct=&order=reco&lastcate=cat1&dsearch=&copyshot=&scrap=&degree=&portion=&time=&niresource=\"\n",
    "\n",
    "page = urlopen(url)\n",
    "\n",
    "soup = BeautifulSoup(page, \"lxml\")\n",
    "\n",
    "cate_list = ([i.next_element.strip() for i in soup.select(\"ul.tag_cont li a\")])\n",
    "\n",
    "result = [i for i in cate_list][:10]\n",
    "result"
   ]
  },
  {
   "cell_type": "code",
   "execution_count": 171,
   "id": "7c4afa92",
   "metadata": {},
   "outputs": [
    {
     "data": {
      "text/plain": [
       "['튀김', '돈까스', '치킨', '탕수육', '고구마맛탕', '핫도그', '새우튀김', '고구마튀김', '강정', '감자튀김']"
      ]
     },
     "execution_count": 171,
     "metadata": {},
     "output_type": "execute_result"
    }
   ],
   "source": [
    "# 튀김\n",
    "url = \"https://www.10000recipe.com/recipe/list.html?q=&query=&cat1=9&cat2=&cat3=&cat4=&fct=&order=reco&lastcate=cat1&dsearch=&copyshot=&scrap=&degree=&portion=&time=&niresource=\"\n",
    "\n",
    "page = urlopen(url)\n",
    "\n",
    "soup = BeautifulSoup(page, \"lxml\")\n",
    "\n",
    "cate_list = ([i.next_element.strip() for i in soup.select(\"ul.tag_cont li a\")])\n",
    "\n",
    "result = [i for i in cate_list][:10]\n",
    "result"
   ]
  },
  {
   "cell_type": "code",
   "execution_count": 172,
   "id": "79f2c697",
   "metadata": {},
   "outputs": [
    {
     "data": {
      "text/plain": [
       "['수육',\n",
       " '감자샐러드',\n",
       " '콩국수',\n",
       " '보쌈',\n",
       " '돼지고기수육',\n",
       " '삼겹살수육',\n",
       " '감자삶는법',\n",
       " '샌드위치',\n",
       " '샐러드',\n",
       " '옥수수삶는법']"
      ]
     },
     "execution_count": 172,
     "metadata": {},
     "output_type": "execute_result"
    }
   ],
   "source": [
    "# 삶기\n",
    "url = \"https://www.10000recipe.com/recipe/list.html?q=&query=&cat1=38&cat2=&cat3=&cat4=&fct=&order=reco&lastcate=cat1&dsearch=&copyshot=&scrap=&degree=&portion=&time=&niresource=\"\n",
    "\n",
    "page = urlopen(url)\n",
    "\n",
    "soup = BeautifulSoup(page, \"lxml\")\n",
    "\n",
    "cate_list = ([i.next_element.strip() for i in soup.select(\"ul.tag_cont li a\")])\n",
    "\n",
    "result = [i for i in cate_list][:10]\n",
    "result"
   ]
  },
  {
   "cell_type": "code",
   "execution_count": 173,
   "id": "ae613d18",
   "metadata": {},
   "outputs": [
    {
     "data": {
      "text/plain": [
       "['쿠키', '토스트', '피자', '케이크', '빵', '머핀', '파운드케이크', '스테이크', '스콘', '프렌치토스트']"
      ]
     },
     "execution_count": 173,
     "metadata": {},
     "output_type": "execute_result"
    }
   ],
   "source": [
    "# 굽기\n",
    "url = \"https://www.10000recipe.com/recipe/list.html?q=&query=&cat1=67&cat2=&cat3=&cat4=&fct=&order=reco&lastcate=cat1&dsearch=&copyshot=&scrap=&degree=&portion=&time=&niresource=\"\n",
    "\n",
    "page = urlopen(url)\n",
    "\n",
    "soup = BeautifulSoup(page, \"lxml\")\n",
    "\n",
    "cate_list = ([i.next_element.strip() for i in soup.select(\"ul.tag_cont li a\")])\n",
    "\n",
    "result = [i for i in cate_list][:10]\n",
    "result"
   ]
  },
  {
   "cell_type": "code",
   "execution_count": 174,
   "id": "f43d1bfc",
   "metadata": {},
   "outputs": [
    {
     "data": {
      "text/plain": [
       "['브로콜리', '샐러드', '오징어숙회', '두릅숙회', '쪽파강회', '두릅', '쌈밥', '나물', '미나리강회', '문어숙회']"
      ]
     },
     "execution_count": 174,
     "metadata": {},
     "output_type": "execute_result"
    }
   ],
   "source": [
    "# 데치기\n",
    "url = \"https://www.10000recipe.com/recipe/list.html?q=&query=&cat1=39&cat2=&cat3=&cat4=&fct=&order=reco&lastcate=cat1&dsearch=&copyshot=&scrap=&degree=&portion=&time=&niresource=\"\n",
    "\n",
    "page = urlopen(url)\n",
    "\n",
    "soup = BeautifulSoup(page, \"lxml\")\n",
    "\n",
    "cate_list = ([i.next_element.strip() for i in soup.select(\"ul.tag_cont li a\")])\n",
    "\n",
    "result = [i for i in cate_list][:10]\n",
    "result"
   ]
  },
  {
   "cell_type": "code",
   "execution_count": 175,
   "id": "46b550e8",
   "metadata": {},
   "outputs": [
    {
     "data": {
      "text/plain": [
       "['연어초밥', '초밥', '물회', '연어덮밥', '회', '연어샐러드', '전복회', '회덮밥', '연어', '연어롤']"
      ]
     },
     "execution_count": 175,
     "metadata": {},
     "output_type": "execute_result"
    }
   ],
   "source": [
    "# 회\n",
    "url = \"https://www.10000recipe.com/recipe/list.html?q=&query=&cat1=37&cat2=&cat3=&cat4=&fct=&order=reco&lastcate=cat1&dsearch=&copyshot=&scrap=&degree=&portion=&time=&niresource=\"\n",
    "\n",
    "page = urlopen(url)\n",
    "\n",
    "soup = BeautifulSoup(page, \"lxml\")\n",
    "\n",
    "cate_list = ([i.next_element.strip() for i in soup.select(\"ul.tag_cont li a\")])\n",
    "\n",
    "result = [i for i in cate_list][:10]\n",
    "result"
   ]
  },
  {
   "cell_type": "code",
   "execution_count": null,
   "id": "044a362b",
   "metadata": {},
   "outputs": [],
   "source": []
  }
 ],
 "metadata": {
  "kernelspec": {
   "display_name": "Python 3 (ipykernel)",
   "language": "python",
   "name": "python3"
  },
  "language_info": {
   "codemirror_mode": {
    "name": "ipython",
    "version": 3
   },
   "file_extension": ".py",
   "mimetype": "text/x-python",
   "name": "python",
   "nbconvert_exporter": "python",
   "pygments_lexer": "ipython3",
   "version": "3.11.5"
  }
 },
 "nbformat": 4,
 "nbformat_minor": 5
}
