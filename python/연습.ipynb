{
 "cells": [
  {
   "cell_type": "code",
   "execution_count": 24,
   "id": "29f83885",
   "metadata": {},
   "outputs": [],
   "source": [
    "# 정수가 담긴 리스트 num_list가 주어질 때,\n",
    "# 리스트의 길이가 11 이상이면 리스트에 있는 모든 원소의 합을\n",
    "# 10 이하이면 모든 원소의 곱을 return하도록 solution 함수를 완성해주세요.\n",
    "from math import prod\n",
    "\n",
    "num_list = [3, 4, 5, 2, 5, 4, 6, 7, 3, 7, 2, 2, 1]  # 51\n",
    "num = [1, 2, 3, 4, 5] # 120\n",
    "a = 3\n",
    "b = 0\n",
    "\n",
    "if len(num_list) >= 11:\n",
    "    sum(num_list)\n",
    "\n",
    "    "
   ]
  },
  {
   "cell_type": "code",
   "execution_count": 2,
   "id": "2bfac2f7",
   "metadata": {},
   "outputs": [
    {
     "data": {
      "text/plain": [
       "51"
      ]
     },
     "execution_count": 2,
     "metadata": {},
     "output_type": "execute_result"
    }
   ],
   "source": [
    "sum(num_list)"
   ]
  },
  {
   "cell_type": "code",
   "execution_count": 16,
   "id": "329b2734",
   "metadata": {},
   "outputs": [
    {
     "data": {
      "text/plain": [
       "120"
      ]
     },
     "execution_count": 16,
     "metadata": {},
     "output_type": "execute_result"
    }
   ],
   "source": [
    "prod(num)"
   ]
  },
  {
   "cell_type": "code",
   "execution_count": 33,
   "id": "8eee5668",
   "metadata": {},
   "outputs": [
    {
     "name": "stdout",
     "output_type": "stream",
     "text": [
      "4\n"
     ]
    }
   ],
   "source": [
    "for i in num:\n",
    "    if i == a:\n",
    "        b += 1\n",
    "    else:\n",
    "        b += 0\n",
    "        \n",
    "print(b)"
   ]
  },
  {
   "cell_type": "code",
   "execution_count": null,
   "id": "24c70a93",
   "metadata": {},
   "outputs": [],
   "source": []
  },
  {
   "cell_type": "code",
   "execution_count": 33,
   "id": "7ac81902",
   "metadata": {},
   "outputs": [
    {
     "name": "stdout",
     "output_type": "stream",
     "text": [
      "programmers\n"
     ]
    }
   ],
   "source": [
    "a = \"cvsgiorszzzmrpaqpe\"\n",
    "a1 = [16, 6, 5, 3, 12, 14, 11, 11, 17, 12, 7] # \"programmers\"\n",
    "q = \"zpiaz\"\n",
    "q1 = [1, 2, 0, 0, 3] # \"pizza\"\n",
    "\n",
    "answer = \"\"\n",
    "\n",
    "for i in a1:\n",
    "    answer += a[i] \n",
    "print(answer)\n",
    "    "
   ]
  },
  {
   "cell_type": "code",
   "execution_count": 39,
   "id": "cbb6dc29",
   "metadata": {},
   "outputs": [
    {
     "name": "stdout",
     "output_type": "stream",
     "text": [
      "53\n",
      "53 is odd\n"
     ]
    }
   ],
   "source": [
    "# 자연수 n이 입력으로 주어졌을 때 만약 n이 짝수이면 \"n is even\"을\n",
    "# 홀수이면 \"n is odd\"를 출력하는 코드를 작성해 보세요.\n",
    "a = int(input())\n",
    "\n",
    "if a % 2 == 0:\n",
    "    print(a , \"is even\")\n",
    "else:\n",
    "    print(a, \"is odd\")"
   ]
  },
  {
   "cell_type": "code",
   "execution_count": 44,
   "id": "30d35aba",
   "metadata": {},
   "outputs": [],
   "source": [
    "# 정수 배열 arr가 주어집니다.\n",
    "# arr의 각 원소에 대해 값이 50보다 크거나 같은 짝수라면 2로 나누고,\n",
    "# 50보다 작은 홀수라면 2를 곱합니다.\n",
    "# 그 결과인 정수 배열을 return 하는 solution 함수를 완성해 주세요.\n",
    "\n",
    "arr = [1, 2, 3, 100, 99, 98]  # [2, 2, 6, 50, 99, 49]\n",
    "\n",
    "answer = [ ]\n",
    "\n",
    "for i in arr:\n",
    "    if i >= 50 and i % 2 == 0:\n",
    "        answer.append(i // 2)\n",
    "    elif i < 50 and i % 2 == 1:\n",
    "        answer.append(i * 2)\n",
    "    else:\n",
    "        answer.append(i)"
   ]
  },
  {
   "cell_type": "code",
   "execution_count": 45,
   "id": "f6532ce2",
   "metadata": {},
   "outputs": [
    {
     "data": {
      "text/plain": [
       "[2, 2, 6, 50, 99, 49]"
      ]
     },
     "execution_count": 45,
     "metadata": {},
     "output_type": "execute_result"
    }
   ],
   "source": [
    "answer"
   ]
  },
  {
   "cell_type": "code",
   "execution_count": null,
   "id": "47c1c9fe",
   "metadata": {},
   "outputs": [],
   "source": []
  },
  {
   "cell_type": "code",
   "execution_count": null,
   "id": "558ddb0f",
   "metadata": {},
   "outputs": [],
   "source": []
  },
  {
   "cell_type": "code",
   "execution_count": null,
   "id": "f20ab8b6",
   "metadata": {},
   "outputs": [],
   "source": []
  },
  {
   "cell_type": "code",
   "execution_count": null,
   "id": "1ff657d9",
   "metadata": {},
   "outputs": [],
   "source": []
  },
  {
   "cell_type": "code",
   "execution_count": null,
   "id": "37001518",
   "metadata": {},
   "outputs": [],
   "source": []
  },
  {
   "cell_type": "code",
   "execution_count": null,
   "id": "1f0aedd6",
   "metadata": {},
   "outputs": [],
   "source": []
  },
  {
   "cell_type": "code",
   "execution_count": null,
   "id": "b498412a",
   "metadata": {},
   "outputs": [],
   "source": []
  },
  {
   "cell_type": "code",
   "execution_count": null,
   "id": "8a01bf46",
   "metadata": {},
   "outputs": [],
   "source": []
  },
  {
   "cell_type": "code",
   "execution_count": null,
   "id": "196fc68b",
   "metadata": {},
   "outputs": [],
   "source": []
  },
  {
   "cell_type": "code",
   "execution_count": null,
   "id": "5494d197",
   "metadata": {},
   "outputs": [],
   "source": []
  },
  {
   "cell_type": "code",
   "execution_count": null,
   "id": "778790e3",
   "metadata": {},
   "outputs": [],
   "source": []
  },
  {
   "cell_type": "code",
   "execution_count": null,
   "id": "b5a79931",
   "metadata": {},
   "outputs": [],
   "source": []
  },
  {
   "cell_type": "code",
   "execution_count": null,
   "id": "bfc88e76",
   "metadata": {},
   "outputs": [],
   "source": []
  },
  {
   "cell_type": "code",
   "execution_count": null,
   "id": "50c99fb0",
   "metadata": {},
   "outputs": [],
   "source": []
  },
  {
   "cell_type": "code",
   "execution_count": null,
   "id": "a7bef544",
   "metadata": {},
   "outputs": [],
   "source": []
  },
  {
   "cell_type": "code",
   "execution_count": null,
   "id": "ae4f70d0",
   "metadata": {},
   "outputs": [],
   "source": []
  },
  {
   "cell_type": "code",
   "execution_count": null,
   "id": "99a92174",
   "metadata": {},
   "outputs": [],
   "source": []
  },
  {
   "cell_type": "code",
   "execution_count": null,
   "id": "b3ed803d",
   "metadata": {},
   "outputs": [],
   "source": []
  },
  {
   "cell_type": "code",
   "execution_count": null,
   "id": "7e57b327",
   "metadata": {},
   "outputs": [],
   "source": []
  },
  {
   "cell_type": "code",
   "execution_count": null,
   "id": "87690cd9",
   "metadata": {},
   "outputs": [],
   "source": []
  },
  {
   "cell_type": "code",
   "execution_count": null,
   "id": "6167dae7",
   "metadata": {},
   "outputs": [],
   "source": []
  },
  {
   "cell_type": "code",
   "execution_count": null,
   "id": "1aff008e",
   "metadata": {},
   "outputs": [],
   "source": []
  }
 ],
 "metadata": {
  "kernelspec": {
   "display_name": "Python 3 (ipykernel)",
   "language": "python",
   "name": "python3"
  },
  "language_info": {
   "codemirror_mode": {
    "name": "ipython",
    "version": 3
   },
   "file_extension": ".py",
   "mimetype": "text/x-python",
   "name": "python",
   "nbconvert_exporter": "python",
   "pygments_lexer": "ipython3",
   "version": "3.11.5"
  }
 },
 "nbformat": 4,
 "nbformat_minor": 5
}
