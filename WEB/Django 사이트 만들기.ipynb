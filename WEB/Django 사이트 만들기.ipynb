{
 "cells": [
  {
   "cell_type": "markdown",
   "id": "c22f9187",
   "metadata": {},
   "source": [
    "# 태그\n",
    "\n",
    "-  ```<div>``` 웹페이지에서 칸을 나눌때는 태그\n",
    "- ```<a href=\"이동할 URL\">``` 눌렀을때 url로 이동할 태그\n",
    "- ```<br>``` 한칸 내리기"
   ]
  },
  {
   "cell_type": "markdown",
   "id": "986e863f",
   "metadata": {},
   "source": [
    "# Django 사이트 만드는 법\n",
    "\n",
    "1. 사용할 폴더 생성\n",
    "    \n",
    "2. 터미널에 가상환경 만들고 접속\n",
    "    - 터미널(cmd) 열고\n",
    "    - 가상환경 생성하기\n",
    "        - conda create -n 가상환경이름 python=3.11 (가상환경 생성하기)\n",
    "            - 가상환경이름 뒤에 python=\"버전\"을 입력하면 python버전 다운로드\n",
    "        - conda env list 로 만들어진 가상환경 확인\n",
    "        - conda activate 가상환경이름  (가상환경 접속하기)\n",
    "            - (pylog_env) C:\\Users\\ITSC\\Desktop\\project\\web\\web_project4> 처럼 앞에 가상환경 이름이 붙음\n",
    "    - 가상환경에 pyhton 입력 후 python이 잘 작동하는지 확인\n",
    "        - 정상작동 하면 exit()로 빠져나오기 \n",
    "         \n",
    "3. Django 설치\n",
    "    - 새로 만든 가상환경에는 Django를 새로 설치 해야함\n",
    "    - pip install django 를 사용해서 Django를 설치\n",
    "    \n",
    "4. 프로젝트 생성\n",
    "    - django-admin startproject 프로젝트이름 .\n",
    "        - 프로젝트를 생성하는 명령어\n",
    "        - 맨 마지막의 닷(.)은 \"이 폴더에 프로젝트를 만든다\" 라는 의미\n",
    "            - 프로젝트이름 띄우고 닷(.) 입력해야함\n",
    "        - 잘 실행됐다면 프로젝트 폴더와 mange.py 파일이 생성됨\n",
    "5. 앱 만들기\n",
    "    - python manage.py startapp 앱이름\n",
    "        - 앱을 만들었다면 프로젝트폴더 안에 settings.py 파일 안에 INSTALLED_APPS 에 앱 이름을 추가 해줘야함\n",
    "\n",
    "6. 서버 실행\n",
    "    - python manage.py runserver 서버 접속\n",
    "        - 접속하면 db.sqlite3가 자동으로 만들어짐\n",
    "        - 127.0.0.1:8000 로 접속 가능 \n",
    "    - 명령어 바꿔주기\n",
    "        - doskey run=python manage.py runserver 입력하면 python manage.py runserver 가 run만 입력하면 접속됨\n",
    "    - ctrl + c 서버닫기\n",
    "   "
   ]
  },
  {
   "cell_type": "markdown",
   "id": "50fa2f64",
   "metadata": {},
   "source": [
    "# 모델 적용\n",
    "- 모델을 새로 만들면 적용을 해야 db에 반영됨\n",
    "    - python manage.py makemigrations\n",
    "        - 으로 만든 모델을 확인하고\n",
    "    - python manage.py migrate\n",
    "        - 으로 모델을 적용해야함\n",
    "    - 프로젝트를 새로 만들었으면 migrate로 적용시켜야 관리자 계정 생성가능\n",
    "        "
   ]
  },
  {
   "cell_type": "markdown",
   "id": "28020af2",
   "metadata": {},
   "source": [
    "# 관리자(개발자) 계정 만들기\n",
    "\n",
    "1. 계정 생성\n",
    "    - cmd창에 python manage.py createsuperuser \n",
    "        - 아이디 입력\n",
    "        - 이메일입력(생략가능)\n",
    "        - 비밀번호 입력 (안보임)\n",
    "        - 비밀번호 재입력\n",
    "        - y 입력"
   ]
  },
  {
   "cell_type": "markdown",
   "id": "b5b05e1d",
   "metadata": {},
   "source": [
    "# 사이트 만들기 기본\n",
    "\n",
    "- Templates, urls, views 를 만들때 순서는 상관없음\n",
    "\n",
    "## Templates 만들기\n",
    "\n",
    "- 만든 앱에다 templates 폴더를 만들고 HTML 파일 만들기\n",
    "\n",
    "- 같은 폴더가 아니고 밖에 templates 폴더를 만들면 \n",
    "    - settings.py에 templates 폴더를 사용한다고 적용시켜야함\n",
    "        - settings.py 파일 BASE_DIR 밑에 입력\n",
    "        - TEMPLATES_DIR = BASE_DIR / \"templates\" 만들고\n",
    "        - 밑에 TEMPLATES 칸 DIRS 안에 TEMPLATES_DIR 넣기    \n",
    "\n",
    "- html 파일에 ! 누르면 기본양식 장석됨\n",
    "    - html lang=\"en\" 에 en을 ko로 바꾸면 한글\n",
    "---\n",
    "\n",
    "## urls 만들기\n",
    "\n",
    "- 경로 맞는곳에 urls.py 파일 만들기\n",
    "\n",
    "- path, views 등 필요한 파일 import 하기\n",
    "\n",
    "-  예)\n",
    "```\n",
    "urlpatterns = [\n",
    "    path(\"\", views.index), ] \n",
    "```\n",
    "- urlpatterns 안에 \" URL 경로 \" 입력하고 views 랑 연결하기\n",
    "\n",
    "#### include\n",
    "\n",
    "- 처음 만든 앱에 urls.py에 include 를 import 하면 접두어를 만들수 있음\n",
    "- include import 하기\n",
    "```\n",
    "from django.urls import path, include\n",
    "```\n",
    "- path 뒤에 include\n",
    "- path(\"blog/\", include(\"blog.urls\"))를 입력하면\n",
    "    - URL 주소에 blog가 들어오면 blog앱에 urls로 보낸다\n",
    "\n",
    "#### 동적 URL 만들기\n",
    "\n",
    "- url 이름을 바꿔야 하는 상황이 생기면 수정하기가 편함\n",
    "\n",
    "- 동적으로 URL을 생성해서 사용하기 위해서는 app별로 분리된 하위 urls.py 에 app_name 이라는 속성이 필요\n",
    "    - urls.py 에 app_name = \"app 이름\" 만들어줘야함\n",
    "    - 관습적으로 이름은 앱을 따라감\n",
    "        - 예) app_name = \"user\"\n",
    "\n",
    "- urls.py에 만들어둔 url 뒤에 name=\"사용할 이름\"을 만들어주고\n",
    "    - 예) path(\"login/\", views.login_view, name=\"login\")\n",
    "\n",
    "- 만든 앱이름과 url이름으로 경로지정\n",
    "    - \"{% url 'users:login' %}\"로 입력하면 해당 URL로 이동함\n",
    "---\n",
    "\n",
    "### views\n",
    "\n",
    "- models 등 필요한 파일 import 하기\n",
    "\n",
    "- 함수 만들기\n",
    "- 예)\n",
    "```\n",
    "def index(request):\n",
    "    return render(request, \"index.html\")\n",
    "```\n",
    "- 모델에 있는 결과물을 가져올려면 \n",
    "```\n",
    "def index(request):\n",
    "    posts = Post.objects.all()\n",
    "    context = { \n",
    "        \"posts\": posts,\n",
    "    }\n",
    "\n",
    "    return render(request, \"index.html\", context)\n",
    "```\n",
    "- 가져올 결과물을 변수에 담고 context로 가져오기\n",
    "    - 전체 데이터 목록 가져오기\n",
    "        - 모델.objects.all( )\n",
    "\n",
    "    - 특정 조건을 만족하는 데이터 한 개의 정보를 가져오기\n",
    "        - 모델.objects.get(조건)\n",
    "\n",
    "    - 특정 조건을 만족하는 데이터들의 정보 가져오기\n",
    "        - 모델.objects.filter(조건)"
   ]
  },
  {
   "cell_type": "markdown",
   "id": "42901093",
   "metadata": {},
   "source": [
    "# 게시글 오름차순,내림차순\n",
    "\n",
    "- .order_by(\"값\")\n",
    "- 예) posts = Post.objects.all().order_by(\"-pk\")\n",
    "    - \"pk\" 는 pk의 오름차순 값\n",
    "    - \"-pk\"는 pk의 내림차순 값"
   ]
  },
  {
   "cell_type": "markdown",
   "id": "ddcc0b3a",
   "metadata": {},
   "source": [
    "# 정적 파일(Static files)\n",
    "\n",
    "- 사전적으로는 변화가 없는 파일\n",
    "\n",
    "- 웹프레임워크에서 정적파일이란 프레임워크의 소스코드를 제외한 나머지 이미지, 동영상, CSS, javaScript 파일등\n",
    "\n",
    "- 소스코드는 일반적으로 동적인 결과물을 만들어대는 데 사용\n",
    "\n",
    "- 정적 파일은 사용자에게 변형 없이 언제나 동일한 형태로 제공됨"
   ]
  },
  {
   "cell_type": "markdown",
   "id": "5c95ea4a",
   "metadata": {},
   "source": [
    "# css 적용하기\n",
    "\n",
    "- 처음 생성한 프로젝트 폴더에 settings.py 안에\n",
    "    - STATIC_URL 밑칸에 STATICFILES_DIRS = [BASE_DIR / \"static\"] 입역"
   ]
  },
  {
   "cell_type": "markdown",
   "id": "b21a2484",
   "metadata": {},
   "source": [
    "# 템플릿에서 정적파일 사용\n",
    "\n",
    "- 템플릿에서 정적파일을 불러올 때는\n",
    "    - {% static '정적파일경로' %} 태크를 사용\n",
    "    \n",
    "- {% load static %} 코드 맨 위에 입력\n",
    "- 예)\n",
    "```\n",
    "{% load static %}\n",
    "<!DOCTYPE html>\n",
    "<html lang=\"ko\">\n",
    "    <head>\n",
    "        <link rel=\"stylesheet\" href=\"{% static 'css/style.css' %}\">\n",
    "    </head>\n",
    "    <body>\n",
    "```\n",
    "- 안보여도 되는거여서 head태그로"
   ]
  },
  {
   "cell_type": "markdown",
   "id": "e80cd93b",
   "metadata": {},
   "source": [
    "# 링크걸기\n",
    "```\n",
    "<h1><a href=\"/posts/\">pylog</a></h1>\n",
    "```\n",
    "- 위 코드처럼 pylog를 누르면 원하는 페이지로 가기 원하면\n",
    "    ```\n",
    "    <a href=\"링크\"></a> 로 감싸주기\n",
    "    ```"
   ]
  },
  {
   "cell_type": "markdown",
   "id": "7ec3ee8c",
   "metadata": {},
   "source": [
    "# 정적파일의 분류\n",
    "\n",
    "- django에서 정적파일은 두 가지로 나뉨\n",
    "    - 소스코드에 포함되는 정적파일\n",
    "    - 유저가 업로드하는 정적파일\n",
    "    \n",
    "- 이전에 정적파일을 넣어뒀던 디렉터리는 소스코드에 포함되는 정적파일을 두는곳\n",
    "    - 프로젝트의 일부분으로 취급됨\n",
    "    \n",
    "- 유저가 업로드하는 정적파일을 프로젝트에 포함되지 않음\n",
    "    - 블로그라는 전체 프로젝트와는 별개로 블로그를 사용하는 사용자들이\n",
    "    - 업로드하는 글에 포함된 이미지와 같은 데이터\n"
   ]
  },
  {
   "cell_type": "markdown",
   "id": "43c40b3a",
   "metadata": {},
   "source": [
    "# 유저가 업로드하는 정적파일 설정\n",
    "\n",
    "- settings.py에서 소스코드에 포함되는 정적파일의 설정은 STATIC_로 시작하고, 유저가 업로드하는 정적 파일과 관련된 설정은 MEDIA_로 시작함\n",
    "\n",
    "- MEDIA_URL\n",
    "    - 유저가 업로드한 파일에 접근할 수 있도록 브라우저에 제공하는 경로 접두어\n",
    "    - 소스코드에 포함되는 정적파일을 STATIC_URL 이라는 설정값을 사용하며, 기본값은 \"/static/\"\n",
    "    \n",
    "- MEDIA_ROOT\n",
    "    - 실제로 유저가 업로드한 파일이 저장될 경로"
   ]
  },
  {
   "cell_type": "markdown",
   "id": "35bc5bb0",
   "metadata": {},
   "source": [
    "# 사이트 만들기 기본\n",
    "\n",
    "- 정적,동적 파일 설정하기\n",
    "- settings 파일안에 STATIC_URL = \"static/\" 밑에\n",
    "    - STATICFILES_DIRS = [BASE_DIR / \"static\"]\n",
    "    - MEDIA_URL = \"media/\"\n",
    "    - MEDIA_ROOT = BASE_DIR / \"media\"\n",
    "    - 입력하기\n",
    "\n",
    "- views 파일안에  \n",
    "    - from django.conf import settings\n",
    "    - from django.conf.urls.static import static\n",
    "    - import하기\n",
    "    \n",
    "    - urlpatterns += static(\n",
    "        prefix=settings.MEDIA_URL,\n",
    "        document_root=settings.MEDIA_ROOT,)\n",
    "    - 만들어주기\n",
    "    \n",
    "\n",
    "- 같은 폴더가 아니고 밖에 templates 폴더를 만들면 \n",
    "    - settings 파일안에 BASE_DIR 밑에 입력\n",
    "    - TEMPLATES_DIR = BASE_DIR / \"templates\" 만들고\n",
    "    - 밑에 TEMPLATES 칸 DIRS 안에 TEMPLATES_DIR 넣기\n",
    "     \n",
    "     \n",
    "- ptstagram 폴더안에 views 만들기\n",
    "    - from django.shortcuts import render\n",
    "- def index(request):\n",
    "    return render(request, \"index.html\")\n",
    "    - 임시페이지\n",
    "    \n",
    "- ptstagram 폴더안에 urls 들어가서\n",
    "     - from pystagram import views 만든 views import하기\n",
    "     - urlpatterns = [\n",
    "        path(\"admin/\", admin.site.urls),\n",
    "        ]\n",
    "    - path(\"admin/\", admin.site.urls) 밑칸에 path(\"\", views.index), 입력\n",
    "  \n",
    "- templates 폴더 만들고 안에 index.html 만들기\n"
   ]
  },
  {
   "cell_type": "markdown",
   "id": "f1e695a1",
   "metadata": {},
   "source": [
    "# 동적 URL 경로\n",
    "\n",
    "- \"posts/<<int:post_id>>/\"\n",
    "    - int : 정수 형태의 값을 받도록 제한한다는 의미\n",
    "    - post_id : < 와 > 사이의 영역이 post_id 라는 이름을 가진다는 의미"
   ]
  },
  {
   "cell_type": "markdown",
   "id": "4067a030",
   "metadata": {},
   "source": [
    "# 사용자의 입력을 받는 Template\n",
    "\n",
    "- HTML에서 사용자의 입력을 받는 요소는 \n",
    "    - 입력에 대한 제목 : ``` <lable> ``` \n",
    "    - 한 줄 짜리 텍스트 입력 :  ```<input type=\"text\">```\n",
    "    - 여러 줄 텍스트 입력 : ```<textarea>```\n",
    "    - 버튼 : ```<button>```\n",
    "        - 버튼 사용할때 type=\"submit\" 을 붙여야 전송됨\n",
    "        - 예)\n",
    "        ```\n",
    "        <button type=\"submit\" class=\"btn btn-primary\">댓글 작성</button>\n",
    "        ```\n",
    "        \n",
    "- 사용자의 입력을 받는 요소는 form 태그로 감싼다\n",
    "- div로 각각의 입력할 항목들을 감싸고, 내부에 lable로 해당 항목의 이름을 표시"
   ]
  },
  {
   "cell_type": "markdown",
   "id": "9488a3e1",
   "metadata": {},
   "source": [
    "# 글자 크기 변경\n",
    "\n",
    "- cols=\"50\" 가로길이\n",
    "- rows=\"10\" 세로길이\n",
    "- 안에 숫자를 변경하면 크기가 변경됨\n",
    "- 예)\n",
    "```\n",
    "<textarea name=\"content\" cols=\"50\" rows=\"10\"></textarea>\n",
    "```"
   ]
  },
  {
   "cell_type": "markdown",
   "id": "a7d70df9",
   "metadata": {},
   "source": [
    "# 웹에서 데이터를 전송하는 방법\n",
    "\n",
    "- GET\n",
    "    - 서버에 보낼 데이터가 공개 되어도 상관없는 경우 \n",
    "    - 검색,조회할때 많이 사용하고 URL에 나타남\n",
    "    - 보안이 안좋고 데이터길이에 제한이 있음\n",
    "- POST\n",
    "    - 요청 자체에 데이터를 담아 보내며, 외부에 노출되어서는 안되는 비밀값을 사용할 때 주로 사용\n",
    "    - 데이터 생성,수정 할떄 사용"
   ]
  },
  {
   "cell_type": "markdown",
   "id": "d7e0debc",
   "metadata": {},
   "source": [
    "# POST 요청에 대한 Forbidden 오류\n",
    "\n",
    "- 403 Forbidden : 요청은 받았으나 그 요청을 처리할 권한이 없기 때문에 서버에서 거부함\n",
    "\n",
    "- CSRF 공격\n",
    "    - CSRF 인증에 실패하여 요청이 중단됨\n",
    "    - CSRF : Cross-Site Request Forgery(사이트 간 요청 위조)\n",
    "    \n",
    "- Django에서 처리하는 GET과 POST 요청\n",
    "    - 지금까지 CSRF 인증 오류가 발생하지 않은 이유는 Django가 데이터를 처리하는 방식이 GET/POST 에 따라 다르기 때문\n",
    "        - GET은 사이트의 특정 페이지에 접속하거나, 검색을 하는 등의 읽기/조회 행동을 수행하는데 쓰임\n",
    "        - POST는 사이트의 특정 데이터를 변경/작성 하는데 쓰임\n",
    "        - 따라서 Django는 POST 요청에 대해서 GET 요청보다 더 높은 보안 수준을 적용\n",
    "    \n",
    "- Djago의 CSRF 공격 방어기법\n",
    "    - CSRF 공격 방어의 핵심은 로그인한 사용자가 의도하지 않은 POST 요청을 거부하는 것\n",
    "        - 1. Djago는 새로운 요청을 하는 토큰(브라우저마다 구분되는 값)을 서버에 저장\n",
    "        - 2. POST 요청을 하는 form이 토큰(브라우저별로 구분되는 값)을 가지지않는다면 요청을 거부 \n",
    "            - 브라우저별로 구분되는 값은 서버에 저장되므로 브라우저를 이용하는 사람(이용자 또는 해커)은 그 값을 알 수 없음\n",
    "        - 3. Template 파일에서 {% csrf_token %} 태그를 사용하면 이 영역은 브라우저별로 구분되는 값으로 치환됨"
   ]
  },
  {
   "cell_type": "markdown",
   "id": "f0aecbcd",
   "metadata": {},
   "source": [
    "# POST 데이터를 사용한 DB row 생성\n",
    "\n",
    "- ORM을 사용해서 DB에 데이터를 생성할 때는 create 메서드를 사용\n",
    "    - created_instance(변수명) = 모델.objects.create(필드명=필드값)\n",
    "    - 예) post = Post.objects.create(title=\"ShellTitle\", content=\"ShellContent\")"
   ]
  },
  {
   "cell_type": "markdown",
   "id": "a281a3be",
   "metadata": {},
   "source": [
    "# 댓글작성\n",
    "\n",
    "- 글 작성과의 차이점\n",
    "    - 제목이 없음\n",
    "    - 작성한 댓글이 반드시 어떤 글(Post)에 소속되어야 함"
   ]
  },
  {
   "cell_type": "markdown",
   "id": "ab94571e",
   "metadata": {},
   "source": [
    "# 글 작성 시 이미지 업로드\n",
    "\n",
    "- Post 모델에는 썸네일을 다루는 이미지 필드가 있음\n",
    "- 텍스트와 다르게 이미지와 같은 파일을 form으로 전달받으려면 별도의 처리가 필요\n",
    "- 파일을 첨부할 때는 ``` <input type=\"file\"> ``` 태그를 사용\n",
    "\n",
    "- 파일을 전송해야하는 form에는 enctype=\"multipart/form-data\" 속성을 추가해야함\n",
    "    - enctype 속성은 데이터를 서버로 전송할 때 어떤 인코딩 유형을 쓸 것인지 나타냄\n",
    "    - 인코딩은 form에 추가한 데이터를 어떤 방식으로 변환시킬 것인지 정하는 규격\n",
    "    - form 에 별도로 enctype을 지정하지 않는다면 텍스트 데이터만 보낼 수 있음\n",
    "    - view에서 POST 메서드로 전달받은 데이터는 request.POST 에서 가져옴\n",
    "    - 전송된 파일은 request.FILES 에서 가져와야함"
   ]
  },
  {
   "cell_type": "markdown",
   "id": "5fb0fbf7",
   "metadata": {},
   "source": [
    "# 인증 시스템\n",
    "\n",
    "- 회원가입, 로그인과 같은 사용자 정보를 활용하는 기능을 통틀어 인증 시스템(Authentication system)이라 부름\n",
    "    \n",
    "- CustomUser\n",
    "    - Django는 기본적으로 로그인을 처리할 수 있는 기본 User 모델을 지원하지만 사용 안함\n",
    "        - 기본 User 모델은 ID와 비밀번호, 이름과 같은 최소한의 정보만을 지원\n",
    "        - 사용자 모델에 추가 정보를 저장하고 싶다면 별도의 User 모델을 구성해야함\n",
    "        \n",
    "- AbstractUser : Django가 CustomUser 모델을 만들기 위해 제공하는 기본 유저 형태를 가진 모델 클래스\n",
    "    - AbstractUser를 상속받으면 자동으로 다음 필드들이 모델들이 추가됨\n",
    "        - username : 사용자명,로그인할 때의 아이디\n",
    "        - password : 비밀번호\n",
    "        - first_name : 이름\n",
    "        - last_name : 성\n",
    "        - email : 이메일\n",
    "        - is_staff : 관리자 여부\n",
    "        - is_active : 활성화 여부\n",
    "        - data_joined : 가입 일시\n",
    "        - last_login : 마지막 로그인 일시\n",
    "\n",
    "- 만든 앱에 models.py 에 \n",
    "    - from django.contrib.auth.models import AbstractUser \n",
    "    - import 하고  class User(AbstractUser):\n",
    "                                            pass\n",
    "    - class 만들어주기\n",
    "\n",
    "- 커스텀 유저 모델을 사용하는 경우, 어떤 모델을 User 모델로 사용하는지 settings.py 에 정의해야함\n",
    "    -  사용법 : {App 이름}.{Model 이름}\n",
    "    - 예) AUTH_USER_MODEL = \"users.User\" \n",
    "    \n",
    "- 기본 모델이 아니라 CustomUser 유저를 사용하면 관리자페이지를 다 만들어 줘야함\n",
    "    - admin.py 파일들어가서\n",
    "        - from django.contrib.auth.admin import UserAdmin\n",
    "        - from users.models import User\n",
    "        - import 하기\n",
    "        - @admin.register(User)\n",
    "           class CustomUserAdmin(UserAdmin):\n",
    "                pass\n",
    "        - 관리자하고 class 만들어주기"
   ]
  },
  {
   "cell_type": "markdown",
   "id": "26ddeeed",
   "metadata": {},
   "source": [
    "# 모델 적용\n",
    "- 모델을 새로 만들면 적용을 해야 db에 반영됨\n",
    "    - python manage.py makemigrations\n",
    "    - python manage.py migrate"
   ]
  },
  {
   "cell_type": "markdown",
   "id": "bf206e54",
   "metadata": {},
   "source": [
    "# 한국어, 한국시간으로 바꾸기\n",
    "\n",
    "- settings.py 들어가서\n",
    "    - LANGUAGE_CODE = \"ko-kr\"\n",
    "    - TIME_ZONE = \"Asia/Seoul\"\n",
    "    - 으로 바꿔주기"
   ]
  },
  {
   "cell_type": "markdown",
   "id": "dec54366",
   "metadata": {},
   "source": [
    "# CustomUser에 필드 추가\n",
    "\n",
    "- Customuser에 프로필 이미지와 소개글 필드를 추가\n",
    "- admin.py 에 class CustomUserAdmin(UserAdmin): 밑에 작성\n",
    "- 예)\n",
    "```\n",
    " fieldsets = [\n",
    "        (None, {\"fields\" : (\"username\", \"password\")}),\n",
    "        (\"개인정보\", {\"fields\" : (\"first_name\", \"last_name\", \"email\")}),\n",
    "        (\"추가필드\", {\"fields\" : (\"profile_image\", \"short_description\")}),\n",
    "        (\n",
    "            \"권한\",\n",
    "            {\n",
    "                \"fields\":(\n",
    "                    \"is_active\",\n",
    "                    \"is_staff\",\n",
    "                    \"is_superuser\"\n",
    "                )\n",
    "            }\n",
    "        ),\n",
    "        (\"중요한 일정\", {\"fields\" : (\"last_login\", \"date_joined\")})\n",
    "    ]\n",
    "```\n"
   ]
  },
  {
   "cell_type": "markdown",
   "id": "b81a02b3",
   "metadata": {},
   "source": [
    "# 로그인/피드 페이지 기본 구조\n",
    "\n",
    "- pystagram에 접속하면, 로그인 중이라면 바로 피드 페이지가 나타남\n",
    "- 로그인되지 않았거나 처음 접속한 경우에는 로그인 페이지로 이동 \n",
    "\n",
    "- 아래 두 가지 조건이 맞도록 view에서 동작을 제어해야함\n",
    "\n",
    "    - 이미 사용자가 브라우저에서 로그인을 했다면\n",
    "        - 피드(새 글 목록) 페이지를 보여줌\n",
    "    \n",
    "    - 사용자가 로그인을 한 적이 없다면(또는 로그아웃을 했다면)\n",
    "        - 로그인 페이지를 보여줌"
   ]
  },
  {
   "cell_type": "markdown",
   "id": "44a82426",
   "metadata": {},
   "source": [
    "# page not found(404)에러\n",
    "\n",
    "- 페이지를 찾을 수 없다는 에러\n",
    "- 요청한 URL 에 대한 페이지를 찾을 수 없다는 응답 코드\n",
    "- URL을 해석할 때 매칭되는 패턴을 찾지 못했을 때 발생\n"
   ]
  },
  {
   "cell_type": "markdown",
   "id": "e6d4a12f",
   "metadata": {},
   "source": [
    "# 현재 정의된 URL들은\n",
    "\n",
    "- 1. \"admin/\" 으로 시작하는 URL (관리자 페이지)\n",
    "- 2. 공백 문자열 (index View)\n",
    "- 3. \"media/\"로 시작하는 URL (사용자가 업로드한 정적파일 )\n",
    "\n",
    "- 새로 추가한 users/urls.py 에 정의한 URL은 여기에 나타나지 않음\n",
    "    - 새 urls.py는 RootURLconf 에 등록해야함\n",
    "    "
   ]
  },
  {
   "cell_type": "markdown",
   "id": "58cc71a5",
   "metadata": {},
   "source": [
    "- pystagram/urls.py 에서 사용된 include 함수는 users/로 시작하는 URL을 users/urls.py에서 처리하게 하며, 127.0.0.1:8000/users/login/ URL은 다음의 과정을 거쳐 view에 전달됨\n",
    "\n",
    "- 1. pystagram/urls.py\n",
    "    - /users/로 시작하는 URL을 users/urls.py 로 전달\n",
    "    \n",
    "- 2. users/urls.py\n",
    "    - 나머지 login/ 부분을 login_view 로 전달\n",
    "    \n",
    "- 3. urls에서 전달해준 요청을 view가 처리"
   ]
  },
  {
   "cell_type": "markdown",
   "id": "0e644822",
   "metadata": {},
   "source": [
    "# 로그인 여부에 따른 접속 제한\n",
    "\n",
    "- 로그인 여부에 따라 동작을 구분하려면 요청을 보낸 사용자의 정보가 필요\n",
    "- View 함수에 전달된 요청(request) 에서 사용자 정보는 request.user 속성으로 가져올 수 있으며, 가져온 request.user 가 로그인된 사용자인지 여부는is_ authenticated 속성으로 확인할 수 있음"
   ]
  },
  {
   "cell_type": "markdown",
   "id": "1a7344d0",
   "metadata": {},
   "source": [
    "# redirect\n",
    "\n",
    "- 다른 URL로 보낼때\n",
    "- 사용할때는 redirect 를 import 해줘야함 \n",
    "\n",
    "- 예) return redirect(\"/posts/feeds/\")"
   ]
  },
  {
   "cell_type": "markdown",
   "id": "ec044a10",
   "metadata": {},
   "source": [
    "- LoginForm 인스턴스 생성에 딕셔너리를 전달하면 Form 클래스는 정의된 필드들에 올바른 값이 들어왔는지, 제약 조건을 지킨 데이터가 들어왔는지를 검사\n",
    "\n",
    "- is_valid() 메서드를 호출할 때 이 검사가 실행되며, 검사 결과가 올바른지를 True/False로 return 해줌\n",
    "\n",
    "- 전달된 데이터를 검증하는 것 외에도, Form 클래스는 Template에서 input 요소를 생성하는 기능도 수행\n",
    "\n",
    "- Form 은 Template에 input 요소들을 생성할 때와 자신에게 전달된 데이터를 검증할 때 사용\n",
    "    - 일반적으로 data가 없이 생성된 Form은 Template에 form 정보를 전달하기 위해 사용\n",
    "    - data 인수를 채운채로 생성된 Form은 해당 data의 유효성을 검증하기 위해 사용"
   ]
  },
  {
   "cell_type": "markdown",
   "id": "f4ee60f2",
   "metadata": {},
   "source": [
    "# Form.is_valid( )\n",
    "\n",
    "- is_valid( ) 메서드를 실행하기 전에는 form의 cleaned_data 에 접근할 수 없음\n",
    "- Form 클래스를 사용해 데이터를 받았다면 반드시 form.is_valid( )를 호출해야함"
   ]
  },
  {
   "cell_type": "markdown",
   "id": "41598f23",
   "metadata": {},
   "source": [
    "# authenticate\n",
    "\n",
    "- 주어진 값에 해당하는 사용자가 있는지 판단\n",
    "\n",
    "- username과 password에 해당하는 사용자가 있다면 함수의 실행 결과로 User 인스턴스가 반환되며, 없다면 반환되지 않음\n",
    "\n",
    "- authenticate 함수의 실행 결과가 User 객체라면 입력한 값(credentials; 자격증명)에 해당하는 사용자가 리턴 \n",
    "\n",
    "- 예)\n",
    "```\n",
    "def login_view(request):\n",
    "    if request.user.is_authenticate:\n",
    "```\n",
    "\n",
    "\n",
    "# login\n",
    "\n",
    "- 브라우저에 해당 사용자를 유지시켜주는 기능\n",
    "\n",
    "- authenticate 가 단순히 입력한 username/password 에 해당하는 사용자가 있는지 검사하고 User 객체를 되돌려준다면, login 함수는 우리가 웹사이트에 로그인 했다면 기대하는 로그인 상태로 변환 및 유지 기능을 담당\n",
    "    - login 함수 호출에는 현재 요청(requset) 객체와 사용자(User)객체가 필요\n",
    "\n",
    "\n",
    "# 로그아웃 구현 및 로그인 개선\n",
    "\n",
    "- 로그아웃은 로그인과 달리 입력값을 받지 않으므로 Template 없이 View만으로 구현할 수 있음\n",
    "\n",
    "- 로그아웃 기본 구조\n",
    "    - View : logout_view\n",
    "    - URL : 127.0.0.1:8000/users/logout\n",
    "    - Template : 없음\n",
    " "
   ]
  },
  {
   "cell_type": "markdown",
   "id": "a13a61f2",
   "metadata": {},
   "source": [
    "# 회원가입\n",
    "\n",
    "- 회원가입은 Post 객체를 만드는 글쓰기와 유사하게 입력받은 정보로 User 객체를 만드는 작업\n",
    "    - 다만, User 객체는 다른 일반적인 Model 클래스와는 다른 특징들을 갖고 있어, 몇 가지 더 고려할 사항들이 있음\n",
    "    \n",
    "- 회원가입 기본 구조\n",
    "    - view : signup\n",
    "    - URL : 127.0.0.1:8000/users/signup/\n",
    "    - Template : templates/users/signup.html\n",
    "    \n",
    "- django는 User의 비밀번호를 변형해서 저장함\n",
    "    - 사용자가 입력한 비밀번호를 암호화하지 않고 DB에 저장하는 것은 보안에도 문제가 있고, 대한민국 개인정보 보호법 위반\n",
    "\n",
    "- django의 User 모델에는 비밀번호를 변형해서 저장하는 기능이 내장되어 있음\n",
    "    - 사용자 정보는 create_user( ) 메서드를 사용해야함 \n",
    "    \n",
    "- user 생성하기\n",
    "    - User를 생성할 때는 몇 가지 고려해야할 사항이 있음\n",
    "        - 1. 비밀번호와 비밀번호 확인의 값이 같아야 함\n",
    "        - 2. 같은 사용자명을 사용하는 User는 생성 불가 및 오류 전달"
   ]
  },
  {
   "cell_type": "markdown",
   "id": "f62d506d",
   "metadata": {},
   "source": [
    "# SignupForm 내부에서 데이터 유효성 검사\n",
    "\n",
    "- Form 클래스는 기본적으로 탑재된 유효성 검사 외에 추가적인 검사를 하도록 커스터마이징 할 수 있음\n",
    "    - 회원가입시 입력 받는 데이터는 username과 password1, password2 이 데이터에 대한 데이터 검증이 필요\n",
    "    \n",
    "- 하나의 필드에 대한 유효성 검사는 clean_{필드명} 메서드가 담당\n",
    "\n",
    "- Form에 전달된 전체 data에 대한 유효성 검사는 clean 메서드가 담당\n",
    "    - 예) 하나의 필드인 username은 clean_username 메서드에 검증 로직을 작성\n",
    "    - 예) 비밀번호는 두 개의 필드 내용을 동시에 사용해야 하므로(password1, password2) 하나의 필드 데이터만 가지고 검증할 수 없음. 이때는 전체 데이터를 사용할 수 있는 clean 메서드를 사용\n",
    "    \n",
    "- clean_username은 SignupForm 에 전달된 username 키에 해당하는 값을 검증할 때 사용됨\n",
    "    - 검증하려는 필드 데이터에 접근할 때는 self.cleaned_data[\"필드명\"] 에서 값을 가져옴\n",
    "    - 이 값을 사용할 수 있다면 함수에서 return 해주고, 유효하지 않다면 ValidationError 를 발생시킴\n",
    "    - clean_username 에서 ValidationError 를 발생시키는 것은 Form.add_error(\"username\", {입력한 에러메시지}) 를 호출하는 것과 같음\n",
    "    \n",
    "- 두 개 이상의 필드값을 동시에 비교해야 할 때는 전체 데이터의 검증을 수행하는 clean 메서드 내부에 로직을 구현\n",
    "\n",
    "- clean_{필드명} 메서드와는 달리, clean 메서드는 마지막에 값을 리턴하지 않아도 됨"
   ]
  },
  {
   "cell_type": "markdown",
   "id": "e9616253",
   "metadata": {},
   "source": [
    "# Template을 확장하는 {% extends %} 태그\n",
    "\n",
    "- {% extend \"템플릿 경로\" %} 태그는 입력한 경로의 template을 기반으로 새 Template 을 생성\n",
    "\n",
    "- 공통되는 부분은 남겨두고, Template마다 변경되는 부분은 {% block content %}{% endblock %} 으로 치환\n",
    "    - {% block %} 영역은 이 Template을 확장하는 하위 템플릿에서 변경 가능한 부분\n",
    "    - base.html에는 하나의 block 밖에 없으므로, base.html을 확장(extends) 하는 하위Template 들은 content block 내의 영역만 편집 가능하며\n",
    "    - 나머지 부분은 base.html 의 변경사항을 따라가게 됨\n",
    "    \n",
    "- content block 내부를 채우려면\n",
    "    - {% block content %} 로 블록 영역이 시작함을 알리고\n",
    "    - {% endblock %} 으로 영역이 끝났음을 선언해주어야 함"
   ]
  },
  {
   "cell_type": "markdown",
   "id": "b1ba5c93",
   "metadata": {},
   "source": [
    "# 댓글 작성\n",
    "\n",
    "- 블로그 프로젝트에서는 목록 화면에서는 댓글을 보여주기만 하며, 댓글 작성은 글 내부에서만 가능했지만\n",
    "\n",
    "- 피드 페이지에서는 댓글 달기 기능을 한 화면에서 각 post 마다 구현해야함\n",
    "\n",
    "- 사용자의 입력을 받는 input을 직접 만들수도 있지만 Form 클래스를 사용하는 것이 Django의 기본 규칙\n",
    "\n",
    "- 이전까지는 forms.Form 클래스를 사용했지만 ModelForm 클래스를 사용하면 DB테이블에 해당하는 모델 클래스와 연관된 기능들을 제공함\n",
    "    - django 모델에 있는 필드인 models.CharField( )나 models.IntegerField( ) 는 ModelForm 에서 forms.CharField( )나 foems.IntegerField( ) 와 같은 Form 에서 사용하는 Field로 자동 변환됨\n",
    "    \n",
    "- ModelForm 인스턴스에서 save( )를 호출하면 전달받은 데이터를 사용해서 지정된 모델 인스턴스를 생성\n",
    "    - 오류가 발생\n",
    "    - 발생한 오류는 posts_comment 테이블의 post_id는 NULL을 허용하지 않는다는 메시지\n",
    "    - 오류 해결 방법은 두 가지\n",
    "        - 1. CommentForm 으로 Comment 객체를 일단 만들되, 메모리상에 객체를 만들고 필요한 데이터를 나중에 채우기\n",
    "        - 2. CommentForm에 NULL을 허용하지 않는 모든 필드를 선언하고, 인스턴스 생성 시 유효한 데이터를 전달\n"
   ]
  },
  {
   "cell_type": "markdown",
   "id": "2153d405",
   "metadata": {},
   "source": [
    "- ModelForm에 모든 필드를 지정하면 별도의 작업 없이 save( )만 호출하면 새 모델 인스턴스가 생기므로 fields 리스트에 모든 필드를 지정하는게 맞다고 생각할 수 있음\n",
    "    - 하지만 Form에서 전달받는 데이터는 **사용자가 입력한 데이터** 이어야 함\n",
    "    \n",
    "- Comment 를 생성하기 위해 필요한 데이터는 3가지\n",
    "- 1. 어떤 글의 댓글인지(Post)\n",
    "- 2. 어떤 사용자의 댓글인지(User)\n",
    "- 3. 어떤 내용을 가지고 있는지(Content)\n",
    "    - 여기서 사용자가 입력하는 데이터는 1번과 3번\n",
    "    - 어떤 사용자가 댓글을 생성했는지는 사용자가 입력한 데이터에 있으면 안되는 값이며, 시스템에서 자동으로 입력되어야 함\n",
    "\n",
    "- 그러므로 CommentForm은 post와 content만을 전달받은 값으로 지정해야하며, 작성자 정보인 user는 시스템에서 채워야함"
   ]
  },
  {
   "cell_type": "markdown",
   "id": "da34c06b",
   "metadata": {},
   "source": [
    "# 댓글 작성 처리를 위한 view 구현\n",
    "\n",
    "- 지금까지는 form을 사용한 POST 요청으로 받은 데이터를 같은 페이지에서 처리했음\n",
    "\n",
    "- 많은 역할을 하나의 View에서 처리하게 되면 코드를 유지보수하기 어려워짐\n",
    "\n",
    "- 댓글 작성 form에서 전송한 데이터는 별도의 댓글 작성 View에서 처리\n",
    "\n",
    "###### View에 require_POST 데코레이터를 사용하면 오로지 POST 유형의 요청만 처리하며, 이외의 유형에 요청에는 405 Method Not Allowed 응답을 돌려줌\n"
   ]
  },
  {
   "cell_type": "markdown",
   "id": "0fdc898c",
   "metadata": {},
   "source": [
    "## 지금까지 form 태그에서 지정해본 속성값\n",
    "\n",
    "- method : GET과 POST 중 어떤 방식으로 데이터를 전달할지\n",
    "- enctype : 기본값과 파일 전송을 위한 값 중 선택"
   ]
  },
  {
   "cell_type": "markdown",
   "id": "730b7fb6",
   "metadata": {},
   "source": [
    "- 이번에 사용할 이 속성값은 action\n",
    "    - action : 이 form의 요청을 어디로 보낼지를 지정\n",
    "        - 비어있는 경우에는 현재 브라우저의 URL을 사용\n",
    "        \n",
    "- 예) action=\"이동할 경로 URL 입력\"\n",
    "- 예) action=\"/posts/comment_add/\""
   ]
  },
  {
   "cell_type": "markdown",
   "id": "ac17b7e0",
   "metadata": {},
   "source": [
    "# 작성 완료 후 원하는 Post위치로 이동\n",
    "\n",
    "- 글에 댓글을 추가한 후, 피드 페이지의 최상단이 아니라 댓글을 추가한 글로 돌아올 수 있도록 구현\n",
    "    - HTML 요소의 id 속성을 활용할 수 있음\n",
    "    \n",
    "-  URL 뒤에 #(HTML 요소의 id)를 입력하면, 그 id를 가진 요소의 위치로 이동하게 됨"
   ]
  },
  {
   "cell_type": "markdown",
   "id": "feb15589",
   "metadata": {},
   "source": [
    "# 글의 댓글 수 표시\n",
    "\n",
    "- Post에 몇 개의 Comment가 연결되었는지 표시\n",
    "\n",
    "- 연결된 객체의 정보가 전부 필요하지 않고 단순히 개수만 필요하다면 QuerySet의 count 메서드를 사용하면 좋음\n",
    "\n",
    "- count( )로 사용하고 HTML에서는 count만 써서 사용 ( ) 제외하고 사용\n",
    "\n",
    "- 예) {{ post.comment_set.count }}"
   ]
  },
  {
   "cell_type": "markdown",
   "id": "bc76e365",
   "metadata": {},
   "source": [
    "# 댓글 삭제\n",
    "\n",
    "- 삭제할 댓글의 id정보를 받고, 받은 id에 해당하는 Comment 객체를 delete() 메서드로 삭제\n",
    "    - 댓글 삭제는 DB의 내용을 수정하는 명령이므로 method가 POST일 때만 동작해야함\n",
    "    \n",
    "- Comment를 작성한 소유자가 아니어도 적당한 Comment의 id값을 사용해 comment_delete에 삭제 요청을 하면 댓글을 삭제할 수 있음\n",
    "\n",
    "- View 함수에서 삭제 요청이 들어온 Comment의 작성자가 요청한 사용자와 일치하는지 먼저 확인해야함"
   ]
  },
  {
   "cell_type": "markdown",
   "id": "d5fdbd4d",
   "metadata": {},
   "source": [
    "# 글 작성 기본구조 구현\n",
    "\n",
    "- View : post_add\n",
    "- URL : 127.0.0.1:8000/posts/post_add/\n",
    "- Template : templates/posts/post_add.html"
   ]
  },
  {
   "cell_type": "markdown",
   "id": "59570c29",
   "metadata": {},
   "source": [
    "# form을 만들고 HTML에 가지고 올려면\n",
    "\n",
    "- form 만들기 \n",
    "    - PostForm은 class명\n",
    "    - forms.ModelForm은 forms를 사용할려면 django에서 기본적으로 제공하는 ModelForm을 사용해야함\n",
    "    - forms.ModelForm을 사용하려면 class Meta를 무조건 써야함\n",
    "```\n",
    "class PostForm(forms.ModelForm):\n",
    "    class Meta:\n",
    "        model = Post\n",
    "        fields = [\n",
    "            \"content\",\n",
    "        ]\n",
    "        widgets = {\n",
    "                \"content\": forms.Textarea(\n",
    "                    attrs={\n",
    "                        \"placeholder\": \"작성\",\n",
    "                    }\n",
    "                )\n",
    "            }\n",
    "```\n",
    "\n",
    "- 만든 form을 views로 보내고 받은 form을 views에서 함수로 만든다\n",
    "    - post_add는 함수명\n",
    "```\n",
    "def post_add(request):\n",
    "    form = PostForm()  # PostForm을 form이라는 변수로 받게하고 / PostForm에 ( )를 입력해야 PostForm 객체가 들어감( )필수\n",
    "    context = {\"form\" : form}  # form을 딕셔너리로 context에 넣기(form은 value로 들어감) \n",
    "    return render(request, \"posts/post_add.html\", context)\n",
    "```\n",
    "\n",
    "- views에서 만든 함수를 HTML로 보내기\n",
    "```\n",
    "<form mehtod=\"POST\">\n",
    "    <h1>Post-add</h1>\n",
    "    {% csrf_token %}\n",
    "        {{ form.as_p }}\n",
    "# 만든 form을 사용할려면 <form></form>으로 감싸고 views에서 보낸 값을 확인\n",
    "# 위 코드에서는 PostForm을 form으로 만들고 context 에 form을 딕셔너리 형태로 만들었기 때문에  HTML로 넘어오는 값은 키 값인 \"form\"이 넘어온다\n",
    "# 넘어온 \"form\"을 사용할려면 {{  }} 에 넘어온 form을 위 코드 처럼 입력한다 \n",
    "# .as_p 는 같이 써주면 자동으로 p태그를 만들어줌\n",
    "</form>\n",
    "```\n"
   ]
  },
  {
   "cell_type": "markdown",
   "id": "456cab73",
   "metadata": {},
   "source": [
    "### Post 를 만들기 위해서는 내용 뿐 아니라 이미지 파일들도 필요 이밎 파일을 저장하는 필드는 Post 모델이 아닌 PostImage 모델에 있음\n",
    "\n",
    "##### ModelForm 은 기본적으로 class Meta 속성에 정의한 하나의 모델만을 생성할 수 있음\n",
    "\n",
    "- 이미지 파일 여러 장을 추가로 받아 처리하는 기능은 가지고 있지 않음\n",
    "\n",
    "- 여러 장의 이미지를 업로드해서 PostImage 객체를 여러 개 생성하는 기능을 PostForm과는 별도로 구성\n",
    "\n",
    "##### 파일을 첨부하기 위해 ```<input>``` 의 type 속성을 file 로 선언\n",
    "\n",
    "- 여러 개의 파일을 첨부하기 위해서는 multiple 속성이 추가로 선언되어야 함\n",
    "    - multiple 속성은 선언만 하면 되며 따로 값을 지정하지는 않음\n",
    "    \n",
    "- 파일을 첨부할 것이므로 form 의 enctype 을 multipart/form-data 로 지정\n",
    "\n",
    "- label 에 있는 for 속성은 이 label이 어떤 input 에 대한 설명인지를 지정하는 역할\n",
    "    - 값을 가리키는 input 의 id속성값을 지정해야함\n",
    "    \n",
    "##### View에서 multiple 속성을 가진 file input 데이터받기\n",
    "\n",
    "- Template의 images와 content 중 content 는 PostForm 으로 전달하고 images 로 전달된 여러 개의 파일은 별도로 처리해야 함\n",
    "\n",
    "- multiple 속성으로 전달한 여러 개의 파일 데이터는 request.FILES 대신 request.FILES.getlist(\"<전달된 input의 'name'\n"
   ]
  },
  {
   "cell_type": "markdown",
   "id": "6dda5ae3",
   "metadata": {},
   "source": [
    "# 동적 URL\n",
    "### URL 경로를 변경할 때 생기는 중복작업\n",
    "\n",
    "- 프로젝트가 복잡해질수록 한 URL을 여러 곳에서 사용할 것이고, 변경할 부분이 많음\n",
    "    - URLconf 에 있는 URL 값이 변경되었을 때 자동으로 변경된 내용을 반영할 수 있다면 고나리가 쉬워짐\n",
    "    - Django 에서는 이를 위해 동적 URL을 사용할 수 있는 기능을 제공함\n",
    "    \n",
    "### 동적 URL 생성을 위한 요소 추가\n",
    "\n",
    "- 동적으로 URL을 생성해서 사용하기 위해서는 app별로 분리된 하위 urls.py 에 app_name 이라는 속성이 필요\n",
    "    - urls.py 에 app_name = \"app 이름\" 만들어줘야함\n",
    "    - 관습적으로 이름은 앱을 따라감\n",
    "        - pystagram에서는 app_name = \"users\" / app_name = \"posts\" \n",
    "    \n",
    "### Template을 위한 {% url %} 태그(Template에서만 사용가능)\n",
    "\n",
    "- {% 'URL 'pattern name' %} 태그는 Template 에서 urls.py 의 내용을 이용해 동적으로 URL을 생성해줌 \n",
    "    - URL pattern name 은 {urls.py에 있는 app_name}:{path()에 지정된 name} 의 구조\n",
    "    \n",
    "#### 사용방법\n",
    "\n",
    "- urls.py에 만들어둔 url 뒤에 name=\"사용할 이름\"을 만들어주고\n",
    "    - 예) path(\"login/\", views.login_view, name=\"login\")\n",
    "\n",
    "- 만든 앱이름과 url이름으로 경로지정\n",
    "    - \"{% url 'users:login' %}\"로 입력하면 해당 URL로 이동함\n",
    "    \n",
    "- 댓글삭제 URL\n",
    "\n",
    "- {% url 'posts:comment_delete' comment_id=comment.id %}\n",
    "    - URL pattern name 이 posts:comment_delete 로, app_name이 posts 인 urls.py에서 name 이 comment_delete 인 URL을 동적으로 생성하겠다는 의미\n",
    "        - 이 경로는 ```<int:commnet_id>``` 부분의 값을 URL을 통해 동적으로 입력받음\n",
    "        - 그러므로 이 path() 를 사용해서 URL 경로를 만들려면 동적으로 입력받는 부분인 comment_id 값이 필요함\n",
    "        "
   ]
  },
  {
   "cell_type": "markdown",
   "id": "bf186c1b",
   "metadata": {},
   "source": [
    "# View의 동적 URL 변경\n",
    "\n",
    "- template 에서 {% url %} 태그를 사용하듯, View에서는 reverse 함수로 동적 URL을 생성\n",
    "- from django.urls import reverse \n",
    "    - (\"posts:feeds\")로 사용가능\n",
    "    \n",
    "- f\"/posts/feeds/#post-{comment.post.id}\"  처럼 특정 아이디 값을 가져올려면\n",
    "    - url = reverse(\"posts:feeds\") + f\"#post-{comment.post.id}\"\n",
    "        return HttpResponseRedirect(url)\n",
    "        - 위 코드처럼 url 변수에 담아서 보내야함"
   ]
  },
  {
   "cell_type": "markdown",
   "id": "049e8773",
   "metadata": {},
   "source": [
    "# 다대다 관계 모델\n",
    "\n",
    "- 다대일(Many-to-don, N:1) 관계는 한 테이블의 한 레코드가 다른 테이블의 여러 레코드와 연관됨을 나타냄\n",
    "\n",
    "- 다대다(Many-to-Many, N:N) 관계는 한 테이블의 여러 레코드가 다른 테이블의 여러 레코드와 연관되는 관계\n",
    "\n",
    "- 다대다 관계는 두 테이블의 연결을 정의하는 또 하나의 테이블이 필요\n",
    "\n",
    "- Post 모델에서 다대다를 선언하거나, HashTag 모델에서 다대다를 선언하거나 어느쪽이든 중간에 테이블이 하나 만들어진다는 결과는 같음\n",
    "    - 하지만 관계에서 어느 쪽이 좀 더 다른 쪽을 포함하는지에 따라 다대다를 선언하는 모델이 달라짐\n",
    "        - 둘 중에서 좀 더 타당ㅇ하게 느껴지는 쪽을 다대다를 선언하는 모델로 정함\n",
    "            - 글(Post)에 해시태그 여러 개를 포함하기\n",
    "            - 해시태그(HashTag)에 글 여러 개를 포함하기"
   ]
  },
  {
   "cell_type": "markdown",
   "id": "7da75a00",
   "metadata": {},
   "source": [
    "# 관리자페이지에서 여러 해시태그를 고를 수 있지만 체크박스 형태의 UI보다 불편\n",
    "\n",
    "- admin 에 formfield_overrides 옵션을 추가하면 선택할 항목을 checkbox 로 표시할수 있음 \n",
    "\n",
    "#### Post 모델에 tags 라는 이름의 ManyToManyField 를 선언했음\n",
    "\n",
    "- post.tags.all() 로 연결된 전체 HashTag 객체를 불러올 수 있음\n",
    "\n",
    "#### 해시태그 검색 기본 구조\n",
    "\n",
    "- View : posts/views.py > tags 함수\n",
    "- URL : 127.0.0.1:8000/posts/tags/{tag의 name}/\n",
    "- Templates : templates/posts/tags.html"
   ]
  },
  {
   "cell_type": "markdown",
   "id": "0aab3255",
   "metadata": {},
   "source": [
    "- objects.get()\n",
    "    - 하나의 행만 가져옴\n",
    "\n",
    "- objects.all()\n",
    "    - 있는거 다 가져오기\n",
    "    \n",
    "- objects.filter()\n",
    "    - 특정조건에 맞는거 가져오기"
   ]
  },
  {
   "cell_type": "markdown",
   "id": "fda1d86a",
   "metadata": {},
   "source": [
    "# 해시태그 생성\n",
    "\n",
    "- 모델에 정의된 ManyToManyField 에 HashTag 를 추가할 때는 add 함수를 사용"
   ]
  },
  {
   "cell_type": "markdown",
   "id": "2dcf20c5",
   "metadata": {},
   "source": [
    "# get_or_create()\n",
    "\n",
    "- get_or_create() : 인수로 전달하는 값에 해당하는 객체가 이미 존재한다면 DB의 내용을 가져오고, 없다면 새로 DB에 생성\n",
    "\n",
    "- get_or_create() 의 결과는 2개의 아이템을 가진 튜플로 반환\n",
    "    - {DB에서 가져오거나 생성된 객체},{생성 여부} = Model.objects.get_or_create()\n",
    "        - 생성 여부는 새로 만들었으면 True, DB에서 가져왔으면 False"
   ]
  },
  {
   "cell_type": "markdown",
   "id": "b04545b9",
   "metadata": {},
   "source": [
    "# 글 상세 페이지\n",
    "\n",
    "- 기본 구조\n",
    "- View : posts/views.py > post_detail\n",
    "\n",
    "- URL : 127.0.0.1:8000/posts/```<post_id>```\n",
    "\n",
    "- Template : templates/posts/post_detail.html"
   ]
  },
  {
   "cell_type": "markdown",
   "id": "8531497d",
   "metadata": {},
   "source": [
    "# Template 재사용\n",
    "\n",
    "- {% include %} 태그로 ```<article>``` 태그를 재사용"
   ]
  },
  {
   "cell_type": "markdown",
   "id": "c113fdfc",
   "metadata": {},
   "source": [
    "# 글 작성 후 이동할 위치 지정\n",
    "\n",
    "- 기존의 댓글 작성 후 redirect 로직\n",
    "    - 댓글 작성 완료 후 피드 페이지로 이동하라는 응답을 반환\n",
    "    - 댓글은 피드 페이지와 글 상세 페이지 양쪽에서 작성할 수 있으므로 각각의 경우에 따라 다르게 지정\n",
    "    \n",
    "#### {% include %} 태그의 with 옵션\n",
    "- 각각의 글을 나타내는 HTML 요소는 {% include 'post.html' %} 로 가져오고 있으며 댓글을 작성하는 CommentForm 은 post.html Template 내에서 사용하고 있음\n",
    "- post.html 을 include 로 가져오면서 댓글 작성 후 이동할 URL 값을 전달해야함\n",
    "\n",
    "#### {% 태그명 as 변수명 %}\n",
    "\n",
    "- {% 태그명 as 변수명 %} : 태그로 만들어진 결과 값을 Template 내에서 사용할 변수에 할당\n",
    "- {% url 'posts:post_detail' post.id as action_redirect_to %} 는 post.id의 상세 페이지 URL이 action_redirect_to 변수에 할당\n",
    "    - action_redirect_to 변수에 할당된 상세 페이지 URL은 댓글 작성이 완료된 후에 브라우저에서 이동해야 할 주소\n",
    "    \n",
    "#### {% include 'Template 명' with 변수명=값 %}\n",
    "\n",
    "- {% include 'Template 명' with 변수명=값 %} : include 로 가져올 Template에 변수명으로 값을 전달\n",
    "\n",
    "- {% include 'posts/post.html' with action_redirect_url=action_redirect_to %} 는 post.html Template을 렌더할 때, action_redirect_url 이라닌 변수를 추가적으로 사용 할 수 있게됨"
   ]
  },
  {
   "cell_type": "markdown",
   "id": "9059a590",
   "metadata": {},
   "source": [
    "###  {% with %}{% endwith %}\n",
    "\n",
    "- {% with %}{% endwith %} 태그는 변수를 만들어주는 태그\n"
   ]
  },
  {
   "cell_type": "markdown",
   "id": "1a1e3f2e",
   "metadata": {},
   "source": [
    "# Template 중복코드 제거\n",
    "\n",
    "- 각 화면 단위 기능의 기반에 되는 레이아웃은 3가지\n",
    "    - 상단 내비게이션 바가 없는 레이아웃\n",
    "        - base.html\n",
    "    \n",
    "    - 내비게이션 바가 있는 레이아웃\n",
    "        - base_nav.html\n",
    "    \n",
    "    - 네비게이션 바가 있으며, 이미지 슬라이더 기능이 포함된 레이아웃\n",
    "        - base_slider.html"
   ]
  },
  {
   "cell_type": "markdown",
   "id": "2314ff92",
   "metadata": {},
   "source": [
    "# 좋아요 기능\n",
    "\n",
    "- 좋아요 기능은 해시태그와 같은 다대다 관계를 사용\n",
    "- 해시태그는 글 생성 시 입력한 문자열을 쉼표 단위로 구분해서 생성했지만, 좋아요는 form과 button 으로 구성해서 언제든 추가/삭제할 수 있는 토글방식으로 구현\n",
    "\n",
    "## 좋아요 모델, 관리자 페이지 구성\n",
    "\n",
    "- 좋아요 기능은 해시태그와 같은 M2M DB 구조를 사용\n",
    "\n",
    "- 사용자가 좋아요 를 누른 Post 와 Post에 좋아요를 누른 사용자들의 관계는 사용자의 좋아요 액션으로 만들어짐\n",
    "    - 사용자 쪽이 주도적이므로 User 모델에 like_posts 로 ManyToManyField를 정의하고, 좋아요 기능을 구현"
   ]
  },
  {
   "cell_type": "markdown",
   "id": "fa2184df",
   "metadata": {},
   "source": [
    "#### 필드에 정의한 related_name 속성은 역방향으로 Model 을 참조할 때 사용하는 이름\n",
    "\n",
    "- USer 입장에서는 좋아요 한 목록을 user.like_posts.all() 로 불러올수 있으며\n",
    "- 반대로 Post 입장에서는 자신에게 좋아요 를 누른 User 목록을 post.like_users.all() 로 불러올 수 있음\n",
    "\n",
    "#### 만약 related_name을 별도로 지정하지 않으면 {모델명의 소문자}_set 으로 지정됨\n",
    "\n",
    "- post.user_set 이라는 이름은 오떤 조건의 User 들과 연결된 것인지 알 수 없으므로 의미를 명확하게 나타내기 위해 related_name 을 별도로 지정\n",
    "\n",
    "#### 좋아요 처리는 토글(toggle) 방식을 사용\n",
    "\n",
    "- 이미 좋아요를 누른 상태라면 해제\n",
    "- 그렇지 않다면 좋아요 상태로 만듦\n",
    "- ManyToMany 연결을 제거하거나 추가하는 방식으로 구현할 수 있음\n",
    "\n",
    "- 사용자가 좋아요를 누른 Post 목록에 좋아요 요청이 전달된 Post 가 포함되어있는지 판단하고\n",
    "    - 이미 존재한다면 연결을 삭제\n",
    "    - ManyToManyField 의 remove 메서드로 연결을 삭제할 수 있음\n",
    "\n",
    "- 반대로 전달된 Post 가 이미 좋아요 를 누른 목록에 속하지 않는다면\n",
    "    - add로 새로운 연결을 생성\n",
    "    \n",
    "- 생성이든 삭제든 로직이 실행된 후에는 댓글 작성 때와 같이 next로 전달된 URL로 되돌아감\n",
    "\n",
    "###### form 의 action 주소는 방금 생성한 post_like View 함수로 연결되게 하며, DB 데이터를 변경하므로 method 는 POST 방식을 사용\n",
    "\n",
    "###### csef_token 을 제외하면 form 내부에 아무런 input 이 없음\n",
    "- Post 의 좋아요 토글 기능에는 특별히 전달할 데이터가 없고\n",
    "- 이런 경우 내부 요소 없이 단순히 POST 요청만을 전달\n",
    "\n",
    "###### {% if user in post.like_users.all %} 태그로 이 Post 에 좋아요 를 누른 모든 User 목록에 현재 로그인한 유저가 포함되는지 판단\n",
    "\n",
    "- 좋아요를 누른 상태라면 button 태그의 style 속성에 color: red; 값을 지정해 글자를 빨간색으로 바꾸어 사용자가 이 Post 에 좋아요를 한 상태임을 표시"
   ]
  },
  {
   "cell_type": "markdown",
   "id": "452bb89d",
   "metadata": {},
   "source": [
    "# 팔로우/팔로잉 기능\n",
    "\n",
    "- 팔로우/팔로잉 관계는 해시태그, 좋아요와 같이 ManyToManyField 를 사용해 다대다 관계로 구성되나 이들과는 다른 점이 있음\n",
    "\n",
    "- 해시태그와 좋아요는 한쪽에서의 연결은 반대쪽에서의 연결도 나타나는 대칭적(Symmetrical)인 관계\n",
    "\n",
    "- 팔로우/팔로잉 관계는 한쪽에서의 연결과 반대쪽에서의 연결이 별도로 구분되는 비대칭적인 관계\n"
   ]
  },
  {
   "cell_type": "markdown",
   "id": "a2b1a8d2",
   "metadata": {},
   "source": [
    "# 프로필 페이지\n",
    "\n",
    "- 프로필 페이지 기본 구조\n",
    "    - 자신의 정보, 작성한 글, 팔로우/팔로잉 수를 보여줄 페이지\n",
    "    - View : users/views.py > profile\n",
    "    - URL : 127.0.0.1:8000/users/<int:user_id>/profile/\n",
    "    - Template : template/users/profile.html"
   ]
  },
  {
   "cell_type": "markdown",
   "id": "c571073b",
   "metadata": {},
   "source": [
    "# base_profile.html 구성\n",
    "\n",
    "- 프로필 페이지에서는 사용자 정보와 사용자의 Post 목록을 표시\n",
    "- 프로필 페이지의 사용자 정보는 재사용하고 Post 목록 대신 팔로우/팔로잉 목록을 사용할 수 있도록\n",
    "- 상단 사용자 정보를 공통으로 사용하는 기반 Template 인 base_profile.html을 구성"
   ]
  },
  {
   "cell_type": "markdown",
   "id": "b964dc79",
   "metadata": {},
   "source": [
    "# 팔로우/팔로잉 목록\n",
    "\n",
    "- 자신을 팔로우하는 사용자 목록\n",
    "    - View : users/views.py > followers\n",
    "    - URL : /users/<int:user_id>/followers/\n",
    "    - Template : templates/users/followers.html\n",
    "    \n",
    "# 자신이 팔로우하는 사용자 목록\n",
    "- 자신이 팔로우하는 사용자 목록\n",
    "    - View : users/views.py > following\n",
    "    - URL : /users/<int:user_id>/following/\n",
    "    - Template : templates/users/following.html"
   ]
  },
  {
   "cell_type": "markdown",
   "id": "5f90f845",
   "metadata": {},
   "source": [
    "# 팔로우 토글 View\n",
    "\n",
    "- Post의 좋아요 기능과 같이 이미 팔로우 되어 있다면 언팔로우를\n",
    "- 팔로우 되어 있지 않다면 팔로우 목록에 추가하는 토글 기능을 사용\n",
    "    - View : users/views.py - follow\n",
    "    - URL : /users/```<int:user_id>```/follow/\n",
    "    - Template : 없음"
   ]
  },
  {
   "cell_type": "code",
   "execution_count": null,
   "id": "d087726b",
   "metadata": {},
   "outputs": [],
   "source": []
  },
  {
   "cell_type": "code",
   "execution_count": null,
   "id": "992e84e0",
   "metadata": {},
   "outputs": [],
   "source": []
  },
  {
   "cell_type": "code",
   "execution_count": null,
   "id": "e363fa01",
   "metadata": {},
   "outputs": [],
   "source": []
  },
  {
   "cell_type": "code",
   "execution_count": null,
   "id": "141c5b68",
   "metadata": {},
   "outputs": [],
   "source": []
  },
  {
   "cell_type": "code",
   "execution_count": null,
   "id": "a6877b05",
   "metadata": {},
   "outputs": [],
   "source": []
  },
  {
   "cell_type": "code",
   "execution_count": null,
   "id": "51ad13b2",
   "metadata": {},
   "outputs": [],
   "source": []
  },
  {
   "cell_type": "code",
   "execution_count": null,
   "id": "c82364c7",
   "metadata": {},
   "outputs": [],
   "source": []
  },
  {
   "cell_type": "code",
   "execution_count": null,
   "id": "3e5f5bcb",
   "metadata": {},
   "outputs": [],
   "source": []
  },
  {
   "cell_type": "code",
   "execution_count": null,
   "id": "8cf1de77",
   "metadata": {},
   "outputs": [],
   "source": []
  },
  {
   "cell_type": "code",
   "execution_count": null,
   "id": "169f8ac2",
   "metadata": {},
   "outputs": [],
   "source": []
  },
  {
   "cell_type": "code",
   "execution_count": null,
   "id": "09912055",
   "metadata": {},
   "outputs": [],
   "source": []
  },
  {
   "cell_type": "code",
   "execution_count": null,
   "id": "f8767be1",
   "metadata": {},
   "outputs": [],
   "source": []
  },
  {
   "cell_type": "code",
   "execution_count": null,
   "id": "1a5c8a1d",
   "metadata": {},
   "outputs": [],
   "source": []
  },
  {
   "cell_type": "code",
   "execution_count": null,
   "id": "4b2c25af",
   "metadata": {},
   "outputs": [],
   "source": []
  },
  {
   "cell_type": "code",
   "execution_count": null,
   "id": "c0227a6c",
   "metadata": {},
   "outputs": [],
   "source": []
  },
  {
   "cell_type": "code",
   "execution_count": null,
   "id": "a690294e",
   "metadata": {},
   "outputs": [],
   "source": []
  },
  {
   "cell_type": "code",
   "execution_count": null,
   "id": "b5283178",
   "metadata": {},
   "outputs": [],
   "source": []
  },
  {
   "cell_type": "code",
   "execution_count": null,
   "id": "47e59a72",
   "metadata": {},
   "outputs": [],
   "source": []
  },
  {
   "cell_type": "code",
   "execution_count": null,
   "id": "e6757cf3",
   "metadata": {},
   "outputs": [],
   "source": []
  },
  {
   "cell_type": "code",
   "execution_count": null,
   "id": "230b7430",
   "metadata": {},
   "outputs": [],
   "source": []
  },
  {
   "cell_type": "code",
   "execution_count": null,
   "id": "77a9fda5",
   "metadata": {},
   "outputs": [],
   "source": []
  }
 ],
 "metadata": {
  "kernelspec": {
   "display_name": "Python 3 (ipykernel)",
   "language": "python",
   "name": "python3"
  },
  "language_info": {
   "codemirror_mode": {
    "name": "ipython",
    "version": 3
   },
   "file_extension": ".py",
   "mimetype": "text/x-python",
   "name": "python",
   "nbconvert_exporter": "python",
   "pygments_lexer": "ipython3",
   "version": "3.11.5"
  }
 },
 "nbformat": 4,
 "nbformat_minor": 5
}
