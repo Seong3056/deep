{
 "cells": [
  {
   "cell_type": "markdown",
   "id": "2d873c29",
   "metadata": {},
   "source": [
    "# 파이썬 함수의 구조\n",
    "\n",
    "```\n",
    "def 함수명(매개변수):\n",
    "    수행할 문장\n",
    "```"
   ]
  },
  {
   "cell_type": "code",
   "execution_count": 1,
   "id": "efdc15e9",
   "metadata": {},
   "outputs": [],
   "source": [
    "# welcome 함수 정의\n",
    "def welcome():\n",
    "    print(\"Hello!\")\n",
    "    print(\"Nice to meet you\")"
   ]
  },
  {
   "cell_type": "code",
   "execution_count": 5,
   "id": "17dc939e",
   "metadata": {},
   "outputs": [
    {
     "name": "stdout",
     "output_type": "stream",
     "text": [
      "Hello!\n",
      "Nice to meet you\n"
     ]
    }
   ],
   "source": [
    "welcome()"
   ]
  },
  {
   "cell_type": "code",
   "execution_count": 10,
   "id": "d65c78b8",
   "metadata": {},
   "outputs": [],
   "source": [
    "# add 함수 정의 \n",
    "def add(a,b):\n",
    "    return a + b # return 을 써야 반환 값에 값을 넣어줌"
   ]
  },
  {
   "cell_type": "code",
   "execution_count": 11,
   "id": "67ec3e20",
   "metadata": {},
   "outputs": [
    {
     "name": "stdout",
     "output_type": "stream",
     "text": [
      "7\n"
     ]
    }
   ],
   "source": [
    "c = add(3, 4)\n",
    "print(c)"
   ]
  },
  {
   "cell_type": "markdown",
   "id": "292ca998",
   "metadata": {},
   "source": [
    "## 함수 사용의 장점\n",
    "\n",
    "- 코드의 용도를 구분\n",
    "- 코드 재사용이 용이\n",
    "- 실수를 방지(오타 등)"
   ]
  },
  {
   "cell_type": "markdown",
   "id": "d0ae5aec",
   "metadata": {},
   "source": [
    "# 매개변수와 인수\n",
    "\n",
    "- 매개변수 : 함수에 입력으로 전달 된 값을 받는 변수\n",
    "- 인수 : 함수를 호출할 때 전달하는 입력 값\n",
    "\n",
    "- 인수와 매개변수는 다른 개념이지만 함수가 호출 된 뒤에는 구분이 모호해지므로 구분하지 않는 경우도 많음\n",
    "\n",
    "- 함수의 처리과정\n",
    "    - 입력값 -> 함수 -> 결괏값\n",
    "    \n",
    "- 함수의 사용법\n",
    "    - 결괏값을 받을 변수 = 함수이름(입력인수1, 입력인수2, ...)"
   ]
  },
  {
   "cell_type": "code",
   "execution_count": 1,
   "id": "494e4222",
   "metadata": {},
   "outputs": [],
   "source": [
    "def print_n_times(value, n):\n",
    "    for _ in range(n):\n",
    "        print(value)"
   ]
  },
  {
   "cell_type": "code",
   "execution_count": 2,
   "id": "fcf912ae",
   "metadata": {},
   "outputs": [
    {
     "ename": "TypeError",
     "evalue": "print_n_times() missing 1 required positional argument: 'n'",
     "output_type": "error",
     "traceback": [
      "\u001b[1;31m---------------------------------------------------------------------------\u001b[0m",
      "\u001b[1;31mTypeError\u001b[0m                                 Traceback (most recent call last)",
      "Cell \u001b[1;32mIn[2], line 2\u001b[0m\n\u001b[0;32m      1\u001b[0m \u001b[38;5;66;03m# 매개변수를 2개 지정하고 인수를 하나만 넣는다면 에러 발생\u001b[39;00m\n\u001b[1;32m----> 2\u001b[0m print_n_times(\u001b[38;5;124m\"\u001b[39m\u001b[38;5;124m안녕하세요\u001b[39m\u001b[38;5;124m\"\u001b[39m)\n",
      "\u001b[1;31mTypeError\u001b[0m: print_n_times() missing 1 required positional argument: 'n'"
     ]
    }
   ],
   "source": [
    "# 매개변수를 2개 지정하고 인수를 하나만 넣는다면 에러 발생\n",
    "print_n_times(\"안녕하세요\")"
   ]
  },
  {
   "cell_type": "code",
   "execution_count": 3,
   "id": "a1738065",
   "metadata": {},
   "outputs": [
    {
     "ename": "TypeError",
     "evalue": "print_n_times() takes 2 positional arguments but 3 were given",
     "output_type": "error",
     "traceback": [
      "\u001b[1;31m---------------------------------------------------------------------------\u001b[0m",
      "\u001b[1;31mTypeError\u001b[0m                                 Traceback (most recent call last)",
      "Cell \u001b[1;32mIn[3], line 2\u001b[0m\n\u001b[0;32m      1\u001b[0m \u001b[38;5;66;03m# 지정한 매개변수보다 인수를 많이 넣으면 에러 발생\u001b[39;00m\n\u001b[1;32m----> 2\u001b[0m print_n_times(\u001b[38;5;124m\"\u001b[39m\u001b[38;5;124m안녕하세요\u001b[39m\u001b[38;5;124m\"\u001b[39m, \u001b[38;5;241m10\u001b[39m, \u001b[38;5;241m20\u001b[39m)\n",
      "\u001b[1;31mTypeError\u001b[0m: print_n_times() takes 2 positional arguments but 3 were given"
     ]
    }
   ],
   "source": [
    "# 지정한 매개변수보다 인수를 많이 넣으면 에러 발생\n",
    "print_n_times(\"안녕하세요\", 10, 20)"
   ]
  },
  {
   "cell_type": "markdown",
   "id": "8535f634",
   "metadata": {},
   "source": [
    "### 입력값이 없고 결괏값이 있는 함수\n",
    "\n",
    "- 함수 사용법\n",
    "    - 결괏을 변수 = 함수 이름()"
   ]
  },
  {
   "cell_type": "code",
   "execution_count": 4,
   "id": "51ae5999",
   "metadata": {},
   "outputs": [],
   "source": [
    "def say():\n",
    "    return \"Hi\""
   ]
  },
  {
   "cell_type": "code",
   "execution_count": 6,
   "id": "f5551633",
   "metadata": {},
   "outputs": [
    {
     "name": "stdout",
     "output_type": "stream",
     "text": [
      "Hi\n"
     ]
    }
   ],
   "source": [
    "a = say()\n",
    "print(a)"
   ]
  },
  {
   "cell_type": "code",
   "execution_count": 7,
   "id": "1746a6fc",
   "metadata": {},
   "outputs": [
    {
     "ename": "TypeError",
     "evalue": "say() takes 0 positional arguments but 1 was given",
     "output_type": "error",
     "traceback": [
      "\u001b[1;31m---------------------------------------------------------------------------\u001b[0m",
      "\u001b[1;31mTypeError\u001b[0m                                 Traceback (most recent call last)",
      "Cell \u001b[1;32mIn[7], line 1\u001b[0m\n\u001b[1;32m----> 1\u001b[0m a \u001b[38;5;241m=\u001b[39m say(\u001b[38;5;241m123\u001b[39m)\n\u001b[0;32m      2\u001b[0m \u001b[38;5;28mprint\u001b[39m(a)\n",
      "\u001b[1;31mTypeError\u001b[0m: say() takes 0 positional arguments but 1 was given"
     ]
    }
   ],
   "source": [
    "a = say(123)  \n",
    "print(a)"
   ]
  },
  {
   "cell_type": "markdown",
   "id": "7386d7df",
   "metadata": {},
   "source": [
    "### 결괏값이 없고 입력값이 있는 함수\n",
    "\n",
    "- 함수 사용법\n",
    "    - 함수 이름(입력인수1, 입력인수2, ...)"
   ]
  },
  {
   "cell_type": "code",
   "execution_count": 8,
   "id": "19c94eed",
   "metadata": {},
   "outputs": [],
   "source": [
    "def add(a, b):\n",
    "    print(f\"{a}, {b}의 합은 {a + b}입니다\")"
   ]
  },
  {
   "cell_type": "code",
   "execution_count": 9,
   "id": "dd334fd0",
   "metadata": {},
   "outputs": [
    {
     "name": "stdout",
     "output_type": "stream",
     "text": [
      "3, 4의 합은 7입니다\n"
     ]
    }
   ],
   "source": [
    "add(3, 4)     # 출력이 되는것과 결괏값이 남는건 다름"
   ]
  },
  {
   "cell_type": "code",
   "execution_count": 38,
   "id": "bbfbdbba",
   "metadata": {},
   "outputs": [
    {
     "name": "stdout",
     "output_type": "stream",
     "text": [
      "3, 4의 합은 7입니다\n",
      "None\n"
     ]
    }
   ],
   "source": [
    "# 결괏값 확인\n",
    "a = add(3, 4)\n",
    "print(a)"
   ]
  },
  {
   "cell_type": "markdown",
   "id": "8156ed4b",
   "metadata": {},
   "source": [
    "### 입력값도 결괏값도 없는 함수\n",
    "\n",
    "- 사용법\n",
    "    - 함수이름()"
   ]
  },
  {
   "cell_type": "code",
   "execution_count": 12,
   "id": "637a4e8f",
   "metadata": {},
   "outputs": [],
   "source": [
    "def say():\n",
    "    print(\"Hi\")"
   ]
  },
  {
   "cell_type": "code",
   "execution_count": 14,
   "id": "10e455b6",
   "metadata": {},
   "outputs": [
    {
     "name": "stdout",
     "output_type": "stream",
     "text": [
      "Hi\n",
      "Hi\n",
      "None\n"
     ]
    }
   ],
   "source": [
    "say()\n",
    "print(say())"
   ]
  },
  {
   "cell_type": "markdown",
   "id": "bf3482af",
   "metadata": {},
   "source": [
    "## 매개변수 지정하여 호출하기"
   ]
  },
  {
   "cell_type": "code",
   "execution_count": 15,
   "id": "9371f0f9",
   "metadata": {},
   "outputs": [],
   "source": [
    "def add(a, b):\n",
    "    print(f\"{a}, {b}의 합은 {a + b}입니다\")"
   ]
  },
  {
   "cell_type": "code",
   "execution_count": 16,
   "id": "0fe38c98",
   "metadata": {},
   "outputs": [
    {
     "name": "stdout",
     "output_type": "stream",
     "text": [
      "3, 7의 합은 10입니다\n"
     ]
    }
   ],
   "source": [
    "add(a = 3, b = 7)"
   ]
  },
  {
   "cell_type": "code",
   "execution_count": 17,
   "id": "ee196846",
   "metadata": {},
   "outputs": [
    {
     "name": "stdout",
     "output_type": "stream",
     "text": [
      "7, 3의 합은 10입니다\n"
     ]
    }
   ],
   "source": [
    "add(a = 7, b = 3 )"
   ]
  },
  {
   "cell_type": "code",
   "execution_count": 18,
   "id": "7da7ebe1",
   "metadata": {},
   "outputs": [
    {
     "name": "stdout",
     "output_type": "stream",
     "text": [
      "3, 5의 합은 8입니다\n"
     ]
    }
   ],
   "source": [
    "add(b = 5, a = 3)"
   ]
  },
  {
   "cell_type": "markdown",
   "id": "3497d7a1",
   "metadata": {},
   "source": [
    "### 함수의 결괏값"
   ]
  },
  {
   "cell_type": "code",
   "execution_count": 19,
   "id": "e66cbd72",
   "metadata": {},
   "outputs": [],
   "source": [
    "def add_and_mul(a, b):\n",
    "    return a + b, a * b"
   ]
  },
  {
   "cell_type": "code",
   "execution_count": 24,
   "id": "95a2b980",
   "metadata": {},
   "outputs": [
    {
     "name": "stdout",
     "output_type": "stream",
     "text": [
      "(7, 12)\n"
     ]
    }
   ],
   "source": [
    "result = add_and_mul(3, 4)\n",
    "\n",
    "# 함수의 결괏값은 2개가 아니라 하나의 튜플로 반환되었음\n",
    "print(result)"
   ]
  },
  {
   "cell_type": "code",
   "execution_count": 25,
   "id": "84364868",
   "metadata": {},
   "outputs": [
    {
     "name": "stdout",
     "output_type": "stream",
     "text": [
      "7 12\n"
     ]
    }
   ],
   "source": [
    "# 2개의 결과값처럼 받을 수 있음 \n",
    "result1, result2 = add_and_mul(3,4)\n",
    "print(result1, result2)"
   ]
  },
  {
   "cell_type": "code",
   "execution_count": 27,
   "id": "fc6ea138",
   "metadata": {},
   "outputs": [],
   "source": [
    "def add_and_mul(a, b):\n",
    "    return a + b\n",
    "    return a * b"
   ]
  },
  {
   "cell_type": "code",
   "execution_count": 29,
   "id": "4e15b468",
   "metadata": {},
   "outputs": [
    {
     "name": "stdout",
     "output_type": "stream",
     "text": [
      "5\n"
     ]
    }
   ],
   "source": [
    "# 함수는 return을 만나는 순간 함수 실행이 종료됨\n",
    "result = add_and_mul(2, 3)\n",
    "print(result)"
   ]
  },
  {
   "cell_type": "markdown",
   "id": "739f80a3",
   "metadata": {},
   "source": [
    "### return\n",
    "\n",
    "- 함수를 종료시키고 싶을 때 사용할 수도 있음"
   ]
  },
  {
   "cell_type": "code",
   "execution_count": 32,
   "id": "649233e3",
   "metadata": {},
   "outputs": [],
   "source": [
    "def say_nick(nick):\n",
    "    if nick == \"바보\":\n",
    "        return\n",
    "    print(f\"나의 별명은 {nick}입니다\")"
   ]
  },
  {
   "cell_type": "code",
   "execution_count": 31,
   "id": "dee1f245",
   "metadata": {},
   "outputs": [
    {
     "name": "stdout",
     "output_type": "stream",
     "text": [
      "나의 별명은 야호입니다\n"
     ]
    }
   ],
   "source": [
    "say_nick(\"야호\")"
   ]
  },
  {
   "cell_type": "code",
   "execution_count": 33,
   "id": "4c6008d0",
   "metadata": {},
   "outputs": [],
   "source": [
    "say_nick(\"바보\")"
   ]
  },
  {
   "cell_type": "markdown",
   "id": "399dfa6b",
   "metadata": {},
   "source": [
    "# 디폴트 매개변수\n",
    "\n",
    "- 매개변수로 전달되는 인수가 없는 경우에 기본적으로 사용하는 값"
   ]
  },
  {
   "cell_type": "code",
   "execution_count": 40,
   "id": "a6323c9f",
   "metadata": {},
   "outputs": [],
   "source": [
    "def say_myself(name, old, man = True):\n",
    "    print(f\"나의 이름은 {name}입니다\")\n",
    "    print(f\"나이는 {old} 살입니다\")\n",
    "    \n",
    "    if man:\n",
    "        print(\"남자입니다\")\n",
    "        \n",
    "    else:\n",
    "        print(\"여자입니다\")"
   ]
  },
  {
   "cell_type": "code",
   "execution_count": 41,
   "id": "435fc8ba",
   "metadata": {},
   "outputs": [
    {
     "name": "stdout",
     "output_type": "stream",
     "text": [
      "나의 이름은 파이썬입니다\n",
      "나이는 27 살입니다\n",
      "남자입니다\n"
     ]
    }
   ],
   "source": [
    "say_myself(\"파이썬\", 27)"
   ]
  },
  {
   "cell_type": "code",
   "execution_count": 42,
   "id": "6d9fe2d6",
   "metadata": {},
   "outputs": [
    {
     "name": "stdout",
     "output_type": "stream",
     "text": [
      "나의 이름은 파이썬입니다\n",
      "나이는 27 살입니다\n",
      "남자입니다\n"
     ]
    }
   ],
   "source": [
    "say_myself(\"파이썬\", 27, True)"
   ]
  },
  {
   "cell_type": "code",
   "execution_count": 48,
   "id": "0cc963db",
   "metadata": {},
   "outputs": [
    {
     "name": "stdout",
     "output_type": "stream",
     "text": [
      "나의 이름은 파이썬입니다\n",
      "나이는 27 살입니다\n",
      "여자입니다\n"
     ]
    }
   ],
   "source": [
    "say_myself(\"파이썬\", 27, False)"
   ]
  },
  {
   "cell_type": "code",
   "execution_count": 49,
   "id": "bb9221ef",
   "metadata": {},
   "outputs": [],
   "source": [
    "def print_n_times(value, n = 2):\n",
    "    for _ in range(n):\n",
    "        print(value)"
   ]
  },
  {
   "cell_type": "code",
   "execution_count": 55,
   "id": "da087cc5",
   "metadata": {},
   "outputs": [
    {
     "name": "stdout",
     "output_type": "stream",
     "text": [
      "안녕하세요\n",
      "안녕하세요\n"
     ]
    }
   ],
   "source": [
    "print_n_times(\"안녕하세요\" )"
   ]
  },
  {
   "cell_type": "markdown",
   "id": "0281f95f",
   "metadata": {},
   "source": [
    "## 디폴트 매개변수의 위치"
   ]
  },
  {
   "cell_type": "code",
   "execution_count": 58,
   "id": "a56dee64",
   "metadata": {},
   "outputs": [
    {
     "ename": "SyntaxError",
     "evalue": "non-default argument follows default argument (571351378.py, line 2)",
     "output_type": "error",
     "traceback": [
      "\u001b[1;36m  Cell \u001b[1;32mIn[58], line 2\u001b[1;36m\u001b[0m\n\u001b[1;33m    def say_myself(name,  man = True ,old):\u001b[0m\n\u001b[1;37m                                      ^\u001b[0m\n\u001b[1;31mSyntaxError\u001b[0m\u001b[1;31m:\u001b[0m non-default argument follows default argument\n"
     ]
    }
   ],
   "source": [
    "#  파이썬은 인수를 어디에 대입해야 할지 알 수 없음\n",
    "def say_myself(name,  man = True ,old):\n",
    "    print(f\"나의 이름은 {name}입니다\")\n",
    "    print(f\"나이는 {old} 살입니다\")\n",
    "    \n",
    "    if man:\n",
    "        print(\"남자입니다\")\n",
    "        \n",
    "    else:\n",
    "        print(\"여자입니다\")"
   ]
  },
  {
   "cell_type": "markdown",
   "id": "5288cbd1",
   "metadata": {},
   "source": [
    "# 지역변수와 전역변수\n",
    "\n",
    "- 지역변수\n",
    "    - 함수 내부에서 선언한 변수는 함수 내부에서만 사용 할 수 있는 변수가 됨\n",
    "    - 함수 외부에서는 지역변수에 접근 할 수 없음\n",
    "\n",
    "- 전역변수\n",
    "    - 함수 외부에서 선언 한 변수는 함수 내부에서도 사용 가능"
   ]
  },
  {
   "cell_type": "code",
   "execution_count": 62,
   "id": "d2e80d3b",
   "metadata": {},
   "outputs": [],
   "source": [
    "def vartest():\n",
    "    d = 10\n",
    "    print(d)"
   ]
  },
  {
   "cell_type": "code",
   "execution_count": 63,
   "id": "583dbdc6",
   "metadata": {},
   "outputs": [
    {
     "name": "stdout",
     "output_type": "stream",
     "text": [
      "10\n"
     ]
    }
   ],
   "source": [
    "vartest()"
   ]
  },
  {
   "cell_type": "code",
   "execution_count": 64,
   "id": "92ef13bf",
   "metadata": {},
   "outputs": [
    {
     "ename": "NameError",
     "evalue": "name 'd' is not defined",
     "output_type": "error",
     "traceback": [
      "\u001b[1;31m---------------------------------------------------------------------------\u001b[0m",
      "\u001b[1;31mNameError\u001b[0m                                 Traceback (most recent call last)",
      "Cell \u001b[1;32mIn[64], line 1\u001b[0m\n\u001b[1;32m----> 1\u001b[0m \u001b[38;5;28mprint\u001b[39m(d)\n",
      "\u001b[1;31mNameError\u001b[0m: name 'd' is not defined"
     ]
    }
   ],
   "source": [
    "print(d)"
   ]
  },
  {
   "cell_type": "code",
   "execution_count": 65,
   "id": "5eea4a9a",
   "metadata": {},
   "outputs": [],
   "source": [
    "e = 10\n",
    "\n",
    "def etest():\n",
    "    print(e)   # 함수 안에서 찾고 밖에서 찾는 구조"
   ]
  },
  {
   "cell_type": "code",
   "execution_count": 66,
   "id": "8a87e1f9",
   "metadata": {},
   "outputs": [
    {
     "name": "stdout",
     "output_type": "stream",
     "text": [
      "10\n"
     ]
    }
   ],
   "source": [
    "etest()"
   ]
  },
  {
   "cell_type": "markdown",
   "id": "71775866",
   "metadata": {},
   "source": [
    "### 전역변수를 함수 내부에서 사용하는 2가지 경우\n",
    "\n",
    "- 단순 참조\n",
    "- 전역변수의 값을 변경"
   ]
  },
  {
   "cell_type": "code",
   "execution_count": 67,
   "id": "15f8619d",
   "metadata": {},
   "outputs": [],
   "source": [
    "a = 0 \n",
    "\n",
    "def f():\n",
    "    a = 10\n",
    "    print(a)  # 함수 안에서 찾고 밖에서 찾는 구조"
   ]
  },
  {
   "cell_type": "code",
   "execution_count": 68,
   "id": "3768822e",
   "metadata": {},
   "outputs": [
    {
     "name": "stdout",
     "output_type": "stream",
     "text": [
      "10\n"
     ]
    }
   ],
   "source": [
    "f()"
   ]
  },
  {
   "cell_type": "code",
   "execution_count": 69,
   "id": "536663b1",
   "metadata": {},
   "outputs": [
    {
     "name": "stdout",
     "output_type": "stream",
     "text": [
      "0\n"
     ]
    }
   ],
   "source": [
    "print(a)"
   ]
  },
  {
   "cell_type": "code",
   "execution_count": 70,
   "id": "01da6081",
   "metadata": {},
   "outputs": [],
   "source": [
    "def f():\n",
    "    global a # 전역변수 a를 사용한다는 의미\n",
    "    a = 10\n",
    "    print(a)"
   ]
  },
  {
   "cell_type": "code",
   "execution_count": 71,
   "id": "9457de5e",
   "metadata": {},
   "outputs": [
    {
     "name": "stdout",
     "output_type": "stream",
     "text": [
      "10\n"
     ]
    }
   ],
   "source": [
    "f()"
   ]
  },
  {
   "cell_type": "code",
   "execution_count": 72,
   "id": "e6be7c3b",
   "metadata": {},
   "outputs": [
    {
     "name": "stdout",
     "output_type": "stream",
     "text": [
      "10\n"
     ]
    }
   ],
   "source": [
    "print(a)"
   ]
  },
  {
   "cell_type": "markdown",
   "id": "3bba0fba",
   "metadata": {},
   "source": [
    "# 가변매개변수(여러 개의 입력값을 받는 함수)\n",
    "\n",
    "- 함수로 전달해야하는 인수의 개수가 정해지지 않은 매개변수\n",
    "- 함수 정의시 매개변수 앞에 * 를 붙이면 가변 매개변수가 됨\n",
    "- 전달되는 인수는 하나의 튜플 형태로 전달\n",
    "\n",
    "- 가변매개변수의 제약\n",
    "    - 가변 매개변수는 뒤에는 일반 매개변수가 올 수 없음\n",
    "    - 가변 매개변수는 하나만 사용 가능"
   ]
  },
  {
   "cell_type": "code",
   "execution_count": 73,
   "id": "3aa7dabc",
   "metadata": {},
   "outputs": [],
   "source": [
    "def show(*args):\n",
    "    print(args)"
   ]
  },
  {
   "cell_type": "code",
   "execution_count": 77,
   "id": "c629ccee",
   "metadata": {},
   "outputs": [
    {
     "name": "stdout",
     "output_type": "stream",
     "text": [
      "('Python',)\n"
     ]
    }
   ],
   "source": [
    "show(\"Python\")"
   ]
  },
  {
   "cell_type": "code",
   "execution_count": 78,
   "id": "8e8b6fce",
   "metadata": {},
   "outputs": [
    {
     "name": "stdout",
     "output_type": "stream",
     "text": [
      "('happy', 'birthday')\n"
     ]
    }
   ],
   "source": [
    "show(\"happy\", \"birthday\")"
   ]
  },
  {
   "cell_type": "code",
   "execution_count": 80,
   "id": "7e8b1e28",
   "metadata": {},
   "outputs": [],
   "source": [
    "def add_many(*args):\n",
    "    result = 0\n",
    "    \n",
    "    for i in args:\n",
    "        result += i\n",
    "        \n",
    "    return result"
   ]
  },
  {
   "cell_type": "code",
   "execution_count": 81,
   "id": "0615fb9c",
   "metadata": {},
   "outputs": [
    {
     "name": "stdout",
     "output_type": "stream",
     "text": [
      "6\n"
     ]
    }
   ],
   "source": [
    "result = add_many(1, 2, 3)\n",
    "print(result)"
   ]
  },
  {
   "cell_type": "code",
   "execution_count": 82,
   "id": "c875bb1b",
   "metadata": {},
   "outputs": [
    {
     "name": "stdout",
     "output_type": "stream",
     "text": [
      "55\n"
     ]
    }
   ],
   "source": [
    "result = add_many(1, 2, 3, 4, 5, 6, 7, 8, 9, 10)\n",
    "print(result)"
   ]
  },
  {
   "cell_type": "code",
   "execution_count": 95,
   "id": "1bfd06de",
   "metadata": {},
   "outputs": [],
   "source": [
    "def add_mul(choice, *args):\n",
    "    if choice == \"add\":\n",
    "        result = 0\n",
    "        for i in args:\n",
    "            result += i\n",
    "            \n",
    "    elif choice == \"mul\":\n",
    "        result = 1\n",
    "        for i in args:\n",
    "            result *= i\n",
    "            \n",
    "    return result"
   ]
  },
  {
   "cell_type": "code",
   "execution_count": 96,
   "id": "32434bd6",
   "metadata": {},
   "outputs": [
    {
     "name": "stdout",
     "output_type": "stream",
     "text": [
      "15\n"
     ]
    }
   ],
   "source": [
    "result = add_mul(\"add\", 1, 2, 3, 4, 5)\n",
    "print(result)"
   ]
  },
  {
   "cell_type": "code",
   "execution_count": 92,
   "id": "68cc852a",
   "metadata": {},
   "outputs": [
    {
     "name": "stdout",
     "output_type": "stream",
     "text": [
      "120\n"
     ]
    }
   ],
   "source": [
    "result = add_mul(\"mul\", 1, 2, 3, 4, 5)\n",
    "print(result)"
   ]
  },
  {
   "cell_type": "markdown",
   "id": "c6a2b0cb",
   "metadata": {},
   "source": [
    "# 함수 매개변수 순서\n",
    "\n",
    "1. 일반 매개변수\n",
    "2. 디폴트 매개변수\n",
    "3. 가변 매개변수\n",
    "4. 키워드 매개변수"
   ]
  },
  {
   "cell_type": "markdown",
   "id": "18cea92a",
   "metadata": {},
   "source": [
    "# 키워드 매개변수"
   ]
  },
  {
   "cell_type": "code",
   "execution_count": 97,
   "id": "4f22b05c",
   "metadata": {},
   "outputs": [],
   "source": [
    "def print_kwargs(**kwargs):\n",
    "    print(kwargs)"
   ]
  },
  {
   "cell_type": "code",
   "execution_count": 98,
   "id": "e48a820c",
   "metadata": {},
   "outputs": [
    {
     "name": "stdout",
     "output_type": "stream",
     "text": [
      "{'a': 1}\n"
     ]
    }
   ],
   "source": [
    "print_kwargs(a = 1)"
   ]
  },
  {
   "cell_type": "code",
   "execution_count": 99,
   "id": "8d6c8208",
   "metadata": {},
   "outputs": [
    {
     "name": "stdout",
     "output_type": "stream",
     "text": [
      "{'name': 'foo', 'age': 3}\n"
     ]
    }
   ],
   "source": [
    "print_kwargs(name = \"foo\", age = 3)"
   ]
  },
  {
   "cell_type": "code",
   "execution_count": null,
   "id": "5c21f114",
   "metadata": {},
   "outputs": [],
   "source": []
  },
  {
   "cell_type": "code",
   "execution_count": null,
   "id": "00afe9a6",
   "metadata": {},
   "outputs": [],
   "source": []
  },
  {
   "cell_type": "code",
   "execution_count": null,
   "id": "c7f84985",
   "metadata": {},
   "outputs": [],
   "source": []
  },
  {
   "cell_type": "code",
   "execution_count": null,
   "id": "a7b7439f",
   "metadata": {},
   "outputs": [],
   "source": []
  },
  {
   "cell_type": "code",
   "execution_count": null,
   "id": "304feaf5",
   "metadata": {},
   "outputs": [],
   "source": []
  },
  {
   "cell_type": "code",
   "execution_count": null,
   "id": "46ff3429",
   "metadata": {},
   "outputs": [],
   "source": []
  },
  {
   "cell_type": "code",
   "execution_count": null,
   "id": "7237e5ed",
   "metadata": {},
   "outputs": [],
   "source": []
  },
  {
   "cell_type": "code",
   "execution_count": null,
   "id": "92b22976",
   "metadata": {},
   "outputs": [],
   "source": []
  },
  {
   "cell_type": "code",
   "execution_count": null,
   "id": "af7f2576",
   "metadata": {},
   "outputs": [],
   "source": []
  },
  {
   "cell_type": "code",
   "execution_count": null,
   "id": "311bc6b1",
   "metadata": {},
   "outputs": [],
   "source": []
  },
  {
   "cell_type": "code",
   "execution_count": null,
   "id": "7774db91",
   "metadata": {},
   "outputs": [],
   "source": []
  },
  {
   "cell_type": "code",
   "execution_count": null,
   "id": "e513e94a",
   "metadata": {},
   "outputs": [],
   "source": []
  },
  {
   "cell_type": "code",
   "execution_count": null,
   "id": "6f07279f",
   "metadata": {},
   "outputs": [],
   "source": []
  },
  {
   "cell_type": "code",
   "execution_count": null,
   "id": "2f78205c",
   "metadata": {},
   "outputs": [],
   "source": []
  },
  {
   "cell_type": "code",
   "execution_count": null,
   "id": "c8e025ef",
   "metadata": {},
   "outputs": [],
   "source": []
  },
  {
   "cell_type": "code",
   "execution_count": null,
   "id": "a72a9441",
   "metadata": {},
   "outputs": [],
   "source": []
  },
  {
   "cell_type": "code",
   "execution_count": null,
   "id": "58c40b17",
   "metadata": {},
   "outputs": [],
   "source": []
  },
  {
   "cell_type": "code",
   "execution_count": null,
   "id": "4249486e",
   "metadata": {},
   "outputs": [],
   "source": []
  },
  {
   "cell_type": "code",
   "execution_count": null,
   "id": "a2a06bcf",
   "metadata": {},
   "outputs": [],
   "source": []
  }
 ],
 "metadata": {
  "kernelspec": {
   "display_name": "Python 3 (ipykernel)",
   "language": "python",
   "name": "python3"
  },
  "language_info": {
   "codemirror_mode": {
    "name": "ipython",
    "version": 3
   },
   "file_extension": ".py",
   "mimetype": "text/x-python",
   "name": "python",
   "nbconvert_exporter": "python",
   "pygments_lexer": "ipython3",
   "version": "3.11.5"
  }
 },
 "nbformat": 4,
 "nbformat_minor": 5
}
