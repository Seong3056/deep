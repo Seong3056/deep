{
 "cells": [
  {
   "cell_type": "markdown",
   "id": "6873d409",
   "metadata": {},
   "source": [
    "# 조건문\n",
    "\n",
    "- 특정 조건을 만족하는지 여부에 따라 실행하는 코드가 달라야 할 때 사용"
   ]
  },
  {
   "cell_type": "markdown",
   "id": "986732e7",
   "metadata": {},
   "source": [
    "## if문의 구조\n",
    "\n",
    "```\n",
    "if 조건식:\n",
    "    조건식의 결과가 True일 때 실행문\n",
    "```"
   ]
  },
  {
   "cell_type": "code",
   "execution_count": 5,
   "id": "32373cfc",
   "metadata": {},
   "outputs": [
    {
     "name": "stdout",
     "output_type": "stream",
     "text": [
      "양수\n",
      "~~~~\n"
     ]
    }
   ],
   "source": [
    "a = -1 \n",
    "\n",
    "if a < 0:\n",
    "    print(\"양수\")\n",
    "    print(\"~~~~\")"
   ]
  },
  {
   "cell_type": "code",
   "execution_count": 8,
   "id": "2301fafa",
   "metadata": {},
   "outputs": [
    {
     "name": "stdout",
     "output_type": "stream",
     "text": [
      "참\n"
     ]
    }
   ],
   "source": [
    "if True:\n",
    "    print(\"참\")"
   ]
  },
  {
   "cell_type": "code",
   "execution_count": 11,
   "id": "51721074",
   "metadata": {},
   "outputs": [
    {
     "name": "stdout",
     "output_type": "stream",
     "text": [
      "참\n"
     ]
    }
   ],
   "source": [
    "if 3:\n",
    "    print(\"참\")"
   ]
  },
  {
   "cell_type": "code",
   "execution_count": 10,
   "id": "22f58820",
   "metadata": {},
   "outputs": [
    {
     "data": {
      "text/plain": [
       "False"
      ]
     },
     "execution_count": 10,
     "metadata": {},
     "output_type": "execute_result"
    }
   ],
   "source": [
    "bool(0)"
   ]
  },
  {
   "cell_type": "code",
   "execution_count": 14,
   "id": "55ab20a7",
   "metadata": {
    "scrolled": true
   },
   "outputs": [
    {
     "name": "stdout",
     "output_type": "stream",
     "text": [
      "참\n"
     ]
    }
   ],
   "source": [
    "if \"Hello\":\n",
    "    print(\"참\")"
   ]
  },
  {
   "cell_type": "markdown",
   "id": "afc06116",
   "metadata": {},
   "source": [
    "## if-else문\n",
    "\n",
    "- 조건식을 만족하는 경우와 만족하지 않는 경우를 구분하여 코드를 작성할 때 사용\n",
    "```\n",
    "if 조건식:\n",
    "    조건식의 결과가 True일 때 실행문\n",
    "else:\n",
    "    조건식의 결과가 False일 때 실행문\n",
    "```"
   ]
  },
  {
   "cell_type": "code",
   "execution_count": 15,
   "id": "7b869a92",
   "metadata": {},
   "outputs": [
    {
     "name": "stdout",
     "output_type": "stream",
     "text": [
      "음수\n"
     ]
    }
   ],
   "source": [
    "a = -1 \n",
    "\n",
    "if a >= 0:\n",
    "    print(\"양수\")\n",
    "else:\n",
    "    print(\"음수\")"
   ]
  },
  {
   "cell_type": "code",
   "execution_count": 18,
   "id": "3c8f9080",
   "metadata": {},
   "outputs": [
    {
     "name": "stdout",
     "output_type": "stream",
     "text": [
      "10입니다\n",
      "10이 아닙니다\n"
     ]
    }
   ],
   "source": [
    "a = 10\n",
    "\n",
    "if a == 10:\n",
    "    print(\"10입니다\")\n",
    "else:\n",
    "    print(\"x에 들어있는 숫자는\")\n",
    "print(\"10이 아닙니다\") # 들여쓰기에 주의 "
   ]
  },
  {
   "cell_type": "markdown",
   "id": "a5e9d339",
   "metadata": {},
   "source": [
    "## if-elif문\n",
    "\n",
    "- 특정 조건에 따라 3가지 이상으로 구분해야 할 때 사용\n",
    "\n",
    "```\n",
    "if 조건식1:\n",
    "    조건식1의 결과가 True일 때 실행문\n",
    "elif 조건식2:\n",
    "    조건식1의 결과가 False이고, 조건식2의 결과가 True일 때 실행문\n",
    "elif 조건식3:\n",
    "    조건식1,2의 결과가 모두 False이고, 조건식3의 결과가 True일 때 실행문\n",
    "else:\n",
    "    조건식 1,2,3의 결과가 모두 False일 때 실행문\n",
    "```"
   ]
  },
  {
   "cell_type": "code",
   "execution_count": 21,
   "id": "66300990",
   "metadata": {},
   "outputs": [
    {
     "name": "stdout",
     "output_type": "stream",
     "text": [
      "음수\n"
     ]
    }
   ],
   "source": [
    "a = -1\n",
    "\n",
    "if a > 0:\n",
    "    print(\"양수\")\n",
    "    \n",
    "elif a == 0:\n",
    "    print(\"0\")\n",
    "    \n",
    "else:\n",
    "    print(\"음수\")"
   ]
  },
  {
   "cell_type": "code",
   "execution_count": 25,
   "id": "ae436088",
   "metadata": {},
   "outputs": [
    {
     "name": "stdout",
     "output_type": "stream",
     "text": [
      "음수\n"
     ]
    }
   ],
   "source": [
    "# 비효율적인 예1\n",
    "if a > 0:\n",
    "    print(\"양수\")\n",
    "\n",
    "if a == 0:\n",
    "    print(\"0\")\n",
    "\n",
    "if a < 0:\n",
    "    print(\"음수\")"
   ]
  },
  {
   "cell_type": "code",
   "execution_count": 27,
   "id": "4804f1c0",
   "metadata": {},
   "outputs": [
    {
     "name": "stdout",
     "output_type": "stream",
     "text": [
      "음수\n"
     ]
    }
   ],
   "source": [
    "# 비효율적인 예2\n",
    "if a > 0:\n",
    "    print(\"양수\")\n",
    "    \n",
    "else:\n",
    "    if a == 0:\n",
    "        print(\"0\")\n",
    "        \n",
    "    else:\n",
    "        print(\"음수\")"
   ]
  },
  {
   "cell_type": "markdown",
   "id": "54ea41b8",
   "metadata": {},
   "source": [
    "# 반복문\n",
    "\n",
    "- 어떠한 작업을 계속해서 수행해야 할 때 사용\n",
    "- 반복문의 종류 : while문, for문"
   ]
  },
  {
   "cell_type": "markdown",
   "id": "5155e0ec",
   "metadata": {},
   "source": [
    "## while문\n",
    "\n",
    "- 특정 조건을 만족하는 동안 반복해서 수행해야 할 때 사용\n",
    "- 조건이 True인 동안 반복해서 실행\n",
    "- 반복해야 하는 횟수나 값의 범위가 명확하지 않은 경우에 주로 사용\n",
    "\n",
    "```\n",
    "while 조건식:\n",
    "    반복 실행문\n",
    "``` "
   ]
  },
  {
   "cell_type": "code",
   "execution_count": 28,
   "id": "ed02bad6",
   "metadata": {},
   "outputs": [
    {
     "name": "stdout",
     "output_type": "stream",
     "text": [
      "1\n",
      "2\n",
      "3\n",
      "4\n",
      "5\n",
      "6\n",
      "7\n",
      "8\n",
      "9\n",
      "10\n"
     ]
    }
   ],
   "source": [
    "n = 1\n",
    "\n",
    "while n <= 10:\n",
    "    print(n)\n",
    "    n += 1"
   ]
  },
  {
   "cell_type": "code",
   "execution_count": 29,
   "id": "9e684661",
   "metadata": {},
   "outputs": [
    {
     "data": {
      "text/plain": [
       "11"
      ]
     },
     "execution_count": 29,
     "metadata": {},
     "output_type": "execute_result"
    }
   ],
   "source": [
    "n"
   ]
  },
  {
   "cell_type": "markdown",
   "id": "f63515bf",
   "metadata": {},
   "source": [
    "## while문 중첩"
   ]
  },
  {
   "cell_type": "code",
   "execution_count": 30,
   "id": "510a62c3",
   "metadata": {},
   "outputs": [
    {
     "name": "stdout",
     "output_type": "stream",
     "text": [
      "1일차 1교시 입니다.\n",
      "1일차 2교시 입니다.\n",
      "1일차 3교시 입니다.\n",
      "2일차 1교시 입니다.\n",
      "2일차 2교시 입니다.\n",
      "2일차 3교시 입니다.\n",
      "3일차 1교시 입니다.\n",
      "3일차 2교시 입니다.\n",
      "3일차 3교시 입니다.\n",
      "4일차 1교시 입니다.\n",
      "4일차 2교시 입니다.\n",
      "4일차 3교시 입니다.\n",
      "5일차 1교시 입니다.\n",
      "5일차 2교시 입니다.\n",
      "5일차 3교시 입니다.\n"
     ]
    }
   ],
   "source": [
    "day = 1\n",
    "\n",
    "while day <= 5:\n",
    "    hour = 1\n",
    "    \n",
    "    while hour <= 3:\n",
    "        print(f\"{day}일차 {hour}교시 입니다.\")\n",
    "        hour += 1\n",
    "        \n",
    "    day += 1"
   ]
  },
  {
   "cell_type": "code",
   "execution_count": 31,
   "id": "38fe5dc5",
   "metadata": {},
   "outputs": [
    {
     "data": {
      "text/plain": [
       "(6, 4)"
      ]
     },
     "execution_count": 31,
     "metadata": {},
     "output_type": "execute_result"
    }
   ],
   "source": [
    "day, hour"
   ]
  },
  {
   "cell_type": "markdown",
   "id": "adecf180",
   "metadata": {},
   "source": [
    "## for문\n",
    "\n",
    "- 값의 범위나 반복 횟수가 정해져 있을 때 주로 사용하는 반복문\n",
    "- 반복 가능 객체 : 문자열, 리스트, 튜플, range, 세트, 딕셔너리\n",
    "\n",
    "```\n",
    "for 변수 in 반복가능객체:\n",
    "    반복실행문\n",
    "```"
   ]
  },
  {
   "cell_type": "code",
   "execution_count": 33,
   "id": "0d865c16",
   "metadata": {},
   "outputs": [
    {
     "name": "stdout",
     "output_type": "stream",
     "text": [
      "H\n",
      "e\n",
      "l\n",
      "l\n",
      "o\n"
     ]
    }
   ],
   "source": [
    "for i in \"Hello\":\n",
    "    print(i)"
   ]
  },
  {
   "cell_type": "code",
   "execution_count": 34,
   "id": "664a9103",
   "metadata": {},
   "outputs": [
    {
     "name": "stdout",
     "output_type": "stream",
     "text": [
      "1\n",
      "2\n",
      "3\n"
     ]
    }
   ],
   "source": [
    "for n in [1, 2, 3]:\n",
    "    print(n)"
   ]
  },
  {
   "cell_type": "code",
   "execution_count": 35,
   "id": "0cf9f408",
   "metadata": {},
   "outputs": [
    {
     "name": "stdout",
     "output_type": "stream",
     "text": [
      "0\n",
      "1\n",
      "2\n",
      "3\n",
      "4\n"
     ]
    }
   ],
   "source": [
    "for i in range(5):\n",
    "    print(i)"
   ]
  },
  {
   "cell_type": "markdown",
   "id": "d4d170b3",
   "metadata": {},
   "source": [
    "### break문\n",
    "\n",
    "- 반복문을 강제로 종료시킬 때 사용"
   ]
  },
  {
   "cell_type": "code",
   "execution_count": 36,
   "id": "5df6b229",
   "metadata": {},
   "outputs": [
    {
     "name": "stdout",
     "output_type": "stream",
     "text": [
      "1\n",
      "2\n",
      "3\n",
      "4\n",
      "5\n",
      "6\n",
      "7\n",
      "8\n",
      "9\n",
      "10\n"
     ]
    }
   ],
   "source": [
    "n = 1 \n",
    "\n",
    "while True:\n",
    "    print(n)\n",
    "    \n",
    "    if n == 10:\n",
    "        break\n",
    "        \n",
    "        \n",
    "    n += 1    "
   ]
  },
  {
   "cell_type": "code",
   "execution_count": 37,
   "id": "1777f979",
   "metadata": {},
   "outputs": [
    {
     "data": {
      "text/plain": [
       "10"
      ]
     },
     "execution_count": 37,
     "metadata": {},
     "output_type": "execute_result"
    }
   ],
   "source": [
    "n"
   ]
  },
  {
   "cell_type": "markdown",
   "id": "eeb03ead",
   "metadata": {},
   "source": [
    "### continue\n",
    "\n",
    "- 반복문의 시작 지점으로 이동\n",
    "- 반복에서 제외하거나 생략하고 싶은 코드가 있을 때 사용"
   ]
  }
 ],
 "metadata": {
  "kernelspec": {
   "display_name": "Python 3 (ipykernel)",
   "language": "python",
   "name": "python3"
  },
  "language_info": {
   "codemirror_mode": {
    "name": "ipython",
    "version": 3
   },
   "file_extension": ".py",
   "mimetype": "text/x-python",
   "name": "python",
   "nbconvert_exporter": "python",
   "pygments_lexer": "ipython3",
   "version": "3.11.5"
  }
 },
 "nbformat": 4,
 "nbformat_minor": 5
}
