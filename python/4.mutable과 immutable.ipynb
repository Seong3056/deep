{
 "cells": [
  {
   "cell_type": "markdown",
   "id": "0df57d0f",
   "metadata": {},
   "source": [
    "- mutable : 생성된 후에 변경이 가능한 자료형\n",
    "    - 리스트, 세트, 딕셔너리\n",
    "    \n",
    "- immutable : 생성이 된 후에는 변경이 불가능한 자료형\n",
    "    - 정수, 실수, 문자열, 튜플\n",
    "    "
   ]
  },
  {
   "cell_type": "markdown",
   "id": "7e4f7972",
   "metadata": {},
   "source": [
    "# mutable"
   ]
  },
  {
   "cell_type": "code",
   "execution_count": 1,
   "id": "62315f00",
   "metadata": {
    "scrolled": true
   },
   "outputs": [
    {
     "data": {
      "text/plain": [
       "2906317919552"
      ]
     },
     "execution_count": 1,
     "metadata": {},
     "output_type": "execute_result"
    }
   ],
   "source": [
    "# id() : 변수나 자료형의 메모리 주소를 확인\n",
    "me = [1, 2, 3]\n",
    "id(me)"
   ]
  },
  {
   "cell_type": "code",
   "execution_count": 3,
   "id": "11ae3e52",
   "metadata": {},
   "outputs": [
    {
     "data": {
      "text/plain": [
       "2906317919552"
      ]
     },
     "execution_count": 3,
     "metadata": {},
     "output_type": "execute_result"
    }
   ],
   "source": [
    "me.append(4)\n",
    "id(me)"
   ]
  },
  {
   "cell_type": "markdown",
   "id": "4ce99f18",
   "metadata": {},
   "source": [
    "# immutable"
   ]
  },
  {
   "cell_type": "code",
   "execution_count": 4,
   "id": "3e7a2071",
   "metadata": {},
   "outputs": [
    {
     "data": {
      "text/plain": [
       "140725222151240"
      ]
     },
     "execution_count": 4,
     "metadata": {},
     "output_type": "execute_result"
    }
   ],
   "source": [
    "me = 10\n",
    "id(me)"
   ]
  },
  {
   "cell_type": "code",
   "execution_count": 6,
   "id": "61a0de5a",
   "metadata": {},
   "outputs": [
    {
     "data": {
      "text/plain": [
       "140725222151304"
      ]
     },
     "execution_count": 6,
     "metadata": {},
     "output_type": "execute_result"
    }
   ],
   "source": [
    "me += 1\n",
    "id(me)"
   ]
  },
  {
   "cell_type": "markdown",
   "id": "74d74a6f",
   "metadata": {},
   "source": [
    "# mutable의 특징"
   ]
  },
  {
   "cell_type": "code",
   "execution_count": 7,
   "id": "15984766",
   "metadata": {},
   "outputs": [],
   "source": [
    "me = [1, 2, 3]\n",
    "you = me"
   ]
  },
  {
   "cell_type": "code",
   "execution_count": 8,
   "id": "2163e452",
   "metadata": {},
   "outputs": [
    {
     "name": "stdout",
     "output_type": "stream",
     "text": [
      "2906317849408\n",
      "2906317849408\n"
     ]
    }
   ],
   "source": [
    "print(id(you))\n",
    "print(id(me))"
   ]
  },
  {
   "cell_type": "code",
   "execution_count": 9,
   "id": "ed769a20",
   "metadata": {},
   "outputs": [],
   "source": [
    "you.append(4)"
   ]
  },
  {
   "cell_type": "code",
   "execution_count": 10,
   "id": "71843ad1",
   "metadata": {},
   "outputs": [
    {
     "name": "stdout",
     "output_type": "stream",
     "text": [
      "[1, 2, 3, 4]\n"
     ]
    }
   ],
   "source": [
    "print(you)"
   ]
  },
  {
   "cell_type": "code",
   "execution_count": 11,
   "id": "a1f12fa5",
   "metadata": {
    "scrolled": true
   },
   "outputs": [
    {
     "name": "stdout",
     "output_type": "stream",
     "text": [
      "[1, 2, 3, 4]\n"
     ]
    }
   ],
   "source": [
    "print(me)"
   ]
  },
  {
   "cell_type": "markdown",
   "id": "e5d44eba",
   "metadata": {},
   "source": [
    "# 리스트의 복사"
   ]
  },
  {
   "cell_type": "code",
   "execution_count": 12,
   "id": "f9160479",
   "metadata": {},
   "outputs": [
    {
     "name": "stdout",
     "output_type": "stream",
     "text": [
      "[1, 2, 3, 4]\n",
      "2906317849408\n"
     ]
    }
   ],
   "source": [
    "print(me)\n",
    "print(id(me))"
   ]
  },
  {
   "cell_type": "code",
   "execution_count": 13,
   "id": "1243a4f8",
   "metadata": {},
   "outputs": [],
   "source": [
    "you = me[:]"
   ]
  },
  {
   "cell_type": "code",
   "execution_count": 14,
   "id": "9c1347ad",
   "metadata": {
    "scrolled": true
   },
   "outputs": [
    {
     "name": "stdout",
     "output_type": "stream",
     "text": [
      "[1, 2, 3, 4]\n",
      "2906317921536\n"
     ]
    }
   ],
   "source": [
    "print(you)\n",
    "print(id(you))"
   ]
  },
  {
   "cell_type": "code",
   "execution_count": 15,
   "id": "ab2256af",
   "metadata": {},
   "outputs": [],
   "source": [
    "me.append(5)"
   ]
  },
  {
   "cell_type": "code",
   "execution_count": 16,
   "id": "a023366f",
   "metadata": {
    "scrolled": false
   },
   "outputs": [
    {
     "name": "stdout",
     "output_type": "stream",
     "text": [
      "[1, 2, 3, 4, 5]\n",
      "[1, 2, 3, 4]\n"
     ]
    }
   ],
   "source": [
    "print(me)\n",
    "print(you)"
   ]
  },
  {
   "cell_type": "code",
   "execution_count": 17,
   "id": "8724fa37",
   "metadata": {},
   "outputs": [],
   "source": [
    "# copy 함수 사용\n",
    "you = me.copy()"
   ]
  },
  {
   "cell_type": "code",
   "execution_count": 18,
   "id": "85ea0800",
   "metadata": {
    "scrolled": true
   },
   "outputs": [
    {
     "name": "stdout",
     "output_type": "stream",
     "text": [
      "[1, 2, 3, 4, 5]\n",
      "2906317849408\n",
      "2906317850560\n"
     ]
    }
   ],
   "source": [
    "print(you)\n",
    "print(id(me))\n",
    "print(id(you))"
   ]
  },
  {
   "cell_type": "code",
   "execution_count": 19,
   "id": "a7735593",
   "metadata": {},
   "outputs": [],
   "source": [
    "me.append(6)"
   ]
  },
  {
   "cell_type": "code",
   "execution_count": 20,
   "id": "02bca854",
   "metadata": {
    "scrolled": false
   },
   "outputs": [
    {
     "name": "stdout",
     "output_type": "stream",
     "text": [
      "[1, 2, 3, 4, 5, 6]\n",
      "[1, 2, 3, 4, 5]\n"
     ]
    }
   ],
   "source": [
    "print(me)\n",
    "print(you)"
   ]
  },
  {
   "cell_type": "code",
   "execution_count": null,
   "id": "874bcbb5",
   "metadata": {},
   "outputs": [],
   "source": []
  }
 ],
 "metadata": {
  "kernelspec": {
   "display_name": "Python 3 (ipykernel)",
   "language": "python",
   "name": "python3"
  },
  "language_info": {
   "codemirror_mode": {
    "name": "ipython",
    "version": 3
   },
   "file_extension": ".py",
   "mimetype": "text/x-python",
   "name": "python",
   "nbconvert_exporter": "python",
   "pygments_lexer": "ipython3",
   "version": "3.11.5"
  }
 },
 "nbformat": 4,
 "nbformat_minor": 5
}
