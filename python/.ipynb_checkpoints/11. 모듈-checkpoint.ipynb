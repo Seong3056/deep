{
 "cells": [
  {
   "cell_type": "markdown",
   "id": "8e219276",
   "metadata": {},
   "source": [
    "# 모듈\n",
    "\n",
    "- 함수나 변수 또는 클래스를 모아 둔 파일\n",
    "- 다른 파이썬 프로그램에서 불러와 사용할 수 있게 만든 파이썬 파일\n",
    "- 종류\n",
    "    - 표준 모듈 : 파이썬에 기본적으로 내장되어 있는 모듈\n",
    "    - 외부 모듈 : 다른 사람들이 만들어서 공개한 모듈"
   ]
  },
  {
   "cell_type": "markdown",
   "id": "d3731e0b",
   "metadata": {},
   "source": [
    "# 모듈 사용\n",
    "\n",
    "- import 모듈\n",
    "- from 모듈 import 함수1, 함수2\n",
    "- from 모듈 import *"
   ]
  },
  {
   "cell_type": "code",
   "execution_count": 1,
   "id": "f757a07c",
   "metadata": {},
   "outputs": [],
   "source": [
    "import add_sub_module"
   ]
  },
  {
   "cell_type": "code",
   "execution_count": 4,
   "id": "9d13e4ed",
   "metadata": {},
   "outputs": [
    {
     "name": "stdout",
     "output_type": "stream",
     "text": [
      "7\n"
     ]
    }
   ],
   "source": [
    "print(add_sub_module.add(3, 4))"
   ]
  },
  {
   "cell_type": "code",
   "execution_count": 5,
   "id": "e6094604",
   "metadata": {},
   "outputs": [
    {
     "name": "stdout",
     "output_type": "stream",
     "text": [
      "2\n"
     ]
    }
   ],
   "source": [
    "print(add_sub_module.sub(4, 2))"
   ]
  },
  {
   "cell_type": "code",
   "execution_count": 6,
   "id": "20a4a69f",
   "metadata": {},
   "outputs": [],
   "source": [
    "from add_sub_module import add,sub"
   ]
  },
  {
   "cell_type": "code",
   "execution_count": 7,
   "id": "a0da2425",
   "metadata": {},
   "outputs": [
    {
     "data": {
      "text/plain": [
       "7"
      ]
     },
     "execution_count": 7,
     "metadata": {},
     "output_type": "execute_result"
    }
   ],
   "source": [
    "add(3,4)"
   ]
  },
  {
   "cell_type": "code",
   "execution_count": 8,
   "id": "2c20d03d",
   "metadata": {},
   "outputs": [
    {
     "data": {
      "text/plain": [
       "1"
      ]
     },
     "execution_count": 8,
     "metadata": {},
     "output_type": "execute_result"
    }
   ],
   "source": [
    "sub(4,3)"
   ]
  },
  {
   "cell_type": "code",
   "execution_count": 9,
   "id": "87c3d2b2",
   "metadata": {},
   "outputs": [
    {
     "data": {
      "text/plain": [
       "<function add_sub_module.add(a, b)>"
      ]
     },
     "execution_count": 9,
     "metadata": {},
     "output_type": "execute_result"
    }
   ],
   "source": [
    "add"
   ]
  },
  {
   "cell_type": "code",
   "execution_count": 10,
   "id": "4e1128ef",
   "metadata": {},
   "outputs": [],
   "source": [
    "import converter"
   ]
  },
  {
   "cell_type": "code",
   "execution_count": 11,
   "id": "7db61886",
   "metadata": {},
   "outputs": [
    {
     "name": "stdout",
     "output_type": "stream",
     "text": [
      "160km = 99.41936miles\n"
     ]
    }
   ],
   "source": [
    "miles = converter.kilometer_to_miles(160)\n",
    "print(f\"160km = {miles}miles\")"
   ]
  },
  {
   "cell_type": "code",
   "execution_count": 13,
   "id": "8268db56",
   "metadata": {},
   "outputs": [
    {
     "name": "stdout",
     "output_type": "stream",
     "text": [
      "1000g = 2.20462pounds\n"
     ]
    }
   ],
   "source": [
    "pounds = converter.gram_to_pounds(1000)\n",
    "print(f\"1000g = {pounds}pounds\")"
   ]
  },
  {
   "cell_type": "code",
   "execution_count": 14,
   "id": "7e9633dc",
   "metadata": {},
   "outputs": [],
   "source": [
    "from converter import *"
   ]
  },
  {
   "cell_type": "code",
   "execution_count": 15,
   "id": "fb0894ef",
   "metadata": {},
   "outputs": [
    {
     "name": "stdout",
     "output_type": "stream",
     "text": [
      "86.99194\n"
     ]
    }
   ],
   "source": [
    "miles = kilometer_to_miles(140)\n",
    "print(miles)"
   ]
  },
  {
   "cell_type": "code",
   "execution_count": 16,
   "id": "6698f25c",
   "metadata": {},
   "outputs": [
    {
     "name": "stdout",
     "output_type": "stream",
     "text": [
      "0.220462\n"
     ]
    }
   ],
   "source": [
    "pounds = gram_to_pounds(100)\n",
    "print(pounds)"
   ]
  },
  {
   "cell_type": "markdown",
   "id": "124c007b",
   "metadata": {},
   "source": [
    "# 별명 사용하기"
   ]
  },
  {
   "cell_type": "code",
   "execution_count": 17,
   "id": "49ed85cf",
   "metadata": {},
   "outputs": [],
   "source": [
    "import converter as cvt # cvt라고 부르겠다"
   ]
  },
  {
   "cell_type": "code",
   "execution_count": 19,
   "id": "560cb126",
   "metadata": {},
   "outputs": [
    {
     "name": "stdout",
     "output_type": "stream",
     "text": [
      "93.20565\n"
     ]
    }
   ],
   "source": [
    "miles = cvt.kilometer_to_miles(150)\n",
    "print(miles)"
   ]
  },
  {
   "cell_type": "code",
   "execution_count": 20,
   "id": "dd107b0c",
   "metadata": {},
   "outputs": [
    {
     "name": "stdout",
     "output_type": "stream",
     "text": [
      "2.20462\n"
     ]
    }
   ],
   "source": [
    "pounds =cvt.gram_to_pounds(1000)\n",
    "print(pounds)"
   ]
  },
  {
   "cell_type": "code",
   "execution_count": 21,
   "id": "749520b1",
   "metadata": {},
   "outputs": [],
   "source": [
    "from converter import kilometer_to_miles as k2m"
   ]
  },
  {
   "cell_type": "code",
   "execution_count": 22,
   "id": "f0ce6090",
   "metadata": {},
   "outputs": [
    {
     "name": "stdout",
     "output_type": "stream",
     "text": [
      "93.20565\n"
     ]
    }
   ],
   "source": [
    "miles =k2m(150)\n",
    "print(miles)"
   ]
  },
  {
   "cell_type": "markdown",
   "id": "293ca090",
   "metadata": {},
   "source": [
    "# 표준 모듈\n",
    "\n",
    "- 파이썬에 기본적으로 설치되어 있는 모듈\n",
    "- 별도의 설치없이 import 사용 가능"
   ]
  },
  {
   "cell_type": "markdown",
   "id": "7fbd2ee7",
   "metadata": {},
   "source": [
    "## math\n",
    "\n",
    "- 수학과 관련된 값과 함수를 제공"
   ]
  },
  {
   "cell_type": "code",
   "execution_count": 23,
   "id": "426e2267",
   "metadata": {},
   "outputs": [],
   "source": [
    "import math"
   ]
  },
  {
   "cell_type": "code",
   "execution_count": 24,
   "id": "b167e4a9",
   "metadata": {},
   "outputs": [
    {
     "data": {
      "text/plain": [
       "3.141592653589793"
      ]
     },
     "execution_count": 24,
     "metadata": {},
     "output_type": "execute_result"
    }
   ],
   "source": [
    "# 원주율\n",
    "math.pi"
   ]
  },
  {
   "cell_type": "code",
   "execution_count": 26,
   "id": "f6b2ecd2",
   "metadata": {},
   "outputs": [
    {
     "name": "stdout",
     "output_type": "stream",
     "text": [
      "2\n",
      "1\n"
     ]
    }
   ],
   "source": [
    "# 올림과 내림\n",
    "print(math.ceil(1.1))  # 올림\n",
    "print(math.floor(1.9)) # 내림"
   ]
  },
  {
   "cell_type": "code",
   "execution_count": 28,
   "id": "6620e863",
   "metadata": {},
   "outputs": [
    {
     "name": "stdout",
     "output_type": "stream",
     "text": [
      "-1\n",
      "-2\n"
     ]
    }
   ],
   "source": [
    "# 소수점 이하 절사\n",
    "print(math.trunc(-1.9)) # 절사\n",
    "print(math.floor(-1.9)) # 내림"
   ]
  },
  {
   "cell_type": "code",
   "execution_count": 29,
   "id": "d318cb70",
   "metadata": {},
   "outputs": [
    {
     "data": {
      "text/plain": [
       "5.0"
      ]
     },
     "execution_count": 29,
     "metadata": {},
     "output_type": "execute_result"
    }
   ],
   "source": [
    "# 제곱근\n",
    "math.sqrt(25) # 루트 25"
   ]
  },
  {
   "cell_type": "code",
   "execution_count": 30,
   "id": "92f9906e",
   "metadata": {},
   "outputs": [
    {
     "ename": "SyntaxError",
     "evalue": "invalid syntax (735579688.py, line 3)",
     "output_type": "error",
     "traceback": [
      "\u001b[1;36m  Cell \u001b[1;32mIn[30], line 3\u001b[1;36m\u001b[0m\n\u001b[1;33m    - 난수 생성 모듈\u001b[0m\n\u001b[1;37m         ^\u001b[0m\n\u001b[1;31mSyntaxError\u001b[0m\u001b[1;31m:\u001b[0m invalid syntax\n"
     ]
    }
   ],
   "source": [
    "## random\n",
    "\n",
    "- 난수 생성 모듈"
   ]
  },
  {
   "cell_type": "code",
   "execution_count": 31,
   "id": "e6d70dfd",
   "metadata": {},
   "outputs": [],
   "source": [
    "import random"
   ]
  },
  {
   "cell_type": "markdown",
   "id": "2bf0f3c8",
   "metadata": {},
   "source": [
    "- randint()\n",
    "    - 전달하는 두 인수 사이의 정수를 임의로 생성"
   ]
  },
  {
   "cell_type": "code",
   "execution_count": 189,
   "id": "3901ab03",
   "metadata": {},
   "outputs": [
    {
     "data": {
      "text/plain": [
       "4"
      ]
     },
     "execution_count": 189,
     "metadata": {},
     "output_type": "execute_result"
    }
   ],
   "source": [
    "random.randint(1,10) # 1~10 까지"
   ]
  },
  {
   "cell_type": "markdown",
   "id": "0baa0054",
   "metadata": {},
   "source": [
    "- randrange()\n",
    "    - 특정 범위에 속한 정수 중에서 하나를 임의로 생성"
   ]
  },
  {
   "cell_type": "code",
   "execution_count": 158,
   "id": "bf6a1f31",
   "metadata": {},
   "outputs": [
    {
     "data": {
      "text/plain": [
       "5"
      ]
     },
     "execution_count": 158,
     "metadata": {},
     "output_type": "execute_result"
    }
   ],
   "source": [
    "random.randrange(10) # 0~9 까지"
   ]
  },
  {
   "cell_type": "code",
   "execution_count": 190,
   "id": "1e2ced50",
   "metadata": {},
   "outputs": [
    {
     "data": {
      "text/plain": [
       "9"
      ]
     },
     "execution_count": 190,
     "metadata": {},
     "output_type": "execute_result"
    }
   ],
   "source": [
    "random.randrange(1,10,2)"
   ]
  },
  {
   "cell_type": "markdown",
   "id": "fb3a84dc",
   "metadata": {},
   "source": [
    "- random()\n",
    "    - 0이상 1미만 범위에서 읨의의 실수를 생성\n",
    "    - 0% 이상 100% 미만으로 확률을 처리 할 때도 사용"
   ]
  },
  {
   "cell_type": "code",
   "execution_count": 440,
   "id": "8f806423",
   "metadata": {},
   "outputs": [
    {
     "data": {
      "text/plain": [
       "0.9655570191461791"
      ]
     },
     "execution_count": 440,
     "metadata": {},
     "output_type": "execute_result"
    }
   ],
   "source": [
    "random.random()"
   ]
  },
  {
   "cell_type": "markdown",
   "id": "22dfada9",
   "metadata": {},
   "source": [
    "- choice()\n",
    "    - 전달된 시퀀스 자료형에 속한 요소 중에서 하나를 임의로 반환"
   ]
  },
  {
   "cell_type": "code",
   "execution_count": 453,
   "id": "1ecb0b49",
   "metadata": {},
   "outputs": [
    {
     "data": {
      "text/plain": [
       "'winter'"
      ]
     },
     "execution_count": 453,
     "metadata": {},
     "output_type": "execute_result"
    }
   ],
   "source": [
    "seasons = [\"spring\", \"summer\", \"fall\", \"winter\"]\n",
    "random.choice(seasons)"
   ]
  },
  {
   "cell_type": "markdown",
   "id": "18de0b58",
   "metadata": {},
   "source": [
    "- sample()\n",
    "    - 전달된 시퀀스 자료형에 속한 요소 중 지정된 개수의 요소를 임의로 반환\n",
    "    - 반환 결과는 리스트 자료형\n",
    "    - 중복 없이 선택"
   ]
  },
  {
   "cell_type": "code",
   "execution_count": 472,
   "id": "7ed29a5e",
   "metadata": {},
   "outputs": [
    {
     "data": {
      "text/plain": [
       "[12, 27, 16, 6, 35, 38]"
      ]
     },
     "execution_count": 472,
     "metadata": {},
     "output_type": "execute_result"
    }
   ],
   "source": [
    "random.sample(range(1, 46), 6)"
   ]
  },
  {
   "cell_type": "code",
   "execution_count": 473,
   "id": "9a63dc54",
   "metadata": {},
   "outputs": [
    {
     "data": {
      "text/plain": [
       "[3, 10, 24, 36, 38, 42]"
      ]
     },
     "execution_count": 473,
     "metadata": {},
     "output_type": "execute_result"
    }
   ],
   "source": [
    "sorted(random.sample(range(1, 46), 6))"
   ]
  },
  {
   "cell_type": "markdown",
   "id": "2fddfac7",
   "metadata": {},
   "source": [
    "## time\n",
    "\n",
    "- 시간처리와 관련된 모듈"
   ]
  },
  {
   "cell_type": "code",
   "execution_count": 474,
   "id": "e40a4a3e",
   "metadata": {},
   "outputs": [],
   "source": [
    "import time"
   ]
  },
  {
   "cell_type": "markdown",
   "id": "54feb032",
   "metadata": {},
   "source": [
    "- time()\n",
    "    - 1970년 1월 1일 0시 0분 0초 부터 현재 까지 경과된 시간을 반환(unix 05 배포 날짜)\n",
    "    - 소수점이하는 마이크로초를 의미"
   ]
  },
  {
   "cell_type": "code",
   "execution_count": 504,
   "id": "b6610f64",
   "metadata": {},
   "outputs": [
    {
     "data": {
      "text/plain": [
       "1704694300.9222097"
      ]
     },
     "execution_count": 504,
     "metadata": {},
     "output_type": "execute_result"
    }
   ],
   "source": [
    "time.time()"
   ]
  },
  {
   "cell_type": "markdown",
   "id": "d57fcf18",
   "metadata": {},
   "source": [
    "- ctime()\n",
    "    - 인수로 전달된 시간을 형식을 갖춰 반환"
   ]
  },
  {
   "cell_type": "code",
   "execution_count": 505,
   "id": "523bc5a4",
   "metadata": {},
   "outputs": [
    {
     "data": {
      "text/plain": [
       "'Mon Jan  8 15:12:45 2024'"
      ]
     },
     "execution_count": 505,
     "metadata": {},
     "output_type": "execute_result"
    }
   ],
   "source": [
    "time.ctime(time.time())"
   ]
  },
  {
   "cell_type": "markdown",
   "id": "bcacb14a",
   "metadata": {},
   "source": [
    "- sleep()\n",
    "    - 인수로 전달된 초 만큼 일시 정지"
   ]
  },
  {
   "cell_type": "code",
   "execution_count": 506,
   "id": "a8906c26",
   "metadata": {},
   "outputs": [],
   "source": [
    "# 1초간 일시정지\n",
    "time.sleep(1)"
   ]
  },
  {
   "cell_type": "code",
   "execution_count": 512,
   "id": "4f7c85ef",
   "metadata": {},
   "outputs": [
    {
     "name": "stdout",
     "output_type": "stream",
     "text": [
      "1.000246524810791\n"
     ]
    }
   ],
   "source": [
    "S = time.time()\n",
    "time.sleep(1)\n",
    "print(time.time() - S)"
   ]
  },
  {
   "cell_type": "markdown",
   "id": "eb76a68d",
   "metadata": {},
   "source": [
    "## datetime\n",
    "\n",
    "- 날짜와 시간 데이터를 처리\n"
   ]
  },
  {
   "cell_type": "markdown",
   "id": "28044999",
   "metadata": {},
   "source": [
    "- now()\n",
    "    - 시스템의 현재 날짜와 시간을 반환"
   ]
  },
  {
   "cell_type": "code",
   "execution_count": 513,
   "id": "d8e42365",
   "metadata": {},
   "outputs": [],
   "source": [
    "import datetime"
   ]
  },
  {
   "cell_type": "code",
   "execution_count": 515,
   "id": "fdbfd1d4",
   "metadata": {},
   "outputs": [
    {
     "name": "stdout",
     "output_type": "stream",
     "text": [
      "2024-01-08 15:19:16.050312\n"
     ]
    }
   ],
   "source": [
    "print(datetime.datetime.now())"
   ]
  },
  {
   "cell_type": "markdown",
   "id": "3fa5e097",
   "metadata": {},
   "source": [
    "- date()\n",
    "    - 특정 날짜를 만들어서 반환"
   ]
  },
  {
   "cell_type": "code",
   "execution_count": 516,
   "id": "b474741f",
   "metadata": {},
   "outputs": [
    {
     "name": "stdout",
     "output_type": "stream",
     "text": [
      "2024-01-10\n"
     ]
    }
   ],
   "source": [
    "print(datetime.date(2024, 1, 10))"
   ]
  },
  {
   "cell_type": "markdown",
   "id": "f01eae60",
   "metadata": {},
   "source": [
    "- 날짜/시간 관련 속성값"
   ]
  },
  {
   "cell_type": "code",
   "execution_count": 517,
   "id": "47876fc4",
   "metadata": {},
   "outputs": [],
   "source": [
    "today = datetime.datetime.now()"
   ]
  },
  {
   "cell_type": "code",
   "execution_count": 518,
   "id": "e5919e87",
   "metadata": {},
   "outputs": [
    {
     "data": {
      "text/plain": [
       "2024"
      ]
     },
     "execution_count": 518,
     "metadata": {},
     "output_type": "execute_result"
    }
   ],
   "source": [
    "today.year"
   ]
  },
  {
   "cell_type": "code",
   "execution_count": 519,
   "id": "d39f330a",
   "metadata": {},
   "outputs": [
    {
     "data": {
      "text/plain": [
       "8"
      ]
     },
     "execution_count": 519,
     "metadata": {},
     "output_type": "execute_result"
    }
   ],
   "source": [
    "today.day"
   ]
  },
  {
   "cell_type": "code",
   "execution_count": 520,
   "id": "893502ae",
   "metadata": {},
   "outputs": [
    {
     "data": {
      "text/plain": [
       "15"
      ]
     },
     "execution_count": 520,
     "metadata": {},
     "output_type": "execute_result"
    }
   ],
   "source": [
    "today.hour"
   ]
  },
  {
   "cell_type": "markdown",
   "id": "49f01d1b",
   "metadata": {},
   "source": [
    "- timedelta()\n",
    "    - 날짜/시간 데이터의 연산을 위해 사용"
   ]
  },
  {
   "cell_type": "code",
   "execution_count": 521,
   "id": "5ca9291f",
   "metadata": {},
   "outputs": [],
   "source": [
    "today = datetime.datetime.now()\n",
    "yesterday = today - datetime.timedelta(days = 1 )\n",
    "tomorrow = today + datetime.timedelta(days = 30)"
   ]
  },
  {
   "cell_type": "code",
   "execution_count": 522,
   "id": "ac91e127",
   "metadata": {},
   "outputs": [
    {
     "name": "stdout",
     "output_type": "stream",
     "text": [
      "2024-01-07 15:28:00.994391\n"
     ]
    }
   ],
   "source": [
    "print(yesterday)"
   ]
  },
  {
   "cell_type": "code",
   "execution_count": 523,
   "id": "52d918a3",
   "metadata": {},
   "outputs": [
    {
     "name": "stdout",
     "output_type": "stream",
     "text": [
      "2024-02-07 15:28:00.994391\n"
     ]
    }
   ],
   "source": [
    "print(tomorrow)"
   ]
  },
  {
   "cell_type": "markdown",
   "id": "0b8f009f",
   "metadata": {},
   "source": [
    "# 패키지\n",
    "\n",
    "- 모듈의 집합\n",
    "- 모듈은 기본적으로 패키지의 형태로 배포됨\n",
    "- 파이썬에서 기본적으로 제공하지 않는 외부에서 만들어진 패키지를 외부 모듈이라고 함"
   ]
  },
  {
   "cell_type": "markdown",
   "id": "0e59fbf0",
   "metadata": {},
   "source": [
    "## 패키지 관리자\n",
    "\n",
    "- 패키지의 추가나 삭제와 같은 작업을 수행하기 위해 사용\n",
    "    - pip\n",
    "    - conda\n",
    "    \n",
    "- 설치 명령어\n",
    "    - pip install (package)\n",
    "    - conda install (package)\n",
    "    \n",
    "- 삭제 명령어\n",
    "    - pip uninstall (package)\n",
    "    - conda uninstall (package)"
   ]
  },
  {
   "cell_type": "code",
   "execution_count": 524,
   "id": "d78a0287",
   "metadata": {},
   "outputs": [],
   "source": [
    "import numpy as np"
   ]
  },
  {
   "cell_type": "code",
   "execution_count": 525,
   "id": "b9b6cb1a",
   "metadata": {},
   "outputs": [
    {
     "data": {
      "text/plain": [
       "15"
      ]
     },
     "execution_count": 525,
     "metadata": {},
     "output_type": "execute_result"
    }
   ],
   "source": [
    "np.sum([1, 2, 3, 4, 5])"
   ]
  },
  {
   "cell_type": "code",
   "execution_count": null,
   "id": "970fdfbf",
   "metadata": {},
   "outputs": [],
   "source": []
  },
  {
   "cell_type": "code",
   "execution_count": null,
   "id": "8dc08eb1",
   "metadata": {},
   "outputs": [],
   "source": []
  },
  {
   "cell_type": "code",
   "execution_count": null,
   "id": "4065bab0",
   "metadata": {},
   "outputs": [],
   "source": []
  },
  {
   "cell_type": "code",
   "execution_count": null,
   "id": "5e79ae72",
   "metadata": {},
   "outputs": [],
   "source": []
  },
  {
   "cell_type": "code",
   "execution_count": null,
   "id": "6a5296ee",
   "metadata": {},
   "outputs": [],
   "source": []
  },
  {
   "cell_type": "code",
   "execution_count": null,
   "id": "3eb89ecf",
   "metadata": {},
   "outputs": [],
   "source": []
  },
  {
   "cell_type": "code",
   "execution_count": null,
   "id": "cd6c1bfb",
   "metadata": {},
   "outputs": [],
   "source": []
  },
  {
   "cell_type": "code",
   "execution_count": null,
   "id": "647408ae",
   "metadata": {},
   "outputs": [],
   "source": []
  },
  {
   "cell_type": "code",
   "execution_count": null,
   "id": "47e910c2",
   "metadata": {},
   "outputs": [],
   "source": []
  },
  {
   "cell_type": "code",
   "execution_count": null,
   "id": "bea26288",
   "metadata": {},
   "outputs": [],
   "source": []
  },
  {
   "cell_type": "code",
   "execution_count": null,
   "id": "02101805",
   "metadata": {},
   "outputs": [],
   "source": []
  }
 ],
 "metadata": {
  "kernelspec": {
   "display_name": "Python 3 (ipykernel)",
   "language": "python",
   "name": "python3"
  },
  "language_info": {
   "codemirror_mode": {
    "name": "ipython",
    "version": 3
   },
   "file_extension": ".py",
   "mimetype": "text/x-python",
   "name": "python",
   "nbconvert_exporter": "python",
   "pygments_lexer": "ipython3",
   "version": "3.11.5"
  }
 },
 "nbformat": 4,
 "nbformat_minor": 5
}
