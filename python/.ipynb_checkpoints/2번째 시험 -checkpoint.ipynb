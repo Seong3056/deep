{
 "cells": [
  {
   "cell_type": "code",
   "execution_count": 3,
   "id": "af38dc48",
   "metadata": {},
   "outputs": [
    {
     "name": "stdout",
     "output_type": "stream",
     "text": [
      "1 : 추가, 2 : 수정, 3 : 삭제, 4 : 목록조회, 0 : 종료4\n",
      "[{'id': 'a', '이름': '가나다1', '나이': 61, '키': 165.4, '몸무게': 60.2}, {'id': 'b', '이름': '가나다2', '나이': 32, '키': 185.4, '몸무게': 80.3}, {'id': 'c', '이름': '가나다3', '나이': 13, '키': 145.8, '몸무게': 60.6}, {'id': 'd', '이름': '가나다4', '나이': 44, '키': 165.7, '몸무게': 44.5}, {'id': 'e', '이름': '가나다5', '나이': 85, '키': 165.2, '몸무게': 42.3}]\n",
      "1 : 추가, 2 : 수정, 3 : 삭제, 4 : 목록조회, 0 : 종료1\n"
     ]
    },
    {
     "ename": "KeyboardInterrupt",
     "evalue": "Interrupted by user",
     "output_type": "error",
     "traceback": [
      "\u001b[1;31m---------------------------------------------------------------------------\u001b[0m",
      "\u001b[1;31mKeyboardInterrupt\u001b[0m                         Traceback (most recent call last)",
      "Cell \u001b[1;32mIn[3], line 1\u001b[0m\n\u001b[1;32m----> 1\u001b[0m \u001b[38;5;28;01mclass\u001b[39;00m \u001b[38;5;21;01mCustomer\u001b[39;00m:\n\u001b[0;32m      3\u001b[0m     member \u001b[38;5;241m=\u001b[39m {\u001b[38;5;124m\"\u001b[39m\u001b[38;5;124mret\u001b[39m\u001b[38;5;124m\"\u001b[39m:\u001b[38;5;124m\"\u001b[39m\u001b[38;5;124my\u001b[39m\u001b[38;5;124m\"\u001b[39m,\u001b[38;5;124m\"\u001b[39m\u001b[38;5;124mdata\u001b[39m\u001b[38;5;124m\"\u001b[39m:[{\u001b[38;5;124m\"\u001b[39m\u001b[38;5;124mid\u001b[39m\u001b[38;5;124m\"\u001b[39m:\u001b[38;5;124m\"\u001b[39m\u001b[38;5;124ma\u001b[39m\u001b[38;5;124m\"\u001b[39m,\u001b[38;5;124m\"\u001b[39m\u001b[38;5;124mname\u001b[39m\u001b[38;5;124m\"\u001b[39m:\u001b[38;5;124m\"\u001b[39m\u001b[38;5;124m가나다1\u001b[39m\u001b[38;5;124m\"\u001b[39m,\u001b[38;5;124m\"\u001b[39m\u001b[38;5;124mage\u001b[39m\u001b[38;5;124m\"\u001b[39m:\u001b[38;5;241m61\u001b[39m,\u001b[38;5;124m\"\u001b[39m\u001b[38;5;124mheight\u001b[39m\u001b[38;5;124m\"\u001b[39m:\u001b[38;5;241m165.4\u001b[39m,\u001b[38;5;124m\"\u001b[39m\u001b[38;5;124mweight\u001b[39m\u001b[38;5;124m\"\u001b[39m:\u001b[38;5;241m60.2\u001b[39m},{\u001b[38;5;124m\"\u001b[39m\u001b[38;5;124mid\u001b[39m\u001b[38;5;124m\"\u001b[39m:\u001b[38;5;124m\"\u001b[39m\u001b[38;5;124mb\u001b[39m\u001b[38;5;124m\"\u001b[39m,\u001b[38;5;124m\"\u001b[39m\u001b[38;5;124mname\u001b[39m\u001b[38;5;124m\"\u001b[39m:\u001b[38;5;124m\"\u001b[39m\u001b[38;5;124m가나다2\u001b[39m\u001b[38;5;124m\"\u001b[39m,\u001b[38;5;124m\"\u001b[39m\u001b[38;5;124mage\u001b[39m\u001b[38;5;124m\"\u001b[39m:\u001b[38;5;241m32\u001b[39m,\u001b[38;5;124m\"\u001b[39m\u001b[38;5;124mheight\u001b[39m\u001b[38;5;124m\"\u001b[39m:\u001b[38;5;241m185.4\u001b[39m,\u001b[38;5;124m\"\u001b[39m\u001b[38;5;124mweight\u001b[39m\u001b[38;5;124m\"\u001b[39m:\u001b[38;5;241m80.3\u001b[39m},{\u001b[38;5;124m\"\u001b[39m\u001b[38;5;124mid\u001b[39m\u001b[38;5;124m\"\u001b[39m:\u001b[38;5;124m\"\u001b[39m\u001b[38;5;124mc\u001b[39m\u001b[38;5;124m\"\u001b[39m,\u001b[38;5;124m\"\u001b[39m\u001b[38;5;124mname\u001b[39m\u001b[38;5;124m\"\u001b[39m:\u001b[38;5;124m\"\u001b[39m\u001b[38;5;124m가나다3\u001b[39m\u001b[38;5;124m\"\u001b[39m,\u001b[38;5;124m\"\u001b[39m\u001b[38;5;124mage\u001b[39m\u001b[38;5;124m\"\u001b[39m:\u001b[38;5;241m13\u001b[39m,\u001b[38;5;124m\"\u001b[39m\u001b[38;5;124mheight\u001b[39m\u001b[38;5;124m\"\u001b[39m:\u001b[38;5;241m145.8\u001b[39m,\u001b[38;5;124m\"\u001b[39m\u001b[38;5;124mweight\u001b[39m\u001b[38;5;124m\"\u001b[39m:\u001b[38;5;241m60.6\u001b[39m},{\u001b[38;5;124m\"\u001b[39m\u001b[38;5;124mid\u001b[39m\u001b[38;5;124m\"\u001b[39m:\u001b[38;5;124m\"\u001b[39m\u001b[38;5;124md\u001b[39m\u001b[38;5;124m\"\u001b[39m,\u001b[38;5;124m\"\u001b[39m\u001b[38;5;124mname\u001b[39m\u001b[38;5;124m\"\u001b[39m:\u001b[38;5;124m\"\u001b[39m\u001b[38;5;124m가나다4\u001b[39m\u001b[38;5;124m\"\u001b[39m,\u001b[38;5;124m\"\u001b[39m\u001b[38;5;124mage\u001b[39m\u001b[38;5;124m\"\u001b[39m:\u001b[38;5;241m44\u001b[39m,\u001b[38;5;124m\"\u001b[39m\u001b[38;5;124mheight\u001b[39m\u001b[38;5;124m\"\u001b[39m:\u001b[38;5;241m165.7\u001b[39m,\u001b[38;5;124m\"\u001b[39m\u001b[38;5;124mweight\u001b[39m\u001b[38;5;124m\"\u001b[39m:\u001b[38;5;241m44.5\u001b[39m},{\u001b[38;5;124m\"\u001b[39m\u001b[38;5;124mid\u001b[39m\u001b[38;5;124m\"\u001b[39m:\u001b[38;5;124m\"\u001b[39m\u001b[38;5;124me\u001b[39m\u001b[38;5;124m\"\u001b[39m,\u001b[38;5;124m\"\u001b[39m\u001b[38;5;124mname\u001b[39m\u001b[38;5;124m\"\u001b[39m:\u001b[38;5;124m\"\u001b[39m\u001b[38;5;124m가나다5\u001b[39m\u001b[38;5;124m\"\u001b[39m,\u001b[38;5;124m\"\u001b[39m\u001b[38;5;124mage\u001b[39m\u001b[38;5;124m\"\u001b[39m:\u001b[38;5;241m85\u001b[39m,\u001b[38;5;124m\"\u001b[39m\u001b[38;5;124mheight\u001b[39m\u001b[38;5;124m\"\u001b[39m:\u001b[38;5;241m165.2\u001b[39m,\u001b[38;5;124m\"\u001b[39m\u001b[38;5;124mweight\u001b[39m\u001b[38;5;124m\"\u001b[39m:\u001b[38;5;241m42.3\u001b[39m}]}\n\u001b[0;32m      5\u001b[0m     db \u001b[38;5;241m=\u001b[39m []\n",
      "Cell \u001b[1;32mIn[3], line 51\u001b[0m, in \u001b[0;36mCustomer\u001b[1;34m()\u001b[0m\n\u001b[0;32m     47\u001b[0m     \u001b[38;5;28;01mbreak\u001b[39;00m\n\u001b[0;32m     50\u001b[0m \u001b[38;5;28;01melif\u001b[39;00m menu \u001b[38;5;241m==\u001b[39m \u001b[38;5;241m1\u001b[39m:\n\u001b[1;32m---> 51\u001b[0m     add_member()\n\u001b[0;32m     53\u001b[0m \u001b[38;5;28;01melif\u001b[39;00m menu \u001b[38;5;241m==\u001b[39m \u001b[38;5;241m2\u001b[39m:\n\u001b[0;32m     54\u001b[0m     update_customer()\n",
      "Cell \u001b[1;32mIn[3], line 24\u001b[0m, in \u001b[0;36mCustomer.add_member\u001b[1;34m()\u001b[0m\n\u001b[0;32m     23\u001b[0m \u001b[38;5;28;01mdef\u001b[39;00m \u001b[38;5;21madd_member\u001b[39m():\n\u001b[1;32m---> 24\u001b[0m     id_list \u001b[38;5;241m=\u001b[39m \u001b[38;5;28minput\u001b[39m(\u001b[38;5;124m\"\u001b[39m\u001b[38;5;124mid : \u001b[39m\u001b[38;5;124m\"\u001b[39m)\n\u001b[0;32m     25\u001b[0m     name \u001b[38;5;241m=\u001b[39m \u001b[38;5;28minput\u001b[39m(\u001b[38;5;124m\"\u001b[39m\u001b[38;5;124m이름 : \u001b[39m\u001b[38;5;124m\"\u001b[39m)\n\u001b[0;32m     26\u001b[0m     age \u001b[38;5;241m=\u001b[39m \u001b[38;5;28minput\u001b[39m(\u001b[38;5;124m\"\u001b[39m\u001b[38;5;124m나이 : \u001b[39m\u001b[38;5;124m\"\u001b[39m)\n",
      "File \u001b[1;32mC:\\ProgramData\\anaconda3\\Lib\\site-packages\\ipykernel\\kernelbase.py:1202\u001b[0m, in \u001b[0;36mKernel.raw_input\u001b[1;34m(self, prompt)\u001b[0m\n\u001b[0;32m   1200\u001b[0m     msg \u001b[38;5;241m=\u001b[39m \u001b[38;5;124m\"\u001b[39m\u001b[38;5;124mraw_input was called, but this frontend does not support input requests.\u001b[39m\u001b[38;5;124m\"\u001b[39m\n\u001b[0;32m   1201\u001b[0m     \u001b[38;5;28;01mraise\u001b[39;00m StdinNotImplementedError(msg)\n\u001b[1;32m-> 1202\u001b[0m \u001b[38;5;28;01mreturn\u001b[39;00m \u001b[38;5;28mself\u001b[39m\u001b[38;5;241m.\u001b[39m_input_request(\n\u001b[0;32m   1203\u001b[0m     \u001b[38;5;28mstr\u001b[39m(prompt),\n\u001b[0;32m   1204\u001b[0m     \u001b[38;5;28mself\u001b[39m\u001b[38;5;241m.\u001b[39m_parent_ident[\u001b[38;5;124m\"\u001b[39m\u001b[38;5;124mshell\u001b[39m\u001b[38;5;124m\"\u001b[39m],\n\u001b[0;32m   1205\u001b[0m     \u001b[38;5;28mself\u001b[39m\u001b[38;5;241m.\u001b[39mget_parent(\u001b[38;5;124m\"\u001b[39m\u001b[38;5;124mshell\u001b[39m\u001b[38;5;124m\"\u001b[39m),\n\u001b[0;32m   1206\u001b[0m     password\u001b[38;5;241m=\u001b[39m\u001b[38;5;28;01mFalse\u001b[39;00m,\n\u001b[0;32m   1207\u001b[0m )\n",
      "File \u001b[1;32mC:\\ProgramData\\anaconda3\\Lib\\site-packages\\ipykernel\\kernelbase.py:1245\u001b[0m, in \u001b[0;36mKernel._input_request\u001b[1;34m(self, prompt, ident, parent, password)\u001b[0m\n\u001b[0;32m   1242\u001b[0m \u001b[38;5;28;01mexcept\u001b[39;00m \u001b[38;5;167;01mKeyboardInterrupt\u001b[39;00m:\n\u001b[0;32m   1243\u001b[0m     \u001b[38;5;66;03m# re-raise KeyboardInterrupt, to truncate traceback\u001b[39;00m\n\u001b[0;32m   1244\u001b[0m     msg \u001b[38;5;241m=\u001b[39m \u001b[38;5;124m\"\u001b[39m\u001b[38;5;124mInterrupted by user\u001b[39m\u001b[38;5;124m\"\u001b[39m\n\u001b[1;32m-> 1245\u001b[0m     \u001b[38;5;28;01mraise\u001b[39;00m \u001b[38;5;167;01mKeyboardInterrupt\u001b[39;00m(msg) \u001b[38;5;28;01mfrom\u001b[39;00m \u001b[38;5;28;01mNone\u001b[39;00m\n\u001b[0;32m   1246\u001b[0m \u001b[38;5;28;01mexcept\u001b[39;00m \u001b[38;5;167;01mException\u001b[39;00m:\n\u001b[0;32m   1247\u001b[0m     \u001b[38;5;28mself\u001b[39m\u001b[38;5;241m.\u001b[39mlog\u001b[38;5;241m.\u001b[39mwarning(\u001b[38;5;124m\"\u001b[39m\u001b[38;5;124mInvalid Message:\u001b[39m\u001b[38;5;124m\"\u001b[39m, exc_info\u001b[38;5;241m=\u001b[39m\u001b[38;5;28;01mTrue\u001b[39;00m)\n",
      "\u001b[1;31mKeyboardInterrupt\u001b[0m: Interrupted by user"
     ]
    }
   ],
   "source": [
    "class Customer:\n",
    "    \n",
    "    member = {\"ret\":\"y\",\"data\":[{\"id\":\"a\",\"name\":\"가나다1\",\"age\":61,\"height\":165.4,\"weight\":60.2},{\"id\":\"b\",\"name\":\"가나다2\",\"age\":32,\"height\":185.4,\"weight\":80.3},{\"id\":\"c\",\"name\":\"가나다3\",\"age\":13,\"height\":145.8,\"weight\":60.6},{\"id\":\"d\",\"name\":\"가나다4\",\"age\":44,\"height\":165.7,\"weight\":44.5},{\"id\":\"e\",\"name\":\"가나다5\",\"age\":85,\"height\":165.2,\"weight\":42.3}]}\n",
    "\n",
    "    db = []\n",
    "    id_list = []\n",
    "    name = []\n",
    "    age = []\n",
    "    height = []\n",
    "    weight = []\n",
    "\n",
    "\n",
    "    for i in member[\"data\"]:\n",
    "        id_list.append(i[\"id\"])\n",
    "        name.append(i[\"name\"])\n",
    "        age.append(i[\"age\"])\n",
    "        height.append(i[\"height\"])\n",
    "        weight.append(i[\"weight\"])\n",
    "\n",
    "    for i in range(len(name)):\n",
    "        db.append({\"id\" : id_list[i],\"이름\" : name[i],\"나이\" : age[i],\"키\" : height[i],\"몸무게\" : weight[i]})\n",
    "\n",
    "    def add_member():\n",
    "        id_list = input(\"id : \")\n",
    "        name = input(\"이름 : \")\n",
    "        age = input(\"나이 : \")\n",
    "        height = input(\"키 : \")\n",
    "        weight = input(\"몸무게 : \")\n",
    "        new = [id_list,name,age,height,weight]\n",
    "        db.append(new)\n",
    "        print(\"고객정보 추가\")\n",
    "\n",
    "    def update_customer():\n",
    "        pass\n",
    "\n",
    "    def del_customer():\n",
    "        pass\n",
    "\n",
    "    def find_db():\n",
    "\n",
    "        print(db)\n",
    "\n",
    "    while True :\n",
    "        menu = int(input(\"1 : 추가, 2 : 수정, 3 : 삭제, 4 : 목록조회, 0 : 종료\"))\n",
    "        if menu == 0:\n",
    "            print(\"종료\")\n",
    "            break\n",
    "\n",
    "\n",
    "        elif menu == 1:\n",
    "            add_member()\n",
    "\n",
    "        elif menu == 2:\n",
    "            update_customer()\n",
    "\n",
    "        elif menu == 3:\n",
    "            del_customer()\n",
    "\n",
    "        elif menu == 4:\n",
    "            find_db()\n"
   ]
  },
  {
   "cell_type": "code",
   "execution_count": 20,
   "id": "1ae4ad75",
   "metadata": {},
   "outputs": [
    {
     "data": {
      "text/plain": [
       "[{'id': 'a', '이름': '가나다1', '나이': 61, '키': 165.4, '몸무게': 60.2},\n",
       " {'id': 'b', '이름': '가나다2', '나이': 32, '키': 185.4, '몸무게': 80.3},\n",
       " {'id': 'c', '이름': '가나다3', '나이': 13, '키': 145.8, '몸무게': 60.6},\n",
       " {'id': 'd', '이름': '가나다4', '나이': 44, '키': 165.7, '몸무게': 44.5},\n",
       " {'id': 'e', '이름': '가나다5', '나이': 85, '키': 165.2, '몸무게': 42.3}]"
      ]
     },
     "execution_count": 20,
     "metadata": {},
     "output_type": "execute_result"
    }
   ],
   "source": [
    "db"
   ]
  },
  {
   "cell_type": "code",
   "execution_count": 59,
   "id": "8ac09379",
   "metadata": {},
   "outputs": [
    {
     "ename": "AttributeError",
     "evalue": "'dict' object has no attribute 'index'",
     "output_type": "error",
     "traceback": [
      "\u001b[1;31m---------------------------------------------------------------------------\u001b[0m",
      "\u001b[1;31mAttributeError\u001b[0m                            Traceback (most recent call last)",
      "Cell \u001b[1;32mIn[59], line 1\u001b[0m\n\u001b[1;32m----> 1\u001b[0m db[\u001b[38;5;241m0\u001b[39m]\u001b[38;5;241m.\u001b[39mindex(a)\n",
      "\u001b[1;31mAttributeError\u001b[0m: 'dict' object has no attribute 'index'"
     ]
    }
   ],
   "source": [
    "db[0].index(a)"
   ]
  },
  {
   "cell_type": "code",
   "execution_count": null,
   "id": "196e2166",
   "metadata": {},
   "outputs": [],
   "source": []
  },
  {
   "cell_type": "code",
   "execution_count": 15,
   "id": "7f5562d6",
   "metadata": {},
   "outputs": [
    {
     "name": "stdout",
     "output_type": "stream",
     "text": [
      "a\n",
      "b\n",
      "c\n",
      "d\n",
      "e\n"
     ]
    }
   ],
   "source": [
    "id_del = input(\"삭제할 id : \")\n",
    "for i in db:    \n",
    "    if id_del == i[\"id\"]:\n",
    "        member[\"data\"][]\n",
    "         "
   ]
  },
  {
   "cell_type": "code",
   "execution_count": 17,
   "id": "75cba675",
   "metadata": {},
   "outputs": [
    {
     "name": "stdout",
     "output_type": "stream",
     "text": [
      "삭제할 id : a\n",
      "True\n"
     ]
    }
   ],
   "source": [
    "id_del = input(\"삭제할 id : \")\n",
    "for i in db:    \n",
    "    if id_del == i[\"id\"]:\n",
    "        print(True)"
   ]
  },
  {
   "cell_type": "code",
   "execution_count": 18,
   "id": "e7536ba7",
   "metadata": {},
   "outputs": [],
   "source": [
    "def del_customer():\n",
    "    id_del = input(\"삭제할 id : \")\n",
    "    for i in db:\n",
    "        if id_del == i[\"id\"]:\n",
    "            print(True)\n",
    "        "
   ]
  },
  {
   "cell_type": "code",
   "execution_count": 160,
   "id": "b1d9ef20",
   "metadata": {},
   "outputs": [
    {
     "ename": "KeyboardInterrupt",
     "evalue": "Interrupted by user",
     "output_type": "error",
     "traceback": [
      "\u001b[1;31m---------------------------------------------------------------------------\u001b[0m",
      "\u001b[1;31mKeyboardInterrupt\u001b[0m                         Traceback (most recent call last)",
      "Cell \u001b[1;32mIn[160], line 39\u001b[0m\n\u001b[0;32m     36\u001b[0m     \u001b[38;5;28mprint\u001b[39m(db)\n\u001b[0;32m     38\u001b[0m \u001b[38;5;28;01mwhile\u001b[39;00m \u001b[38;5;28;01mTrue\u001b[39;00m :\n\u001b[1;32m---> 39\u001b[0m     menu \u001b[38;5;241m=\u001b[39m \u001b[38;5;28mint\u001b[39m(\u001b[38;5;28minput\u001b[39m(\u001b[38;5;124m\"\u001b[39m\u001b[38;5;124m1 : 추가, 2 : 수정, 3 : 삭제, 4 : 목록조회, 0 : 종료\u001b[39m\u001b[38;5;124m\"\u001b[39m))\n\u001b[0;32m     40\u001b[0m     \u001b[38;5;28;01mif\u001b[39;00m menu \u001b[38;5;241m==\u001b[39m \u001b[38;5;241m0\u001b[39m:\n\u001b[0;32m     41\u001b[0m         \u001b[38;5;28mprint\u001b[39m(\u001b[38;5;124m\"\u001b[39m\u001b[38;5;124m종료\u001b[39m\u001b[38;5;124m\"\u001b[39m)\n",
      "File \u001b[1;32mC:\\ProgramData\\anaconda3\\Lib\\site-packages\\ipykernel\\kernelbase.py:1202\u001b[0m, in \u001b[0;36mKernel.raw_input\u001b[1;34m(self, prompt)\u001b[0m\n\u001b[0;32m   1200\u001b[0m     msg \u001b[38;5;241m=\u001b[39m \u001b[38;5;124m\"\u001b[39m\u001b[38;5;124mraw_input was called, but this frontend does not support input requests.\u001b[39m\u001b[38;5;124m\"\u001b[39m\n\u001b[0;32m   1201\u001b[0m     \u001b[38;5;28;01mraise\u001b[39;00m StdinNotImplementedError(msg)\n\u001b[1;32m-> 1202\u001b[0m \u001b[38;5;28;01mreturn\u001b[39;00m \u001b[38;5;28mself\u001b[39m\u001b[38;5;241m.\u001b[39m_input_request(\n\u001b[0;32m   1203\u001b[0m     \u001b[38;5;28mstr\u001b[39m(prompt),\n\u001b[0;32m   1204\u001b[0m     \u001b[38;5;28mself\u001b[39m\u001b[38;5;241m.\u001b[39m_parent_ident[\u001b[38;5;124m\"\u001b[39m\u001b[38;5;124mshell\u001b[39m\u001b[38;5;124m\"\u001b[39m],\n\u001b[0;32m   1205\u001b[0m     \u001b[38;5;28mself\u001b[39m\u001b[38;5;241m.\u001b[39mget_parent(\u001b[38;5;124m\"\u001b[39m\u001b[38;5;124mshell\u001b[39m\u001b[38;5;124m\"\u001b[39m),\n\u001b[0;32m   1206\u001b[0m     password\u001b[38;5;241m=\u001b[39m\u001b[38;5;28;01mFalse\u001b[39;00m,\n\u001b[0;32m   1207\u001b[0m )\n",
      "File \u001b[1;32mC:\\ProgramData\\anaconda3\\Lib\\site-packages\\ipykernel\\kernelbase.py:1245\u001b[0m, in \u001b[0;36mKernel._input_request\u001b[1;34m(self, prompt, ident, parent, password)\u001b[0m\n\u001b[0;32m   1242\u001b[0m \u001b[38;5;28;01mexcept\u001b[39;00m \u001b[38;5;167;01mKeyboardInterrupt\u001b[39;00m:\n\u001b[0;32m   1243\u001b[0m     \u001b[38;5;66;03m# re-raise KeyboardInterrupt, to truncate traceback\u001b[39;00m\n\u001b[0;32m   1244\u001b[0m     msg \u001b[38;5;241m=\u001b[39m \u001b[38;5;124m\"\u001b[39m\u001b[38;5;124mInterrupted by user\u001b[39m\u001b[38;5;124m\"\u001b[39m\n\u001b[1;32m-> 1245\u001b[0m     \u001b[38;5;28;01mraise\u001b[39;00m \u001b[38;5;167;01mKeyboardInterrupt\u001b[39;00m(msg) \u001b[38;5;28;01mfrom\u001b[39;00m \u001b[38;5;28;01mNone\u001b[39;00m\n\u001b[0;32m   1246\u001b[0m \u001b[38;5;28;01mexcept\u001b[39;00m \u001b[38;5;167;01mException\u001b[39;00m:\n\u001b[0;32m   1247\u001b[0m     \u001b[38;5;28mself\u001b[39m\u001b[38;5;241m.\u001b[39mlog\u001b[38;5;241m.\u001b[39mwarning(\u001b[38;5;124m\"\u001b[39m\u001b[38;5;124mInvalid Message:\u001b[39m\u001b[38;5;124m\"\u001b[39m, exc_info\u001b[38;5;241m=\u001b[39m\u001b[38;5;28;01mTrue\u001b[39;00m)\n",
      "\u001b[1;31mKeyboardInterrupt\u001b[0m: Interrupted by user"
     ]
    }
   ],
   "source": [
    "member = {\"ret\":\"y\",\"data\":[{\"id\":\"a\",\"name\":\"가나다1\",\"age\":61,\"height\":165.4,\"weight\":60.2},{\"id\":\"b\",\"name\":\"가나다2\",\"age\":32,\"height\":185.4,\"weight\":80.3},{\"id\":\"c\",\"name\":\"가나다3\",\"age\":13,\"height\":145.8,\"weight\":60.6},{\"id\":\"d\",\"name\":\"가나다4\",\"age\":44,\"height\":165.7,\"weight\":44.5},{\"id\":\"e\",\"name\":\"가나다5\",\"age\":85,\"height\":165.2,\"weight\":42.3}]}\n",
    "\n",
    "db = []\n",
    "id_list = []\n",
    "name = []\n",
    "age = []\n",
    "height = []\n",
    "weight = []\n",
    "\n",
    "\n",
    "for i in member[\"data\"]:\n",
    "    id_list.append(i[\"id\"])\n",
    "    name.append(i[\"name\"])\n",
    "    age.append(i[\"age\"])\n",
    "    height.append(i[\"height\"])\n",
    "    weight.append(i[\"weight\"])\n",
    "   \n",
    "for i in range(len(name)):\n",
    "    db.append([id_list[i], name[i], age[i], height[i], weight[i]])\n",
    "    \n",
    "def add_member():\n",
    "    id_list = input(\"id : \")\n",
    "    name = input(\"이름 : \")\n",
    "    age = input(\"나이 : \")\n",
    "    height = input(\"키 : \")\n",
    "    weight = input(\"몸무게 : \")\n",
    "    new = [id_list,name,age,height,weight]\n",
    "    db.append(new)\n",
    "    print(\"고객정보 추가\")\n",
    "    \n",
    "def update_customer():\n",
    "    pass\n",
    "    \n",
    "def find_db():\n",
    "    \n",
    "    print(db)\n",
    "    \n",
    "while True :\n",
    "    menu = int(input(\"1 : 추가, 2 : 수정, 3 : 삭제, 4 : 목록조회, 0 : 종료\"))\n",
    "    if menu == 0:\n",
    "        print(\"종료\")\n",
    "        break\n",
    "        \n",
    "    \n",
    "    elif menu == 1:\n",
    "        add_member()\n",
    "        \n",
    "    elif menu == 2:\n",
    "        update_customer()\n",
    "        \n",
    "    elif menu == 3:\n",
    "        pass\n",
    "        \n",
    "    elif menu == 4:\n",
    "        find_db()\n"
   ]
  },
  {
   "cell_type": "code",
   "execution_count": 101,
   "id": "4ee64a78",
   "metadata": {},
   "outputs": [
    {
     "ename": "AttributeError",
     "evalue": "'list' object has no attribute 'rename'",
     "output_type": "error",
     "traceback": [
      "\u001b[1;31m---------------------------------------------------------------------------\u001b[0m",
      "\u001b[1;31mAttributeError\u001b[0m                            Traceback (most recent call last)",
      "Cell \u001b[1;32mIn[101], line 1\u001b[0m\n\u001b[1;32m----> 1\u001b[0m db[\u001b[38;5;241m1\u001b[39m]\u001b[38;5;241m.\u001b[39mrename\n",
      "\u001b[1;31mAttributeError\u001b[0m: 'list' object has no attribute 'rename'"
     ]
    }
   ],
   "source": [
    "db[1]"
   ]
  },
  {
   "cell_type": "code",
   "execution_count": 158,
   "id": "7e89297b",
   "metadata": {},
   "outputs": [],
   "source": [
    " def update_customer():\n",
    "    id_list = input(\"새로운 id : \")\n",
    "    for member in db:\n",
    "        if  == id_list:\n",
    "\n",
    "            age = input(\"나이 : \")"
   ]
  },
  {
   "cell_type": "code",
   "execution_count": 143,
   "id": "e1fbf8e3",
   "metadata": {},
   "outputs": [],
   "source": [
    "def find_db():\n",
    "    \n",
    "    print(db)"
   ]
  },
  {
   "cell_type": "code",
   "execution_count": 144,
   "id": "194f91e8",
   "metadata": {
    "scrolled": true
   },
   "outputs": [
    {
     "name": "stdout",
     "output_type": "stream",
     "text": [
      "1 : 추가, 2 : 수정, 3 : 삭제, 4 : 목록조회, 0 : 종료4\n",
      "[['a', '가나다1', 61, 165.4, 60.2], ['b', '가나다2', 32, 185.4, 80.3], ['c', '가나다3', 13, 145.8, 60.6], ['d', '가나다4', 44, 165.7, 44.5], ['e', '가나다5', 85, 165.2, 42.3]]\n"
     ]
    },
    {
     "ename": "KeyboardInterrupt",
     "evalue": "Interrupted by user",
     "output_type": "error",
     "traceback": [
      "\u001b[1;31m---------------------------------------------------------------------------\u001b[0m",
      "\u001b[1;31mKeyboardInterrupt\u001b[0m                         Traceback (most recent call last)",
      "Cell \u001b[1;32mIn[144], line 2\u001b[0m\n\u001b[0;32m      1\u001b[0m \u001b[38;5;28;01mwhile\u001b[39;00m \u001b[38;5;28;01mTrue\u001b[39;00m :\n\u001b[1;32m----> 2\u001b[0m     menu \u001b[38;5;241m=\u001b[39m \u001b[38;5;28mint\u001b[39m(\u001b[38;5;28minput\u001b[39m(\u001b[38;5;124m\"\u001b[39m\u001b[38;5;124m1 : 추가, 2 : 수정, 3 : 삭제, 4 : 목록조회, 0 : 종료\u001b[39m\u001b[38;5;124m\"\u001b[39m))\n\u001b[0;32m      3\u001b[0m     \u001b[38;5;28;01mif\u001b[39;00m menu \u001b[38;5;241m==\u001b[39m \u001b[38;5;241m0\u001b[39m:\n\u001b[0;32m      4\u001b[0m         \u001b[38;5;28mprint\u001b[39m(\u001b[38;5;124m\"\u001b[39m\u001b[38;5;124m종료\u001b[39m\u001b[38;5;124m\"\u001b[39m)\n",
      "File \u001b[1;32mC:\\ProgramData\\anaconda3\\Lib\\site-packages\\ipykernel\\kernelbase.py:1202\u001b[0m, in \u001b[0;36mKernel.raw_input\u001b[1;34m(self, prompt)\u001b[0m\n\u001b[0;32m   1200\u001b[0m     msg \u001b[38;5;241m=\u001b[39m \u001b[38;5;124m\"\u001b[39m\u001b[38;5;124mraw_input was called, but this frontend does not support input requests.\u001b[39m\u001b[38;5;124m\"\u001b[39m\n\u001b[0;32m   1201\u001b[0m     \u001b[38;5;28;01mraise\u001b[39;00m StdinNotImplementedError(msg)\n\u001b[1;32m-> 1202\u001b[0m \u001b[38;5;28;01mreturn\u001b[39;00m \u001b[38;5;28mself\u001b[39m\u001b[38;5;241m.\u001b[39m_input_request(\n\u001b[0;32m   1203\u001b[0m     \u001b[38;5;28mstr\u001b[39m(prompt),\n\u001b[0;32m   1204\u001b[0m     \u001b[38;5;28mself\u001b[39m\u001b[38;5;241m.\u001b[39m_parent_ident[\u001b[38;5;124m\"\u001b[39m\u001b[38;5;124mshell\u001b[39m\u001b[38;5;124m\"\u001b[39m],\n\u001b[0;32m   1205\u001b[0m     \u001b[38;5;28mself\u001b[39m\u001b[38;5;241m.\u001b[39mget_parent(\u001b[38;5;124m\"\u001b[39m\u001b[38;5;124mshell\u001b[39m\u001b[38;5;124m\"\u001b[39m),\n\u001b[0;32m   1206\u001b[0m     password\u001b[38;5;241m=\u001b[39m\u001b[38;5;28;01mFalse\u001b[39;00m,\n\u001b[0;32m   1207\u001b[0m )\n",
      "File \u001b[1;32mC:\\ProgramData\\anaconda3\\Lib\\site-packages\\ipykernel\\kernelbase.py:1245\u001b[0m, in \u001b[0;36mKernel._input_request\u001b[1;34m(self, prompt, ident, parent, password)\u001b[0m\n\u001b[0;32m   1242\u001b[0m \u001b[38;5;28;01mexcept\u001b[39;00m \u001b[38;5;167;01mKeyboardInterrupt\u001b[39;00m:\n\u001b[0;32m   1243\u001b[0m     \u001b[38;5;66;03m# re-raise KeyboardInterrupt, to truncate traceback\u001b[39;00m\n\u001b[0;32m   1244\u001b[0m     msg \u001b[38;5;241m=\u001b[39m \u001b[38;5;124m\"\u001b[39m\u001b[38;5;124mInterrupted by user\u001b[39m\u001b[38;5;124m\"\u001b[39m\n\u001b[1;32m-> 1245\u001b[0m     \u001b[38;5;28;01mraise\u001b[39;00m \u001b[38;5;167;01mKeyboardInterrupt\u001b[39;00m(msg) \u001b[38;5;28;01mfrom\u001b[39;00m \u001b[38;5;28;01mNone\u001b[39;00m\n\u001b[0;32m   1246\u001b[0m \u001b[38;5;28;01mexcept\u001b[39;00m \u001b[38;5;167;01mException\u001b[39;00m:\n\u001b[0;32m   1247\u001b[0m     \u001b[38;5;28mself\u001b[39m\u001b[38;5;241m.\u001b[39mlog\u001b[38;5;241m.\u001b[39mwarning(\u001b[38;5;124m\"\u001b[39m\u001b[38;5;124mInvalid Message:\u001b[39m\u001b[38;5;124m\"\u001b[39m, exc_info\u001b[38;5;241m=\u001b[39m\u001b[38;5;28;01mTrue\u001b[39;00m)\n",
      "\u001b[1;31mKeyboardInterrupt\u001b[0m: Interrupted by user"
     ]
    }
   ],
   "source": [
    "while True :\n",
    "    menu = int(input(\"1 : 추가, 2 : 수정, 3 : 삭제, 4 : 목록조회, 0 : 종료\"))\n",
    "    if menu == 0:\n",
    "        print(\"종료\")\n",
    "        break\n",
    "        \n",
    "    \n",
    "    elif menu == 1:\n",
    "        add_member()\n",
    "        \n",
    "    elif menu == 2:\n",
    "        update_customer()\n",
    "        \n",
    "    elif menu == 3:\n",
    "        pass\n",
    "        \n",
    "    elif menu == 4:\n",
    "        find_db()\n",
    "    "
   ]
  },
  {
   "cell_type": "code",
   "execution_count": 124,
   "id": "b5169c6c",
   "metadata": {},
   "outputs": [
    {
     "data": {
      "text/plain": [
       "[['a', '가나다1', 61, 165.4, 60.2],\n",
       " ['b', '가나다2', 32, 185.4, 80.3],\n",
       " ['c', '가나다3', 13, 145.8, 60.6],\n",
       " ['d', '가나다4', 44, 165.7, 44.5],\n",
       " ['e', '가나다5', 85, 165.2, 42.3],\n",
       " ['q', '정환', '99', '1000', '2000']]"
      ]
     },
     "execution_count": 124,
     "metadata": {},
     "output_type": "execute_result"
    }
   ],
   "source": [
    "db"
   ]
  },
  {
   "cell_type": "code",
   "execution_count": null,
   "id": "67e24621",
   "metadata": {},
   "outputs": [],
   "source": []
  },
  {
   "cell_type": "code",
   "execution_count": null,
   "id": "315d262c",
   "metadata": {},
   "outputs": [],
   "source": []
  }
 ],
 "metadata": {
  "kernelspec": {
   "display_name": "Python 3 (ipykernel)",
   "language": "python",
   "name": "python3"
  },
  "language_info": {
   "codemirror_mode": {
    "name": "ipython",
    "version": 3
   },
   "file_extension": ".py",
   "mimetype": "text/x-python",
   "name": "python",
   "nbconvert_exporter": "python",
   "pygments_lexer": "ipython3",
   "version": "3.11.5"
  }
 },
 "nbformat": 4,
 "nbformat_minor": 5
}
