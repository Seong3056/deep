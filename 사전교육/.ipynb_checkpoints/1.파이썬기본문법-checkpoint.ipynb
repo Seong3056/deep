{
 "cells": [
  {
   "cell_type": "markdown",
   "id": "572737d5",
   "metadata": {},
   "source": [
    "# 주석\n",
    "\n",
    "\n",
    "- 주석의 의의\n",
    "    - 사람만 알아볼 수 있도록 작성하는 부분\n",
    "    - 주석은 파이썬이 실행되지 않고 코드에 영향을 주지 않음\n",
    "    - 일반적으로 코드에 대한 자세한 설명을 작성하거나, 특정 코드를 임시로 사용하지 않도록 처리할 때 사용\n",
    "    "
   ]
  },
  {
   "cell_type": "markdown",
   "id": "29eae8df",
   "metadata": {},
   "source": [
    "## 한 줄 주석"
   ]
  },
  {
   "cell_type": "code",
   "execution_count": 3,
   "id": "febad991",
   "metadata": {},
   "outputs": [
    {
     "name": "stdout",
     "output_type": "stream",
     "text": [
      "Hello World!\n"
     ]
    }
   ],
   "source": [
    "# Hello World! 출력\n",
    "print(\"Hello World!\")"
   ]
  },
  {
   "cell_type": "markdown",
   "id": "5a946150",
   "metadata": {},
   "source": [
    "### 코드 뒤 주석"
   ]
  },
  {
   "cell_type": "code",
   "execution_count": 5,
   "id": "1bb6d4be",
   "metadata": {},
   "outputs": [
    {
     "name": "stdout",
     "output_type": "stream",
     "text": [
      "Hello, World!\n"
     ]
    }
   ],
   "source": [
    "print(\"Hello, World!\") # Hello World! 출력"
   ]
  },
  {
   "cell_type": "markdown",
   "id": "6b1f40d2",
   "metadata": {},
   "source": [
    "## 블록 주석"
   ]
  },
  {
   "cell_type": "code",
   "execution_count": 7,
   "id": "def07c59",
   "metadata": {},
   "outputs": [
    {
     "name": "stdout",
     "output_type": "stream",
     "text": [
      "Hello World!\n",
      "123456\n"
     ]
    }
   ],
   "source": [
    "# Ctrl + / 로 여러줄 주석\n",
    "print(\"Hello World!\")\n",
    "print(\"123456\")"
   ]
  },
  {
   "cell_type": "markdown",
   "id": "2f07a318",
   "metadata": {},
   "source": [
    "# 변수\n",
    "\n",
    "\n",
    "-  데이터를 저장하고 나중에 재사용하기 위해서 사용\n",
    "\n",
    "- 표현법 \n",
    "    - 변수이름 = 값 \n",
    "    \n",
    "- 변수명 규칙\n",
    "    - 반드시 문자로 시작해야함\n",
    "    - 언더바(_)로는 시작할 수 있음\n",
    "    - 영문 문자와 숫자를 사용할 수 있음\n",
    "    - 대소문자를 구분\n",
    "    - 특수문자는 사용 불가\n",
    "    - 파이썬 키워드(if, for, while, and, or 등)은 사용할 수 없음"
   ]
  },
  {
   "cell_type": "code",
   "execution_count": 10,
   "id": "cca463cc",
   "metadata": {},
   "outputs": [],
   "source": [
    "# 변수 생성\n",
    "name = \"Alice\" # 한 줄 문자열\n",
    "age = 25 # 정수형 데이터\n",
    "address = '''우편번호12345\n",
    "서울 마포구''' # 여러 줄 문자열\n",
    "boyfriend = None # 아무 값도 아님\n",
    "height = 168.5 # 실수 "
   ]
  },
  {
   "cell_type": "code",
   "execution_count": 11,
   "id": "bc49240f",
   "metadata": {},
   "outputs": [
    {
     "name": "stdout",
     "output_type": "stream",
     "text": [
      "Alice\n",
      "25\n",
      "우편번호12345\n",
      "서울 마포구\n",
      "None\n",
      "168.5\n"
     ]
    }
   ],
   "source": [
    "print(name)\n",
    "print(age)\n",
    "print(address)\n",
    "print(boyfriend)\n",
    "print(height)"
   ]
  },
  {
   "cell_type": "markdown",
   "id": "ce38239d",
   "metadata": {},
   "source": [
    "## 변수 여러 개를 한 번에 만들기"
   ]
  },
  {
   "cell_type": "code",
   "execution_count": 12,
   "id": "ccea318b",
   "metadata": {},
   "outputs": [],
   "source": [
    "x, y, z = 10, 20, 30"
   ]
  },
  {
   "cell_type": "code",
   "execution_count": 13,
   "id": "0318ee61",
   "metadata": {},
   "outputs": [
    {
     "name": "stdout",
     "output_type": "stream",
     "text": [
      "10\n",
      "20\n",
      "30\n"
     ]
    }
   ],
   "source": [
    "print(x)\n",
    "print(y)\n",
    "print(z)"
   ]
  },
  {
   "cell_type": "code",
   "execution_count": 14,
   "id": "8577661d",
   "metadata": {},
   "outputs": [],
   "source": [
    "x = y = z = 10"
   ]
  },
  {
   "cell_type": "code",
   "execution_count": 15,
   "id": "d659adf3",
   "metadata": {},
   "outputs": [
    {
     "name": "stdout",
     "output_type": "stream",
     "text": [
      "10\n",
      "10\n",
      "10\n"
     ]
    }
   ],
   "source": [
    "print(x)\n",
    "print(y)\n",
    "print(z)"
   ]
  },
  {
   "cell_type": "markdown",
   "id": "3cb4286c",
   "metadata": {},
   "source": [
    "## 사칙연산"
   ]
  },
  {
   "cell_type": "code",
   "execution_count": 16,
   "id": "7059b384",
   "metadata": {},
   "outputs": [
    {
     "name": "stdout",
     "output_type": "stream",
     "text": [
      "3\n",
      "-1\n",
      "4\n",
      "2.5\n"
     ]
    }
   ],
   "source": [
    "# 덧셈\n",
    "print(1 + 2)\n",
    "\n",
    "# 뺄셈\n",
    "print(1 - 2)\n",
    "\n",
    "# 곱셈\n",
    "print(2 * 2)\n",
    "\n",
    "# 나눗셈\n",
    "print(5 / 2)"
   ]
  },
  {
   "cell_type": "code",
   "execution_count": 17,
   "id": "009c42e9",
   "metadata": {},
   "outputs": [
    {
     "name": "stdout",
     "output_type": "stream",
     "text": [
      "2\n"
     ]
    }
   ],
   "source": [
    "# 나눗셈의 몫\n",
    "print(5 // 2)"
   ]
  },
  {
   "cell_type": "code",
   "execution_count": 18,
   "id": "bdc8d42b",
   "metadata": {},
   "outputs": [
    {
     "name": "stdout",
     "output_type": "stream",
     "text": [
      "1\n"
     ]
    }
   ],
   "source": [
    "# 나눗셈의 나머지\n",
    "print(5 % 2)"
   ]
  },
  {
   "cell_type": "code",
   "execution_count": 19,
   "id": "314a69ec",
   "metadata": {},
   "outputs": [
    {
     "name": "stdout",
     "output_type": "stream",
     "text": [
      "1024\n"
     ]
    }
   ],
   "source": [
    "# 거듭제곱\n",
    "print(2 ** 10)"
   ]
  },
  {
   "cell_type": "markdown",
   "id": "9cf0037b",
   "metadata": {},
   "source": [
    "## 변수 계산"
   ]
  },
  {
   "cell_type": "code",
   "execution_count": 20,
   "id": "55ce31b3",
   "metadata": {},
   "outputs": [
    {
     "name": "stdout",
     "output_type": "stream",
     "text": [
      "30\n"
     ]
    }
   ],
   "source": [
    "a = 10\n",
    "b = 20\n",
    "print(a + b)"
   ]
  },
  {
   "cell_type": "code",
   "execution_count": 21,
   "id": "ae7df9ac",
   "metadata": {},
   "outputs": [
    {
     "name": "stdout",
     "output_type": "stream",
     "text": [
      "30\n"
     ]
    }
   ],
   "source": [
    "c = a + b\n",
    "print(c)"
   ]
  },
  {
   "cell_type": "markdown",
   "id": "63a77219",
   "metadata": {},
   "source": [
    "## 연산 후 할당"
   ]
  },
  {
   "cell_type": "code",
   "execution_count": 22,
   "id": "9669521d",
   "metadata": {},
   "outputs": [
    {
     "name": "stdout",
     "output_type": "stream",
     "text": [
      "30\n",
      "10\n"
     ]
    }
   ],
   "source": [
    "# 할당 연산자를 사용하지 않으면 계산 결과를 유지하지 않음\n",
    "a = 10\n",
    "print(a + 20)\n",
    "print(a)"
   ]
  },
  {
   "cell_type": "code",
   "execution_count": 23,
   "id": "a0b5ad47",
   "metadata": {},
   "outputs": [
    {
     "name": "stdout",
     "output_type": "stream",
     "text": [
      "30\n"
     ]
    }
   ],
   "source": [
    "a = a + 20\n",
    "print(a)"
   ]
  },
  {
   "cell_type": "code",
   "execution_count": 24,
   "id": "9d881164",
   "metadata": {},
   "outputs": [
    {
     "name": "stdout",
     "output_type": "stream",
     "text": [
      "30\n"
     ]
    }
   ],
   "source": [
    "# 연산 후 할당은 += 로도 표현가능\n",
    "a = 10\n",
    "a += 20 # a = a + 20 과 같은 코드\n",
    "print(a)"
   ]
  },
  {
   "cell_type": "code",
   "execution_count": null,
   "id": "81ee0765",
   "metadata": {},
   "outputs": [],
   "source": []
  }
 ],
 "metadata": {
  "kernelspec": {
   "display_name": "Python 3 (ipykernel)",
   "language": "python",
   "name": "python3"
  },
  "language_info": {
   "codemirror_mode": {
    "name": "ipython",
    "version": 3
   },
   "file_extension": ".py",
   "mimetype": "text/x-python",
   "name": "python",
   "nbconvert_exporter": "python",
   "pygments_lexer": "ipython3",
   "version": "3.11.5"
  }
 },
 "nbformat": 4,
 "nbformat_minor": 5
}
